{
 "cells": [
  {
   "cell_type": "code",
   "execution_count": 1,
   "id": "initial_id",
   "metadata": {
    "collapsed": true,
    "ExecuteTime": {
     "end_time": "2023-11-16T18:36:32.266124515Z",
     "start_time": "2023-11-16T18:36:28.666221539Z"
    }
   },
   "outputs": [],
   "source": [
    "import joblib\n",
    "import pandas as pd\n",
    "\n",
    "import mlflow\n",
    "from mlflow.tracking import MlflowClient\n",
    "\n",
    "import ray\n",
    "from sklearn.metrics import accuracy_score\n",
    "from sklearn.ensemble import ExtraTreesClassifier\n",
    "from ray import tune\n",
    "from ray.tune.sklearn import TuneSearchCV\n",
    "from sklearn.model_selection import train_test_split\n",
    "\n",
    "from preprocessing import get_data"
   ]
  },
  {
   "cell_type": "code",
   "execution_count": 4,
   "outputs": [
    {
     "name": "stderr",
     "output_type": "stream",
     "text": [
      "SIGTERM handler is not set because current thread is not the main thread.\n"
     ]
    },
    {
     "data": {
      "text/plain": "ClientContext(dashboard_url='', python_version='3.10.12', ray_version='2.8.0', ray_commit='105355bd253d6538ed34d331f6a4bdf0e38ace3a', protocol_version='2023-06-27', _num_clients=1, _context_to_restore=<ray.util.client._ClientContext object at 0x7fce97340820>)",
      "application/vnd.jupyter.widget-view+json": {
       "version_major": 2,
       "version_minor": 0,
       "model_id": "c29f9d3db77d4cb78dfaa5375e9c1bd9"
      },
      "text/html": "<div class=\"lm-Widget p-Widget lm-Panel p-Panel jp-Cell-outputWrapper\">\n    <div style=\"margin-left: 50px;display: flex;flex-direction: row;align-items: center\">\n        <div class=\"jp-RenderedHTMLCommon\" style=\"display: flex; flex-direction: row;\">\n  <svg viewBox=\"0 0 567 224\" fill=\"none\" xmlns=\"http://www.w3.org/2000/svg\" style=\"height: 3em;\">\n    <g clip-path=\"url(#clip0_4338_178347)\">\n        <path d=\"M341.29 165.561H355.29L330.13 129.051C345.63 123.991 354.21 112.051 354.21 94.2307C354.21 71.3707 338.72 58.1807 311.88 58.1807H271V165.561H283.27V131.661H311.8C314.25 131.661 316.71 131.501 319.01 131.351L341.25 165.561H341.29ZM283.29 119.851V70.0007H311.82C331.3 70.0007 342.34 78.2907 342.34 94.5507C342.34 111.271 331.34 119.861 311.82 119.861L283.29 119.851ZM451.4 138.411L463.4 165.561H476.74L428.74 58.1807H416L367.83 165.561H380.83L392.83 138.411H451.4ZM446.19 126.601H398L422 72.1407L446.24 126.601H446.19ZM526.11 128.741L566.91 58.1807H554.35L519.99 114.181L485.17 58.1807H472.44L514.01 129.181V165.541H526.13V128.741H526.11Z\" fill=\"var(--jp-ui-font-color0)\"/>\n        <path d=\"M82.35 104.44C84.0187 97.8827 87.8248 92.0678 93.1671 87.9146C98.5094 83.7614 105.083 81.5067 111.85 81.5067C118.617 81.5067 125.191 83.7614 130.533 87.9146C135.875 92.0678 139.681 97.8827 141.35 104.44H163.75C164.476 101.562 165.622 98.8057 167.15 96.2605L127.45 56.5605C121.071 60.3522 113.526 61.6823 106.235 60.3005C98.9443 58.9187 92.4094 54.9203 87.8602 49.0574C83.3109 43.1946 81.0609 35.8714 81.5332 28.4656C82.0056 21.0599 85.1679 14.0819 90.4252 8.8446C95.6824 3.60726 102.672 0.471508 110.08 0.0272655C117.487 -0.416977 124.802 1.86091 130.647 6.4324C136.493 11.0039 140.467 17.5539 141.821 24.8501C143.175 32.1463 141.816 39.6859 138 46.0505L177.69 85.7505C182.31 82.9877 187.58 81.4995 192.962 81.4375C198.345 81.3755 203.648 82.742 208.33 85.3976C213.012 88.0532 216.907 91.9029 219.616 96.5544C222.326 101.206 223.753 106.492 223.753 111.875C223.753 117.258 222.326 122.545 219.616 127.197C216.907 131.848 213.012 135.698 208.33 138.353C203.648 141.009 198.345 142.375 192.962 142.313C187.58 142.251 182.31 140.763 177.69 138L138 177.7C141.808 184.071 143.155 191.614 141.79 198.91C140.424 206.205 136.44 212.75 130.585 217.313C124.731 221.875 117.412 224.141 110.004 223.683C102.596 223.226 95.6103 220.077 90.3621 214.828C85.1139 209.58 81.9647 202.595 81.5072 195.187C81.0497 187.779 83.3154 180.459 87.878 174.605C92.4405 168.751 98.9853 164.766 106.281 163.401C113.576 162.035 121.119 163.383 127.49 167.19L167.19 127.49C165.664 124.941 164.518 122.182 163.79 119.3H141.39C139.721 125.858 135.915 131.673 130.573 135.826C125.231 139.98 118.657 142.234 111.89 142.234C105.123 142.234 98.5494 139.98 93.2071 135.826C87.8648 131.673 84.0587 125.858 82.39 119.3H60C58.1878 126.495 53.8086 132.78 47.6863 136.971C41.5641 141.163 34.1211 142.972 26.7579 142.059C19.3947 141.146 12.6191 137.574 7.70605 132.014C2.79302 126.454 0.0813599 119.29 0.0813599 111.87C0.0813599 104.451 2.79302 97.2871 7.70605 91.7272C12.6191 86.1673 19.3947 82.5947 26.7579 81.6817C34.1211 80.7686 41.5641 82.5781 47.6863 86.7696C53.8086 90.9611 58.1878 97.2456 60 104.44H82.35ZM100.86 204.32C103.407 206.868 106.759 208.453 110.345 208.806C113.93 209.159 117.527 208.258 120.522 206.256C123.517 204.254 125.725 201.276 126.771 197.828C127.816 194.38 127.633 190.677 126.253 187.349C124.874 184.021 122.383 181.274 119.205 179.577C116.027 177.88 112.359 177.337 108.826 178.042C105.293 178.746 102.113 180.654 99.8291 183.44C97.5451 186.226 96.2979 189.718 96.3 193.32C96.2985 195.364 96.7006 197.388 97.4831 199.275C98.2656 201.163 99.4132 202.877 100.86 204.32ZM204.32 122.88C206.868 120.333 208.453 116.981 208.806 113.396C209.159 109.811 208.258 106.214 206.256 103.219C204.254 100.223 201.275 98.0151 197.827 96.97C194.38 95.9249 190.676 96.1077 187.348 97.4873C184.02 98.8669 181.274 101.358 179.577 104.536C177.879 107.714 177.337 111.382 178.041 114.915C178.746 118.448 180.653 121.627 183.439 123.911C186.226 126.195 189.717 127.443 193.32 127.44C195.364 127.443 197.388 127.042 199.275 126.259C201.163 125.476 202.878 124.328 204.32 122.88ZM122.88 19.4205C120.333 16.8729 116.981 15.2876 113.395 14.9347C109.81 14.5817 106.213 15.483 103.218 17.4849C100.223 19.4868 98.0146 22.4654 96.9696 25.9131C95.9245 29.3608 96.1073 33.0642 97.4869 36.3922C98.8665 39.7202 101.358 42.4668 104.535 44.1639C107.713 45.861 111.381 46.4036 114.914 45.6992C118.447 44.9949 121.627 43.0871 123.911 40.301C126.195 37.515 127.442 34.0231 127.44 30.4205C127.44 28.3772 127.038 26.3539 126.255 24.4664C125.473 22.5788 124.326 20.8642 122.88 19.4205ZM19.42 100.86C16.8725 103.408 15.2872 106.76 14.9342 110.345C14.5813 113.93 15.4826 117.527 17.4844 120.522C19.4863 123.518 22.4649 125.726 25.9127 126.771C29.3604 127.816 33.0638 127.633 36.3918 126.254C39.7198 124.874 42.4664 122.383 44.1635 119.205C45.8606 116.027 46.4032 112.359 45.6988 108.826C44.9944 105.293 43.0866 102.114 40.3006 99.8296C37.5145 97.5455 34.0227 96.2983 30.42 96.3005C26.2938 96.3018 22.337 97.9421 19.42 100.86ZM100.86 100.86C98.3125 103.408 96.7272 106.76 96.3742 110.345C96.0213 113.93 96.9226 117.527 98.9244 120.522C100.926 123.518 103.905 125.726 107.353 126.771C110.8 127.816 114.504 127.633 117.832 126.254C121.16 124.874 123.906 122.383 125.604 119.205C127.301 116.027 127.843 112.359 127.139 108.826C126.434 105.293 124.527 102.114 121.741 99.8296C118.955 97.5455 115.463 96.2983 111.86 96.3005C109.817 96.299 107.793 96.701 105.905 97.4835C104.018 98.2661 102.303 99.4136 100.86 100.86Z\" fill=\"#00AEEF\"/>\n    </g>\n    <defs>\n        <clipPath id=\"clip0_4338_178347\">\n            <rect width=\"566.93\" height=\"223.75\" fill=\"white\"/>\n        </clipPath>\n    </defs>\n  </svg>\n</div>\n\n        <table class=\"jp-RenderedHTMLCommon\" style=\"border-collapse: collapse;color: var(--jp-ui-font-color1);font-size: var(--jp-ui-font-size1);\">\n    <tr>\n        <td style=\"text-align: left\"><b>Python version:</b></td>\n        <td style=\"text-align: left\"><b>3.10.12</b></td>\n    </tr>\n    <tr>\n        <td style=\"text-align: left\"><b>Ray version:</b></td>\n        <td style=\"text-align: left\"><b>2.8.0</b></td>\n    </tr>\n    \n</table>\n\n    </div>\n</div>\n"
     },
     "execution_count": 4,
     "metadata": {},
     "output_type": "execute_result"
    }
   ],
   "source": [
    "ray.init(\"ray://localhost:10001\") ## VM"
   ],
   "metadata": {
    "collapsed": false,
    "ExecuteTime": {
     "end_time": "2023-11-16T18:37:11.679405761Z",
     "start_time": "2023-11-16T18:37:09.367553309Z"
    }
   },
   "id": "dabd8ee4e94f426"
  },
  {
   "cell_type": "code",
   "execution_count": 20,
   "outputs": [],
   "source": [
    "@ray.remote(num_cpus=2)\n",
    "def train_and_tune_extra_tree_model(sp500_data):\n",
    "    X = sp500_data.drop(['Target'], axis=1)\n",
    "    train_x, test_x, train_y, test_y = train_test_split(X, sp500_data['Target'], test_size=0.25, random_state=42)\n",
    "    \n",
    "    model = ExtraTreesClassifier(random_state=42)\n",
    "    # Hyperparameter, die getunt werden sollen\n",
    "    param_distributions = {\n",
    "        'n_estimators': tune.randint(100, 2000),\n",
    "        'max_depth': tune.randint(100, 1000),\n",
    "        'min_samples_split': tune.choice([1, 5, 10]),\n",
    "        'min_samples_leaf': tune.choice([1, 2, 8]),\n",
    "        'max_features': tune.choice(['auto', 'sqrt', 'log2'])\n",
    "    }\n",
    "\n",
    "    tuner = TuneSearchCV(\n",
    "        model,\n",
    "        param_distributions,\n",
    "        n_trials=15,  # Anzahl der Durchläufe\n",
    "        early_stopping=False,  # Frühzeitiges Stoppen für schlecht abschneidende Trials\n",
    "        max_iters=13,  # Maximale Anzahl von Iterationen pro Trial\n",
    "        search_optimization=\"random\",  # Optimierungsalgorithmus\n",
    "        cv=10,  # Kreuzvalidierung\n",
    "        random_state=42,\n",
    "    )\n",
    "    tuner.fit(train_x, train_y)\n",
    "    best_model = tuner.best_estimator_\n",
    "    #joblib.dump(best_model, './data/predict_model/best_extra_tree_model.pkl')\n",
    "    predictions = best_model.predict(test_x)\n",
    "    accuracy = accuracy_score(test_y, predictions)\n",
    "    print(f\"Best model parameters: {tuner.best_params_}\")\n",
    "    print(f\"Test Accuracy: {accuracy}\")\n",
    "\n",
    "    return best_model, accuracy"
   ],
   "metadata": {
    "collapsed": false,
    "ExecuteTime": {
     "end_time": "2023-11-16T18:45:58.509582738Z",
     "start_time": "2023-11-16T18:45:58.423468538Z"
    }
   },
   "id": "994b2aaa7f8a4c09"
  },
  {
   "cell_type": "code",
   "execution_count": 21,
   "outputs": [
    {
     "name": "stdout",
     "output_type": "stream",
     "text": [
      "[*********************100%%**********************]  1 of 1 completed\n"
     ]
    },
    {
     "name": "stderr",
     "output_type": "stream",
     "text": [
      "/home/erik/DataspellProjects/Stock-Prediction/preprocessing.py:13: SettingWithCopyWarning: \n",
      "A value is trying to be set on a copy of a slice from a DataFrame.\n",
      "Try using .loc[row_indexer,col_indexer] = value instead\n",
      "\n",
      "See the caveats in the documentation: https://pandas.pydata.org/pandas-docs/stable/user_guide/indexing.html#returning-a-view-versus-a-copy\n",
      "  sp500_data[f\"SMA {time_period}\"]      = ta.SMA(inputs, timeperiod = time_period)\n",
      "/home/erik/DataspellProjects/Stock-Prediction/preprocessing.py:14: SettingWithCopyWarning: \n",
      "A value is trying to be set on a copy of a slice from a DataFrame.\n",
      "Try using .loc[row_indexer,col_indexer] = value instead\n",
      "\n",
      "See the caveats in the documentation: https://pandas.pydata.org/pandas-docs/stable/user_guide/indexing.html#returning-a-view-versus-a-copy\n",
      "  sp500_data[f\"EMA {time_period}\"]      = ta.EMA(inputs, timeperiod = time_period)\n",
      "/home/erik/DataspellProjects/Stock-Prediction/preprocessing.py:15: SettingWithCopyWarning: \n",
      "A value is trying to be set on a copy of a slice from a DataFrame.\n",
      "Try using .loc[row_indexer,col_indexer] = value instead\n",
      "\n",
      "See the caveats in the documentation: https://pandas.pydata.org/pandas-docs/stable/user_guide/indexing.html#returning-a-view-versus-a-copy\n",
      "  sp500_data[f\"EMA {20}\"]               = ta.EMA(inputs, timeperiod = 20)\n",
      "/home/erik/DataspellProjects/Stock-Prediction/preprocessing.py:16: SettingWithCopyWarning: \n",
      "A value is trying to be set on a copy of a slice from a DataFrame.\n",
      "Try using .loc[row_indexer,col_indexer] = value instead\n",
      "\n",
      "See the caveats in the documentation: https://pandas.pydata.org/pandas-docs/stable/user_guide/indexing.html#returning-a-view-versus-a-copy\n",
      "  sp500_data[f\"WMA {time_period}\"]      = ta.WMA(inputs, timeperiod = time_period)\n",
      "/home/erik/DataspellProjects/Stock-Prediction/preprocessing.py:17: SettingWithCopyWarning: \n",
      "A value is trying to be set on a copy of a slice from a DataFrame.\n",
      "Try using .loc[row_indexer,col_indexer] = value instead\n",
      "\n",
      "See the caveats in the documentation: https://pandas.pydata.org/pandas-docs/stable/user_guide/indexing.html#returning-a-view-versus-a-copy\n",
      "  sp500_data[f\"Momentum {time_period}\"] = ta.MOM(inputs, timeperiod = time_period)\n",
      "/home/erik/DataspellProjects/Stock-Prediction/preprocessing.py:18: SettingWithCopyWarning: \n",
      "A value is trying to be set on a copy of a slice from a DataFrame.\n",
      "Try using .loc[row_indexer,col_indexer] = value instead\n",
      "\n",
      "See the caveats in the documentation: https://pandas.pydata.org/pandas-docs/stable/user_guide/indexing.html#returning-a-view-versus-a-copy\n",
      "  sp500_data[\"SAR\"] = ta.SAR(sp500_data[\"High\"], sp500_data[\"Low\"], acceleration=0.02, maximum=0.2)\n",
      "/home/erik/DataspellProjects/Stock-Prediction/preprocessing.py:19: SettingWithCopyWarning: \n",
      "A value is trying to be set on a copy of a slice from a DataFrame.\n",
      "Try using .loc[row_indexer,col_indexer] = value instead\n",
      "\n",
      "See the caveats in the documentation: https://pandas.pydata.org/pandas-docs/stable/user_guide/indexing.html#returning-a-view-versus-a-copy\n",
      "  sp500_data[\"RSI\"] = ta.RSI(sp500_data[\"Close\"], timeperiod = 14)\n",
      "/home/erik/DataspellProjects/Stock-Prediction/preprocessing.py:20: SettingWithCopyWarning: \n",
      "A value is trying to be set on a copy of a slice from a DataFrame.\n",
      "Try using .loc[row_indexer,col_indexer] = value instead\n",
      "\n",
      "See the caveats in the documentation: https://pandas.pydata.org/pandas-docs/stable/user_guide/indexing.html#returning-a-view-versus-a-copy\n",
      "  sp500_data[\"ROC\"] = ta.ROC(sp500_data[\"Close\"], timeperiod = 10) # On-Balance-Volume\n",
      "/home/erik/DataspellProjects/Stock-Prediction/preprocessing.py:21: SettingWithCopyWarning: \n",
      "A value is trying to be set on a copy of a slice from a DataFrame.\n",
      "Try using .loc[row_indexer,col_indexer] = value instead\n",
      "\n",
      "See the caveats in the documentation: https://pandas.pydata.org/pandas-docs/stable/user_guide/indexing.html#returning-a-view-versus-a-copy\n",
      "  sp500_data[\"%R\"]  = ta.WILLR(sp500_data[\"High\"], sp500_data[\"Low\"], sp500_data[\"Close\"], timeperiod = 14)\n",
      "/home/erik/DataspellProjects/Stock-Prediction/preprocessing.py:22: SettingWithCopyWarning: \n",
      "A value is trying to be set on a copy of a slice from a DataFrame.\n",
      "Try using .loc[row_indexer,col_indexer] = value instead\n",
      "\n",
      "See the caveats in the documentation: https://pandas.pydata.org/pandas-docs/stable/user_guide/indexing.html#returning-a-view-versus-a-copy\n",
      "  sp500_data[\"OBV\"] = ta.OBV(sp500_data[\"Close\"], sp500_data[\"Volume\"])\n",
      "/home/erik/DataspellProjects/Stock-Prediction/preprocessing.py:23: SettingWithCopyWarning: \n",
      "A value is trying to be set on a copy of a slice from a DataFrame.\n",
      "Try using .loc[row_indexer,col_indexer] = value instead\n",
      "\n",
      "See the caveats in the documentation: https://pandas.pydata.org/pandas-docs/stable/user_guide/indexing.html#returning-a-view-versus-a-copy\n",
      "  sp500_data[\"MACD\"], sp500_data[\"MACD_SIGNAL\"], sp500_data[\"MACD_HIST\"] = ta.MACD(sp500_data[\"Close\"], fastperiod=12, slowperiod=26, signalperiod=9)\n",
      "/home/erik/DataspellProjects/Stock-Prediction/preprocessing.py:23: SettingWithCopyWarning: \n",
      "A value is trying to be set on a copy of a slice from a DataFrame.\n",
      "Try using .loc[row_indexer,col_indexer] = value instead\n",
      "\n",
      "See the caveats in the documentation: https://pandas.pydata.org/pandas-docs/stable/user_guide/indexing.html#returning-a-view-versus-a-copy\n",
      "  sp500_data[\"MACD\"], sp500_data[\"MACD_SIGNAL\"], sp500_data[\"MACD_HIST\"] = ta.MACD(sp500_data[\"Close\"], fastperiod=12, slowperiod=26, signalperiod=9)\n",
      "/home/erik/DataspellProjects/Stock-Prediction/preprocessing.py:23: SettingWithCopyWarning: \n",
      "A value is trying to be set on a copy of a slice from a DataFrame.\n",
      "Try using .loc[row_indexer,col_indexer] = value instead\n",
      "\n",
      "See the caveats in the documentation: https://pandas.pydata.org/pandas-docs/stable/user_guide/indexing.html#returning-a-view-versus-a-copy\n",
      "  sp500_data[\"MACD\"], sp500_data[\"MACD_SIGNAL\"], sp500_data[\"MACD_HIST\"] = ta.MACD(sp500_data[\"Close\"], fastperiod=12, slowperiod=26, signalperiod=9)\n",
      "/home/erik/DataspellProjects/Stock-Prediction/preprocessing.py:24: SettingWithCopyWarning: \n",
      "A value is trying to be set on a copy of a slice from a DataFrame.\n",
      "Try using .loc[row_indexer,col_indexer] = value instead\n",
      "\n",
      "See the caveats in the documentation: https://pandas.pydata.org/pandas-docs/stable/user_guide/indexing.html#returning-a-view-versus-a-copy\n",
      "  sp500_data[\"CCI\"] = ta.CCI(sp500_data[\"High\"], sp500_data[\"Low\"], sp500_data[\"Close\"], timeperiod = 14)\n",
      "/home/erik/DataspellProjects/Stock-Prediction/preprocessing.py:25: SettingWithCopyWarning: \n",
      "A value is trying to be set on a copy of a slice from a DataFrame.\n",
      "Try using .loc[row_indexer,col_indexer] = value instead\n",
      "\n",
      "See the caveats in the documentation: https://pandas.pydata.org/pandas-docs/stable/user_guide/indexing.html#returning-a-view-versus-a-copy\n",
      "  sp500_data[\"ADOSC\"] = ta.ADOSC(sp500_data[\"High\"], sp500_data[\"Low\"], sp500_data[\"Close\"], sp500_data[\"Volume\"], fastperiod=3, slowperiod=10)\n",
      "/home/erik/DataspellProjects/Stock-Prediction/preprocessing.py:26: SettingWithCopyWarning: \n",
      "A value is trying to be set on a copy of a slice from a DataFrame.\n",
      "Try using .loc[row_indexer,col_indexer] = value instead\n",
      "\n",
      "See the caveats in the documentation: https://pandas.pydata.org/pandas-docs/stable/user_guide/indexing.html#returning-a-view-versus-a-copy\n",
      "  sp500_data[\"%K\"] = (sp500_data['Close'] - sp500_data['Low']) * 100 / (sp500_data['High'] - sp500_data['Low'])\n",
      "/home/erik/DataspellProjects/Stock-Prediction/preprocessing.py:27: SettingWithCopyWarning: \n",
      "A value is trying to be set on a copy of a slice from a DataFrame.\n",
      "Try using .loc[row_indexer,col_indexer] = value instead\n",
      "\n",
      "See the caveats in the documentation: https://pandas.pydata.org/pandas-docs/stable/user_guide/indexing.html#returning-a-view-versus-a-copy\n",
      "  sp500_data[\"%D\"] =  sp500_data['%K'].rolling(3).mean()\n"
     ]
    }
   ],
   "source": [
    "sp500_data, last_day_df = get_data()"
   ],
   "metadata": {
    "collapsed": false,
    "ExecuteTime": {
     "end_time": "2023-11-16T18:46:01.077542407Z",
     "start_time": "2023-11-16T18:45:59.782168385Z"
    }
   },
   "id": "aca8587c55543b5"
  },
  {
   "cell_type": "code",
   "execution_count": 28,
   "outputs": [],
   "source": [
    "def log_to_mlflow(model, accuracy):\n",
    "    mlflow.set_experiment(\"sp500_prediction\")\n",
    "    mlflow.set_tracking_uri(\"http://localhost:5000\")\n",
    "    best_extra_tree = \"best_extra_tree_model\"\n",
    "\n",
    "    with mlflow.start_run():\n",
    "        mlflow.sklearn.log_model(model, \"model\")\n",
    "        mlflow.log_metric(\"accuracy\", accuracy)\n",
    "        run_id = mlflow.active_run().info.run_uuid\n",
    "        client = MlflowClient()\n",
    "        try:\n",
    "            registered_model = client.get_registered_model(best_extra_tree)\n",
    "        except:\n",
    "            registered_model = None\n",
    "\n",
    "        if not registered_model:\n",
    "            client.create_registered_model(best_extra_tree)\n",
    "            client.create_model_version(name=best_extra_tree,\n",
    "                                        source=f\"runs:/{run_id}/model\",\n",
    "                                        run_id=run_id)\n",
    "        else:\n",
    "            latest_version = client.get_latest_versions(best_extra_tree, stages=[\"Production\"])[0]\n",
    "            latest_metrics = client.get_run(latest_version.run_id).data.metrics\n",
    "            if \"accuracy\" in latest_metrics:\n",
    "                latest_accuracy = latest_metrics[\"accuracy\"]\n",
    "                if accuracy > latest_accuracy:\n",
    "                    version_info = client.create_model_version(name=best_extra_tree,\n",
    "                                                               source=f\"runs:/{run_id}/model\",\n",
    "                                                               run_id=run_id)\n",
    "\n",
    "                    client.transition_model_version_stage(\n",
    "                        name=version_info,\n",
    "                        version=version_info.version,\n",
    "                        stage=\"Production\"\n",
    "                    )\n",
    "\n",
    "                    print(\"New model registered as best model!\")\n",
    "                else:\n",
    "                    print(\"The new model isn't better\")"
   ],
   "metadata": {
    "collapsed": false,
    "ExecuteTime": {
     "end_time": "2023-11-16T18:57:10.756628661Z",
     "start_time": "2023-11-16T18:57:10.697926224Z"
    }
   },
   "id": "24fb00765ce6de69"
  },
  {
   "cell_type": "code",
   "execution_count": 23,
   "outputs": [
    {
     "name": "stdout",
     "output_type": "stream",
     "text": [
      "\u001B[36m(train_and_tune_extra_tree_model pid=2315596)\u001B[0m ╭───────────────────────────────────────────────────────────────────╮\n",
      "\u001B[36m(train_and_tune_extra_tree_model pid=2315596)\u001B[0m │ Configuration for experiment     _Trainable_2023-11-16_19-46-04   │\n",
      "\u001B[36m(train_and_tune_extra_tree_model pid=2315596)\u001B[0m ├───────────────────────────────────────────────────────────────────┤\n",
      "\u001B[36m(train_and_tune_extra_tree_model pid=2315596)\u001B[0m │ Search algorithm                 BasicVariantGenerator            │\n",
      "\u001B[36m(train_and_tune_extra_tree_model pid=2315596)\u001B[0m │ Scheduler                        FIFOScheduler                    │\n",
      "\u001B[36m(train_and_tune_extra_tree_model pid=2315596)\u001B[0m │ Number of trials                 15                               │\n",
      "\u001B[36m(train_and_tune_extra_tree_model pid=2315596)\u001B[0m ╰───────────────────────────────────────────────────────────────────╯\n",
      "\u001B[36m(train_and_tune_extra_tree_model pid=2315596)\u001B[0m \n",
      "\u001B[36m(train_and_tune_extra_tree_model pid=2315596)\u001B[0m View detailed results here: /home/eautenrieth/ray_results/_Trainable_2023-11-16_19-46-04\n",
      "\u001B[36m(train_and_tune_extra_tree_model pid=2315596)\u001B[0m To visualize your results with TensorBoard, run: `tensorboard --logdir /home/eautenrieth/ray_results/_Trainable_2023-11-16_19-46-04`\n"
     ]
    },
    {
     "name": "stderr",
     "output_type": "stream",
     "text": [
      "\u001B[36m(train_and_tune_extra_tree_model pid=2315596)\u001B[0m /home/eautenrieth/.local/lib/python3.10/site-packages/tune_sklearn/tune_basesearch.py:365: UserWarning: max_iters is set > 1 but incremental/partial training is not enabled. To enable partial training, ensure the estimator has `partial_fit` or `warm_start` and set `early_stopping=True`. Automatically setting max_iters=1.\n",
      "\u001B[36m(train_and_tune_extra_tree_model pid=2315596)\u001B[0m   warnings.warn(\n",
      "\u001B[36m(train_and_tune_extra_tree_model pid=2315596)\u001B[0m [output] This will use the new output engine with verbosity 0. To disable the new output and use the legacy output engine, set the environment variable RAY_AIR_NEW_OUTPUT=0. For more information, please see https://github.com/ray-project/ray/issues/36949\n"
     ]
    },
    {
     "name": "stdout",
     "output_type": "stream",
     "text": [
      "\u001B[36m(train_and_tune_extra_tree_model pid=2315596)\u001B[0m \n"
     ]
    },
    {
     "name": "stderr",
     "output_type": "stream",
     "text": [
      "\u001B[36m(train_and_tune_extra_tree_model pid=2315596)\u001B[0m /home/eautenrieth/.local/lib/python3.10/site-packages/tune_sklearn/tune_basesearch.py:859: RuntimeWarning: invalid value encountered in cast\n",
      "\u001B[36m(train_and_tune_extra_tree_model pid=2315596)\u001B[0m   results[\"rank_%s\" % key_name] = np.asarray(\n"
     ]
    },
    {
     "name": "stdout",
     "output_type": "stream",
     "text": [
      "\u001B[36m(train_and_tune_extra_tree_model pid=2315596)\u001B[0m Best model parameters: {'n_estimators': 869, 'max_depth': 443, 'min_samples_split': 5, 'min_samples_leaf': 2, 'max_features': 'sqrt'}\n",
      "\u001B[36m(train_and_tune_extra_tree_model pid=2315596)\u001B[0m Test Accuracy: 0.803921568627451\n"
     ]
    }
   ],
   "source": [
    "best_model, accuracy = ray.get(train_and_tune_extra_tree_model.remote(sp500_data))"
   ],
   "metadata": {
    "collapsed": false,
    "ExecuteTime": {
     "end_time": "2023-11-16T18:49:12.218264748Z",
     "start_time": "2023-11-16T18:46:02.582628278Z"
    }
   },
   "id": "5136d6b25b72e1fe"
  },
  {
   "cell_type": "code",
   "execution_count": 29,
   "outputs": [
    {
     "name": "stderr",
     "output_type": "stream",
     "text": [
      "2023/11/16 19:57:22 INFO mlflow.tracking.fluent: Experiment with name 'sp500_prediction' does not exist. Creating a new experiment.\n",
      "2023/11/16 19:58:35 INFO mlflow.store.model_registry.abstract_store: Waiting up to 300 seconds for model version to finish creation. Model name: best_extra_tree_model, version 1\n"
     ]
    }
   ],
   "source": [
    "log_to_mlflow(best_model, accuracy)\n",
    "# mlflow models serve -m \"models:/best_extra_tree_model/Production\" -h 0.0.0.0 -p 1234"
   ],
   "metadata": {
    "collapsed": false,
    "ExecuteTime": {
     "end_time": "2023-11-16T18:58:35.346193532Z",
     "start_time": "2023-11-16T18:57:22.718634464Z"
    }
   },
   "id": "49e734824c2c1d1f"
  }
 ],
 "metadata": {
  "kernelspec": {
   "display_name": "Python 3",
   "language": "python",
   "name": "python3"
  },
  "language_info": {
   "codemirror_mode": {
    "name": "ipython",
    "version": 2
   },
   "file_extension": ".py",
   "mimetype": "text/x-python",
   "name": "python",
   "nbconvert_exporter": "python",
   "pygments_lexer": "ipython2",
   "version": "2.7.6"
  }
 },
 "nbformat": 4,
 "nbformat_minor": 5
}
