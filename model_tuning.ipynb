{
 "cells": [
  {
   "cell_type": "code",
   "execution_count": 1,
   "id": "initial_id",
   "metadata": {
    "collapsed": true,
    "ExecuteTime": {
     "end_time": "2023-11-17T09:55:08.877226574Z",
     "start_time": "2023-11-17T09:55:06.276703414Z"
    }
   },
   "outputs": [],
   "source": [
    "import joblib\n",
    "import pandas as pd\n",
    "\n",
    "import mlflow\n",
    "from mlflow.tracking import MlflowClient\n",
    "\n",
    "import ray\n",
    "from sklearn.metrics import accuracy_score\n",
    "from sklearn.ensemble import ExtraTreesClassifier\n",
    "from ray import tune\n",
    "from ray.tune.sklearn import TuneSearchCV\n",
    "from sklearn.model_selection import train_test_split\n",
    "\n",
    "from preprocessing import get_data\n",
    "from influxdb_handler import save_to_influx"
   ]
  },
  {
   "cell_type": "code",
   "execution_count": 2,
   "outputs": [
    {
     "name": "stdout",
     "output_type": "stream",
     "text": [
      "{'CPU': 16.0, 'object_store_memory': 19170683289.0, 'memory': 38341366580.0, 'node:__internal_head__': 1.0, 'node:10.0.7.60': 1.0}\n"
     ]
    }
   ],
   "source": [
    "ray.init(\"ray://localhost:10001\") ## VM\n",
    "print(ray.cluster_resources())"
   ],
   "metadata": {
    "collapsed": false,
    "ExecuteTime": {
     "end_time": "2023-11-17T09:55:11.855592412Z",
     "start_time": "2023-11-17T09:55:08.880518466Z"
    }
   },
   "id": "dabd8ee4e94f426"
  },
  {
   "cell_type": "code",
   "execution_count": 6,
   "outputs": [],
   "source": [
    "@ray.remote(num_cpus=12)\n",
    "def train_and_tune_extra_tree_model(sp500_data):\n",
    "    X = sp500_data.drop(['Target'], axis=1)\n",
    "    train_x, test_x, train_y, test_y = train_test_split(X, sp500_data['Target'], test_size=0.25, random_state=42)\n",
    "    \n",
    "    model = ExtraTreesClassifier(random_state=42)\n",
    "    # Hyperparameter, die getunt werden sollen\n",
    "    param_distributions = {\n",
    "        'n_estimators': tune.randint(100, 2000),\n",
    "        'max_depth': tune.randint(100, 2000),\n",
    "        'min_samples_split': tune.choice([1, 5, 20]),\n",
    "        'min_samples_leaf': tune.choice([1, 2, 20]),\n",
    "        'max_features': tune.choice(['auto', 'sqrt', 'log2'])\n",
    "    }\n",
    "\n",
    "    tuner = TuneSearchCV(\n",
    "        model,\n",
    "        param_distributions,\n",
    "        n_trials=30,  # Anzahl der Durchläufe\n",
    "        early_stopping=False,  # Frühzeitiges Stoppen für schlecht abschneidende Trials\n",
    "        max_iters=20,  # Maximale Anzahl von Iterationen pro Trial\n",
    "        search_optimization=\"random\",  # Optimierungsalgorithmus\n",
    "        cv=5,  # Kreuzvalidierung\n",
    "        random_state=42,\n",
    "    )\n",
    "    tuner.fit(train_x, train_y)\n",
    "    best_model = tuner.best_estimator_\n",
    "    #joblib.dump(best_model, './data/predict_model/best_extra_tree_model.pkl')\n",
    "    predictions = best_model.predict(test_x)\n",
    "    accuracy = accuracy_score(test_y, predictions)\n",
    "    print(f\"Best model parameters: {tuner.best_params_}\")\n",
    "    print(f\"Test Accuracy: {accuracy}\")\n",
    "\n",
    "    return best_model, accuracy"
   ],
   "metadata": {
    "collapsed": false,
    "ExecuteTime": {
     "end_time": "2023-11-17T09:56:07.397752985Z",
     "start_time": "2023-11-17T09:56:07.353803053Z"
    }
   },
   "id": "994b2aaa7f8a4c09"
  },
  {
   "cell_type": "code",
   "execution_count": 7,
   "outputs": [],
   "source": [
    "def log_to_mlflow(model, accuracy):\n",
    "    mlflow.set_experiment(\"sp500_prediction\")\n",
    "    mlflow.set_tracking_uri(\"http://localhost:5000\")\n",
    "    best_extra_tree = \"best_extra_tree_model\"\n",
    "\n",
    "    default_logged_model = 'runs:/5c036be77ea045228b58b4fa52821f65/model'\n",
    "\n",
    "    with mlflow.start_run():\n",
    "        mlflow.sklearn.log_model(model, \"model\")\n",
    "        mlflow.log_metric(\"accuracy\", accuracy)\n",
    "        run_id = mlflow.active_run().info.run_uuid\n",
    "        actual_model_path = f\"runs:/{run_id}/model\"\n",
    "        client = MlflowClient()\n",
    "        try:\n",
    "            registered_model = client.get_registered_model(best_extra_tree)\n",
    "        except:\n",
    "            registered_model = None\n",
    "\n",
    "        if not registered_model:\n",
    "            client.create_registered_model(best_extra_tree)\n",
    "            client.create_model_version(name=best_extra_tree,\n",
    "                                        source=actual_model_path,\n",
    "                                        run_id=run_id)\n",
    "        else:\n",
    "            latest_version = client.get_latest_versions(best_extra_tree, stages=[\"Production\"])[0]\n",
    "            latest_metrics = client.get_run(latest_version.run_id).data.metrics\n",
    "            if \"accuracy\" in latest_metrics:\n",
    "                latest_accuracy = latest_metrics[\"accuracy\"]\n",
    "                if accuracy > latest_accuracy:\n",
    "                    version_info = client.create_model_version(name=best_extra_tree,\n",
    "                                                               source=actual_model_path,\n",
    "                                                               run_id=run_id)\n",
    "\n",
    "                    client.transition_model_version_stage(\n",
    "                        name=version_info.name,\n",
    "                        version=version_info.version,\n",
    "                        stage=\"Production\"\n",
    "                    )\n",
    "                    \n",
    "                    print(\"New model registered as best model!\")\n",
    "                    return actual_model_path\n",
    "                else:\n",
    "                    print(\"The new model isn't better\")\n",
    "                    return default_logged_model"
   ],
   "metadata": {
    "collapsed": false,
    "ExecuteTime": {
     "end_time": "2023-11-17T09:56:08.145574330Z",
     "start_time": "2023-11-17T09:56:08.140133668Z"
    }
   },
   "id": "24fb00765ce6de69"
  },
  {
   "cell_type": "code",
   "execution_count": null,
   "outputs": [],
   "source": [
    "def model_prediction():\n",
    "    import mlflow\n",
    "    import pandas as pd\n",
    "    from influxdb_handler import get_data_form_influx, save_prediction_to_influx\n",
    "\n",
    "    df, prediction_df = get_data_form_influx()\n",
    "    logged_model = prediction_df[\"model\"].iloc[0]\n",
    "    loaded_model = mlflow.pyfunc.load_model(logged_model)\n",
    "    prediction = loaded_model.predict(df)\n",
    "    prediction_df[\"Target\"] = prediction\n",
    "    save_prediction_to_influx(prediction_df)"
   ],
   "metadata": {
    "collapsed": false
   },
   "id": "80fe5b3fbbee1bf7"
  },
  {
   "cell_type": "code",
   "execution_count": 8,
   "outputs": [
    {
     "name": "stdout",
     "output_type": "stream",
     "text": [
      "[*********************100%%**********************]  1 of 1 completed\n"
     ]
    },
    {
     "name": "stderr",
     "output_type": "stream",
     "text": [
      "/home/erik/DataspellProjects/Stock-Prediction/preprocessing.py:13: SettingWithCopyWarning: \n",
      "A value is trying to be set on a copy of a slice from a DataFrame.\n",
      "Try using .loc[row_indexer,col_indexer] = value instead\n",
      "\n",
      "See the caveats in the documentation: https://pandas.pydata.org/pandas-docs/stable/user_guide/indexing.html#returning-a-view-versus-a-copy\n",
      "  sp500_data[f\"SMA {time_period}\"]      = ta.SMA(inputs, timeperiod = time_period)\n",
      "/home/erik/DataspellProjects/Stock-Prediction/preprocessing.py:14: SettingWithCopyWarning: \n",
      "A value is trying to be set on a copy of a slice from a DataFrame.\n",
      "Try using .loc[row_indexer,col_indexer] = value instead\n",
      "\n",
      "See the caveats in the documentation: https://pandas.pydata.org/pandas-docs/stable/user_guide/indexing.html#returning-a-view-versus-a-copy\n",
      "  sp500_data[f\"EMA {time_period}\"]      = ta.EMA(inputs, timeperiod = time_period)\n",
      "/home/erik/DataspellProjects/Stock-Prediction/preprocessing.py:15: SettingWithCopyWarning: \n",
      "A value is trying to be set on a copy of a slice from a DataFrame.\n",
      "Try using .loc[row_indexer,col_indexer] = value instead\n",
      "\n",
      "See the caveats in the documentation: https://pandas.pydata.org/pandas-docs/stable/user_guide/indexing.html#returning-a-view-versus-a-copy\n",
      "  sp500_data[f\"EMA {20}\"]               = ta.EMA(inputs, timeperiod = 20)\n",
      "/home/erik/DataspellProjects/Stock-Prediction/preprocessing.py:16: SettingWithCopyWarning: \n",
      "A value is trying to be set on a copy of a slice from a DataFrame.\n",
      "Try using .loc[row_indexer,col_indexer] = value instead\n",
      "\n",
      "See the caveats in the documentation: https://pandas.pydata.org/pandas-docs/stable/user_guide/indexing.html#returning-a-view-versus-a-copy\n",
      "  sp500_data[f\"WMA {time_period}\"]      = ta.WMA(inputs, timeperiod = time_period)\n",
      "/home/erik/DataspellProjects/Stock-Prediction/preprocessing.py:17: SettingWithCopyWarning: \n",
      "A value is trying to be set on a copy of a slice from a DataFrame.\n",
      "Try using .loc[row_indexer,col_indexer] = value instead\n",
      "\n",
      "See the caveats in the documentation: https://pandas.pydata.org/pandas-docs/stable/user_guide/indexing.html#returning-a-view-versus-a-copy\n",
      "  sp500_data[f\"Momentum {time_period}\"] = ta.MOM(inputs, timeperiod = time_period)\n",
      "/home/erik/DataspellProjects/Stock-Prediction/preprocessing.py:18: SettingWithCopyWarning: \n",
      "A value is trying to be set on a copy of a slice from a DataFrame.\n",
      "Try using .loc[row_indexer,col_indexer] = value instead\n",
      "\n",
      "See the caveats in the documentation: https://pandas.pydata.org/pandas-docs/stable/user_guide/indexing.html#returning-a-view-versus-a-copy\n",
      "  sp500_data[\"SAR\"] = ta.SAR(sp500_data[\"High\"], sp500_data[\"Low\"], acceleration=0.02, maximum=0.2)\n",
      "/home/erik/DataspellProjects/Stock-Prediction/preprocessing.py:19: SettingWithCopyWarning: \n",
      "A value is trying to be set on a copy of a slice from a DataFrame.\n",
      "Try using .loc[row_indexer,col_indexer] = value instead\n",
      "\n",
      "See the caveats in the documentation: https://pandas.pydata.org/pandas-docs/stable/user_guide/indexing.html#returning-a-view-versus-a-copy\n",
      "  sp500_data[\"RSI\"] = ta.RSI(sp500_data[\"Close\"], timeperiod = 14)\n",
      "/home/erik/DataspellProjects/Stock-Prediction/preprocessing.py:20: SettingWithCopyWarning: \n",
      "A value is trying to be set on a copy of a slice from a DataFrame.\n",
      "Try using .loc[row_indexer,col_indexer] = value instead\n",
      "\n",
      "See the caveats in the documentation: https://pandas.pydata.org/pandas-docs/stable/user_guide/indexing.html#returning-a-view-versus-a-copy\n",
      "  sp500_data[\"ROC\"] = ta.ROC(sp500_data[\"Close\"], timeperiod = 10) # On-Balance-Volume\n",
      "/home/erik/DataspellProjects/Stock-Prediction/preprocessing.py:21: SettingWithCopyWarning: \n",
      "A value is trying to be set on a copy of a slice from a DataFrame.\n",
      "Try using .loc[row_indexer,col_indexer] = value instead\n",
      "\n",
      "See the caveats in the documentation: https://pandas.pydata.org/pandas-docs/stable/user_guide/indexing.html#returning-a-view-versus-a-copy\n",
      "  sp500_data[\"%R\"]  = ta.WILLR(sp500_data[\"High\"], sp500_data[\"Low\"], sp500_data[\"Close\"], timeperiod = 14)\n",
      "/home/erik/DataspellProjects/Stock-Prediction/preprocessing.py:22: SettingWithCopyWarning: \n",
      "A value is trying to be set on a copy of a slice from a DataFrame.\n",
      "Try using .loc[row_indexer,col_indexer] = value instead\n",
      "\n",
      "See the caveats in the documentation: https://pandas.pydata.org/pandas-docs/stable/user_guide/indexing.html#returning-a-view-versus-a-copy\n",
      "  sp500_data[\"OBV\"] = ta.OBV(sp500_data[\"Close\"], sp500_data[\"Volume\"])\n",
      "/home/erik/DataspellProjects/Stock-Prediction/preprocessing.py:23: SettingWithCopyWarning: \n",
      "A value is trying to be set on a copy of a slice from a DataFrame.\n",
      "Try using .loc[row_indexer,col_indexer] = value instead\n",
      "\n",
      "See the caveats in the documentation: https://pandas.pydata.org/pandas-docs/stable/user_guide/indexing.html#returning-a-view-versus-a-copy\n",
      "  sp500_data[\"MACD\"], sp500_data[\"MACD_SIGNAL\"], sp500_data[\"MACD_HIST\"] = ta.MACD(sp500_data[\"Close\"], fastperiod=12, slowperiod=26, signalperiod=9)\n",
      "/home/erik/DataspellProjects/Stock-Prediction/preprocessing.py:23: SettingWithCopyWarning: \n",
      "A value is trying to be set on a copy of a slice from a DataFrame.\n",
      "Try using .loc[row_indexer,col_indexer] = value instead\n",
      "\n",
      "See the caveats in the documentation: https://pandas.pydata.org/pandas-docs/stable/user_guide/indexing.html#returning-a-view-versus-a-copy\n",
      "  sp500_data[\"MACD\"], sp500_data[\"MACD_SIGNAL\"], sp500_data[\"MACD_HIST\"] = ta.MACD(sp500_data[\"Close\"], fastperiod=12, slowperiod=26, signalperiod=9)\n",
      "/home/erik/DataspellProjects/Stock-Prediction/preprocessing.py:23: SettingWithCopyWarning: \n",
      "A value is trying to be set on a copy of a slice from a DataFrame.\n",
      "Try using .loc[row_indexer,col_indexer] = value instead\n",
      "\n",
      "See the caveats in the documentation: https://pandas.pydata.org/pandas-docs/stable/user_guide/indexing.html#returning-a-view-versus-a-copy\n",
      "  sp500_data[\"MACD\"], sp500_data[\"MACD_SIGNAL\"], sp500_data[\"MACD_HIST\"] = ta.MACD(sp500_data[\"Close\"], fastperiod=12, slowperiod=26, signalperiod=9)\n",
      "/home/erik/DataspellProjects/Stock-Prediction/preprocessing.py:24: SettingWithCopyWarning: \n",
      "A value is trying to be set on a copy of a slice from a DataFrame.\n",
      "Try using .loc[row_indexer,col_indexer] = value instead\n",
      "\n",
      "See the caveats in the documentation: https://pandas.pydata.org/pandas-docs/stable/user_guide/indexing.html#returning-a-view-versus-a-copy\n",
      "  sp500_data[\"CCI\"] = ta.CCI(sp500_data[\"High\"], sp500_data[\"Low\"], sp500_data[\"Close\"], timeperiod = 14)\n",
      "/home/erik/DataspellProjects/Stock-Prediction/preprocessing.py:25: SettingWithCopyWarning: \n",
      "A value is trying to be set on a copy of a slice from a DataFrame.\n",
      "Try using .loc[row_indexer,col_indexer] = value instead\n",
      "\n",
      "See the caveats in the documentation: https://pandas.pydata.org/pandas-docs/stable/user_guide/indexing.html#returning-a-view-versus-a-copy\n",
      "  sp500_data[\"ADOSC\"] = ta.ADOSC(sp500_data[\"High\"], sp500_data[\"Low\"], sp500_data[\"Close\"], sp500_data[\"Volume\"], fastperiod=3, slowperiod=10)\n",
      "/home/erik/DataspellProjects/Stock-Prediction/preprocessing.py:26: SettingWithCopyWarning: \n",
      "A value is trying to be set on a copy of a slice from a DataFrame.\n",
      "Try using .loc[row_indexer,col_indexer] = value instead\n",
      "\n",
      "See the caveats in the documentation: https://pandas.pydata.org/pandas-docs/stable/user_guide/indexing.html#returning-a-view-versus-a-copy\n",
      "  sp500_data[\"%K\"] = (sp500_data['Close'] - sp500_data['Low']) * 100 / (sp500_data['High'] - sp500_data['Low'])\n",
      "/home/erik/DataspellProjects/Stock-Prediction/preprocessing.py:27: SettingWithCopyWarning: \n",
      "A value is trying to be set on a copy of a slice from a DataFrame.\n",
      "Try using .loc[row_indexer,col_indexer] = value instead\n",
      "\n",
      "See the caveats in the documentation: https://pandas.pydata.org/pandas-docs/stable/user_guide/indexing.html#returning-a-view-versus-a-copy\n",
      "  sp500_data[\"%D\"] =  sp500_data['%K'].rolling(3).mean()\n"
     ]
    },
    {
     "name": "stdout",
     "output_type": "stream",
     "text": [
      "\u001B[36m(train_and_tune_extra_tree_model pid=3361730)\u001B[0m ╭───────────────────────────────────────────────────────────────────╮\n",
      "\u001B[36m(train_and_tune_extra_tree_model pid=3361730)\u001B[0m │ Configuration for experiment     _Trainable_2023-11-17_10-56-10   │\n",
      "\u001B[36m(train_and_tune_extra_tree_model pid=3361730)\u001B[0m ├───────────────────────────────────────────────────────────────────┤\n",
      "\u001B[36m(train_and_tune_extra_tree_model pid=3361730)\u001B[0m │ Search algorithm                 BasicVariantGenerator            │\n",
      "\u001B[36m(train_and_tune_extra_tree_model pid=3361730)\u001B[0m │ Scheduler                        FIFOScheduler                    │\n",
      "\u001B[36m(train_and_tune_extra_tree_model pid=3361730)\u001B[0m │ Number of trials                 30                               │\n",
      "\u001B[36m(train_and_tune_extra_tree_model pid=3361730)\u001B[0m ╰───────────────────────────────────────────────────────────────────╯\n",
      "\u001B[36m(train_and_tune_extra_tree_model pid=3361730)\u001B[0m \n",
      "\u001B[36m(train_and_tune_extra_tree_model pid=3361730)\u001B[0m View detailed results here: /home/eautenrieth/ray_results/_Trainable_2023-11-17_10-56-10\n",
      "\u001B[36m(train_and_tune_extra_tree_model pid=3361730)\u001B[0m To visualize your results with TensorBoard, run: `tensorboard --logdir /home/eautenrieth/ray_results/_Trainable_2023-11-17_10-56-10`\n"
     ]
    },
    {
     "name": "stderr",
     "output_type": "stream",
     "text": [
      "\u001B[36m(train_and_tune_extra_tree_model pid=3361730)\u001B[0m /home/eautenrieth/.local/lib/python3.10/site-packages/tune_sklearn/tune_basesearch.py:365: UserWarning: max_iters is set > 1 but incremental/partial training is not enabled. To enable partial training, ensure the estimator has `partial_fit` or `warm_start` and set `early_stopping=True`. Automatically setting max_iters=1.\n",
      "\u001B[36m(train_and_tune_extra_tree_model pid=3361730)\u001B[0m   warnings.warn(\n",
      "\u001B[36m(train_and_tune_extra_tree_model pid=3361730)\u001B[0m [output] This will use the new output engine with verbosity 0. To disable the new output and use the legacy output engine, set the environment variable RAY_AIR_NEW_OUTPUT=0. For more information, please see https://github.com/ray-project/ray/issues/36949\n",
      "\u001B[36m(bundle_reservation_check_func pid=3364017)\u001B[0m Traceback (most recent call last):\n",
      "\u001B[36m(bundle_reservation_check_func pid=3364017)\u001B[0m   File \"python/ray/_raylet.pyx\", line 1649, in ray._raylet.execute_task\n",
      "\u001B[36m(bundle_reservation_check_func pid=3364017)\u001B[0m   File \"python/ray/_raylet.pyx\", line 1651, in ray._raylet.execute_task\n",
      "\u001B[36m(bundle_reservation_check_func pid=3364017)\u001B[0m   File \"/home/eautenrieth/.local/lib/python3.10/site-packages/ray/_private/worker.py\", line 740, in deserialize_objects\n",
      "\u001B[36m(bundle_reservation_check_func pid=3364017)\u001B[0m     context = self.get_serialization_context()\n",
      "\u001B[36m(bundle_reservation_check_func pid=3364017)\u001B[0m   File \"/home/eautenrieth/.local/lib/python3.10/site-packages/ray/_private/worker.py\", line 628, in get_serialization_context\n",
      "\u001B[36m(bundle_reservation_check_func pid=3364017)\u001B[0m     context_map[job_id] = serialization.SerializationContext(self)\n",
      "\u001B[36m(bundle_reservation_check_func pid=3364017)\u001B[0m   File \"/home/eautenrieth/.local/lib/python3.10/site-packages/ray/_private/serialization.py\", line 153, in __init__\n",
      "\u001B[36m(bundle_reservation_check_func pid=3364017)\u001B[0m     serialization_addons.apply(self)\n",
      "\u001B[36m(bundle_reservation_check_func pid=3364017)\u001B[0m   File \"/home/eautenrieth/.local/lib/python3.10/site-packages/ray/util/serialization_addons.py\", line 86, in apply\n",
      "\u001B[36m(bundle_reservation_check_func pid=3364017)\u001B[0m     _register_custom_datasets_serializers(serialization_context)\n",
      "\u001B[36m(bundle_reservation_check_func pid=3364017)\u001B[0m   File \"/home/eautenrieth/.local/lib/python3.10/site-packages/ray/_private/arrow_serialization.py\", line 46, in _register_custom_datasets_serializers\n",
      "\u001B[36m(bundle_reservation_check_func pid=3364017)\u001B[0m     import pyarrow as pa  # noqa: F401\n",
      "\u001B[36m(bundle_reservation_check_func pid=3364017)\u001B[0m   File \"/home/eautenrieth/.local/lib/python3.10/site-packages/pyarrow/__init__.py\", line 65, in <module>\n",
      "\u001B[36m(bundle_reservation_check_func pid=3364017)\u001B[0m     import pyarrow.lib as _lib\n",
      "\u001B[36m(bundle_reservation_check_func pid=3364017)\u001B[0m   File \"pyarrow/lib.pyx\", line 24, in init pyarrow.lib\n",
      "\u001B[36m(bundle_reservation_check_func pid=3364017)\u001B[0m   File \"/home/eautenrieth/.local/lib/python3.10/site-packages/numpy/__init__.py\", line 149, in <module>\n",
      "\u001B[36m(bundle_reservation_check_func pid=3364017)\u001B[0m     from . import lib\n",
      "\u001B[36m(bundle_reservation_check_func pid=3364017)\u001B[0m   File \"/home/eautenrieth/.local/lib/python3.10/site-packages/numpy/lib/__init__.py\", line 31, in <module>\n",
      "\u001B[36m(bundle_reservation_check_func pid=3364017)\u001B[0m     from . import polynomial\n",
      "\u001B[36m(bundle_reservation_check_func pid=3364017)\u001B[0m   File \"<frozen importlib._bootstrap>\", line 1027, in _find_and_load\n",
      "\u001B[36m(bundle_reservation_check_func pid=3364017)\u001B[0m   File \"<frozen importlib._bootstrap>\", line 1002, in _find_and_load_unlocked\n",
      "\u001B[36m(bundle_reservation_check_func pid=3364017)\u001B[0m   File \"<frozen importlib._bootstrap>\", line 945, in _find_spec\n",
      "\u001B[36m(bundle_reservation_check_func pid=3364017)\u001B[0m   File \"<frozen importlib._bootstrap_external>\", line 1439, in find_spec\n",
      "\u001B[36m(bundle_reservation_check_func pid=3364017)\u001B[0m   File \"<frozen importlib._bootstrap_external>\", line 1411, in _get_spec\n",
      "\u001B[36m(bundle_reservation_check_func pid=3364017)\u001B[0m   File \"<frozen importlib._bootstrap_external>\", line 1578, in find_spec\n",
      "\u001B[36m(bundle_reservation_check_func pid=3364017)\u001B[0m   File \"<frozen importlib._bootstrap_external>\", line 1533, in _get_spec\n",
      "\u001B[36m(bundle_reservation_check_func pid=3364017)\u001B[0m   File \"<frozen importlib._bootstrap_external>\", line 758, in spec_from_file_location\n",
      "\u001B[36m(bundle_reservation_check_func pid=3364017)\u001B[0m   File \"<frozen importlib._bootstrap>\", line 357, in __init__\n",
      "\u001B[36m(bundle_reservation_check_func pid=3364017)\u001B[0m   File \"/home/eautenrieth/.local/lib/python3.10/site-packages/ray/_private/worker.py\", line 791, in sigterm_handler\n",
      "\u001B[36m(bundle_reservation_check_func pid=3364017)\u001B[0m     raise_sys_exit_with_custom_error_message(\n",
      "\u001B[36m(bundle_reservation_check_func pid=3364017)\u001B[0m   File \"python/ray/_raylet.pyx\", line 725, in ray._raylet.raise_sys_exit_with_custom_error_message\n",
      "\u001B[36m(bundle_reservation_check_func pid=3364017)\u001B[0m SystemExit: 1\n",
      "\u001B[36m(bundle_reservation_check_func pid=3364017)\u001B[0m \n",
      "\u001B[36m(bundle_reservation_check_func pid=3364017)\u001B[0m During handling of the above exception, another exception occurred:\n",
      "\u001B[36m(bundle_reservation_check_func pid=3364017)\u001B[0m \n",
      "\u001B[36m(bundle_reservation_check_func pid=3364017)\u001B[0m Traceback (most recent call last):\n",
      "\u001B[36m(bundle_reservation_check_func pid=3364017)\u001B[0m   File \"python/ray/_raylet.pyx\", line 1960, in ray._raylet.execute_task_with_cancellation_handler\n",
      "\u001B[36m(bundle_reservation_check_func pid=3364017)\u001B[0m   File \"python/ray/_raylet.pyx\", line 1617, in ray._raylet.execute_task\n",
      "\u001B[36m(bundle_reservation_check_func pid=3364017)\u001B[0m   File \"python/ray/_raylet.pyx\", line 1618, in ray._raylet.execute_task\n",
      "\u001B[36m(bundle_reservation_check_func pid=3364017)\u001B[0m   File \"python/ray/_raylet.pyx\", line 1621, in ray._raylet.execute_task\n",
      "\u001B[36m(bundle_reservation_check_func pid=3364017)\u001B[0m   File \"python/ray/includes/libcoreworker.pxi\", line 33, in ray._raylet.ProfileEvent.__exit__\n",
      "\u001B[36m(bundle_reservation_check_func pid=3364017)\u001B[0m   File \"/usr/lib/python3.10/traceback.py\", line 183, in format_exc\n",
      "\u001B[36m(bundle_reservation_check_func pid=3364017)\u001B[0m     return \"\".join(format_exception(*sys.exc_info(), limit=limit, chain=chain))\n",
      "\u001B[36m(bundle_reservation_check_func pid=3364017)\u001B[0m   File \"/usr/lib/python3.10/traceback.py\", line 135, in format_exception\n",
      "\u001B[36m(bundle_reservation_check_func pid=3364017)\u001B[0m     te = TracebackException(type(value), value, tb, limit=limit, compact=True)\n",
      "\u001B[36m(bundle_reservation_check_func pid=3364017)\u001B[0m   File \"/usr/lib/python3.10/traceback.py\", line 502, in __init__\n",
      "\u001B[36m(bundle_reservation_check_func pid=3364017)\u001B[0m     self.stack = StackSummary.extract(\n",
      "\u001B[36m(bundle_reservation_check_func pid=3364017)\u001B[0m   File \"/usr/lib/python3.10/traceback.py\", line 383, in extract\n",
      "\u001B[36m(bundle_reservation_check_func pid=3364017)\u001B[0m     f.line\n",
      "\u001B[36m(bundle_reservation_check_func pid=3364017)\u001B[0m   File \"/usr/lib/python3.10/traceback.py\", line 306, in line\n",
      "\u001B[36m(bundle_reservation_check_func pid=3364017)\u001B[0m     self._line = linecache.getline(self.filename, self.lineno)\n",
      "\u001B[36m(bundle_reservation_check_func pid=3364017)\u001B[0m   File \"/usr/lib/python3.10/linecache.py\", line 30, in getline\n",
      "\u001B[36m(bundle_reservation_check_func pid=3364017)\u001B[0m     lines = getlines(filename, module_globals)\n",
      "\u001B[36m(bundle_reservation_check_func pid=3364017)\u001B[0m   File \"/usr/lib/python3.10/linecache.py\", line 46, in getlines\n",
      "\u001B[36m(bundle_reservation_check_func pid=3364017)\u001B[0m     return updatecache(filename, module_globals)\n",
      "\u001B[36m(bundle_reservation_check_func pid=3364017)\u001B[0m   File \"/usr/lib/python3.10/linecache.py\", line 93, in updatecache\n",
      "\u001B[36m(bundle_reservation_check_func pid=3364017)\u001B[0m     stat = os.stat(fullname)\n",
      "\u001B[36m(bundle_reservation_check_func pid=3364017)\u001B[0m KeyboardInterrupt\n",
      "\u001B[36m(bundle_reservation_check_func pid=3364017)\u001B[0m \n",
      "\u001B[36m(bundle_reservation_check_func pid=3364017)\u001B[0m During handling of the above exception, another exception occurred:\n",
      "\u001B[36m(bundle_reservation_check_func pid=3364017)\u001B[0m \n",
      "\u001B[36m(bundle_reservation_check_func pid=3364017)\u001B[0m Traceback (most recent call last):\n",
      "\u001B[36m(bundle_reservation_check_func pid=3364017)\u001B[0m   File \"python/ray/_raylet.pyx\", line 2064, in ray._raylet.task_execution_handler\n",
      "\u001B[36m(bundle_reservation_check_func pid=3364017)\u001B[0m   File \"python/ray/_raylet.pyx\", line 1995, in ray._raylet.execute_task_with_cancellation_handler\n",
      "\u001B[36m(bundle_reservation_check_func pid=3364017)\u001B[0m   File \"python/ray/_raylet.pyx\", line 953, in ray._raylet.store_task_errors\n",
      "\u001B[36m(bundle_reservation_check_func pid=3364017)\u001B[0m   File \"/home/eautenrieth/.local/lib/python3.10/site-packages/ray/_private/utils.py\", line 178, in push_error_to_driver\n",
      "\u001B[36m(bundle_reservation_check_func pid=3364017)\u001B[0m     worker.core_worker.push_error(job_id, error_type, message, time.time())\n",
      "\u001B[36m(bundle_reservation_check_func pid=3364017)\u001B[0m   File \"python/ray/_raylet.pyx\", line 4527, in ray._raylet.CoreWorker.push_error\n",
      "\u001B[36m(bundle_reservation_check_func pid=3364017)\u001B[0m   File \"python/ray/_raylet.pyx\", line 468, in ray._raylet.check_status\n",
      "\u001B[36m(bundle_reservation_check_func pid=3364017)\u001B[0m ray.exceptions.RaySystemError: System error: Broken pipe\n",
      "\u001B[36m(bundle_reservation_check_func pid=3364017)\u001B[0m \n",
      "\u001B[36m(bundle_reservation_check_func pid=3364017)\u001B[0m During handling of the above exception, another exception occurred:\n",
      "\u001B[36m(bundle_reservation_check_func pid=3364017)\u001B[0m \n",
      "\u001B[36m(bundle_reservation_check_func pid=3364017)\u001B[0m Traceback (most recent call last):\n",
      "\u001B[36m(bundle_reservation_check_func pid=3364017)\u001B[0m   File \"python/ray/_raylet.pyx\", line 2103, in ray._raylet.task_execution_handler\n",
      "\u001B[36m(bundle_reservation_check_func pid=3364017)\u001B[0m   File \"/home/eautenrieth/.local/lib/python3.10/site-packages/ray/_private/utils.py\", line 178, in push_error_to_driver\n",
      "\u001B[36m(bundle_reservation_check_func pid=3364017)\u001B[0m     worker.core_worker.push_error(job_id, error_type, message, time.time())\n",
      "\u001B[36m(bundle_reservation_check_func pid=3364017)\u001B[0m   File \"python/ray/_raylet.pyx\", line 4527, in ray._raylet.CoreWorker.push_error\n",
      "\u001B[36m(bundle_reservation_check_func pid=3364017)\u001B[0m   File \"python/ray/_raylet.pyx\", line 468, in ray._raylet.check_status\n",
      "\u001B[36m(bundle_reservation_check_func pid=3364017)\u001B[0m ray.exceptions.RaySystemError: System error: Broken pipe\n",
      "\u001B[36m(bundle_reservation_check_func pid=3364017)\u001B[0m Exception ignored in: 'ray._raylet.task_execution_handler'\n",
      "\u001B[36m(bundle_reservation_check_func pid=3364017)\u001B[0m Traceback (most recent call last):\n",
      "\u001B[36m(bundle_reservation_check_func pid=3364017)\u001B[0m   File \"python/ray/_raylet.pyx\", line 2103, in ray._raylet.task_execution_handler\n",
      "\u001B[36m(bundle_reservation_check_func pid=3364017)\u001B[0m   File \"/home/eautenrieth/.local/lib/python3.10/site-packages/ray/_private/utils.py\", line 178, in push_error_to_driver\n",
      "\u001B[36m(bundle_reservation_check_func pid=3364017)\u001B[0m     worker.core_worker.push_error(job_id, error_type, message, time.time())\n",
      "\u001B[36m(bundle_reservation_check_func pid=3364017)\u001B[0m   File \"python/ray/_raylet.pyx\", line 4527, in ray._raylet.CoreWorker.push_error\n",
      "\u001B[36m(bundle_reservation_check_func pid=3364017)\u001B[0m   File \"python/ray/_raylet.pyx\", line 468, in ray._raylet.check_status\n",
      "\u001B[36m(bundle_reservation_check_func pid=3364017)\u001B[0m ray.exceptions.RaySystemError: System error: Broken pipe\n"
     ]
    },
    {
     "name": "stdout",
     "output_type": "stream",
     "text": [
      "\u001B[36m(train_and_tune_extra_tree_model pid=3361730)\u001B[0m \n"
     ]
    },
    {
     "name": "stderr",
     "output_type": "stream",
     "text": [
      "\u001B[36m(train_and_tune_extra_tree_model pid=3361730)\u001B[0m /home/eautenrieth/.local/lib/python3.10/site-packages/tune_sklearn/tune_basesearch.py:859: RuntimeWarning: invalid value encountered in cast\n",
      "\u001B[36m(train_and_tune_extra_tree_model pid=3361730)\u001B[0m   results[\"rank_%s\" % key_name] = np.asarray(\n"
     ]
    },
    {
     "name": "stdout",
     "output_type": "stream",
     "text": [
      "\u001B[36m(train_and_tune_extra_tree_model pid=3361730)\u001B[0m Best model parameters: {'n_estimators': 869, 'max_depth': 443, 'min_samples_split': 5, 'min_samples_leaf': 2, 'max_features': 'sqrt'}\n",
      "\u001B[36m(train_and_tune_extra_tree_model pid=3361730)\u001B[0m Test Accuracy: 0.8047186932849365\n",
      "The new model isn't better\n",
      "Complete. Return to the InfluxDB UI.\n"
     ]
    }
   ],
   "source": [
    "sp500_data, last_day_df = get_data()\n",
    "\n",
    "best_model, accuracy = ray.get(train_and_tune_extra_tree_model.remote(sp500_data))\n",
    "\n",
    "model_path = log_to_mlflow(best_model, accuracy)\n",
    "\n",
    "save_to_influx(last_day_df=last_day_df, model_path=model_path)\n",
    "\n",
    "model_prediction()"
   ],
   "metadata": {
    "collapsed": false,
    "ExecuteTime": {
     "end_time": "2023-11-17T09:59:59.216412923Z",
     "start_time": "2023-11-17T09:56:08.621497099Z"
    }
   },
   "id": "5136d6b25b72e1fe"
  },
  {
   "cell_type": "code",
   "execution_count": null,
   "outputs": [],
   "source": [],
   "metadata": {
    "collapsed": false,
    "ExecuteTime": {
     "end_time": "2023-11-17T09:55:17.099848349Z",
     "start_time": "2023-11-17T09:55:17.096866887Z"
    }
   },
   "id": "b0a1049e648a853c"
  }
 ],
 "metadata": {
  "kernelspec": {
   "display_name": "Python 3",
   "language": "python",
   "name": "python3"
  },
  "language_info": {
   "codemirror_mode": {
    "name": "ipython",
    "version": 2
   },
   "file_extension": ".py",
   "mimetype": "text/x-python",
   "name": "python",
   "nbconvert_exporter": "python",
   "pygments_lexer": "ipython2",
   "version": "2.7.6"
  }
 },
 "nbformat": 4,
 "nbformat_minor": 5
}
