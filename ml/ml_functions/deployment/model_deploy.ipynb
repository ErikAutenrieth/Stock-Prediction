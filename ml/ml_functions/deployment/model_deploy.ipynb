{
 "cells": [
  {
   "cell_type": "code",
   "execution_count": null,
   "id": "initial_id",
   "metadata": {
    "collapsed": true
   },
   "outputs": [],
   "source": [
    "import boto3\n",
    "import os\n",
    "from mlflow.deployments import get_deploy_client\n",
    "from dotenv import load_dotenv"
   ]
  },
  {
   "cell_type": "code",
   "execution_count": null,
   "outputs": [],
   "source": [
    "load_dotenv()"
   ],
   "metadata": {
    "collapsed": false
   },
   "id": "68897f36886f6676"
  },
  {
   "cell_type": "code",
   "execution_count": null,
   "outputs": [],
   "source": [],
   "metadata": {
    "collapsed": false
   },
   "id": "18235b856b5c1151"
  },
  {
   "cell_type": "code",
   "execution_count": null,
   "outputs": [],
   "source": [
    "## AWS Container\n",
    "# mlflow sagemaker build-and-push-container --build --push -c for-sagemaker-deployment"
   ],
   "metadata": {
    "collapsed": false
   },
   "id": "7675c1e7f9247a62"
  },
  {
   "cell_type": "code",
   "execution_count": null,
   "outputs": [],
   "source": [
    "region = os.getenv('SAGEMAKER_REGION')\n",
    "model_uri = f\"{base_dir}/mlruns/354565172707154508/5a62984791c945a1bae69cd36a1a23fb/artifacts/model\"\n",
    "aws_account_id = os.getenv('AWS_ACCOUNT_ID')\n",
    "execution_role_arn = \"arn:aws:iam::401605265667:role/service-role/AmazonSageMakerServiceCatalogProductsUseRole\"\n",
    "name = \"for-sagemaker-deployment\"\n",
    "tag_id = '2.8.1'\n",
    "image_url = f\"{aws_account_id}.dkr.ecr.{region}.amazonaws.com/{name}:\" + tag_id\n",
    "\n",
    "config = {\n",
    "    \"execution_role_arn\": execution_role_arn,\n",
    "    \"bucket_name\": \"xgboostbucket\",\n",
    "    \"image_url\": image_url,\n",
    "    \"region_name\": os.getenv('SAGEMAKER_REGION'),\n",
    "    \"archive\": False,\n",
    "    \"instance_type\": \"ml.m5.large\", # ml.t3.medium\n",
    "    \"instance_count\": 1,\n",
    "    \"synchronous\": True,\n",
    "    \"timeout_seconds\": 3600,\n",
    "    \"variant_name\": \"prod-variant-1\",\n",
    "    \"tags\": {\"training_timestamp\": \"2023-11-22\"},\n",
    "}\n",
    "\n",
    "\n",
    "boto3.setup_default_session(\n",
    "    aws_access_key_id=os.getenv('AWS_ACCESS_KEY_ID'),\n",
    "    aws_secret_access_key=os.getenv('AWS_SECRET_ACCESS_KEY'),\n",
    "    region_name=region\n",
    ")\n",
    "\n",
    "\n",
    "client = get_deploy_client(\"sagemaker\")\n",
    "\n",
    "client.create_deployment(\n",
    "    name=\"stockmodel\",\n",
    "    model_uri=model_uri,\n",
    "    flavor=\"python_function\",\n",
    "    config=config,\n",
    ")"
   ],
   "metadata": {
    "collapsed": false
   },
   "id": "36838bb46718632c"
  },
  {
   "cell_type": "code",
   "execution_count": null,
   "outputs": [],
   "source": [],
   "metadata": {
    "collapsed": false
   },
   "id": "2f36792fc0fa220e"
  },
  {
   "cell_type": "code",
   "execution_count": null,
   "outputs": [],
   "source": [
    "## Deploy Model\n",
    "# mlflow sagemaker deploy --app-name xformer -m runs:/7-16420961991120000000062/model \n",
    "# --execution-role-arn arn:aws:iam::612652722220:role/role-for-mlflow-sagemaker-deploy \n",
    "# --bucket jaganes-sagemaker \n",
    "# --image-url 612652722220.dkr.ecr.us-east-1.amazonaws.com/for-sagemaker-deployment:1.22.0 \n",
    "# --region-name us-east-1 \n",
    "# --mode create \n",
    "# --instance-type ml.m5.large \n",
    "# --instance-count 1 \n",
    "# --flavor python_function"
   ],
   "metadata": {
    "collapsed": false
   },
   "id": "a75cec2e6b627655"
  }
 ],
 "metadata": {
  "kernelspec": {
   "display_name": "Python 3",
   "language": "python",
   "name": "python3"
  },
  "language_info": {
   "codemirror_mode": {
    "name": "ipython",
    "version": 2
   },
   "file_extension": ".py",
   "mimetype": "text/x-python",
   "name": "python",
   "nbconvert_exporter": "python",
   "pygments_lexer": "ipython2",
   "version": "2.7.6"
  }
 },
 "nbformat": 4,
 "nbformat_minor": 5
}
