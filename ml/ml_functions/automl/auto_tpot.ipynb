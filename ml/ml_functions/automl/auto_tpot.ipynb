{
 "cells": [
  {
   "cell_type": "code",
   "execution_count": 1,
   "id": "initial_id",
   "metadata": {
    "collapsed": true,
    "ExecuteTime": {
     "end_time": "2023-12-07T18:31:52.337522184Z",
     "start_time": "2023-12-07T18:31:48.057997982Z"
    }
   },
   "outputs": [],
   "source": [
    "from tpot import TPOTClassifier\n",
    "from sklearn.model_selection import train_test_split\n",
    "import pandas as pd"
   ]
  },
  {
   "cell_type": "markdown",
   "source": [
    "## Get Training Data"
   ],
   "metadata": {
    "collapsed": false
   },
   "id": "5a44e565991e6f3f"
  },
  {
   "cell_type": "code",
   "execution_count": 26,
   "outputs": [],
   "source": [
    "sp500_data = pd.read_csv('../../data/sp500_training_data_to_2023-11-15.csv')\n",
    "sp500_data.set_index(\"Date\", drop=True, inplace=True)"
   ],
   "metadata": {
    "collapsed": false,
    "ExecuteTime": {
     "end_time": "2023-12-07T18:34:36.496891061Z",
     "start_time": "2023-12-07T18:34:36.453459947Z"
    }
   },
   "id": "4b7c7832d469f5f4"
  },
  {
   "cell_type": "code",
   "execution_count": 30,
   "outputs": [],
   "source": [
    "X = sp500_data.drop(\"Target\", axis=1)"
   ],
   "metadata": {
    "collapsed": false,
    "ExecuteTime": {
     "end_time": "2023-12-07T18:35:27.467986878Z",
     "start_time": "2023-12-07T18:35:27.419328766Z"
    }
   },
   "id": "efe44ddfcaac0a63"
  },
  {
   "cell_type": "markdown",
   "source": [
    "## AutoML"
   ],
   "metadata": {
    "collapsed": false
   },
   "id": "8379345e9f5434e7"
  },
  {
   "cell_type": "code",
   "execution_count": 31,
   "outputs": [
    {
     "data": {
      "text/plain": "Optimization Progress:   0%|          | 0/300 [00:00<?, ?pipeline/s]",
      "application/vnd.jupyter.widget-view+json": {
       "version_major": 2,
       "version_minor": 0,
       "model_id": "d3ae15043d5d485795adb0434e44727e"
      }
     },
     "metadata": {},
     "output_type": "display_data"
    },
    {
     "name": "stdout",
     "output_type": "stream",
     "text": [
      "\n",
      "Generation 1 - Current best internal CV score: 0.7419510201570555\n",
      "\n",
      "Generation 2 - Current best internal CV score: 0.762770456239957\n",
      "\n",
      "Generation 3 - Current best internal CV score: 0.7890323412271181\n",
      "\n",
      "Generation 4 - Current best internal CV score: 0.7936319466111215\n",
      "\n",
      "Generation 5 - Current best internal CV score: 0.824496366573945\n",
      "\n",
      "Best pipeline: ExtraTreesClassifier(input_matrix, bootstrap=False, criterion=entropy, max_features=0.6000000000000001, min_samples_leaf=1, min_samples_split=5, n_estimators=100)\n",
      "0.8304284676833696\n"
     ]
    }
   ],
   "source": [
    "X_train, X_test, y_train, y_test = train_test_split(X, sp500_data[\"Target\"],\n",
    "                                                    train_size=0.75, test_size=0.25, random_state=42)\n",
    "\n",
    "tpot = TPOTClassifier(generations=5, population_size=50, verbosity=2, random_state=42)\n",
    "tpot.fit(X_train, y_train)"
   ],
   "metadata": {
    "collapsed": false,
    "ExecuteTime": {
     "end_time": "2023-12-07T19:48:47.055039687Z",
     "start_time": "2023-12-07T18:35:31.817447581Z"
    }
   },
   "id": "2e058cb8fed9566c"
  },
  {
   "cell_type": "code",
   "execution_count": null,
   "outputs": [],
   "source": [
    "print(tpot.score(X_test, y_test))\n",
    "tpot.export('tpot_digits_pipeline.py')"
   ],
   "metadata": {
    "collapsed": false
   },
   "id": "b0901946b7cc4d22"
  }
 ],
 "metadata": {
  "kernelspec": {
   "display_name": "Python 3",
   "language": "python",
   "name": "python3"
  },
  "language_info": {
   "codemirror_mode": {
    "name": "ipython",
    "version": 2
   },
   "file_extension": ".py",
   "mimetype": "text/x-python",
   "name": "python",
   "nbconvert_exporter": "python",
   "pygments_lexer": "ipython2",
   "version": "2.7.6"
  }
 },
 "nbformat": 4,
 "nbformat_minor": 5
}
