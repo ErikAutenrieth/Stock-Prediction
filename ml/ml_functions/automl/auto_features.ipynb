{
 "cells": [
  {
   "cell_type": "code",
   "execution_count": 5,
   "id": "initial_id",
   "metadata": {
    "collapsed": true,
    "ExecuteTime": {
     "end_time": "2023-12-02T18:38:11.096898314Z",
     "start_time": "2023-12-02T18:38:06.282639765Z"
    }
   },
   "outputs": [],
   "source": [
    "import pandas as pd\n",
    "import yfinance as yf\n",
    "from sklearn.metrics import accuracy_score\n",
    "from sklearn.ensemble import ExtraTreesClassifier\n",
    "from datetime import datetime\n",
    "from sklearn.model_selection import train_test_split\n",
    "from ml.features.preprocessing import calc_target, calc_indicators\n",
    "\n",
    "import logging\n",
    "import autosklearn.classification\n",
    "import sklearn.metrics\n",
    "\n",
    "from tsfresh import extract_features\n"
   ]
  },
  {
   "cell_type": "code",
   "execution_count": 6,
   "outputs": [],
   "source": [
    "#!pip install --upgrade setuptools wheel\n",
    "#!pip install auto-sklearn"
   ],
   "metadata": {
    "collapsed": false,
    "ExecuteTime": {
     "end_time": "2023-12-02T18:38:11.108179923Z",
     "start_time": "2023-12-02T18:38:11.100436092Z"
    }
   },
   "id": "e497f0f1f94fe8c1"
  },
  {
   "cell_type": "code",
   "execution_count": 7,
   "outputs": [
    {
     "name": "stdout",
     "output_type": "stream",
     "text": [
      "[*********************100%%**********************]  1 of 1 completed\n"
     ]
    },
    {
     "name": "stderr",
     "output_type": "stream",
     "text": [
      "/home/erik/DataspellProjects/stock-prediction/ml/features/preprocessing.py:52: SettingWithCopyWarning: \n",
      "A value is trying to be set on a copy of a slice from a DataFrame.\n",
      "Try using .loc[row_indexer,col_indexer] = value instead\n",
      "\n",
      "See the caveats in the documentation: https://pandas.pydata.org/pandas-docs/stable/user_guide/indexing.html#returning-a-view-versus-a-copy\n",
      "  df[f\"SMA {time_period}\"] = ta.SMA(inputs, timeperiod=time_period)\n",
      "/home/erik/DataspellProjects/stock-prediction/ml/features/preprocessing.py:53: SettingWithCopyWarning: \n",
      "A value is trying to be set on a copy of a slice from a DataFrame.\n",
      "Try using .loc[row_indexer,col_indexer] = value instead\n",
      "\n",
      "See the caveats in the documentation: https://pandas.pydata.org/pandas-docs/stable/user_guide/indexing.html#returning-a-view-versus-a-copy\n",
      "  df[f\"EMA {time_period}\"] = ta.EMA(inputs, timeperiod=time_period)\n",
      "/home/erik/DataspellProjects/stock-prediction/ml/features/preprocessing.py:54: SettingWithCopyWarning: \n",
      "A value is trying to be set on a copy of a slice from a DataFrame.\n",
      "Try using .loc[row_indexer,col_indexer] = value instead\n",
      "\n",
      "See the caveats in the documentation: https://pandas.pydata.org/pandas-docs/stable/user_guide/indexing.html#returning-a-view-versus-a-copy\n",
      "  df[f\"EMA {20}\"] = ta.EMA(inputs, timeperiod=20)\n",
      "/home/erik/DataspellProjects/stock-prediction/ml/features/preprocessing.py:55: SettingWithCopyWarning: \n",
      "A value is trying to be set on a copy of a slice from a DataFrame.\n",
      "Try using .loc[row_indexer,col_indexer] = value instead\n",
      "\n",
      "See the caveats in the documentation: https://pandas.pydata.org/pandas-docs/stable/user_guide/indexing.html#returning-a-view-versus-a-copy\n",
      "  df[f\"WMA {time_period}\"] = ta.WMA(inputs, timeperiod=time_period)\n",
      "/home/erik/DataspellProjects/stock-prediction/ml/features/preprocessing.py:56: SettingWithCopyWarning: \n",
      "A value is trying to be set on a copy of a slice from a DataFrame.\n",
      "Try using .loc[row_indexer,col_indexer] = value instead\n",
      "\n",
      "See the caveats in the documentation: https://pandas.pydata.org/pandas-docs/stable/user_guide/indexing.html#returning-a-view-versus-a-copy\n",
      "  df[f\"Momentum {time_period}\"] = ta.MOM(inputs, timeperiod=time_period)\n",
      "/home/erik/DataspellProjects/stock-prediction/ml/features/preprocessing.py:57: SettingWithCopyWarning: \n",
      "A value is trying to be set on a copy of a slice from a DataFrame.\n",
      "Try using .loc[row_indexer,col_indexer] = value instead\n",
      "\n",
      "See the caveats in the documentation: https://pandas.pydata.org/pandas-docs/stable/user_guide/indexing.html#returning-a-view-versus-a-copy\n",
      "  df[\"SAR\"] = ta.SAR(df[\"High\"], df[\"Low\"], acceleration=0.02, maximum=0.2)\n",
      "/home/erik/DataspellProjects/stock-prediction/ml/features/preprocessing.py:58: SettingWithCopyWarning: \n",
      "A value is trying to be set on a copy of a slice from a DataFrame.\n",
      "Try using .loc[row_indexer,col_indexer] = value instead\n",
      "\n",
      "See the caveats in the documentation: https://pandas.pydata.org/pandas-docs/stable/user_guide/indexing.html#returning-a-view-versus-a-copy\n",
      "  df[\"RSI\"] = ta.RSI(df[\"Close\"], timeperiod=14)\n",
      "/home/erik/DataspellProjects/stock-prediction/ml/features/preprocessing.py:59: SettingWithCopyWarning: \n",
      "A value is trying to be set on a copy of a slice from a DataFrame.\n",
      "Try using .loc[row_indexer,col_indexer] = value instead\n",
      "\n",
      "See the caveats in the documentation: https://pandas.pydata.org/pandas-docs/stable/user_guide/indexing.html#returning-a-view-versus-a-copy\n",
      "  df[\"ROC\"] = ta.ROC(df[\"Close\"], timeperiod=10)\n",
      "/home/erik/DataspellProjects/stock-prediction/ml/features/preprocessing.py:60: SettingWithCopyWarning: \n",
      "A value is trying to be set on a copy of a slice from a DataFrame.\n",
      "Try using .loc[row_indexer,col_indexer] = value instead\n",
      "\n",
      "See the caveats in the documentation: https://pandas.pydata.org/pandas-docs/stable/user_guide/indexing.html#returning-a-view-versus-a-copy\n",
      "  df[\"%R\"] = ta.WILLR(df[\"High\"], df[\"Low\"], df[\"Close\"], timeperiod=14)\n",
      "/home/erik/DataspellProjects/stock-prediction/ml/features/preprocessing.py:61: SettingWithCopyWarning: \n",
      "A value is trying to be set on a copy of a slice from a DataFrame.\n",
      "Try using .loc[row_indexer,col_indexer] = value instead\n",
      "\n",
      "See the caveats in the documentation: https://pandas.pydata.org/pandas-docs/stable/user_guide/indexing.html#returning-a-view-versus-a-copy\n",
      "  df[\"OBV\"] = ta.OBV(df[\"Close\"], df[\"Volume\"])\n",
      "/home/erik/DataspellProjects/stock-prediction/ml/features/preprocessing.py:62: SettingWithCopyWarning: \n",
      "A value is trying to be set on a copy of a slice from a DataFrame.\n",
      "Try using .loc[row_indexer,col_indexer] = value instead\n",
      "\n",
      "See the caveats in the documentation: https://pandas.pydata.org/pandas-docs/stable/user_guide/indexing.html#returning-a-view-versus-a-copy\n",
      "  df[\"MACD\"], df[\"MACD_SIGNAL\"], df[\"MACD_HIST\"] = ta.MACD(df[\"Close\"], fastperiod=12, slowperiod=26, signalperiod=9)\n",
      "/home/erik/DataspellProjects/stock-prediction/ml/features/preprocessing.py:62: SettingWithCopyWarning: \n",
      "A value is trying to be set on a copy of a slice from a DataFrame.\n",
      "Try using .loc[row_indexer,col_indexer] = value instead\n",
      "\n",
      "See the caveats in the documentation: https://pandas.pydata.org/pandas-docs/stable/user_guide/indexing.html#returning-a-view-versus-a-copy\n",
      "  df[\"MACD\"], df[\"MACD_SIGNAL\"], df[\"MACD_HIST\"] = ta.MACD(df[\"Close\"], fastperiod=12, slowperiod=26, signalperiod=9)\n",
      "/home/erik/DataspellProjects/stock-prediction/ml/features/preprocessing.py:62: SettingWithCopyWarning: \n",
      "A value is trying to be set on a copy of a slice from a DataFrame.\n",
      "Try using .loc[row_indexer,col_indexer] = value instead\n",
      "\n",
      "See the caveats in the documentation: https://pandas.pydata.org/pandas-docs/stable/user_guide/indexing.html#returning-a-view-versus-a-copy\n",
      "  df[\"MACD\"], df[\"MACD_SIGNAL\"], df[\"MACD_HIST\"] = ta.MACD(df[\"Close\"], fastperiod=12, slowperiod=26, signalperiod=9)\n",
      "/home/erik/DataspellProjects/stock-prediction/ml/features/preprocessing.py:63: SettingWithCopyWarning: \n",
      "A value is trying to be set on a copy of a slice from a DataFrame.\n",
      "Try using .loc[row_indexer,col_indexer] = value instead\n",
      "\n",
      "See the caveats in the documentation: https://pandas.pydata.org/pandas-docs/stable/user_guide/indexing.html#returning-a-view-versus-a-copy\n",
      "  df[\"CCI\"] = ta.CCI(df[\"High\"], df[\"Low\"], df[\"Close\"], timeperiod=14)\n",
      "/home/erik/DataspellProjects/stock-prediction/ml/features/preprocessing.py:64: SettingWithCopyWarning: \n",
      "A value is trying to be set on a copy of a slice from a DataFrame.\n",
      "Try using .loc[row_indexer,col_indexer] = value instead\n",
      "\n",
      "See the caveats in the documentation: https://pandas.pydata.org/pandas-docs/stable/user_guide/indexing.html#returning-a-view-versus-a-copy\n",
      "  df[\"ADOSC\"] = ta.ADOSC(df[\"High\"], df[\"Low\"], df[\"Close\"], df[\"Volume\"], fastperiod=3, slowperiod=10)\n",
      "/home/erik/DataspellProjects/stock-prediction/ml/features/preprocessing.py:65: SettingWithCopyWarning: \n",
      "A value is trying to be set on a copy of a slice from a DataFrame.\n",
      "Try using .loc[row_indexer,col_indexer] = value instead\n",
      "\n",
      "See the caveats in the documentation: https://pandas.pydata.org/pandas-docs/stable/user_guide/indexing.html#returning-a-view-versus-a-copy\n",
      "  df[\"%K\"] = (df['Close'] - df['Low']) * 100 / (df['High'] - df['Low'])\n",
      "/home/erik/DataspellProjects/stock-prediction/ml/features/preprocessing.py:66: SettingWithCopyWarning: \n",
      "A value is trying to be set on a copy of a slice from a DataFrame.\n",
      "Try using .loc[row_indexer,col_indexer] = value instead\n",
      "\n",
      "See the caveats in the documentation: https://pandas.pydata.org/pandas-docs/stable/user_guide/indexing.html#returning-a-view-versus-a-copy\n",
      "  df[\"%D\"] = df['%K'].rolling(3).mean()\n",
      "/home/erik/DataspellProjects/stock-prediction/ml/features/preprocessing.py:71: SettingWithCopyWarning: \n",
      "A value is trying to be set on a copy of a slice from a DataFrame\n",
      "\n",
      "See the caveats in the documentation: https://pandas.pydata.org/pandas-docs/stable/user_guide/indexing.html#returning-a-view-versus-a-copy\n",
      "  df.dropna(inplace=True)\n",
      "/home/erik/DataspellProjects/stock-prediction/ml/features/preprocessing.py:72: SettingWithCopyWarning: \n",
      "A value is trying to be set on a copy of a slice from a DataFrame\n",
      "\n",
      "See the caveats in the documentation: https://pandas.pydata.org/pandas-docs/stable/user_guide/indexing.html#returning-a-view-versus-a-copy\n",
      "  df.drop([\"High\", \"Low\", \"Adj Close\", \"Open\"], axis=1, inplace=True)\n"
     ]
    }
   ],
   "source": [
    "stock_data = yf.download(\"^GSPC\", \"1980-01-01\", end=datetime.now().strftime('%Y-%m-%d'))\n",
    "extra_features = stock_data.copy()\n",
    "\n",
    "stock_data = calc_target(df=stock_data)\n",
    "stock_data = calc_indicators(df=stock_data)"
   ],
   "metadata": {
    "collapsed": false,
    "ExecuteTime": {
     "end_time": "2023-12-02T18:38:11.847827291Z",
     "start_time": "2023-12-02T18:38:11.119959666Z"
    }
   },
   "id": "8bd1662720c4d192"
  },
  {
   "cell_type": "code",
   "execution_count": 8,
   "outputs": [
    {
     "ename": "KeyError",
     "evalue": "\"['Open', 'Adj Close'] not found in axis\"",
     "output_type": "error",
     "traceback": [
      "\u001B[0;31m---------------------------------------------------------------------------\u001B[0m",
      "\u001B[0;31mKeyError\u001B[0m                                  Traceback (most recent call last)",
      "Cell \u001B[0;32mIn[8], line 2\u001B[0m\n\u001B[1;32m      1\u001B[0m extra_features[\u001B[38;5;124m\"\u001B[39m\u001B[38;5;124mid\u001B[39m\u001B[38;5;124m\"\u001B[39m] \u001B[38;5;241m=\u001B[39m extra_features\u001B[38;5;241m.\u001B[39mindex\n\u001B[0;32m----> 2\u001B[0m extra_features \u001B[38;5;241m=\u001B[39m \u001B[43mextra_features\u001B[49m\u001B[38;5;241;43m.\u001B[39;49m\u001B[43mdrop\u001B[49m\u001B[43m(\u001B[49m\u001B[43m[\u001B[49m\u001B[38;5;124;43m\"\u001B[39;49m\u001B[38;5;124;43mOpen\u001B[39;49m\u001B[38;5;124;43m\"\u001B[39;49m\u001B[43m,\u001B[49m\u001B[43m \u001B[49m\u001B[38;5;124;43m\"\u001B[39;49m\u001B[38;5;124;43mAdj Close\u001B[39;49m\u001B[38;5;124;43m\"\u001B[39;49m\u001B[43m]\u001B[49m\u001B[43m,\u001B[49m\u001B[43m \u001B[49m\u001B[43maxis\u001B[49m\u001B[38;5;241;43m=\u001B[39;49m\u001B[38;5;241;43m1\u001B[39;49m\u001B[43m)\u001B[49m\n",
      "File \u001B[0;32m~/anaconda3/envs/Stock-Prediction/lib/python3.8/site-packages/pandas/core/frame.py:5258\u001B[0m, in \u001B[0;36mDataFrame.drop\u001B[0;34m(self, labels, axis, index, columns, level, inplace, errors)\u001B[0m\n\u001B[1;32m   5110\u001B[0m \u001B[38;5;28;01mdef\u001B[39;00m \u001B[38;5;21mdrop\u001B[39m(\n\u001B[1;32m   5111\u001B[0m     \u001B[38;5;28mself\u001B[39m,\n\u001B[1;32m   5112\u001B[0m     labels: IndexLabel \u001B[38;5;241m=\u001B[39m \u001B[38;5;28;01mNone\u001B[39;00m,\n\u001B[0;32m   (...)\u001B[0m\n\u001B[1;32m   5119\u001B[0m     errors: IgnoreRaise \u001B[38;5;241m=\u001B[39m \u001B[38;5;124m\"\u001B[39m\u001B[38;5;124mraise\u001B[39m\u001B[38;5;124m\"\u001B[39m,\n\u001B[1;32m   5120\u001B[0m ) \u001B[38;5;241m-\u001B[39m\u001B[38;5;241m>\u001B[39m DataFrame \u001B[38;5;241m|\u001B[39m \u001B[38;5;28;01mNone\u001B[39;00m:\n\u001B[1;32m   5121\u001B[0m \u001B[38;5;250m    \u001B[39m\u001B[38;5;124;03m\"\"\"\u001B[39;00m\n\u001B[1;32m   5122\u001B[0m \u001B[38;5;124;03m    Drop specified labels from rows or columns.\u001B[39;00m\n\u001B[1;32m   5123\u001B[0m \n\u001B[0;32m   (...)\u001B[0m\n\u001B[1;32m   5256\u001B[0m \u001B[38;5;124;03m            weight  1.0     0.8\u001B[39;00m\n\u001B[1;32m   5257\u001B[0m \u001B[38;5;124;03m    \"\"\"\u001B[39;00m\n\u001B[0;32m-> 5258\u001B[0m     \u001B[38;5;28;01mreturn\u001B[39;00m \u001B[38;5;28;43msuper\u001B[39;49m\u001B[43m(\u001B[49m\u001B[43m)\u001B[49m\u001B[38;5;241;43m.\u001B[39;49m\u001B[43mdrop\u001B[49m\u001B[43m(\u001B[49m\n\u001B[1;32m   5259\u001B[0m \u001B[43m        \u001B[49m\u001B[43mlabels\u001B[49m\u001B[38;5;241;43m=\u001B[39;49m\u001B[43mlabels\u001B[49m\u001B[43m,\u001B[49m\n\u001B[1;32m   5260\u001B[0m \u001B[43m        \u001B[49m\u001B[43maxis\u001B[49m\u001B[38;5;241;43m=\u001B[39;49m\u001B[43maxis\u001B[49m\u001B[43m,\u001B[49m\n\u001B[1;32m   5261\u001B[0m \u001B[43m        \u001B[49m\u001B[43mindex\u001B[49m\u001B[38;5;241;43m=\u001B[39;49m\u001B[43mindex\u001B[49m\u001B[43m,\u001B[49m\n\u001B[1;32m   5262\u001B[0m \u001B[43m        \u001B[49m\u001B[43mcolumns\u001B[49m\u001B[38;5;241;43m=\u001B[39;49m\u001B[43mcolumns\u001B[49m\u001B[43m,\u001B[49m\n\u001B[1;32m   5263\u001B[0m \u001B[43m        \u001B[49m\u001B[43mlevel\u001B[49m\u001B[38;5;241;43m=\u001B[39;49m\u001B[43mlevel\u001B[49m\u001B[43m,\u001B[49m\n\u001B[1;32m   5264\u001B[0m \u001B[43m        \u001B[49m\u001B[43minplace\u001B[49m\u001B[38;5;241;43m=\u001B[39;49m\u001B[43minplace\u001B[49m\u001B[43m,\u001B[49m\n\u001B[1;32m   5265\u001B[0m \u001B[43m        \u001B[49m\u001B[43merrors\u001B[49m\u001B[38;5;241;43m=\u001B[39;49m\u001B[43merrors\u001B[49m\u001B[43m,\u001B[49m\n\u001B[1;32m   5266\u001B[0m \u001B[43m    \u001B[49m\u001B[43m)\u001B[49m\n",
      "File \u001B[0;32m~/anaconda3/envs/Stock-Prediction/lib/python3.8/site-packages/pandas/core/generic.py:4549\u001B[0m, in \u001B[0;36mNDFrame.drop\u001B[0;34m(self, labels, axis, index, columns, level, inplace, errors)\u001B[0m\n\u001B[1;32m   4547\u001B[0m \u001B[38;5;28;01mfor\u001B[39;00m axis, labels \u001B[38;5;129;01min\u001B[39;00m axes\u001B[38;5;241m.\u001B[39mitems():\n\u001B[1;32m   4548\u001B[0m     \u001B[38;5;28;01mif\u001B[39;00m labels \u001B[38;5;129;01mis\u001B[39;00m \u001B[38;5;129;01mnot\u001B[39;00m \u001B[38;5;28;01mNone\u001B[39;00m:\n\u001B[0;32m-> 4549\u001B[0m         obj \u001B[38;5;241m=\u001B[39m \u001B[43mobj\u001B[49m\u001B[38;5;241;43m.\u001B[39;49m\u001B[43m_drop_axis\u001B[49m\u001B[43m(\u001B[49m\u001B[43mlabels\u001B[49m\u001B[43m,\u001B[49m\u001B[43m \u001B[49m\u001B[43maxis\u001B[49m\u001B[43m,\u001B[49m\u001B[43m \u001B[49m\u001B[43mlevel\u001B[49m\u001B[38;5;241;43m=\u001B[39;49m\u001B[43mlevel\u001B[49m\u001B[43m,\u001B[49m\u001B[43m \u001B[49m\u001B[43merrors\u001B[49m\u001B[38;5;241;43m=\u001B[39;49m\u001B[43merrors\u001B[49m\u001B[43m)\u001B[49m\n\u001B[1;32m   4551\u001B[0m \u001B[38;5;28;01mif\u001B[39;00m inplace:\n\u001B[1;32m   4552\u001B[0m     \u001B[38;5;28mself\u001B[39m\u001B[38;5;241m.\u001B[39m_update_inplace(obj)\n",
      "File \u001B[0;32m~/anaconda3/envs/Stock-Prediction/lib/python3.8/site-packages/pandas/core/generic.py:4591\u001B[0m, in \u001B[0;36mNDFrame._drop_axis\u001B[0;34m(self, labels, axis, level, errors, only_slice)\u001B[0m\n\u001B[1;32m   4589\u001B[0m         new_axis \u001B[38;5;241m=\u001B[39m axis\u001B[38;5;241m.\u001B[39mdrop(labels, level\u001B[38;5;241m=\u001B[39mlevel, errors\u001B[38;5;241m=\u001B[39merrors)\n\u001B[1;32m   4590\u001B[0m     \u001B[38;5;28;01melse\u001B[39;00m:\n\u001B[0;32m-> 4591\u001B[0m         new_axis \u001B[38;5;241m=\u001B[39m \u001B[43maxis\u001B[49m\u001B[38;5;241;43m.\u001B[39;49m\u001B[43mdrop\u001B[49m\u001B[43m(\u001B[49m\u001B[43mlabels\u001B[49m\u001B[43m,\u001B[49m\u001B[43m \u001B[49m\u001B[43merrors\u001B[49m\u001B[38;5;241;43m=\u001B[39;49m\u001B[43merrors\u001B[49m\u001B[43m)\u001B[49m\n\u001B[1;32m   4592\u001B[0m     indexer \u001B[38;5;241m=\u001B[39m axis\u001B[38;5;241m.\u001B[39mget_indexer(new_axis)\n\u001B[1;32m   4594\u001B[0m \u001B[38;5;66;03m# Case for non-unique axis\u001B[39;00m\n\u001B[1;32m   4595\u001B[0m \u001B[38;5;28;01melse\u001B[39;00m:\n",
      "File \u001B[0;32m~/anaconda3/envs/Stock-Prediction/lib/python3.8/site-packages/pandas/core/indexes/base.py:6699\u001B[0m, in \u001B[0;36mIndex.drop\u001B[0;34m(self, labels, errors)\u001B[0m\n\u001B[1;32m   6697\u001B[0m \u001B[38;5;28;01mif\u001B[39;00m mask\u001B[38;5;241m.\u001B[39many():\n\u001B[1;32m   6698\u001B[0m     \u001B[38;5;28;01mif\u001B[39;00m errors \u001B[38;5;241m!=\u001B[39m \u001B[38;5;124m\"\u001B[39m\u001B[38;5;124mignore\u001B[39m\u001B[38;5;124m\"\u001B[39m:\n\u001B[0;32m-> 6699\u001B[0m         \u001B[38;5;28;01mraise\u001B[39;00m \u001B[38;5;167;01mKeyError\u001B[39;00m(\u001B[38;5;124mf\u001B[39m\u001B[38;5;124m\"\u001B[39m\u001B[38;5;132;01m{\u001B[39;00m\u001B[38;5;28mlist\u001B[39m(labels[mask])\u001B[38;5;132;01m}\u001B[39;00m\u001B[38;5;124m not found in axis\u001B[39m\u001B[38;5;124m\"\u001B[39m)\n\u001B[1;32m   6700\u001B[0m     indexer \u001B[38;5;241m=\u001B[39m indexer[\u001B[38;5;241m~\u001B[39mmask]\n\u001B[1;32m   6701\u001B[0m \u001B[38;5;28;01mreturn\u001B[39;00m \u001B[38;5;28mself\u001B[39m\u001B[38;5;241m.\u001B[39mdelete(indexer)\n",
      "\u001B[0;31mKeyError\u001B[0m: \"['Open', 'Adj Close'] not found in axis\""
     ]
    }
   ],
   "source": [
    "extra_features[\"id\"] = extra_features.index\n",
    "extra_features = extra_features.drop([\"Open\", \"Adj Close\"], axis=1)"
   ],
   "metadata": {
    "collapsed": false,
    "ExecuteTime": {
     "end_time": "2023-12-02T18:30:06.585983539Z",
     "start_time": "2023-12-02T18:30:06.552825212Z"
    }
   },
   "id": "22d7e39956eedb2c"
  },
  {
   "cell_type": "code",
   "execution_count": 10,
   "outputs": [
    {
     "data": {
      "text/plain": "                   High          Low        Close      Volume         id\nDate                                                                    \n1980-01-02   108.430000   105.290001   105.760002    40610000 1980-01-02\n1980-01-03   106.080002   103.260002   105.220001    50480000 1980-01-03\n1980-01-04   107.080002   105.089996   106.519997    39130000 1980-01-04\n1980-01-07   107.800003   105.800003   106.809998    44500000 1980-01-07\n1980-01-08   109.290001   106.290001   108.949997    53390000 1980-01-08\n...                 ...          ...          ...         ...        ...\n2023-11-27  4560.520020  4546.319824  4550.430176  3403990000 2023-11-27\n2023-11-28  4568.140137  4540.509766  4554.890137  3586240000 2023-11-28\n2023-11-29  4587.640137  4547.149902  4550.580078  4418760000 2023-11-29\n2023-11-30  4569.890137  4537.240234  4567.799805  5399300000 2023-11-30\n2023-12-01  4599.390137  4554.709961  4594.629883  4397120000 2023-12-01\n\n[11074 rows x 5 columns]",
      "text/html": "<div>\n<style scoped>\n    .dataframe tbody tr th:only-of-type {\n        vertical-align: middle;\n    }\n\n    .dataframe tbody tr th {\n        vertical-align: top;\n    }\n\n    .dataframe thead th {\n        text-align: right;\n    }\n</style>\n<table border=\"1\" class=\"dataframe\">\n  <thead>\n    <tr style=\"text-align: right;\">\n      <th></th>\n      <th>High</th>\n      <th>Low</th>\n      <th>Close</th>\n      <th>Volume</th>\n      <th>id</th>\n    </tr>\n    <tr>\n      <th>Date</th>\n      <th></th>\n      <th></th>\n      <th></th>\n      <th></th>\n      <th></th>\n    </tr>\n  </thead>\n  <tbody>\n    <tr>\n      <th>1980-01-02</th>\n      <td>108.430000</td>\n      <td>105.290001</td>\n      <td>105.760002</td>\n      <td>40610000</td>\n      <td>1980-01-02</td>\n    </tr>\n    <tr>\n      <th>1980-01-03</th>\n      <td>106.080002</td>\n      <td>103.260002</td>\n      <td>105.220001</td>\n      <td>50480000</td>\n      <td>1980-01-03</td>\n    </tr>\n    <tr>\n      <th>1980-01-04</th>\n      <td>107.080002</td>\n      <td>105.089996</td>\n      <td>106.519997</td>\n      <td>39130000</td>\n      <td>1980-01-04</td>\n    </tr>\n    <tr>\n      <th>1980-01-07</th>\n      <td>107.800003</td>\n      <td>105.800003</td>\n      <td>106.809998</td>\n      <td>44500000</td>\n      <td>1980-01-07</td>\n    </tr>\n    <tr>\n      <th>1980-01-08</th>\n      <td>109.290001</td>\n      <td>106.290001</td>\n      <td>108.949997</td>\n      <td>53390000</td>\n      <td>1980-01-08</td>\n    </tr>\n    <tr>\n      <th>...</th>\n      <td>...</td>\n      <td>...</td>\n      <td>...</td>\n      <td>...</td>\n      <td>...</td>\n    </tr>\n    <tr>\n      <th>2023-11-27</th>\n      <td>4560.520020</td>\n      <td>4546.319824</td>\n      <td>4550.430176</td>\n      <td>3403990000</td>\n      <td>2023-11-27</td>\n    </tr>\n    <tr>\n      <th>2023-11-28</th>\n      <td>4568.140137</td>\n      <td>4540.509766</td>\n      <td>4554.890137</td>\n      <td>3586240000</td>\n      <td>2023-11-28</td>\n    </tr>\n    <tr>\n      <th>2023-11-29</th>\n      <td>4587.640137</td>\n      <td>4547.149902</td>\n      <td>4550.580078</td>\n      <td>4418760000</td>\n      <td>2023-11-29</td>\n    </tr>\n    <tr>\n      <th>2023-11-30</th>\n      <td>4569.890137</td>\n      <td>4537.240234</td>\n      <td>4567.799805</td>\n      <td>5399300000</td>\n      <td>2023-11-30</td>\n    </tr>\n    <tr>\n      <th>2023-12-01</th>\n      <td>4599.390137</td>\n      <td>4554.709961</td>\n      <td>4594.629883</td>\n      <td>4397120000</td>\n      <td>2023-12-01</td>\n    </tr>\n  </tbody>\n</table>\n<p>11074 rows × 5 columns</p>\n</div>"
     },
     "execution_count": 10,
     "metadata": {},
     "output_type": "execute_result"
    }
   ],
   "source": [
    "extra_features"
   ],
   "metadata": {
    "collapsed": false,
    "ExecuteTime": {
     "end_time": "2023-12-02T18:30:22.305901232Z",
     "start_time": "2023-12-02T18:30:22.263911749Z"
    }
   },
   "id": "7e6c00fea67b14f4"
  },
  {
   "cell_type": "code",
   "execution_count": null,
   "outputs": [
    {
     "name": "stderr",
     "output_type": "stream",
     "text": [
      "Feature Extraction: 100%|██████████| 15/15 [05:01<00:00, 20.12s/it]\n"
     ]
    }
   ],
   "source": [
    "X = extract_features(extra_features, column_id=\"id\")"
   ],
   "metadata": {
    "collapsed": false,
    "is_executing": true,
    "ExecuteTime": {
     "start_time": "2023-12-02T18:30:28.760082890Z"
    }
   },
   "id": "7686a1b78307783d"
  },
  {
   "cell_type": "code",
   "execution_count": 1,
   "outputs": [
    {
     "ename": "NameError",
     "evalue": "name 'extra_features' is not defined",
     "output_type": "error",
     "traceback": [
      "\u001B[0;31m---------------------------------------------------------------------------\u001B[0m",
      "\u001B[0;31mNameError\u001B[0m                                 Traceback (most recent call last)",
      "Cell \u001B[0;32mIn[1], line 1\u001B[0m\n\u001B[0;32m----> 1\u001B[0m \u001B[43mextra_features\u001B[49m\n",
      "\u001B[0;31mNameError\u001B[0m: name 'extra_features' is not defined"
     ]
    }
   ],
   "source": [
    "extra_features"
   ],
   "metadata": {
    "collapsed": false,
    "ExecuteTime": {
     "end_time": "2023-12-02T18:37:30.821781245Z",
     "start_time": "2023-12-02T18:37:30.451715403Z"
    }
   },
   "id": "8b91d33f07f9d5ca"
  },
  {
   "cell_type": "code",
   "execution_count": 3,
   "outputs": [
    {
     "ename": "NameError",
     "evalue": "name 'X' is not defined",
     "output_type": "error",
     "traceback": [
      "\u001B[0;31m---------------------------------------------------------------------------\u001B[0m",
      "\u001B[0;31mNameError\u001B[0m                                 Traceback (most recent call last)",
      "Cell \u001B[0;32mIn[3], line 1\u001B[0m\n\u001B[0;32m----> 1\u001B[0m \u001B[43mX\u001B[49m\n",
      "\u001B[0;31mNameError\u001B[0m: name 'X' is not defined"
     ]
    }
   ],
   "source": [
    "X"
   ],
   "metadata": {
    "collapsed": false,
    "ExecuteTime": {
     "end_time": "2023-12-02T18:37:55.513079539Z",
     "start_time": "2023-12-02T18:37:55.456976387Z"
    }
   },
   "id": "c6c474ccbc9b8d56"
  },
  {
   "cell_type": "code",
   "execution_count": null,
   "outputs": [],
   "source": [
    "stock_data = stock_data.join(X)"
   ],
   "metadata": {
    "collapsed": false
   },
   "id": "1a205edd0dd46216"
  },
  {
   "cell_type": "markdown",
   "source": [],
   "metadata": {
    "collapsed": false
   },
   "id": "93258c6be5a6d429"
  },
  {
   "cell_type": "code",
   "execution_count": 6,
   "outputs": [],
   "source": [
    "sp500_data = pd.read_csv('../../data/sp500_training_data_to_2023-11-15.csv')\n",
    "sp500_data.set_index(\"Date\", drop=True, inplace=True)"
   ],
   "metadata": {
    "collapsed": false,
    "ExecuteTime": {
     "end_time": "2023-12-02T17:53:08.841055775Z",
     "start_time": "2023-12-02T17:53:08.775446582Z"
    }
   },
   "id": "a323f285e5061575"
  },
  {
   "cell_type": "code",
   "execution_count": null,
   "outputs": [],
   "source": [
    "X = sp500_data.drop(['Target'], axis=1)\n",
    "train_x, test_x, train_y, test_y = train_test_split(X, sp500_data['Target'], test_size=0.25, random_state=42)"
   ],
   "metadata": {
    "collapsed": false
   },
   "id": "401993eed704db33"
  },
  {
   "cell_type": "code",
   "execution_count": 7,
   "outputs": [
    {
     "name": "stdout",
     "output_type": "stream",
     "text": [
      "Genauigkeit: 0.8249818445896877\n"
     ]
    }
   ],
   "source": [
    "etc = ExtraTreesClassifier(n_estimators=500, random_state=42)\n",
    "etc.fit(train_x, train_y)\n",
    "y_pred = etc.predict(test_x)\n",
    "accuracy = accuracy_score(test_y, y_pred)\n",
    "print(f\"Genauigkeit: {accuracy}\")"
   ],
   "metadata": {
    "collapsed": false,
    "ExecuteTime": {
     "end_time": "2023-12-02T17:53:13.194638999Z",
     "start_time": "2023-12-02T17:53:08.799174886Z"
    }
   },
   "id": "1745414b5913ca40"
  },
  {
   "cell_type": "markdown",
   "source": [
    "## AutoML"
   ],
   "metadata": {
    "collapsed": false
   },
   "id": "b75896894966edab"
  },
  {
   "cell_type": "code",
   "execution_count": 8,
   "outputs": [],
   "source": [
    "# logging.basicConfig(level=logging.INFO)\n",
    "# automl = autosklearn.classification.AutoSklearnClassifier()\n",
    "# automl.fit(train_x, train_y)\n",
    "# y_hat = automl.predict(test_x)\n",
    "# print(\"Accuracy score\", sklearn.metrics.accuracy_score(test_y, y_hat))"
   ],
   "metadata": {
    "collapsed": false,
    "ExecuteTime": {
     "end_time": "2023-12-02T17:53:13.202604319Z",
     "start_time": "2023-12-02T17:53:13.193377008Z"
    }
   },
   "id": "31e5e119393cec61"
  },
  {
   "cell_type": "code",
   "execution_count": 9,
   "outputs": [],
   "source": [
    "#print(automl.leaderboard())"
   ],
   "metadata": {
    "collapsed": false,
    "ExecuteTime": {
     "end_time": "2023-12-02T17:53:13.246465543Z",
     "start_time": "2023-12-02T17:53:13.208563640Z"
    }
   },
   "id": "d129f5e544db71e4"
  }
 ],
 "metadata": {
  "kernelspec": {
   "display_name": "Python 3",
   "language": "python",
   "name": "python3"
  },
  "language_info": {
   "codemirror_mode": {
    "name": "ipython",
    "version": 2
   },
   "file_extension": ".py",
   "mimetype": "text/x-python",
   "name": "python",
   "nbconvert_exporter": "python",
   "pygments_lexer": "ipython2",
   "version": "2.7.6"
  }
 },
 "nbformat": 4,
 "nbformat_minor": 5
}
