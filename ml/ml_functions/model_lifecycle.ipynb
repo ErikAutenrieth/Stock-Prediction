{
 "cells": [
  {
   "cell_type": "code",
   "execution_count": 1,
   "id": "initial_id",
   "metadata": {
    "collapsed": true,
    "ExecuteTime": {
     "end_time": "2023-12-15T10:21:16.933803913Z",
     "start_time": "2023-12-15T10:21:16.288240238Z"
    }
   },
   "outputs": [],
   "source": [
    "from ml.features.preprocessing import get_data\n",
    "from ml.ml_functions.registry.model_registry import log_sklearn_model_to_mlflow\n",
    "from ml.ml_functions.serve.mlflow_model_serve import mlflow_model_prediction"
   ]
  },
  {
   "cell_type": "markdown",
   "source": [
    "## Load Dataset with new Features"
   ],
   "metadata": {
    "collapsed": false
   },
   "id": "d40797b61158c710"
  },
  {
   "cell_type": "code",
   "execution_count": 2,
   "outputs": [
    {
     "name": "stdout",
     "output_type": "stream",
     "text": [
      "[*********************100%%**********************]  1 of 1 completed\n",
      "[*********************100%%**********************]  1 of 1 completed\n",
      "[*********************100%%**********************]  1 of 1 completed\n",
      "[*********************100%%**********************]  1 of 1 completed\n",
      "[*********************100%%**********************]  1 of 1 completed\n",
      "[*********************100%%**********************]  1 of 1 completed\n",
      "[*********************100%%**********************]  1 of 1 completed\n",
      "[*********************100%%**********************]  1 of 1 completed\n",
      "[*********************100%%**********************]  1 of 1 completed\n",
      "[*********************100%%**********************]  1 of 1 completed\n",
      "[*********************100%%**********************]  1 of 1 completed\n",
      "[*********************100%%**********************]  1 of 1 completed\n",
      "[*********************100%%**********************]  1 of 1 completed\n",
      "[*********************100%%**********************]  1 of 1 completed\n",
      "[*********************100%%**********************]  1 of 1 completed\n",
      "[*********************100%%**********************]  1 of 1 completed\n",
      "[*********************100%%**********************]  1 of 1 completed\n",
      "[*********************100%%**********************]  1 of 1 completed\n",
      "[*********************100%%**********************]  1 of 1 completed\n",
      "[*********************100%%**********************]  1 of 1 completed\n",
      "[*********************100%%**********************]  1 of 1 completed\n",
      "[*********************100%%**********************]  1 of 1 completed\n",
      "[*********************100%%**********************]  1 of 1 completed\n",
      "[*********************100%%**********************]  1 of 1 completed\n",
      "[*********************100%%**********************]  1 of 1 completed\n",
      "[*********************100%%**********************]  1 of 1 completed\n",
      "[*********************100%%**********************]  1 of 1 completed\n",
      "[*********************100%%**********************]  1 of 1 completed\n",
      "[*********************100%%**********************]  1 of 1 completed\n",
      "Complete. Return to the InfluxDB UI.\n",
      "Saved Data to Influx and CSV\n"
     ]
    }
   ],
   "source": [
    "stock_data, last_day_df = get_data(save_data=True)"
   ],
   "metadata": {
    "collapsed": false,
    "ExecuteTime": {
     "end_time": "2023-12-15T10:20:13.555439480Z",
     "start_time": "2023-12-15T10:19:47.949999222Z"
    }
   },
   "id": "d181169487ca65cb"
  },
  {
   "cell_type": "code",
   "execution_count": 9,
   "outputs": [
    {
     "data": {
      "text/plain": "                  Close        Volume       SMA 10       EMA 10       EMA 20  \\\nDate                                                                           \n2023-12-04  4569.779785  4.369910e+09  4558.963965  4547.842847  4495.799442   \n\n                 WMA 10  Momentum 10          SAR        RSI       ROC  ...  \\\nDate                                                                    ...   \n2023-12-04  4564.698127    55.759766  4537.240234  67.561481  1.235257  ...   \n\n             ^IBEX Close  SI=F Close  HG=F Close  NG=F Close  ^TNX Close  \\\nDate                                                                       \n2023-12-04  10178.299805      24.555      3.8205       2.694       4.288   \n\n            ^IRX Close  ^FVX Close  ^TYX Close   SPY Close  EFA Close  \nDate                                                                   \n2023-12-04       5.223       4.238       4.438  456.690002  72.610001  \n\n[1 rows x 52 columns]",
      "text/html": "<div>\n<style scoped>\n    .dataframe tbody tr th:only-of-type {\n        vertical-align: middle;\n    }\n\n    .dataframe tbody tr th {\n        vertical-align: top;\n    }\n\n    .dataframe thead th {\n        text-align: right;\n    }\n</style>\n<table border=\"1\" class=\"dataframe\">\n  <thead>\n    <tr style=\"text-align: right;\">\n      <th></th>\n      <th>Close</th>\n      <th>Volume</th>\n      <th>SMA 10</th>\n      <th>EMA 10</th>\n      <th>EMA 20</th>\n      <th>WMA 10</th>\n      <th>Momentum 10</th>\n      <th>SAR</th>\n      <th>RSI</th>\n      <th>ROC</th>\n      <th>...</th>\n      <th>^IBEX Close</th>\n      <th>SI=F Close</th>\n      <th>HG=F Close</th>\n      <th>NG=F Close</th>\n      <th>^TNX Close</th>\n      <th>^IRX Close</th>\n      <th>^FVX Close</th>\n      <th>^TYX Close</th>\n      <th>SPY Close</th>\n      <th>EFA Close</th>\n    </tr>\n    <tr>\n      <th>Date</th>\n      <th></th>\n      <th></th>\n      <th></th>\n      <th></th>\n      <th></th>\n      <th></th>\n      <th></th>\n      <th></th>\n      <th></th>\n      <th></th>\n      <th></th>\n      <th></th>\n      <th></th>\n      <th></th>\n      <th></th>\n      <th></th>\n      <th></th>\n      <th></th>\n      <th></th>\n      <th></th>\n      <th></th>\n    </tr>\n  </thead>\n  <tbody>\n    <tr>\n      <th>2023-12-04</th>\n      <td>4569.779785</td>\n      <td>4.369910e+09</td>\n      <td>4558.963965</td>\n      <td>4547.842847</td>\n      <td>4495.799442</td>\n      <td>4564.698127</td>\n      <td>55.759766</td>\n      <td>4537.240234</td>\n      <td>67.561481</td>\n      <td>1.235257</td>\n      <td>...</td>\n      <td>10178.299805</td>\n      <td>24.555</td>\n      <td>3.8205</td>\n      <td>2.694</td>\n      <td>4.288</td>\n      <td>5.223</td>\n      <td>4.238</td>\n      <td>4.438</td>\n      <td>456.690002</td>\n      <td>72.610001</td>\n    </tr>\n  </tbody>\n</table>\n<p>1 rows × 52 columns</p>\n</div>"
     },
     "execution_count": 9,
     "metadata": {},
     "output_type": "execute_result"
    }
   ],
   "source": [
    "last_day_df"
   ],
   "metadata": {
    "collapsed": false,
    "ExecuteTime": {
     "end_time": "2023-12-05T10:07:24.807125134Z",
     "start_time": "2023-12-05T10:07:24.759892915Z"
    }
   },
   "id": "74fd9713e407c8c8"
  },
  {
   "cell_type": "markdown",
   "source": [
    "## Train your Sklearn-Model"
   ],
   "metadata": {
    "collapsed": false
   },
   "id": "a171c8b3849759c"
  },
  {
   "cell_type": "code",
   "execution_count": 4,
   "outputs": [
    {
     "name": "stdout",
     "output_type": "stream",
     "text": [
      "Modellname: ExtraTreesClassifier\n",
      "Genauigkeit: 0.9048027444253859\n"
     ]
    }
   ],
   "source": [
    "from ml.ml_functions.training.train_extra_tree import train_extra_tree\n",
    "\n",
    "model, accuracy = train_extra_tree(stock_data)"
   ],
   "metadata": {
    "collapsed": false,
    "ExecuteTime": {
     "end_time": "2023-12-05T10:00:15.298173513Z",
     "start_time": "2023-12-05T10:00:06.595200758Z"
    }
   },
   "id": "6c3fcfe3b87dbeff"
  },
  {
   "cell_type": "markdown",
   "source": [
    "## Model Registry "
   ],
   "metadata": {
    "collapsed": false
   },
   "id": "6755580fd945d6d7"
  },
  {
   "cell_type": "markdown",
   "source": [
    "### mlflow server --host 0.0.0.0 --port 5000\n"
   ],
   "metadata": {
    "collapsed": false
   },
   "id": "6e615ea9014cb706"
  },
  {
   "cell_type": "code",
   "execution_count": 11,
   "outputs": [
    {
     "name": "stderr",
     "output_type": "stream",
     "text": [
      "2023/12/05 10:56:46 INFO mlflow.store.model_registry.abstract_store: Waiting up to 300 seconds for model version to finish creation. Model name: best_ExtraTreesClassifier_model, version 1\n"
     ]
    }
   ],
   "source": [
    "actual_model_path = log_sklearn_model_to_mlflow(model=model, accuracy=accuracy)"
   ],
   "metadata": {
    "collapsed": false,
    "ExecuteTime": {
     "end_time": "2023-12-05T09:56:46.651049190Z",
     "start_time": "2023-12-05T09:56:41.248403683Z"
    }
   },
   "id": "d2dcd2ca15f238ba"
  },
  {
   "cell_type": "markdown",
   "source": [
    "## Save current feature data for prediction"
   ],
   "metadata": {
    "collapsed": false
   },
   "id": "d87e2add9696dc56"
  },
  {
   "cell_type": "code",
   "execution_count": 3,
   "outputs": [
    {
     "ename": "NameError",
     "evalue": "name 'model' is not defined",
     "output_type": "error",
     "traceback": [
      "\u001B[0;31m---------------------------------------------------------------------------\u001B[0m",
      "\u001B[0;31mNameError\u001B[0m                                 Traceback (most recent call last)",
      "Cell \u001B[0;32mIn[3], line 1\u001B[0m\n\u001B[0;32m----> 1\u001B[0m stock_data, last_day_df \u001B[38;5;241m=\u001B[39m get_data(save_data\u001B[38;5;241m=\u001B[39m\u001B[38;5;28;01mFalse\u001B[39;00m, new_model\u001B[38;5;241m=\u001B[39m(\u001B[43mmodel\u001B[49m\u001B[38;5;241m.\u001B[39m\u001B[38;5;18m__class__\u001B[39m\u001B[38;5;241m.\u001B[39m\u001B[38;5;18m__name__\u001B[39m, accuracy))\n",
      "\u001B[0;31mNameError\u001B[0m: name 'model' is not defined"
     ]
    }
   ],
   "source": [
    "stock_data, last_day_df = get_data(save_data=True, new_model=(model.__class__.__name__, accuracy))"
   ],
   "metadata": {
    "collapsed": false,
    "ExecuteTime": {
     "end_time": "2023-12-05T10:04:59.607941953Z",
     "start_time": "2023-12-05T10:04:59.514760597Z"
    }
   },
   "id": "335502446c589d43"
  },
  {
   "cell_type": "markdown",
   "source": [
    "### Predict the new Data with Mlflow-Model"
   ],
   "metadata": {
    "collapsed": false
   },
   "id": "b4a846589493b4b"
  },
  {
   "cell_type": "code",
   "execution_count": 2,
   "outputs": [
    {
     "name": "stdout",
     "output_type": "stream",
     "text": [
      "/home/erik/DataspellProjects/stock-prediction/ml/ml_functions\n"
     ]
    },
    {
     "name": "stderr",
     "output_type": "stream",
     "text": [
      "/home/erik/anaconda3/envs/Stock-Prediction/lib/python3.8/site-packages/sklearn/base.py:458: UserWarning: X has feature names, but ExtraTreesClassifier was fitted without feature names\n",
      "  warnings.warn(\n"
     ]
    },
    {
     "name": "stdout",
     "output_type": "stream",
     "text": [
      "Complete. Return to the InfluxDB UI.\n",
      "Vorhersage wurde erstellt\n"
     ]
    }
   ],
   "source": [
    "#result = mlflow_model_prediction(model=actual_model_path)\n",
    "result = mlflow_model_prediction()"
   ],
   "metadata": {
    "collapsed": false,
    "ExecuteTime": {
     "end_time": "2023-12-15T10:21:25.050504037Z",
     "start_time": "2023-12-15T10:21:20.426535142Z"
    }
   },
   "id": "238bb0af6b6adb1e"
  },
  {
   "cell_type": "code",
   "execution_count": null,
   "outputs": [],
   "source": [],
   "metadata": {
    "collapsed": false
   },
   "id": "d8cf06ab185694da"
  }
 ],
 "metadata": {
  "kernelspec": {
   "display_name": "Python 3",
   "language": "python",
   "name": "python3"
  },
  "language_info": {
   "codemirror_mode": {
    "name": "ipython",
    "version": 2
   },
   "file_extension": ".py",
   "mimetype": "text/x-python",
   "name": "python",
   "nbconvert_exporter": "python",
   "pygments_lexer": "ipython2",
   "version": "2.7.6"
  }
 },
 "nbformat": 4,
 "nbformat_minor": 5
}
