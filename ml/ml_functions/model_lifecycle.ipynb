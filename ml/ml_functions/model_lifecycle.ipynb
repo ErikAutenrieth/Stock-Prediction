{
 "cells": [
  {
   "cell_type": "code",
   "execution_count": 1,
   "id": "initial_id",
   "metadata": {
    "collapsed": true,
    "ExecuteTime": {
     "end_time": "2023-12-28T09:49:09.777375447Z",
     "start_time": "2023-12-28T09:49:09.115035629Z"
    }
   },
   "outputs": [],
   "source": [
    "from ml.features.preprocessing import get_data\n",
    "from ml.ml_functions.registry.model_registry import log_sklearn_model_to_mlflow\n",
    "from ml.ml_functions.serve.mlflow_model_serve import mlflow_model_prediction"
   ]
  },
  {
   "cell_type": "code",
   "execution_count": 2,
   "outputs": [
    {
     "data": {
      "text/plain": "'/home/erik/DataspellProjects/stock-prediction/ml/ml_functions/metadata/acutal_model.txt'"
     },
     "execution_count": 2,
     "metadata": {},
     "output_type": "execute_result"
    }
   ],
   "source": [
    "import os\n",
    "os.path.join(os.path.abspath(\"metadata\"), \"acutal_model.txt\")"
   ],
   "metadata": {
    "collapsed": false,
    "ExecuteTime": {
     "end_time": "2023-12-28T09:49:09.790144772Z",
     "start_time": "2023-12-28T09:49:09.784042379Z"
    }
   },
   "id": "ac605747c29ef064"
  },
  {
   "cell_type": "code",
   "execution_count": 3,
   "outputs": [
    {
     "name": "stdout",
     "output_type": "stream",
     "text": [
      "Model path file not found.\n"
     ]
    },
    {
     "data": {
      "text/plain": "'runs:/4df9743095004dd1ad96955ee05b9a34/model'"
     },
     "execution_count": 3,
     "metadata": {},
     "output_type": "execute_result"
    }
   ],
   "source": [
    "from ml.ml_functions.registry.model_registry import save_model_path,load_model_path\n",
    "#save_model_path(actual_model_path)\n",
    "load_model_path()"
   ],
   "metadata": {
    "collapsed": false,
    "ExecuteTime": {
     "end_time": "2023-12-28T09:49:10.272027824Z",
     "start_time": "2023-12-28T09:49:10.208879501Z"
    }
   },
   "id": "cc2bb52ca8774fd1"
  },
  {
   "cell_type": "markdown",
   "source": [
    "## Load Dataset with new Features"
   ],
   "metadata": {
    "collapsed": false
   },
   "id": "d40797b61158c710"
  },
  {
   "cell_type": "code",
   "execution_count": 4,
   "outputs": [
    {
     "name": "stdout",
     "output_type": "stream",
     "text": [
      "[*********************100%%**********************]  1 of 1 completed\n",
      "[*********************100%%**********************]  1 of 1 completed\n",
      "[*********************100%%**********************]  1 of 1 completed\n",
      "[*********************100%%**********************]  1 of 1 completed\n",
      "[*********************100%%**********************]  1 of 1 completed\n",
      "[*********************100%%**********************]  1 of 1 completed\n",
      "[*********************100%%**********************]  1 of 1 completed\n",
      "[*********************100%%**********************]  1 of 1 completed\n",
      "[*********************100%%**********************]  1 of 1 completed\n",
      "[*********************100%%**********************]  1 of 1 completed\n",
      "[*********************100%%**********************]  1 of 1 completed\n",
      "[*********************100%%**********************]  1 of 1 completed\n",
      "[*********************100%%**********************]  1 of 1 completed\n",
      "[*********************100%%**********************]  1 of 1 completed\n",
      "[*********************100%%**********************]  1 of 1 completed\n",
      "[*********************100%%**********************]  1 of 1 completed\n",
      "[*********************100%%**********************]  1 of 1 completed\n",
      "[*********************100%%**********************]  1 of 1 completed\n",
      "[*********************100%%**********************]  1 of 1 completed\n",
      "[*********************100%%**********************]  1 of 1 completed\n",
      "[*********************100%%**********************]  1 of 1 completed\n",
      "[*********************100%%**********************]  1 of 1 completed\n",
      "[*********************100%%**********************]  1 of 1 completed\n",
      "[*********************100%%**********************]  1 of 1 completed\n",
      "[*********************100%%**********************]  1 of 1 completed\n",
      "[*********************100%%**********************]  1 of 1 completed\n",
      "[*********************100%%**********************]  1 of 1 completed\n",
      "[*********************100%%**********************]  1 of 1 completed\n",
      "[*********************100%%**********************]  1 of 1 completed\n"
     ]
    }
   ],
   "source": [
    "stock_data, last_day_df = get_data(save_data=False, new_model=None)"
   ],
   "metadata": {
    "collapsed": false,
    "ExecuteTime": {
     "end_time": "2023-12-28T09:49:17.486955428Z",
     "start_time": "2023-12-28T09:49:11.338533685Z"
    }
   },
   "id": "d181169487ca65cb"
  },
  {
   "cell_type": "code",
   "outputs": [
    {
     "data": {
      "text/plain": "                  Close        Volume  Target       SMA 10       EMA 10  \\\nDate                                                                      \n2000-09-18  1444.510010  9.625000e+08       0  1484.369006  1479.491052   \n2000-09-19  1459.900024  1.024900e+09       0  1479.651013  1475.929047   \n2000-09-20  1451.339966  1.104000e+09       0  1475.560010  1471.458305   \n2000-09-21  1449.050049  1.105400e+09       0  1470.214014  1467.384077   \n2000-09-22  1448.719971  1.185500e+09       0  1465.636011  1463.990603   \n...                 ...           ...     ...          ...          ...   \n2023-12-06  4549.339844  4.245680e+09       0  4562.058984  4550.991655   \n2023-12-07  4585.589844  3.818880e+09       0  4564.955957  4557.282235   \n2023-12-08  4604.370117  3.707010e+09       0  4569.458984  4565.843668   \n2023-12-11  4622.439941  3.823210e+09       0  4576.659961  4576.133900   \n2023-12-12  4643.700195  3.808380e+09       0  4585.540967  4588.418681   \n\n                 EMA 20       WMA 10  Momentum 10          SAR        RSI  \\\nDate                                                                        \n2000-09-18  1484.344255  1476.255833   -76.260010  1505.653274  35.962151   \n2000-09-19  1482.016233  1471.806927   -47.179932  1496.730622  43.209946   \n2000-09-20  1479.094683  1466.659464   -40.910034  1489.057141  40.466555   \n2000-09-21  1476.233290  1461.839471   -53.459961  1479.759991  39.739686   \n2000-09-22  1473.612974  1457.931463   -45.780029  1471.950384  39.629187   \n...                 ...          ...          ...          ...        ...   \n2023-12-06  4507.049249  4564.082138    11.149902  4599.390137  62.812044   \n2023-12-07  4514.529306  4568.360476    28.969727  4598.332334  67.249529   \n2023-12-08  4523.085573  4575.526687    45.030273  4546.500000  69.293804   \n2023-12-11  4532.547894  4585.159588    72.009766  4547.754600  71.159178   \n2023-12-12  4543.133828  4597.348722    88.810059  4550.792814  73.220482   \n\n            ...   ^IBEX Close  SI=F Close  HG=F Close  NG=F Close  ^TNX Close  \\\nDate        ...                                                                 \n2000-09-18  ...  11188.099609    4.876000      0.9185       5.295       5.871   \n2000-09-19  ...  11065.500000    4.883000      0.9215       5.370       5.850   \n2000-09-20  ...  10901.299805    4.830000      0.9015       5.320       5.892   \n2000-09-21  ...  10803.400391    4.872000      0.9255       5.287       5.871   \n2000-09-22  ...  11029.400391    4.910000      0.9195       5.131       5.829   \n...         ...           ...         ...         ...         ...         ...   \n2023-12-06  ...  10258.099609   23.889000      3.7165       2.569       4.121   \n2023-12-07  ...  10146.000000   23.732000      3.7845       2.585       4.129   \n2023-12-08  ...  10223.400391   22.971001      3.8200       2.581       4.245   \n2023-12-11  ...  10198.000000   22.773001      3.7800       2.431       4.239   \n2023-12-12  ...  10118.700195   22.728001      3.7860       2.311       4.206   \n\n            ^IRX Close  ^FVX Close  ^TYX Close   SPY Close  EFA Close  \nDate                                                                   \n2000-09-18       5.950       5.900       5.956  144.656250  42.833332  \n2000-09-19       5.970       5.907       5.914  145.968750  42.833332  \n2000-09-20       5.970       5.953       5.962  144.890625  42.833332  \n2000-09-21       5.960       5.945       5.927  142.687500  42.833332  \n2000-09-22       5.970       5.905       5.904  145.281250  42.833332  \n...                ...         ...         ...         ...        ...  \n2023-12-06       5.243       4.121       4.224  454.760010  72.570000  \n2023-12-07       5.233       4.110       4.246  458.230011  72.919998  \n2023-12-08       5.233       4.255       4.325  460.200012  73.139999  \n2023-12-11       5.233       4.251       4.330  461.989990  73.320000  \n2023-12-12       5.248       4.227       4.304  464.100006  73.449997  \n\n[5846 rows x 53 columns]",
      "text/html": "<div>\n<style scoped>\n    .dataframe tbody tr th:only-of-type {\n        vertical-align: middle;\n    }\n\n    .dataframe tbody tr th {\n        vertical-align: top;\n    }\n\n    .dataframe thead th {\n        text-align: right;\n    }\n</style>\n<table border=\"1\" class=\"dataframe\">\n  <thead>\n    <tr style=\"text-align: right;\">\n      <th></th>\n      <th>Close</th>\n      <th>Volume</th>\n      <th>Target</th>\n      <th>SMA 10</th>\n      <th>EMA 10</th>\n      <th>EMA 20</th>\n      <th>WMA 10</th>\n      <th>Momentum 10</th>\n      <th>SAR</th>\n      <th>RSI</th>\n      <th>...</th>\n      <th>^IBEX Close</th>\n      <th>SI=F Close</th>\n      <th>HG=F Close</th>\n      <th>NG=F Close</th>\n      <th>^TNX Close</th>\n      <th>^IRX Close</th>\n      <th>^FVX Close</th>\n      <th>^TYX Close</th>\n      <th>SPY Close</th>\n      <th>EFA Close</th>\n    </tr>\n    <tr>\n      <th>Date</th>\n      <th></th>\n      <th></th>\n      <th></th>\n      <th></th>\n      <th></th>\n      <th></th>\n      <th></th>\n      <th></th>\n      <th></th>\n      <th></th>\n      <th></th>\n      <th></th>\n      <th></th>\n      <th></th>\n      <th></th>\n      <th></th>\n      <th></th>\n      <th></th>\n      <th></th>\n      <th></th>\n      <th></th>\n    </tr>\n  </thead>\n  <tbody>\n    <tr>\n      <th>2000-09-18</th>\n      <td>1444.510010</td>\n      <td>9.625000e+08</td>\n      <td>0</td>\n      <td>1484.369006</td>\n      <td>1479.491052</td>\n      <td>1484.344255</td>\n      <td>1476.255833</td>\n      <td>-76.260010</td>\n      <td>1505.653274</td>\n      <td>35.962151</td>\n      <td>...</td>\n      <td>11188.099609</td>\n      <td>4.876000</td>\n      <td>0.9185</td>\n      <td>5.295</td>\n      <td>5.871</td>\n      <td>5.950</td>\n      <td>5.900</td>\n      <td>5.956</td>\n      <td>144.656250</td>\n      <td>42.833332</td>\n    </tr>\n    <tr>\n      <th>2000-09-19</th>\n      <td>1459.900024</td>\n      <td>1.024900e+09</td>\n      <td>0</td>\n      <td>1479.651013</td>\n      <td>1475.929047</td>\n      <td>1482.016233</td>\n      <td>1471.806927</td>\n      <td>-47.179932</td>\n      <td>1496.730622</td>\n      <td>43.209946</td>\n      <td>...</td>\n      <td>11065.500000</td>\n      <td>4.883000</td>\n      <td>0.9215</td>\n      <td>5.370</td>\n      <td>5.850</td>\n      <td>5.970</td>\n      <td>5.907</td>\n      <td>5.914</td>\n      <td>145.968750</td>\n      <td>42.833332</td>\n    </tr>\n    <tr>\n      <th>2000-09-20</th>\n      <td>1451.339966</td>\n      <td>1.104000e+09</td>\n      <td>0</td>\n      <td>1475.560010</td>\n      <td>1471.458305</td>\n      <td>1479.094683</td>\n      <td>1466.659464</td>\n      <td>-40.910034</td>\n      <td>1489.057141</td>\n      <td>40.466555</td>\n      <td>...</td>\n      <td>10901.299805</td>\n      <td>4.830000</td>\n      <td>0.9015</td>\n      <td>5.320</td>\n      <td>5.892</td>\n      <td>5.970</td>\n      <td>5.953</td>\n      <td>5.962</td>\n      <td>144.890625</td>\n      <td>42.833332</td>\n    </tr>\n    <tr>\n      <th>2000-09-21</th>\n      <td>1449.050049</td>\n      <td>1.105400e+09</td>\n      <td>0</td>\n      <td>1470.214014</td>\n      <td>1467.384077</td>\n      <td>1476.233290</td>\n      <td>1461.839471</td>\n      <td>-53.459961</td>\n      <td>1479.759991</td>\n      <td>39.739686</td>\n      <td>...</td>\n      <td>10803.400391</td>\n      <td>4.872000</td>\n      <td>0.9255</td>\n      <td>5.287</td>\n      <td>5.871</td>\n      <td>5.960</td>\n      <td>5.945</td>\n      <td>5.927</td>\n      <td>142.687500</td>\n      <td>42.833332</td>\n    </tr>\n    <tr>\n      <th>2000-09-22</th>\n      <td>1448.719971</td>\n      <td>1.185500e+09</td>\n      <td>0</td>\n      <td>1465.636011</td>\n      <td>1463.990603</td>\n      <td>1473.612974</td>\n      <td>1457.931463</td>\n      <td>-45.780029</td>\n      <td>1471.950384</td>\n      <td>39.629187</td>\n      <td>...</td>\n      <td>11029.400391</td>\n      <td>4.910000</td>\n      <td>0.9195</td>\n      <td>5.131</td>\n      <td>5.829</td>\n      <td>5.970</td>\n      <td>5.905</td>\n      <td>5.904</td>\n      <td>145.281250</td>\n      <td>42.833332</td>\n    </tr>\n    <tr>\n      <th>...</th>\n      <td>...</td>\n      <td>...</td>\n      <td>...</td>\n      <td>...</td>\n      <td>...</td>\n      <td>...</td>\n      <td>...</td>\n      <td>...</td>\n      <td>...</td>\n      <td>...</td>\n      <td>...</td>\n      <td>...</td>\n      <td>...</td>\n      <td>...</td>\n      <td>...</td>\n      <td>...</td>\n      <td>...</td>\n      <td>...</td>\n      <td>...</td>\n      <td>...</td>\n      <td>...</td>\n    </tr>\n    <tr>\n      <th>2023-12-06</th>\n      <td>4549.339844</td>\n      <td>4.245680e+09</td>\n      <td>0</td>\n      <td>4562.058984</td>\n      <td>4550.991655</td>\n      <td>4507.049249</td>\n      <td>4564.082138</td>\n      <td>11.149902</td>\n      <td>4599.390137</td>\n      <td>62.812044</td>\n      <td>...</td>\n      <td>10258.099609</td>\n      <td>23.889000</td>\n      <td>3.7165</td>\n      <td>2.569</td>\n      <td>4.121</td>\n      <td>5.243</td>\n      <td>4.121</td>\n      <td>4.224</td>\n      <td>454.760010</td>\n      <td>72.570000</td>\n    </tr>\n    <tr>\n      <th>2023-12-07</th>\n      <td>4585.589844</td>\n      <td>3.818880e+09</td>\n      <td>0</td>\n      <td>4564.955957</td>\n      <td>4557.282235</td>\n      <td>4514.529306</td>\n      <td>4568.360476</td>\n      <td>28.969727</td>\n      <td>4598.332334</td>\n      <td>67.249529</td>\n      <td>...</td>\n      <td>10146.000000</td>\n      <td>23.732000</td>\n      <td>3.7845</td>\n      <td>2.585</td>\n      <td>4.129</td>\n      <td>5.233</td>\n      <td>4.110</td>\n      <td>4.246</td>\n      <td>458.230011</td>\n      <td>72.919998</td>\n    </tr>\n    <tr>\n      <th>2023-12-08</th>\n      <td>4604.370117</td>\n      <td>3.707010e+09</td>\n      <td>0</td>\n      <td>4569.458984</td>\n      <td>4565.843668</td>\n      <td>4523.085573</td>\n      <td>4575.526687</td>\n      <td>45.030273</td>\n      <td>4546.500000</td>\n      <td>69.293804</td>\n      <td>...</td>\n      <td>10223.400391</td>\n      <td>22.971001</td>\n      <td>3.8200</td>\n      <td>2.581</td>\n      <td>4.245</td>\n      <td>5.233</td>\n      <td>4.255</td>\n      <td>4.325</td>\n      <td>460.200012</td>\n      <td>73.139999</td>\n    </tr>\n    <tr>\n      <th>2023-12-11</th>\n      <td>4622.439941</td>\n      <td>3.823210e+09</td>\n      <td>0</td>\n      <td>4576.659961</td>\n      <td>4576.133900</td>\n      <td>4532.547894</td>\n      <td>4585.159588</td>\n      <td>72.009766</td>\n      <td>4547.754600</td>\n      <td>71.159178</td>\n      <td>...</td>\n      <td>10198.000000</td>\n      <td>22.773001</td>\n      <td>3.7800</td>\n      <td>2.431</td>\n      <td>4.239</td>\n      <td>5.233</td>\n      <td>4.251</td>\n      <td>4.330</td>\n      <td>461.989990</td>\n      <td>73.320000</td>\n    </tr>\n    <tr>\n      <th>2023-12-12</th>\n      <td>4643.700195</td>\n      <td>3.808380e+09</td>\n      <td>0</td>\n      <td>4585.540967</td>\n      <td>4588.418681</td>\n      <td>4543.133828</td>\n      <td>4597.348722</td>\n      <td>88.810059</td>\n      <td>4550.792814</td>\n      <td>73.220482</td>\n      <td>...</td>\n      <td>10118.700195</td>\n      <td>22.728001</td>\n      <td>3.7860</td>\n      <td>2.311</td>\n      <td>4.206</td>\n      <td>5.248</td>\n      <td>4.227</td>\n      <td>4.304</td>\n      <td>464.100006</td>\n      <td>73.449997</td>\n    </tr>\n  </tbody>\n</table>\n<p>5846 rows × 53 columns</p>\n</div>"
     },
     "execution_count": 6,
     "metadata": {},
     "output_type": "execute_result"
    }
   ],
   "source": [
    "stock_data"
   ],
   "metadata": {
    "collapsed": false,
    "ExecuteTime": {
     "end_time": "2023-12-28T12:08:07.133343831Z",
     "start_time": "2023-12-28T12:08:06.101352909Z"
    }
   },
   "id": "89b6232325f182cb",
   "execution_count": 6
  },
  {
   "cell_type": "markdown",
   "source": [
    "## Train your Sklearn-Model"
   ],
   "metadata": {
    "collapsed": false
   },
   "id": "a171c8b3849759c"
  },
  {
   "cell_type": "code",
   "execution_count": 5,
   "outputs": [
    {
     "name": "stdout",
     "output_type": "stream",
     "text": [
      "Modellname: ExtraTreesClassifier\n",
      "Genauigkeit: 0.9205128205128205\n"
     ]
    },
    {
     "data": {
      "text/plain": "<Figure size 1000x800 with 2 Axes>",
      "image/png": "[encoded data removed]"
     },
     "metadata": {},
     "output_type": "display_data"
    },
    {
     "data": {
      "text/plain": "<Figure size 640x480 with 0 Axes>"
     },
     "metadata": {},
     "output_type": "display_data"
    }
   ],
   "source": [
    "from ml.ml_functions.training.train_extra_tree import train_extra_tree\n",
    "\n",
    "model, accuracy = train_extra_tree(stock_data)"
   ],
   "metadata": {
    "collapsed": false,
    "ExecuteTime": {
     "end_time": "2023-12-28T09:49:26.825508196Z",
     "start_time": "2023-12-28T09:49:17.491396346Z"
    }
   },
   "id": "6c3fcfe3b87dbeff"
  },
  {
   "cell_type": "markdown",
   "source": [
    "## Model Registry "
   ],
   "metadata": {
    "collapsed": false
   },
   "id": "6755580fd945d6d7"
  },
  {
   "cell_type": "markdown",
   "source": [
    " ml/models mlflow server --host 0.0.0.0 --port 5000\n",
    "\n",
    "### mlflow server --host 0.0.0.0 --port 5000\n"
   ],
   "metadata": {
    "collapsed": false
   },
   "id": "6e615ea9014cb706"
  },
  {
   "cell_type": "code",
   "execution_count": 5,
   "outputs": [
    {
     "name": "stderr",
     "output_type": "stream",
     "text": [
      "2023/12/16 11:29:42 INFO mlflow.tracking.fluent: Experiment with name 'sp500_prediction' does not exist. Creating a new experiment.\n",
      "2023/12/16 11:29:52 INFO mlflow.store.model_registry.abstract_store: Waiting up to 300 seconds for model version to finish creation. Model name: best_ExtraTreesClassifier_model, version 1\n"
     ]
    },
    {
     "name": "stdout",
     "output_type": "stream",
     "text": [
      "First model registered as best model!\n",
      "Model path saved!\n"
     ]
    }
   ],
   "source": [
    "actual_model_path = log_sklearn_model_to_mlflow(model=model, accuracy=accuracy)"
   ],
   "metadata": {
    "collapsed": false,
    "ExecuteTime": {
     "end_time": "2023-12-16T10:29:52.125717144Z",
     "start_time": "2023-12-16T10:29:42.872386543Z"
    }
   },
   "id": "d2dcd2ca15f238ba"
  },
  {
   "cell_type": "markdown",
   "source": [
    "## Test if model is working"
   ],
   "metadata": {
    "collapsed": false
   },
   "id": "1dcd20f1322178af"
  },
  {
   "cell_type": "code",
   "execution_count": 8,
   "outputs": [],
   "source": [
    "last_day_df = last_day_df.drop(columns=last_day_df.columns[-3:])"
   ],
   "metadata": {
    "collapsed": false,
    "ExecuteTime": {
     "end_time": "2023-12-16T10:21:46.876423861Z",
     "start_time": "2023-12-16T10:21:46.818847270Z"
    }
   },
   "id": "3bb46ae0b5e09f05"
  },
  {
   "cell_type": "code",
   "execution_count": 10,
   "outputs": [
    {
     "data": {
      "text/plain": "array([0])"
     },
     "execution_count": 10,
     "metadata": {},
     "output_type": "execute_result"
    }
   ],
   "source": [
    "model.predict(last_day_df)"
   ],
   "metadata": {
    "collapsed": false,
    "ExecuteTime": {
     "end_time": "2023-12-16T10:21:55.209308543Z",
     "start_time": "2023-12-16T10:21:55.113932561Z"
    }
   },
   "id": "246a57c2541d1934"
  },
  {
   "cell_type": "code",
   "execution_count": 12,
   "outputs": [
    {
     "data": {
      "text/plain": "'runs:/5a62984791c945a1bae69cd36a1a23fb/model'"
     },
     "execution_count": 12,
     "metadata": {},
     "output_type": "execute_result"
    }
   ],
   "source": [
    "from ml.ml_functions.registry.model_registry import save_model_path,load_model_path\n",
    "#save_model_path(actual_model_path)\n",
    "load_model_path()"
   ],
   "metadata": {
    "collapsed": false,
    "ExecuteTime": {
     "end_time": "2023-12-16T10:22:23.156248527Z",
     "start_time": "2023-12-16T10:22:23.115206601Z"
    }
   },
   "id": "8c936db1b96db735"
  },
  {
   "cell_type": "markdown",
   "source": [
    "## Save current feature data for prediction"
   ],
   "metadata": {
    "collapsed": false
   },
   "id": "d87e2add9696dc56"
  },
  {
   "cell_type": "code",
   "execution_count": 3,
   "outputs": [
    {
     "ename": "NameError",
     "evalue": "name 'model' is not defined",
     "output_type": "error",
     "traceback": [
      "\u001B[0;31m---------------------------------------------------------------------------\u001B[0m",
      "\u001B[0;31mNameError\u001B[0m                                 Traceback (most recent call last)",
      "Cell \u001B[0;32mIn[3], line 1\u001B[0m\n\u001B[0;32m----> 1\u001B[0m stock_data, last_day_df \u001B[38;5;241m=\u001B[39m get_data(save_data\u001B[38;5;241m=\u001B[39m\u001B[38;5;28;01mFalse\u001B[39;00m, new_model\u001B[38;5;241m=\u001B[39m(\u001B[43mmodel\u001B[49m\u001B[38;5;241m.\u001B[39m\u001B[38;5;18m__class__\u001B[39m\u001B[38;5;241m.\u001B[39m\u001B[38;5;18m__name__\u001B[39m, accuracy))\n",
      "\u001B[0;31mNameError\u001B[0m: name 'model' is not defined"
     ]
    }
   ],
   "source": [
    "stock_data, last_day_df = get_data(save_data=True, new_model=(model.__class__.__name__, accuracy))"
   ],
   "metadata": {
    "collapsed": false,
    "ExecuteTime": {
     "end_time": "2023-12-05T10:04:59.607941953Z",
     "start_time": "2023-12-05T10:04:59.514760597Z"
    }
   },
   "id": "335502446c589d43"
  },
  {
   "cell_type": "markdown",
   "source": [
    "### Predict the new Data with Mlflow-Model"
   ],
   "metadata": {
    "collapsed": false
   },
   "id": "b4a846589493b4b"
  },
  {
   "cell_type": "code",
   "execution_count": 2,
   "outputs": [
    {
     "name": "stdout",
     "output_type": "stream",
     "text": [
      "/home/erik/DataspellProjects/stock-prediction/ml/ml_functions\n"
     ]
    },
    {
     "name": "stderr",
     "output_type": "stream",
     "text": [
      "/home/erik/anaconda3/envs/Stock-Prediction/lib/python3.8/site-packages/sklearn/base.py:458: UserWarning: X has feature names, but ExtraTreesClassifier was fitted without feature names\n",
      "  warnings.warn(\n"
     ]
    },
    {
     "name": "stdout",
     "output_type": "stream",
     "text": [
      "Complete. Return to the InfluxDB UI.\n",
      "Vorhersage wurde erstellt\n"
     ]
    }
   ],
   "source": [
    "#result = mlflow_model_prediction(model=actual_model_path)\n",
    "result = mlflow_model_prediction()"
   ],
   "metadata": {
    "collapsed": false,
    "ExecuteTime": {
     "end_time": "2023-12-15T10:21:25.050504037Z",
     "start_time": "2023-12-15T10:21:20.426535142Z"
    }
   },
   "id": "238bb0af6b6adb1e"
  },
  {
   "cell_type": "code",
   "execution_count": null,
   "outputs": [],
   "source": [],
   "metadata": {
    "collapsed": false
   },
   "id": "d8cf06ab185694da"
  }
 ],
 "metadata": {
  "kernelspec": {
   "display_name": "Python 3",
   "language": "python",
   "name": "python3"
  },
  "language_info": {
   "codemirror_mode": {
    "name": "ipython",
    "version": 2
   },
   "file_extension": ".py",
   "mimetype": "text/x-python",
   "name": "python",
   "nbconvert_exporter": "python",
   "pygments_lexer": "ipython2",
   "version": "2.7.6"
  }
 },
 "nbformat": 4,
 "nbformat_minor": 5
}
