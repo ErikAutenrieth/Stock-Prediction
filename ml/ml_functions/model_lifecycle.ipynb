{
 "cells": [
  {
   "cell_type": "code",
   "execution_count": 1,
   "id": "initial_id",
   "metadata": {
    "collapsed": true,
    "ExecuteTime": {
     "end_time": "2023-12-27T18:01:26.991596361Z",
     "start_time": "2023-12-27T18:01:26.285470939Z"
    }
   },
   "outputs": [],
   "source": [
    "from ml.features.preprocessing import get_data\n",
    "from ml.ml_functions.registry.model_registry import log_sklearn_model_to_mlflow\n",
    "from ml.ml_functions.serve.mlflow_model_serve import mlflow_model_prediction"
   ]
  },
  {
   "cell_type": "code",
   "execution_count": 2,
   "outputs": [
    {
     "data": {
      "text/plain": "'/home/erik/DataspellProjects/stock-prediction/ml/ml_functions/metadata/acutal_model.txt'"
     },
     "execution_count": 2,
     "metadata": {},
     "output_type": "execute_result"
    }
   ],
   "source": [
    "import os\n",
    "os.path.join(os.path.abspath(\"metadata\"), \"acutal_model.txt\")"
   ],
   "metadata": {
    "collapsed": false,
    "ExecuteTime": {
     "end_time": "2023-12-27T18:01:30.944019867Z",
     "start_time": "2023-12-27T18:01:30.894764722Z"
    }
   },
   "id": "ac605747c29ef064"
  },
  {
   "cell_type": "code",
   "execution_count": 3,
   "outputs": [
    {
     "name": "stdout",
     "output_type": "stream",
     "text": [
      "Model path file not found.\n"
     ]
    },
    {
     "data": {
      "text/plain": "'runs:/4df9743095004dd1ad96955ee05b9a34/model'"
     },
     "execution_count": 3,
     "metadata": {},
     "output_type": "execute_result"
    }
   ],
   "source": [
    "from ml.ml_functions.registry.model_registry import save_model_path,load_model_path\n",
    "#save_model_path(actual_model_path)\n",
    "load_model_path()"
   ],
   "metadata": {
    "collapsed": false,
    "ExecuteTime": {
     "end_time": "2023-12-27T18:01:31.961144246Z",
     "start_time": "2023-12-27T18:01:31.909800228Z"
    }
   },
   "id": "cc2bb52ca8774fd1"
  },
  {
   "cell_type": "markdown",
   "source": [
    "## Load Dataset with new Features"
   ],
   "metadata": {
    "collapsed": false
   },
   "id": "d40797b61158c710"
  },
  {
   "cell_type": "code",
   "execution_count": 4,
   "outputs": [
    {
     "name": "stdout",
     "output_type": "stream",
     "text": [
      "[*********************100%%**********************]  1 of 1 completed\n",
      "[*********************100%%**********************]  1 of 1 completed\n",
      "[*********************100%%**********************]  1 of 1 completed\n",
      "[*********************100%%**********************]  1 of 1 completed\n",
      "[*********************100%%**********************]  1 of 1 completed\n",
      "[*********************100%%**********************]  1 of 1 completed\n",
      "[*********************100%%**********************]  1 of 1 completed\n",
      "[*********************100%%**********************]  1 of 1 completed\n",
      "[*********************100%%**********************]  1 of 1 completed\n",
      "[*********************100%%**********************]  1 of 1 completed\n",
      "[*********************100%%**********************]  1 of 1 completed\n",
      "[*********************100%%**********************]  1 of 1 completed\n",
      "[*********************100%%**********************]  1 of 1 completed\n",
      "[*********************100%%**********************]  1 of 1 completed\n",
      "[*********************100%%**********************]  1 of 1 completed\n",
      "[*********************100%%**********************]  1 of 1 completed\n",
      "[*********************100%%**********************]  1 of 1 completed\n",
      "[*********************100%%**********************]  1 of 1 completed\n",
      "[*********************100%%**********************]  1 of 1 completed\n",
      "[*********************100%%**********************]  1 of 1 completed\n",
      "[*********************100%%**********************]  1 of 1 completed\n",
      "[*********************100%%**********************]  1 of 1 completed\n",
      "[*********************100%%**********************]  1 of 1 completed\n",
      "[*********************100%%**********************]  1 of 1 completed\n",
      "[*********************100%%**********************]  1 of 1 completed\n",
      "[*********************100%%**********************]  1 of 1 completed\n",
      "[*********************100%%**********************]  1 of 1 completed\n",
      "[*********************100%%**********************]  1 of 1 completed\n",
      "[*********************100%%**********************]  1 of 1 completed\n"
     ]
    }
   ],
   "source": [
    "stock_data, last_day_df = get_data(save_data=False, new_model=None)"
   ],
   "metadata": {
    "collapsed": false,
    "ExecuteTime": {
     "end_time": "2023-12-27T18:01:39.764245497Z",
     "start_time": "2023-12-27T18:01:33.428322712Z"
    }
   },
   "id": "d181169487ca65cb"
  },
  {
   "cell_type": "markdown",
   "source": [
    "## Train your Sklearn-Model"
   ],
   "metadata": {
    "collapsed": false
   },
   "id": "a171c8b3849759c"
  },
  {
   "cell_type": "code",
   "execution_count": 5,
   "outputs": [
    {
     "name": "stdout",
     "output_type": "stream",
     "text": [
      "Modellname: ExtraTreesClassifier\n",
      "Genauigkeit: 0.9161676646706587\n"
     ]
    },
    {
     "data": {
      "text/plain": "<Figure size 800x600 with 2 Axes>",
      "image/png": "[encoded data removed]"
     },
     "metadata": {},
     "output_type": "display_data"
    }
   ],
   "source": [
    "from ml.ml_functions.training.train_extra_tree import train_extra_tree\n",
    "\n",
    "model, accuracy = train_extra_tree(stock_data)"
   ],
   "metadata": {
    "collapsed": false,
    "ExecuteTime": {
     "end_time": "2023-12-27T18:01:53.157111157Z",
     "start_time": "2023-12-27T18:01:42.898144327Z"
    }
   },
   "id": "6c3fcfe3b87dbeff"
  },
  {
   "cell_type": "markdown",
   "source": [
    "## Model Registry "
   ],
   "metadata": {
    "collapsed": false
   },
   "id": "6755580fd945d6d7"
  },
  {
   "cell_type": "markdown",
   "source": [
    " ml/models mlflow server --host 0.0.0.0 --port 5000\n",
    "\n",
    "### mlflow server --host 0.0.0.0 --port 5000\n"
   ],
   "metadata": {
    "collapsed": false
   },
   "id": "6e615ea9014cb706"
  },
  {
   "cell_type": "code",
   "execution_count": 5,
   "outputs": [
    {
     "name": "stderr",
     "output_type": "stream",
     "text": [
      "2023/12/16 11:29:42 INFO mlflow.tracking.fluent: Experiment with name 'sp500_prediction' does not exist. Creating a new experiment.\n",
      "2023/12/16 11:29:52 INFO mlflow.store.model_registry.abstract_store: Waiting up to 300 seconds for model version to finish creation. Model name: best_ExtraTreesClassifier_model, version 1\n"
     ]
    },
    {
     "name": "stdout",
     "output_type": "stream",
     "text": [
      "First model registered as best model!\n",
      "Model path saved!\n"
     ]
    }
   ],
   "source": [
    "actual_model_path = log_sklearn_model_to_mlflow(model=model, accuracy=accuracy)"
   ],
   "metadata": {
    "collapsed": false,
    "ExecuteTime": {
     "end_time": "2023-12-16T10:29:52.125717144Z",
     "start_time": "2023-12-16T10:29:42.872386543Z"
    }
   },
   "id": "d2dcd2ca15f238ba"
  },
  {
   "cell_type": "markdown",
   "source": [
    "## Test if model is working"
   ],
   "metadata": {
    "collapsed": false
   },
   "id": "1dcd20f1322178af"
  },
  {
   "cell_type": "code",
   "execution_count": 8,
   "outputs": [],
   "source": [
    "last_day_df = last_day_df.drop(columns=last_day_df.columns[-3:])"
   ],
   "metadata": {
    "collapsed": false,
    "ExecuteTime": {
     "end_time": "2023-12-16T10:21:46.876423861Z",
     "start_time": "2023-12-16T10:21:46.818847270Z"
    }
   },
   "id": "3bb46ae0b5e09f05"
  },
  {
   "cell_type": "code",
   "execution_count": 10,
   "outputs": [
    {
     "data": {
      "text/plain": "array([0])"
     },
     "execution_count": 10,
     "metadata": {},
     "output_type": "execute_result"
    }
   ],
   "source": [
    "model.predict(last_day_df)"
   ],
   "metadata": {
    "collapsed": false,
    "ExecuteTime": {
     "end_time": "2023-12-16T10:21:55.209308543Z",
     "start_time": "2023-12-16T10:21:55.113932561Z"
    }
   },
   "id": "246a57c2541d1934"
  },
  {
   "cell_type": "code",
   "execution_count": 12,
   "outputs": [
    {
     "data": {
      "text/plain": "'runs:/5a62984791c945a1bae69cd36a1a23fb/model'"
     },
     "execution_count": 12,
     "metadata": {},
     "output_type": "execute_result"
    }
   ],
   "source": [
    "from ml.ml_functions.registry.model_registry import save_model_path,load_model_path\n",
    "#save_model_path(actual_model_path)\n",
    "load_model_path()"
   ],
   "metadata": {
    "collapsed": false,
    "ExecuteTime": {
     "end_time": "2023-12-16T10:22:23.156248527Z",
     "start_time": "2023-12-16T10:22:23.115206601Z"
    }
   },
   "id": "8c936db1b96db735"
  },
  {
   "cell_type": "markdown",
   "source": [
    "## Save current feature data for prediction"
   ],
   "metadata": {
    "collapsed": false
   },
   "id": "d87e2add9696dc56"
  },
  {
   "cell_type": "code",
   "execution_count": 3,
   "outputs": [
    {
     "ename": "NameError",
     "evalue": "name 'model' is not defined",
     "output_type": "error",
     "traceback": [
      "\u001B[0;31m---------------------------------------------------------------------------\u001B[0m",
      "\u001B[0;31mNameError\u001B[0m                                 Traceback (most recent call last)",
      "Cell \u001B[0;32mIn[3], line 1\u001B[0m\n\u001B[0;32m----> 1\u001B[0m stock_data, last_day_df \u001B[38;5;241m=\u001B[39m get_data(save_data\u001B[38;5;241m=\u001B[39m\u001B[38;5;28;01mFalse\u001B[39;00m, new_model\u001B[38;5;241m=\u001B[39m(\u001B[43mmodel\u001B[49m\u001B[38;5;241m.\u001B[39m\u001B[38;5;18m__class__\u001B[39m\u001B[38;5;241m.\u001B[39m\u001B[38;5;18m__name__\u001B[39m, accuracy))\n",
      "\u001B[0;31mNameError\u001B[0m: name 'model' is not defined"
     ]
    }
   ],
   "source": [
    "stock_data, last_day_df = get_data(save_data=True, new_model=(model.__class__.__name__, accuracy))"
   ],
   "metadata": {
    "collapsed": false,
    "ExecuteTime": {
     "end_time": "2023-12-05T10:04:59.607941953Z",
     "start_time": "2023-12-05T10:04:59.514760597Z"
    }
   },
   "id": "335502446c589d43"
  },
  {
   "cell_type": "markdown",
   "source": [
    "### Predict the new Data with Mlflow-Model"
   ],
   "metadata": {
    "collapsed": false
   },
   "id": "b4a846589493b4b"
  },
  {
   "cell_type": "code",
   "execution_count": 2,
   "outputs": [
    {
     "name": "stdout",
     "output_type": "stream",
     "text": [
      "/home/erik/DataspellProjects/stock-prediction/ml/ml_functions\n"
     ]
    },
    {
     "name": "stderr",
     "output_type": "stream",
     "text": [
      "/home/erik/anaconda3/envs/Stock-Prediction/lib/python3.8/site-packages/sklearn/base.py:458: UserWarning: X has feature names, but ExtraTreesClassifier was fitted without feature names\n",
      "  warnings.warn(\n"
     ]
    },
    {
     "name": "stdout",
     "output_type": "stream",
     "text": [
      "Complete. Return to the InfluxDB UI.\n",
      "Vorhersage wurde erstellt\n"
     ]
    }
   ],
   "source": [
    "#result = mlflow_model_prediction(model=actual_model_path)\n",
    "result = mlflow_model_prediction()"
   ],
   "metadata": {
    "collapsed": false,
    "ExecuteTime": {
     "end_time": "2023-12-15T10:21:25.050504037Z",
     "start_time": "2023-12-15T10:21:20.426535142Z"
    }
   },
   "id": "238bb0af6b6adb1e"
  },
  {
   "cell_type": "code",
   "execution_count": null,
   "outputs": [],
   "source": [],
   "metadata": {
    "collapsed": false
   },
   "id": "d8cf06ab185694da"
  }
 ],
 "metadata": {
  "kernelspec": {
   "display_name": "Python 3",
   "language": "python",
   "name": "python3"
  },
  "language_info": {
   "codemirror_mode": {
    "name": "ipython",
    "version": 2
   },
   "file_extension": ".py",
   "mimetype": "text/x-python",
   "name": "python",
   "nbconvert_exporter": "python",
   "pygments_lexer": "ipython2",
   "version": "2.7.6"
  }
 },
 "nbformat": 4,
 "nbformat_minor": 5
}
