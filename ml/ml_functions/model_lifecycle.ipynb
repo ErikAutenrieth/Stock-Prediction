{
 "cells": [
  {
   "cell_type": "code",
   "execution_count": 1,
   "id": "initial_id",
   "metadata": {
    "collapsed": true,
    "ExecuteTime": {
     "end_time": "2023-12-03T14:37:28.822333384Z",
     "start_time": "2023-12-03T14:37:27.934418384Z"
    }
   },
   "outputs": [],
   "source": [
    "from ml.features.preprocessing import get_data\n",
    "from sklearn.ensemble import ExtraTreesClassifier\n",
    "from sklearn.model_selection import train_test_split\n",
    "from sklearn.metrics import accuracy_score\n",
    "\n",
    "from ml.ml_functions.registry.model_registry import log_sklearn_model_to_mlflow\n",
    "from ml.database.influxdb_manager import InfluxDBOperations\n",
    "from ml.ml_functions.serve.mlflow_model_serve import mlflow_model_prediction\n",
    "import mlflow"
   ]
  },
  {
   "cell_type": "markdown",
   "source": [
    "## Load Dataset with new Features"
   ],
   "metadata": {
    "collapsed": false
   },
   "id": "d40797b61158c710"
  },
  {
   "cell_type": "code",
   "execution_count": 2,
   "outputs": [
    {
     "name": "stdout",
     "output_type": "stream",
     "text": [
      "[*********************100%%**********************]  1 of 1 completed\n"
     ]
    },
    {
     "name": "stderr",
     "output_type": "stream",
     "text": [
      "/home/erik/DataspellProjects/stock-prediction/ml/features/preprocessing.py:52: SettingWithCopyWarning: \n",
      "A value is trying to be set on a copy of a slice from a DataFrame.\n",
      "Try using .loc[row_indexer,col_indexer] = value instead\n",
      "\n",
      "See the caveats in the documentation: https://pandas.pydata.org/pandas-docs/stable/user_guide/indexing.html#returning-a-view-versus-a-copy\n",
      "  df[f\"SMA {time_period}\"] = ta.SMA(inputs, timeperiod=time_period)\n",
      "/home/erik/DataspellProjects/stock-prediction/ml/features/preprocessing.py:53: SettingWithCopyWarning: \n",
      "A value is trying to be set on a copy of a slice from a DataFrame.\n",
      "Try using .loc[row_indexer,col_indexer] = value instead\n",
      "\n",
      "See the caveats in the documentation: https://pandas.pydata.org/pandas-docs/stable/user_guide/indexing.html#returning-a-view-versus-a-copy\n",
      "  df[f\"EMA {time_period}\"] = ta.EMA(inputs, timeperiod=time_period)\n",
      "/home/erik/DataspellProjects/stock-prediction/ml/features/preprocessing.py:54: SettingWithCopyWarning: \n",
      "A value is trying to be set on a copy of a slice from a DataFrame.\n",
      "Try using .loc[row_indexer,col_indexer] = value instead\n",
      "\n",
      "See the caveats in the documentation: https://pandas.pydata.org/pandas-docs/stable/user_guide/indexing.html#returning-a-view-versus-a-copy\n",
      "  df[f\"EMA {20}\"] = ta.EMA(inputs, timeperiod=20)\n",
      "/home/erik/DataspellProjects/stock-prediction/ml/features/preprocessing.py:55: SettingWithCopyWarning: \n",
      "A value is trying to be set on a copy of a slice from a DataFrame.\n",
      "Try using .loc[row_indexer,col_indexer] = value instead\n",
      "\n",
      "See the caveats in the documentation: https://pandas.pydata.org/pandas-docs/stable/user_guide/indexing.html#returning-a-view-versus-a-copy\n",
      "  df[f\"WMA {time_period}\"] = ta.WMA(inputs, timeperiod=time_period)\n",
      "/home/erik/DataspellProjects/stock-prediction/ml/features/preprocessing.py:56: SettingWithCopyWarning: \n",
      "A value is trying to be set on a copy of a slice from a DataFrame.\n",
      "Try using .loc[row_indexer,col_indexer] = value instead\n",
      "\n",
      "See the caveats in the documentation: https://pandas.pydata.org/pandas-docs/stable/user_guide/indexing.html#returning-a-view-versus-a-copy\n",
      "  df[f\"Momentum {time_period}\"] = ta.MOM(inputs, timeperiod=time_period)\n",
      "/home/erik/DataspellProjects/stock-prediction/ml/features/preprocessing.py:57: SettingWithCopyWarning: \n",
      "A value is trying to be set on a copy of a slice from a DataFrame.\n",
      "Try using .loc[row_indexer,col_indexer] = value instead\n",
      "\n",
      "See the caveats in the documentation: https://pandas.pydata.org/pandas-docs/stable/user_guide/indexing.html#returning-a-view-versus-a-copy\n",
      "  df[\"SAR\"] = ta.SAR(df[\"High\"], df[\"Low\"], acceleration=0.02, maximum=0.2)\n",
      "/home/erik/DataspellProjects/stock-prediction/ml/features/preprocessing.py:58: SettingWithCopyWarning: \n",
      "A value is trying to be set on a copy of a slice from a DataFrame.\n",
      "Try using .loc[row_indexer,col_indexer] = value instead\n",
      "\n",
      "See the caveats in the documentation: https://pandas.pydata.org/pandas-docs/stable/user_guide/indexing.html#returning-a-view-versus-a-copy\n",
      "  df[\"RSI\"] = ta.RSI(df[\"Close\"], timeperiod=14)\n",
      "/home/erik/DataspellProjects/stock-prediction/ml/features/preprocessing.py:59: SettingWithCopyWarning: \n",
      "A value is trying to be set on a copy of a slice from a DataFrame.\n",
      "Try using .loc[row_indexer,col_indexer] = value instead\n",
      "\n",
      "See the caveats in the documentation: https://pandas.pydata.org/pandas-docs/stable/user_guide/indexing.html#returning-a-view-versus-a-copy\n",
      "  df[\"ROC\"] = ta.ROC(df[\"Close\"], timeperiod=10)\n",
      "/home/erik/DataspellProjects/stock-prediction/ml/features/preprocessing.py:60: SettingWithCopyWarning: \n",
      "A value is trying to be set on a copy of a slice from a DataFrame.\n",
      "Try using .loc[row_indexer,col_indexer] = value instead\n",
      "\n",
      "See the caveats in the documentation: https://pandas.pydata.org/pandas-docs/stable/user_guide/indexing.html#returning-a-view-versus-a-copy\n",
      "  df[\"%R\"] = ta.WILLR(df[\"High\"], df[\"Low\"], df[\"Close\"], timeperiod=14)\n",
      "/home/erik/DataspellProjects/stock-prediction/ml/features/preprocessing.py:61: SettingWithCopyWarning: \n",
      "A value is trying to be set on a copy of a slice from a DataFrame.\n",
      "Try using .loc[row_indexer,col_indexer] = value instead\n",
      "\n",
      "See the caveats in the documentation: https://pandas.pydata.org/pandas-docs/stable/user_guide/indexing.html#returning-a-view-versus-a-copy\n",
      "  df[\"OBV\"] = ta.OBV(df[\"Close\"], df[\"Volume\"])\n",
      "/home/erik/DataspellProjects/stock-prediction/ml/features/preprocessing.py:62: SettingWithCopyWarning: \n",
      "A value is trying to be set on a copy of a slice from a DataFrame.\n",
      "Try using .loc[row_indexer,col_indexer] = value instead\n",
      "\n",
      "See the caveats in the documentation: https://pandas.pydata.org/pandas-docs/stable/user_guide/indexing.html#returning-a-view-versus-a-copy\n",
      "  df[\"MACD\"], df[\"MACD_SIGNAL\"], df[\"MACD_HIST\"] = ta.MACD(df[\"Close\"], fastperiod=12, slowperiod=26, signalperiod=9)\n",
      "/home/erik/DataspellProjects/stock-prediction/ml/features/preprocessing.py:62: SettingWithCopyWarning: \n",
      "A value is trying to be set on a copy of a slice from a DataFrame.\n",
      "Try using .loc[row_indexer,col_indexer] = value instead\n",
      "\n",
      "See the caveats in the documentation: https://pandas.pydata.org/pandas-docs/stable/user_guide/indexing.html#returning-a-view-versus-a-copy\n",
      "  df[\"MACD\"], df[\"MACD_SIGNAL\"], df[\"MACD_HIST\"] = ta.MACD(df[\"Close\"], fastperiod=12, slowperiod=26, signalperiod=9)\n",
      "/home/erik/DataspellProjects/stock-prediction/ml/features/preprocessing.py:62: SettingWithCopyWarning: \n",
      "A value is trying to be set on a copy of a slice from a DataFrame.\n",
      "Try using .loc[row_indexer,col_indexer] = value instead\n",
      "\n",
      "See the caveats in the documentation: https://pandas.pydata.org/pandas-docs/stable/user_guide/indexing.html#returning-a-view-versus-a-copy\n",
      "  df[\"MACD\"], df[\"MACD_SIGNAL\"], df[\"MACD_HIST\"] = ta.MACD(df[\"Close\"], fastperiod=12, slowperiod=26, signalperiod=9)\n",
      "/home/erik/DataspellProjects/stock-prediction/ml/features/preprocessing.py:63: SettingWithCopyWarning: \n",
      "A value is trying to be set on a copy of a slice from a DataFrame.\n",
      "Try using .loc[row_indexer,col_indexer] = value instead\n",
      "\n",
      "See the caveats in the documentation: https://pandas.pydata.org/pandas-docs/stable/user_guide/indexing.html#returning-a-view-versus-a-copy\n",
      "  df[\"CCI\"] = ta.CCI(df[\"High\"], df[\"Low\"], df[\"Close\"], timeperiod=14)\n",
      "/home/erik/DataspellProjects/stock-prediction/ml/features/preprocessing.py:64: SettingWithCopyWarning: \n",
      "A value is trying to be set on a copy of a slice from a DataFrame.\n",
      "Try using .loc[row_indexer,col_indexer] = value instead\n",
      "\n",
      "See the caveats in the documentation: https://pandas.pydata.org/pandas-docs/stable/user_guide/indexing.html#returning-a-view-versus-a-copy\n",
      "  df[\"ADOSC\"] = ta.ADOSC(df[\"High\"], df[\"Low\"], df[\"Close\"], df[\"Volume\"], fastperiod=3, slowperiod=10)\n",
      "/home/erik/DataspellProjects/stock-prediction/ml/features/preprocessing.py:65: SettingWithCopyWarning: \n",
      "A value is trying to be set on a copy of a slice from a DataFrame.\n",
      "Try using .loc[row_indexer,col_indexer] = value instead\n",
      "\n",
      "See the caveats in the documentation: https://pandas.pydata.org/pandas-docs/stable/user_guide/indexing.html#returning-a-view-versus-a-copy\n",
      "  df[\"%K\"] = (df['Close'] - df['Low']) * 100 / (df['High'] - df['Low'])\n",
      "/home/erik/DataspellProjects/stock-prediction/ml/features/preprocessing.py:66: SettingWithCopyWarning: \n",
      "A value is trying to be set on a copy of a slice from a DataFrame.\n",
      "Try using .loc[row_indexer,col_indexer] = value instead\n",
      "\n",
      "See the caveats in the documentation: https://pandas.pydata.org/pandas-docs/stable/user_guide/indexing.html#returning-a-view-versus-a-copy\n",
      "  df[\"%D\"] = df['%K'].rolling(3).mean()\n",
      "/home/erik/DataspellProjects/stock-prediction/ml/features/preprocessing.py:69: SettingWithCopyWarning: \n",
      "A value is trying to be set on a copy of a slice from a DataFrame.\n",
      "Try using .loc[row_indexer,col_indexer] = value instead\n",
      "\n",
      "See the caveats in the documentation: https://pandas.pydata.org/pandas-docs/stable/user_guide/indexing.html#returning-a-view-versus-a-copy\n",
      "  df['+DMI'] = ta.PLUS_DI(df['High'],df['Low'],df['Close'],timeperiod=14)\n",
      "/home/erik/DataspellProjects/stock-prediction/ml/features/preprocessing.py:70: SettingWithCopyWarning: \n",
      "A value is trying to be set on a copy of a slice from a DataFrame.\n",
      "Try using .loc[row_indexer,col_indexer] = value instead\n",
      "\n",
      "See the caveats in the documentation: https://pandas.pydata.org/pandas-docs/stable/user_guide/indexing.html#returning-a-view-versus-a-copy\n",
      "  df['-DMI'] = ta.MINUS_DI(df['High'],df['Low'],df['Close'],timeperiod=14)\n",
      "/home/erik/DataspellProjects/stock-prediction/ml/features/preprocessing.py:71: SettingWithCopyWarning: \n",
      "A value is trying to be set on a copy of a slice from a DataFrame.\n",
      "Try using .loc[row_indexer,col_indexer] = value instead\n",
      "\n",
      "See the caveats in the documentation: https://pandas.pydata.org/pandas-docs/stable/user_guide/indexing.html#returning-a-view-versus-a-copy\n",
      "  df['ADX'] = ta.ADX(df['High'],df['Low'],df['Close'],timeperiod=14)\n",
      "/home/erik/DataspellProjects/stock-prediction/ml/features/preprocessing.py:72: SettingWithCopyWarning: \n",
      "A value is trying to be set on a copy of a slice from a DataFrame.\n",
      "Try using .loc[row_indexer,col_indexer] = value instead\n",
      "\n",
      "See the caveats in the documentation: https://pandas.pydata.org/pandas-docs/stable/user_guide/indexing.html#returning-a-view-versus-a-copy\n",
      "  df['up_band'], df['mid_band'], df['low_band'] = ta.BBANDS(df['Close'], timeperiod =20)\n",
      "/home/erik/DataspellProjects/stock-prediction/ml/features/preprocessing.py:72: SettingWithCopyWarning: \n",
      "A value is trying to be set on a copy of a slice from a DataFrame.\n",
      "Try using .loc[row_indexer,col_indexer] = value instead\n",
      "\n",
      "See the caveats in the documentation: https://pandas.pydata.org/pandas-docs/stable/user_guide/indexing.html#returning-a-view-versus-a-copy\n",
      "  df['up_band'], df['mid_band'], df['low_band'] = ta.BBANDS(df['Close'], timeperiod =20)\n",
      "/home/erik/DataspellProjects/stock-prediction/ml/features/preprocessing.py:72: SettingWithCopyWarning: \n",
      "A value is trying to be set on a copy of a slice from a DataFrame.\n",
      "Try using .loc[row_indexer,col_indexer] = value instead\n",
      "\n",
      "See the caveats in the documentation: https://pandas.pydata.org/pandas-docs/stable/user_guide/indexing.html#returning-a-view-versus-a-copy\n",
      "  df['up_band'], df['mid_band'], df['low_band'] = ta.BBANDS(df['Close'], timeperiod =20)\n",
      "/home/erik/DataspellProjects/stock-prediction/ml/features/preprocessing.py:74: SettingWithCopyWarning: \n",
      "A value is trying to be set on a copy of a slice from a DataFrame\n",
      "\n",
      "See the caveats in the documentation: https://pandas.pydata.org/pandas-docs/stable/user_guide/indexing.html#returning-a-view-versus-a-copy\n",
      "  df.dropna(inplace=True)\n",
      "/home/erik/DataspellProjects/stock-prediction/ml/features/preprocessing.py:75: SettingWithCopyWarning: \n",
      "A value is trying to be set on a copy of a slice from a DataFrame\n",
      "\n",
      "See the caveats in the documentation: https://pandas.pydata.org/pandas-docs/stable/user_guide/indexing.html#returning-a-view-versus-a-copy\n",
      "  df.drop([\"High\", \"Low\", \"Adj Close\", \"Open\"], axis=1, inplace=True)\n",
      "/home/erik/DataspellProjects/stock-prediction/ml/features/preprocessing.py:82: SettingWithCopyWarning: \n",
      "A value is trying to be set on a copy of a slice from a DataFrame.\n",
      "Try using .loc[row_indexer,col_indexer] = value instead\n",
      "\n",
      "See the caveats in the documentation: https://pandas.pydata.org/pandas-docs/stable/user_guide/indexing.html#returning-a-view-versus-a-copy\n",
      "  df[numeric_columns] = scaler.fit_transform(df[numeric_columns])\n",
      "/home/erik/DataspellProjects/stock-prediction/ml/features/preprocessing.py:83: SettingWithCopyWarning: \n",
      "A value is trying to be set on a copy of a slice from a DataFrame.\n",
      "Try using .loc[row_indexer,col_indexer] = value instead\n",
      "\n",
      "See the caveats in the documentation: https://pandas.pydata.org/pandas-docs/stable/user_guide/indexing.html#returning-a-view-versus-a-copy\n",
      "  df['Target'] = target_column\n"
     ]
    }
   ],
   "source": [
    "stock_data, last_day_df = get_data(save_data=False)"
   ],
   "metadata": {
    "collapsed": false,
    "ExecuteTime": {
     "end_time": "2023-12-03T14:37:30.434387719Z",
     "start_time": "2023-12-03T14:37:29.736903749Z"
    }
   },
   "id": "d181169487ca65cb"
  },
  {
   "cell_type": "code",
   "execution_count": 3,
   "outputs": [
    {
     "data": {
      "text/plain": "               Close    Volume   Rendite    SMA 10    EMA 10    EMA 20  \\\nDate                                                                     \n1980-02-20 -1.033702 -0.990544  1.407289 -1.033750 -1.034365 -1.035603   \n1980-02-21 -1.034772 -0.986759 -0.938515 -1.033790 -1.034495 -1.035572   \n1980-02-22 -1.034987 -0.988507 -0.219311 -1.033901 -1.034641 -1.035565   \n1980-02-25 -1.036525 -0.993282 -1.349343 -1.034317 -1.035040 -1.035706   \n1980-02-26 -1.035941 -0.992829  0.471777 -1.034600 -1.035260 -1.035778   \n...              ...       ...       ...       ...       ...       ...   \n2023-11-10  2.831342  0.915533  1.345299  2.749055  2.765737  2.751196   \n2023-11-13  2.828024  0.737157 -0.109157  2.771098  2.778319  2.759854   \n2023-11-14  2.903684  1.460534  1.651053  2.798291  2.802395  2.774921   \n2023-11-15  2.910139  1.274608  0.105918  2.822162  2.823270  2.789169   \n2023-11-16  2.914959  1.073168  0.069974  2.839317  2.841227  2.802522   \n\n              WMA 10  Momentum 10       SAR       RSI  ...     ADOSC  \\\nDate                                                   ...             \n1980-02-20 -1.033867    -0.040226 -1.030372  0.697028  ... -0.369802   \n1980-02-21 -1.034093    -0.081172 -1.030607  0.225440  ... -0.372643   \n1980-02-22 -1.034351    -0.095730 -1.030832  0.133727  ... -0.373097   \n1980-02-25 -1.034869    -0.157240 -1.031048 -0.470359  ... -0.375632   \n1980-02-26 -1.035204    -0.130306 -1.031399 -0.253478  ... -0.373702   \n...              ...          ...       ...       ...  ...       ...   \n2023-11-10  2.781552     5.347513  2.650640  0.662350  ...  1.598938   \n2023-11-13  2.797121     4.380462  2.675728  0.618070  ...  1.615126   \n2023-11-14  2.822457     5.420856  2.701957  1.185186  ...  1.825897   \n2023-11-15  2.844026     4.749703  2.740322  1.227832  ...  1.403957   \n2023-11-16  2.862136     3.392858  2.778613  1.261187  ...  1.538003   \n\n                  %K        %D      +DMI      -DMI       ADX   up_band  \\\nDate                                                                     \n1980-02-20  0.667696  0.279467 -0.211528 -1.125428  3.814284 -1.034267   \n1980-02-21 -0.936635 -0.183188 -0.242706 -1.297858  3.569440 -1.034316   \n1980-02-22 -0.062536 -0.196569 -0.473517 -1.093509  3.267324 -1.034363   \n1980-02-25 -0.741007 -1.033066 -0.644275 -0.941199  2.930565 -1.034336   \n1980-02-26  0.396575 -0.241397 -0.807557 -0.967238  2.595932 -1.034309   \n...              ...       ...       ...       ...       ...       ...   \n2023-11-10  1.226363  0.183734  0.450536 -0.390639 -0.117401  2.759173   \n2023-11-13  0.250117  0.008181  0.375143 -0.492632 -0.155045  2.764821   \n2023-11-14  0.566533  1.213419  1.342921 -0.812384 -0.049406  2.786466   \n2023-11-15 -0.785334  0.018859  1.396260 -0.889477  0.065220  2.812300   \n2023-11-16  0.886839  0.396949  1.240836 -0.826330  0.149295  2.837629   \n\n            mid_band  low_band  Target  \nDate                                    \n1980-02-20 -1.034972 -1.034718       0  \n1980-02-21 -1.034889 -1.034494       0  \n1980-02-22 -1.034829 -1.034319       0  \n1980-02-25 -1.034842 -1.034374       0  \n1980-02-26 -1.034881 -1.034484       0  \n...              ...       ...     ...  \n2023-11-10  2.724713  2.685265       1  \n2023-11-13  2.726424  2.682771       1  \n2023-11-14  2.731951  2.671083       1  \n2023-11-15  2.740446  2.661058       1  \n2023-11-16  2.750835  2.655483       1  \n\n[11027 rows x 27 columns]",
      "text/html": "<div>\n<style scoped>\n    .dataframe tbody tr th:only-of-type {\n        vertical-align: middle;\n    }\n\n    .dataframe tbody tr th {\n        vertical-align: top;\n    }\n\n    .dataframe thead th {\n        text-align: right;\n    }\n</style>\n<table border=\"1\" class=\"dataframe\">\n  <thead>\n    <tr style=\"text-align: right;\">\n      <th></th>\n      <th>Close</th>\n      <th>Volume</th>\n      <th>Rendite</th>\n      <th>SMA 10</th>\n      <th>EMA 10</th>\n      <th>EMA 20</th>\n      <th>WMA 10</th>\n      <th>Momentum 10</th>\n      <th>SAR</th>\n      <th>RSI</th>\n      <th>...</th>\n      <th>ADOSC</th>\n      <th>%K</th>\n      <th>%D</th>\n      <th>+DMI</th>\n      <th>-DMI</th>\n      <th>ADX</th>\n      <th>up_band</th>\n      <th>mid_band</th>\n      <th>low_band</th>\n      <th>Target</th>\n    </tr>\n    <tr>\n      <th>Date</th>\n      <th></th>\n      <th></th>\n      <th></th>\n      <th></th>\n      <th></th>\n      <th></th>\n      <th></th>\n      <th></th>\n      <th></th>\n      <th></th>\n      <th></th>\n      <th></th>\n      <th></th>\n      <th></th>\n      <th></th>\n      <th></th>\n      <th></th>\n      <th></th>\n      <th></th>\n      <th></th>\n      <th></th>\n    </tr>\n  </thead>\n  <tbody>\n    <tr>\n      <th>1980-02-20</th>\n      <td>-1.033702</td>\n      <td>-0.990544</td>\n      <td>1.407289</td>\n      <td>-1.033750</td>\n      <td>-1.034365</td>\n      <td>-1.035603</td>\n      <td>-1.033867</td>\n      <td>-0.040226</td>\n      <td>-1.030372</td>\n      <td>0.697028</td>\n      <td>...</td>\n      <td>-0.369802</td>\n      <td>0.667696</td>\n      <td>0.279467</td>\n      <td>-0.211528</td>\n      <td>-1.125428</td>\n      <td>3.814284</td>\n      <td>-1.034267</td>\n      <td>-1.034972</td>\n      <td>-1.034718</td>\n      <td>0</td>\n    </tr>\n    <tr>\n      <th>1980-02-21</th>\n      <td>-1.034772</td>\n      <td>-0.986759</td>\n      <td>-0.938515</td>\n      <td>-1.033790</td>\n      <td>-1.034495</td>\n      <td>-1.035572</td>\n      <td>-1.034093</td>\n      <td>-0.081172</td>\n      <td>-1.030607</td>\n      <td>0.225440</td>\n      <td>...</td>\n      <td>-0.372643</td>\n      <td>-0.936635</td>\n      <td>-0.183188</td>\n      <td>-0.242706</td>\n      <td>-1.297858</td>\n      <td>3.569440</td>\n      <td>-1.034316</td>\n      <td>-1.034889</td>\n      <td>-1.034494</td>\n      <td>0</td>\n    </tr>\n    <tr>\n      <th>1980-02-22</th>\n      <td>-1.034987</td>\n      <td>-0.988507</td>\n      <td>-0.219311</td>\n      <td>-1.033901</td>\n      <td>-1.034641</td>\n      <td>-1.035565</td>\n      <td>-1.034351</td>\n      <td>-0.095730</td>\n      <td>-1.030832</td>\n      <td>0.133727</td>\n      <td>...</td>\n      <td>-0.373097</td>\n      <td>-0.062536</td>\n      <td>-0.196569</td>\n      <td>-0.473517</td>\n      <td>-1.093509</td>\n      <td>3.267324</td>\n      <td>-1.034363</td>\n      <td>-1.034829</td>\n      <td>-1.034319</td>\n      <td>0</td>\n    </tr>\n    <tr>\n      <th>1980-02-25</th>\n      <td>-1.036525</td>\n      <td>-0.993282</td>\n      <td>-1.349343</td>\n      <td>-1.034317</td>\n      <td>-1.035040</td>\n      <td>-1.035706</td>\n      <td>-1.034869</td>\n      <td>-0.157240</td>\n      <td>-1.031048</td>\n      <td>-0.470359</td>\n      <td>...</td>\n      <td>-0.375632</td>\n      <td>-0.741007</td>\n      <td>-1.033066</td>\n      <td>-0.644275</td>\n      <td>-0.941199</td>\n      <td>2.930565</td>\n      <td>-1.034336</td>\n      <td>-1.034842</td>\n      <td>-1.034374</td>\n      <td>0</td>\n    </tr>\n    <tr>\n      <th>1980-02-26</th>\n      <td>-1.035941</td>\n      <td>-0.992829</td>\n      <td>0.471777</td>\n      <td>-1.034600</td>\n      <td>-1.035260</td>\n      <td>-1.035778</td>\n      <td>-1.035204</td>\n      <td>-0.130306</td>\n      <td>-1.031399</td>\n      <td>-0.253478</td>\n      <td>...</td>\n      <td>-0.373702</td>\n      <td>0.396575</td>\n      <td>-0.241397</td>\n      <td>-0.807557</td>\n      <td>-0.967238</td>\n      <td>2.595932</td>\n      <td>-1.034309</td>\n      <td>-1.034881</td>\n      <td>-1.034484</td>\n      <td>0</td>\n    </tr>\n    <tr>\n      <th>...</th>\n      <td>...</td>\n      <td>...</td>\n      <td>...</td>\n      <td>...</td>\n      <td>...</td>\n      <td>...</td>\n      <td>...</td>\n      <td>...</td>\n      <td>...</td>\n      <td>...</td>\n      <td>...</td>\n      <td>...</td>\n      <td>...</td>\n      <td>...</td>\n      <td>...</td>\n      <td>...</td>\n      <td>...</td>\n      <td>...</td>\n      <td>...</td>\n      <td>...</td>\n      <td>...</td>\n    </tr>\n    <tr>\n      <th>2023-11-10</th>\n      <td>2.831342</td>\n      <td>0.915533</td>\n      <td>1.345299</td>\n      <td>2.749055</td>\n      <td>2.765737</td>\n      <td>2.751196</td>\n      <td>2.781552</td>\n      <td>5.347513</td>\n      <td>2.650640</td>\n      <td>0.662350</td>\n      <td>...</td>\n      <td>1.598938</td>\n      <td>1.226363</td>\n      <td>0.183734</td>\n      <td>0.450536</td>\n      <td>-0.390639</td>\n      <td>-0.117401</td>\n      <td>2.759173</td>\n      <td>2.724713</td>\n      <td>2.685265</td>\n      <td>1</td>\n    </tr>\n    <tr>\n      <th>2023-11-13</th>\n      <td>2.828024</td>\n      <td>0.737157</td>\n      <td>-0.109157</td>\n      <td>2.771098</td>\n      <td>2.778319</td>\n      <td>2.759854</td>\n      <td>2.797121</td>\n      <td>4.380462</td>\n      <td>2.675728</td>\n      <td>0.618070</td>\n      <td>...</td>\n      <td>1.615126</td>\n      <td>0.250117</td>\n      <td>0.008181</td>\n      <td>0.375143</td>\n      <td>-0.492632</td>\n      <td>-0.155045</td>\n      <td>2.764821</td>\n      <td>2.726424</td>\n      <td>2.682771</td>\n      <td>1</td>\n    </tr>\n    <tr>\n      <th>2023-11-14</th>\n      <td>2.903684</td>\n      <td>1.460534</td>\n      <td>1.651053</td>\n      <td>2.798291</td>\n      <td>2.802395</td>\n      <td>2.774921</td>\n      <td>2.822457</td>\n      <td>5.420856</td>\n      <td>2.701957</td>\n      <td>1.185186</td>\n      <td>...</td>\n      <td>1.825897</td>\n      <td>0.566533</td>\n      <td>1.213419</td>\n      <td>1.342921</td>\n      <td>-0.812384</td>\n      <td>-0.049406</td>\n      <td>2.786466</td>\n      <td>2.731951</td>\n      <td>2.671083</td>\n      <td>1</td>\n    </tr>\n    <tr>\n      <th>2023-11-15</th>\n      <td>2.910139</td>\n      <td>1.274608</td>\n      <td>0.105918</td>\n      <td>2.822162</td>\n      <td>2.823270</td>\n      <td>2.789169</td>\n      <td>2.844026</td>\n      <td>4.749703</td>\n      <td>2.740322</td>\n      <td>1.227832</td>\n      <td>...</td>\n      <td>1.403957</td>\n      <td>-0.785334</td>\n      <td>0.018859</td>\n      <td>1.396260</td>\n      <td>-0.889477</td>\n      <td>0.065220</td>\n      <td>2.812300</td>\n      <td>2.740446</td>\n      <td>2.661058</td>\n      <td>1</td>\n    </tr>\n    <tr>\n      <th>2023-11-16</th>\n      <td>2.914959</td>\n      <td>1.073168</td>\n      <td>0.069974</td>\n      <td>2.839317</td>\n      <td>2.841227</td>\n      <td>2.802522</td>\n      <td>2.862136</td>\n      <td>3.392858</td>\n      <td>2.778613</td>\n      <td>1.261187</td>\n      <td>...</td>\n      <td>1.538003</td>\n      <td>0.886839</td>\n      <td>0.396949</td>\n      <td>1.240836</td>\n      <td>-0.826330</td>\n      <td>0.149295</td>\n      <td>2.837629</td>\n      <td>2.750835</td>\n      <td>2.655483</td>\n      <td>1</td>\n    </tr>\n  </tbody>\n</table>\n<p>11027 rows × 27 columns</p>\n</div>"
     },
     "execution_count": 3,
     "metadata": {},
     "output_type": "execute_result"
    }
   ],
   "source": [
    "stock_data"
   ],
   "metadata": {
    "collapsed": false,
    "ExecuteTime": {
     "end_time": "2023-12-03T14:37:30.702793902Z",
     "start_time": "2023-12-03T14:37:30.671283976Z"
    }
   },
   "id": "101e6a4ffeb8525b"
  },
  {
   "cell_type": "code",
   "execution_count": 4,
   "outputs": [],
   "source": [
    "X = stock_data.drop(['Target'], axis=1)\n",
    "train_x, test_x, train_y, test_y = train_test_split(X, stock_data['Target'], test_size=0.15, random_state=42)"
   ],
   "metadata": {
    "collapsed": false,
    "ExecuteTime": {
     "end_time": "2023-12-03T14:37:31.638289837Z",
     "start_time": "2023-12-03T14:37:31.612341882Z"
    }
   },
   "id": "cf9bd83f8a4061ef"
  },
  {
   "cell_type": "markdown",
   "source": [
    "## Train your Sklearn-Model"
   ],
   "metadata": {
    "collapsed": false
   },
   "id": "a171c8b3849759c"
  },
  {
   "cell_type": "code",
   "execution_count": 5,
   "outputs": [
    {
     "name": "stdout",
     "output_type": "stream",
     "text": [
      "Modellname: ExtraTreesClassifier\n",
      "Genauigkeit: 0.8477341389728097\n"
     ]
    }
   ],
   "source": [
    "from ml.ml_functions.training.train_extra_tree import train_extra_tree\n",
    "\n",
    "model, accuracy = train_extra_tree(stock_data)"
   ],
   "metadata": {
    "collapsed": false,
    "ExecuteTime": {
     "end_time": "2023-12-03T14:37:37.829907263Z",
     "start_time": "2023-12-03T14:37:33.660688264Z"
    }
   },
   "id": "6c3fcfe3b87dbeff"
  },
  {
   "cell_type": "markdown",
   "source": [
    "## Model Registry "
   ],
   "metadata": {
    "collapsed": false
   },
   "id": "6755580fd945d6d7"
  },
  {
   "cell_type": "markdown",
   "source": [
    "### mlflow server --host 0.0.0.0 --port 5000\n"
   ],
   "metadata": {
    "collapsed": false
   },
   "id": "6e615ea9014cb706"
  },
  {
   "cell_type": "code",
   "execution_count": 7,
   "outputs": [
    {
     "name": "stderr",
     "output_type": "stream",
     "text": [
      "2023/12/03 15:37:40 INFO mlflow.tracking.fluent: Experiment with name 'sp500_prediction' does not exist. Creating a new experiment.\n",
      "2023/12/03 15:37:44 INFO mlflow.store.model_registry.abstract_store: Waiting up to 300 seconds for model version to finish creation. Model name: best_ExtraTreesClassifier_model, version 1\n"
     ]
    }
   ],
   "source": [
    "actual_model_path = log_sklearn_model_to_mlflow(model=model, accuracy=accuracy)"
   ],
   "metadata": {
    "collapsed": false,
    "ExecuteTime": {
     "end_time": "2023-12-03T14:37:44.033410678Z",
     "start_time": "2023-12-03T14:37:40.549380633Z"
    }
   },
   "id": "d2dcd2ca15f238ba"
  },
  {
   "cell_type": "markdown",
   "source": [
    "## Save current feature data for prediction"
   ],
   "metadata": {
    "collapsed": false
   },
   "id": "d87e2add9696dc56"
  },
  {
   "cell_type": "code",
   "execution_count": 17,
   "outputs": [
    {
     "name": "stdout",
     "output_type": "stream",
     "text": [
      "[*********************100%%**********************]  1 of 1 completed\n"
     ]
    },
    {
     "name": "stderr",
     "output_type": "stream",
     "text": [
      "/home/erik/DataspellProjects/stock-prediction/ml/features/preprocessing.py:52: SettingWithCopyWarning: \n",
      "A value is trying to be set on a copy of a slice from a DataFrame.\n",
      "Try using .loc[row_indexer,col_indexer] = value instead\n",
      "\n",
      "See the caveats in the documentation: https://pandas.pydata.org/pandas-docs/stable/user_guide/indexing.html#returning-a-view-versus-a-copy\n",
      "  df[f\"SMA {time_period}\"] = ta.SMA(inputs, timeperiod=time_period)\n",
      "/home/erik/DataspellProjects/stock-prediction/ml/features/preprocessing.py:53: SettingWithCopyWarning: \n",
      "A value is trying to be set on a copy of a slice from a DataFrame.\n",
      "Try using .loc[row_indexer,col_indexer] = value instead\n",
      "\n",
      "See the caveats in the documentation: https://pandas.pydata.org/pandas-docs/stable/user_guide/indexing.html#returning-a-view-versus-a-copy\n",
      "  df[f\"EMA {time_period}\"] = ta.EMA(inputs, timeperiod=time_period)\n",
      "/home/erik/DataspellProjects/stock-prediction/ml/features/preprocessing.py:54: SettingWithCopyWarning: \n",
      "A value is trying to be set on a copy of a slice from a DataFrame.\n",
      "Try using .loc[row_indexer,col_indexer] = value instead\n",
      "\n",
      "See the caveats in the documentation: https://pandas.pydata.org/pandas-docs/stable/user_guide/indexing.html#returning-a-view-versus-a-copy\n",
      "  df[f\"EMA {20}\"] = ta.EMA(inputs, timeperiod=20)\n",
      "/home/erik/DataspellProjects/stock-prediction/ml/features/preprocessing.py:55: SettingWithCopyWarning: \n",
      "A value is trying to be set on a copy of a slice from a DataFrame.\n",
      "Try using .loc[row_indexer,col_indexer] = value instead\n",
      "\n",
      "See the caveats in the documentation: https://pandas.pydata.org/pandas-docs/stable/user_guide/indexing.html#returning-a-view-versus-a-copy\n",
      "  df[f\"WMA {time_period}\"] = ta.WMA(inputs, timeperiod=time_period)\n",
      "/home/erik/DataspellProjects/stock-prediction/ml/features/preprocessing.py:56: SettingWithCopyWarning: \n",
      "A value is trying to be set on a copy of a slice from a DataFrame.\n",
      "Try using .loc[row_indexer,col_indexer] = value instead\n",
      "\n",
      "See the caveats in the documentation: https://pandas.pydata.org/pandas-docs/stable/user_guide/indexing.html#returning-a-view-versus-a-copy\n",
      "  df[f\"Momentum {time_period}\"] = ta.MOM(inputs, timeperiod=time_period)\n",
      "/home/erik/DataspellProjects/stock-prediction/ml/features/preprocessing.py:57: SettingWithCopyWarning: \n",
      "A value is trying to be set on a copy of a slice from a DataFrame.\n",
      "Try using .loc[row_indexer,col_indexer] = value instead\n",
      "\n",
      "See the caveats in the documentation: https://pandas.pydata.org/pandas-docs/stable/user_guide/indexing.html#returning-a-view-versus-a-copy\n",
      "  df[\"SAR\"] = ta.SAR(df[\"High\"], df[\"Low\"], acceleration=0.02, maximum=0.2)\n",
      "/home/erik/DataspellProjects/stock-prediction/ml/features/preprocessing.py:58: SettingWithCopyWarning: \n",
      "A value is trying to be set on a copy of a slice from a DataFrame.\n",
      "Try using .loc[row_indexer,col_indexer] = value instead\n",
      "\n",
      "See the caveats in the documentation: https://pandas.pydata.org/pandas-docs/stable/user_guide/indexing.html#returning-a-view-versus-a-copy\n",
      "  df[\"RSI\"] = ta.RSI(df[\"Close\"], timeperiod=14)\n",
      "/home/erik/DataspellProjects/stock-prediction/ml/features/preprocessing.py:59: SettingWithCopyWarning: \n",
      "A value is trying to be set on a copy of a slice from a DataFrame.\n",
      "Try using .loc[row_indexer,col_indexer] = value instead\n",
      "\n",
      "See the caveats in the documentation: https://pandas.pydata.org/pandas-docs/stable/user_guide/indexing.html#returning-a-view-versus-a-copy\n",
      "  df[\"ROC\"] = ta.ROC(df[\"Close\"], timeperiod=10)\n",
      "/home/erik/DataspellProjects/stock-prediction/ml/features/preprocessing.py:60: SettingWithCopyWarning: \n",
      "A value is trying to be set on a copy of a slice from a DataFrame.\n",
      "Try using .loc[row_indexer,col_indexer] = value instead\n",
      "\n",
      "See the caveats in the documentation: https://pandas.pydata.org/pandas-docs/stable/user_guide/indexing.html#returning-a-view-versus-a-copy\n",
      "  df[\"%R\"] = ta.WILLR(df[\"High\"], df[\"Low\"], df[\"Close\"], timeperiod=14)\n",
      "/home/erik/DataspellProjects/stock-prediction/ml/features/preprocessing.py:61: SettingWithCopyWarning: \n",
      "A value is trying to be set on a copy of a slice from a DataFrame.\n",
      "Try using .loc[row_indexer,col_indexer] = value instead\n",
      "\n",
      "See the caveats in the documentation: https://pandas.pydata.org/pandas-docs/stable/user_guide/indexing.html#returning-a-view-versus-a-copy\n",
      "  df[\"OBV\"] = ta.OBV(df[\"Close\"], df[\"Volume\"])\n",
      "/home/erik/DataspellProjects/stock-prediction/ml/features/preprocessing.py:62: SettingWithCopyWarning: \n",
      "A value is trying to be set on a copy of a slice from a DataFrame.\n",
      "Try using .loc[row_indexer,col_indexer] = value instead\n",
      "\n",
      "See the caveats in the documentation: https://pandas.pydata.org/pandas-docs/stable/user_guide/indexing.html#returning-a-view-versus-a-copy\n",
      "  df[\"MACD\"], df[\"MACD_SIGNAL\"], df[\"MACD_HIST\"] = ta.MACD(df[\"Close\"], fastperiod=12, slowperiod=26, signalperiod=9)\n",
      "/home/erik/DataspellProjects/stock-prediction/ml/features/preprocessing.py:62: SettingWithCopyWarning: \n",
      "A value is trying to be set on a copy of a slice from a DataFrame.\n",
      "Try using .loc[row_indexer,col_indexer] = value instead\n",
      "\n",
      "See the caveats in the documentation: https://pandas.pydata.org/pandas-docs/stable/user_guide/indexing.html#returning-a-view-versus-a-copy\n",
      "  df[\"MACD\"], df[\"MACD_SIGNAL\"], df[\"MACD_HIST\"] = ta.MACD(df[\"Close\"], fastperiod=12, slowperiod=26, signalperiod=9)\n",
      "/home/erik/DataspellProjects/stock-prediction/ml/features/preprocessing.py:62: SettingWithCopyWarning: \n",
      "A value is trying to be set on a copy of a slice from a DataFrame.\n",
      "Try using .loc[row_indexer,col_indexer] = value instead\n",
      "\n",
      "See the caveats in the documentation: https://pandas.pydata.org/pandas-docs/stable/user_guide/indexing.html#returning-a-view-versus-a-copy\n",
      "  df[\"MACD\"], df[\"MACD_SIGNAL\"], df[\"MACD_HIST\"] = ta.MACD(df[\"Close\"], fastperiod=12, slowperiod=26, signalperiod=9)\n",
      "/home/erik/DataspellProjects/stock-prediction/ml/features/preprocessing.py:63: SettingWithCopyWarning: \n",
      "A value is trying to be set on a copy of a slice from a DataFrame.\n",
      "Try using .loc[row_indexer,col_indexer] = value instead\n",
      "\n",
      "See the caveats in the documentation: https://pandas.pydata.org/pandas-docs/stable/user_guide/indexing.html#returning-a-view-versus-a-copy\n",
      "  df[\"CCI\"] = ta.CCI(df[\"High\"], df[\"Low\"], df[\"Close\"], timeperiod=14)\n",
      "/home/erik/DataspellProjects/stock-prediction/ml/features/preprocessing.py:64: SettingWithCopyWarning: \n",
      "A value is trying to be set on a copy of a slice from a DataFrame.\n",
      "Try using .loc[row_indexer,col_indexer] = value instead\n",
      "\n",
      "See the caveats in the documentation: https://pandas.pydata.org/pandas-docs/stable/user_guide/indexing.html#returning-a-view-versus-a-copy\n",
      "  df[\"ADOSC\"] = ta.ADOSC(df[\"High\"], df[\"Low\"], df[\"Close\"], df[\"Volume\"], fastperiod=3, slowperiod=10)\n",
      "/home/erik/DataspellProjects/stock-prediction/ml/features/preprocessing.py:65: SettingWithCopyWarning: \n",
      "A value is trying to be set on a copy of a slice from a DataFrame.\n",
      "Try using .loc[row_indexer,col_indexer] = value instead\n",
      "\n",
      "See the caveats in the documentation: https://pandas.pydata.org/pandas-docs/stable/user_guide/indexing.html#returning-a-view-versus-a-copy\n",
      "  df[\"%K\"] = (df['Close'] - df['Low']) * 100 / (df['High'] - df['Low'])\n",
      "/home/erik/DataspellProjects/stock-prediction/ml/features/preprocessing.py:66: SettingWithCopyWarning: \n",
      "A value is trying to be set on a copy of a slice from a DataFrame.\n",
      "Try using .loc[row_indexer,col_indexer] = value instead\n",
      "\n",
      "See the caveats in the documentation: https://pandas.pydata.org/pandas-docs/stable/user_guide/indexing.html#returning-a-view-versus-a-copy\n",
      "  df[\"%D\"] = df['%K'].rolling(3).mean()\n",
      "/home/erik/DataspellProjects/stock-prediction/ml/features/preprocessing.py:69: SettingWithCopyWarning: \n",
      "A value is trying to be set on a copy of a slice from a DataFrame.\n",
      "Try using .loc[row_indexer,col_indexer] = value instead\n",
      "\n",
      "See the caveats in the documentation: https://pandas.pydata.org/pandas-docs/stable/user_guide/indexing.html#returning-a-view-versus-a-copy\n",
      "  df['+DMI'] = ta.PLUS_DI(df['High'],df['Low'],df['Close'],timeperiod=14)\n",
      "/home/erik/DataspellProjects/stock-prediction/ml/features/preprocessing.py:70: SettingWithCopyWarning: \n",
      "A value is trying to be set on a copy of a slice from a DataFrame.\n",
      "Try using .loc[row_indexer,col_indexer] = value instead\n",
      "\n",
      "See the caveats in the documentation: https://pandas.pydata.org/pandas-docs/stable/user_guide/indexing.html#returning-a-view-versus-a-copy\n",
      "  df['-DMI'] = ta.MINUS_DI(df['High'],df['Low'],df['Close'],timeperiod=14)\n",
      "/home/erik/DataspellProjects/stock-prediction/ml/features/preprocessing.py:71: SettingWithCopyWarning: \n",
      "A value is trying to be set on a copy of a slice from a DataFrame.\n",
      "Try using .loc[row_indexer,col_indexer] = value instead\n",
      "\n",
      "See the caveats in the documentation: https://pandas.pydata.org/pandas-docs/stable/user_guide/indexing.html#returning-a-view-versus-a-copy\n",
      "  df['ADX'] = ta.ADX(df['High'],df['Low'],df['Close'],timeperiod=14)\n",
      "/home/erik/DataspellProjects/stock-prediction/ml/features/preprocessing.py:72: SettingWithCopyWarning: \n",
      "A value is trying to be set on a copy of a slice from a DataFrame.\n",
      "Try using .loc[row_indexer,col_indexer] = value instead\n",
      "\n",
      "See the caveats in the documentation: https://pandas.pydata.org/pandas-docs/stable/user_guide/indexing.html#returning-a-view-versus-a-copy\n",
      "  df['up_band'], df['mid_band'], df['low_band'] = ta.BBANDS(df['Close'], timeperiod =20)\n",
      "/home/erik/DataspellProjects/stock-prediction/ml/features/preprocessing.py:72: SettingWithCopyWarning: \n",
      "A value is trying to be set on a copy of a slice from a DataFrame.\n",
      "Try using .loc[row_indexer,col_indexer] = value instead\n",
      "\n",
      "See the caveats in the documentation: https://pandas.pydata.org/pandas-docs/stable/user_guide/indexing.html#returning-a-view-versus-a-copy\n",
      "  df['up_band'], df['mid_band'], df['low_band'] = ta.BBANDS(df['Close'], timeperiod =20)\n",
      "/home/erik/DataspellProjects/stock-prediction/ml/features/preprocessing.py:72: SettingWithCopyWarning: \n",
      "A value is trying to be set on a copy of a slice from a DataFrame.\n",
      "Try using .loc[row_indexer,col_indexer] = value instead\n",
      "\n",
      "See the caveats in the documentation: https://pandas.pydata.org/pandas-docs/stable/user_guide/indexing.html#returning-a-view-versus-a-copy\n",
      "  df['up_band'], df['mid_band'], df['low_band'] = ta.BBANDS(df['Close'], timeperiod =20)\n",
      "/home/erik/DataspellProjects/stock-prediction/ml/features/preprocessing.py:74: SettingWithCopyWarning: \n",
      "A value is trying to be set on a copy of a slice from a DataFrame\n",
      "\n",
      "See the caveats in the documentation: https://pandas.pydata.org/pandas-docs/stable/user_guide/indexing.html#returning-a-view-versus-a-copy\n",
      "  df.dropna(inplace=True)\n",
      "/home/erik/DataspellProjects/stock-prediction/ml/features/preprocessing.py:75: SettingWithCopyWarning: \n",
      "A value is trying to be set on a copy of a slice from a DataFrame\n",
      "\n",
      "See the caveats in the documentation: https://pandas.pydata.org/pandas-docs/stable/user_guide/indexing.html#returning-a-view-versus-a-copy\n",
      "  df.drop([\"High\", \"Low\", \"Adj Close\", \"Open\"], axis=1, inplace=True)\n",
      "/home/erik/DataspellProjects/stock-prediction/ml/features/preprocessing.py:82: SettingWithCopyWarning: \n",
      "A value is trying to be set on a copy of a slice from a DataFrame.\n",
      "Try using .loc[row_indexer,col_indexer] = value instead\n",
      "\n",
      "See the caveats in the documentation: https://pandas.pydata.org/pandas-docs/stable/user_guide/indexing.html#returning-a-view-versus-a-copy\n",
      "  df[numeric_columns] = scaler.fit_transform(df[numeric_columns])\n",
      "/home/erik/DataspellProjects/stock-prediction/ml/features/preprocessing.py:83: SettingWithCopyWarning: \n",
      "A value is trying to be set on a copy of a slice from a DataFrame.\n",
      "Try using .loc[row_indexer,col_indexer] = value instead\n",
      "\n",
      "See the caveats in the documentation: https://pandas.pydata.org/pandas-docs/stable/user_guide/indexing.html#returning-a-view-versus-a-copy\n",
      "  df['Target'] = target_column\n"
     ]
    },
    {
     "name": "stdout",
     "output_type": "stream",
     "text": [
      "Complete. Return to the InfluxDB UI.\n",
      "Saved Data to Influx and CSV\n"
     ]
    }
   ],
   "source": [
    "stock_data, last_day_df = get_data(save_data=True, new_model=(etc.__class__.__name__, accuracy))"
   ],
   "metadata": {
    "collapsed": false,
    "ExecuteTime": {
     "end_time": "2023-12-03T15:34:31.361631879Z",
     "start_time": "2023-12-03T15:34:30.850688034Z"
    }
   },
   "id": "335502446c589d43"
  },
  {
   "cell_type": "markdown",
   "source": [
    "### Predict the new Data with Mlflow-Model"
   ],
   "metadata": {
    "collapsed": false
   },
   "id": "b4a846589493b4b"
  },
  {
   "cell_type": "code",
   "execution_count": 18,
   "outputs": [
    {
     "ename": "NameError",
     "evalue": "name 'mlflow_model_prediction' is not defined",
     "output_type": "error",
     "traceback": [
      "\u001B[0;31m---------------------------------------------------------------------------\u001B[0m",
      "\u001B[0;31mNameError\u001B[0m                                 Traceback (most recent call last)",
      "Cell \u001B[0;32mIn[18], line 1\u001B[0m\n\u001B[0;32m----> 1\u001B[0m result \u001B[38;5;241m=\u001B[39m \u001B[43mmlflow_model_prediction\u001B[49m(model\u001B[38;5;241m=\u001B[39mactual_model_path)\n",
      "\u001B[0;31mNameError\u001B[0m: name 'mlflow_model_prediction' is not defined"
     ]
    }
   ],
   "source": [
    "result = mlflow_model_prediction(model=actual_model_path)"
   ],
   "metadata": {
    "collapsed": false,
    "ExecuteTime": {
     "end_time": "2023-12-03T15:34:39.297268144Z",
     "start_time": "2023-12-03T15:34:39.259353829Z"
    }
   },
   "id": "238bb0af6b6adb1e"
  },
  {
   "cell_type": "code",
   "execution_count": null,
   "outputs": [],
   "source": [
    "result"
   ],
   "metadata": {
    "collapsed": false
   },
   "id": "faa785ba9fba5b58"
  }
 ],
 "metadata": {
  "kernelspec": {
   "display_name": "Python 3",
   "language": "python",
   "name": "python3"
  },
  "language_info": {
   "codemirror_mode": {
    "name": "ipython",
    "version": 2
   },
   "file_extension": ".py",
   "mimetype": "text/x-python",
   "name": "python",
   "nbconvert_exporter": "python",
   "pygments_lexer": "ipython2",
   "version": "2.7.6"
  }
 },
 "nbformat": 4,
 "nbformat_minor": 5
}
