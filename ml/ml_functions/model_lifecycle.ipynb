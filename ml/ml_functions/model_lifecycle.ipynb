{
 "cells": [
  {
   "cell_type": "code",
   "execution_count": 1,
   "id": "initial_id",
   "metadata": {
    "collapsed": true,
    "ExecuteTime": {
     "end_time": "2023-12-03T20:25:19.982155204Z",
     "start_time": "2023-12-03T20:25:19.405289241Z"
    }
   },
   "outputs": [],
   "source": [
    "from ml.features.preprocessing import get_data\n",
    "from ml.ml_functions.registry.model_registry import log_sklearn_model_to_mlflow\n",
    "from ml.ml_functions.serve.mlflow_model_serve import mlflow_model_prediction"
   ]
  },
  {
   "cell_type": "markdown",
   "source": [
    "## Load Dataset with new Features"
   ],
   "metadata": {
    "collapsed": false
   },
   "id": "d40797b61158c710"
  },
  {
   "cell_type": "code",
   "execution_count": 2,
   "outputs": [
    {
     "name": "stdout",
     "output_type": "stream",
     "text": [
      "[*********************100%%**********************]  1 of 1 completed\n",
      "[*********************100%%**********************]  1 of 1 completed\n",
      "[*********************100%%**********************]  1 of 1 completed\n",
      "[*********************100%%**********************]  1 of 1 completed\n",
      "[*********************100%%**********************]  1 of 1 completed\n",
      "[*********************100%%**********************]  1 of 1 completed\n",
      "[*********************100%%**********************]  1 of 1 completed\n",
      "[*********************100%%**********************]  1 of 1 completed\n",
      "[*********************100%%**********************]  1 of 1 completed\n",
      "[*********************100%%**********************]  1 of 1 completed\n",
      "[*********************100%%**********************]  1 of 1 completed\n",
      "[*********************100%%**********************]  1 of 1 completed\n",
      "[*********************100%%**********************]  1 of 1 completed\n",
      "[*********************100%%**********************]  1 of 1 completed\n",
      "[*********************100%%**********************]  1 of 1 completed\n",
      "[*********************100%%**********************]  1 of 1 completed\n",
      "[*********************100%%**********************]  1 of 1 completed\n",
      "[*********************100%%**********************]  1 of 1 completed\n",
      "[*********************100%%**********************]  1 of 1 completed\n",
      "[*********************100%%**********************]  1 of 1 completed\n",
      "[*********************100%%**********************]  1 of 1 completed\n",
      "[*********************100%%**********************]  1 of 1 completed\n",
      "[*********************100%%**********************]  1 of 1 completed\n",
      "[*********************100%%**********************]  1 of 1 completed\n",
      "[*********************100%%**********************]  1 of 1 completed\n",
      "[*********************100%%**********************]  1 of 1 completed\n",
      "[*********************100%%**********************]  1 of 1 completed\n",
      "[*********************100%%**********************]  1 of 1 completed\n",
      "[*********************100%%**********************]  1 of 1 completed\n"
     ]
    }
   ],
   "source": [
    "stock_data, last_day_df = get_data(save_data=False)"
   ],
   "metadata": {
    "collapsed": false,
    "ExecuteTime": {
     "end_time": "2023-12-03T20:25:27.244549271Z",
     "start_time": "2023-12-03T20:25:21.247390604Z"
    }
   },
   "id": "d181169487ca65cb"
  },
  {
   "cell_type": "code",
   "execution_count": 3,
   "outputs": [
    {
     "data": {
      "text/plain": "                  Close      Volume  Target       SMA 10       EMA 10  \\\nDate                                                                    \n2000-09-18  1444.510010   962500000       0  1484.369006  1479.491052   \n2000-09-19  1459.900024  1024900000       0  1479.651013  1475.929047   \n2000-09-20  1451.339966  1104000000       0  1475.560010  1471.458305   \n2000-09-21  1449.050049  1105400000       0  1470.214014  1467.384077   \n2000-09-22  1448.719971  1185500000       0  1465.636011  1463.990603   \n...                 ...         ...     ...          ...          ...   \n2023-11-10  4415.240234  3665080000       0  4316.432910  4334.728062   \n2023-11-13  4411.549805  3326240000       0  4340.905908  4348.695652   \n2023-11-14  4495.700195  4700350000       0  4371.095947  4375.423751   \n2023-11-15  4502.879883  4347170000       0  4397.597949  4398.597593   \n2023-11-16  4508.240234  3964520000       0  4416.643994  4418.532619   \n\n                 EMA 20       WMA 10  Momentum 10          SAR        RSI  \\\nDate                                                                        \n2000-09-18  1484.344255  1476.255833   -76.260010  1505.653274  35.962151   \n2000-09-19  1482.016233  1471.806927   -47.179932  1496.730622  43.209946   \n2000-09-20  1479.094683  1466.659464   -40.910034  1489.057141  40.466555   \n2000-09-21  1476.233290  1461.839471   -53.459961  1479.759991  39.739686   \n2000-09-22  1473.612974  1457.931463   -45.780029  1471.950384  39.629187   \n...                 ...          ...          ...          ...        ...   \n2023-11-10  4310.818493  4354.839054   297.870117  4187.033287  61.756785   \n2023-11-13  4320.411951  4372.133034   244.729980  4214.752867  61.245758   \n2023-11-14  4337.106070  4400.277450   301.900391  4243.733832  67.790687   \n2023-11-15  4352.894052  4424.238166   265.020020  4286.123607  68.282856   \n2023-11-16  4367.688927  4444.354945   190.460449  4328.431943  68.667798   \n\n            ...   ^IBEX Close  SI=F Close  HG=F Close  NG=F Close  ^TNX Close  \\\nDate        ...                                                                 \n2000-09-18  ...  11188.099609    4.876000      0.9185       5.295       5.871   \n2000-09-19  ...  11065.500000    4.883000      0.9215       5.370       5.850   \n2000-09-20  ...  10901.299805    4.830000      0.9015       5.320       5.892   \n2000-09-21  ...  10803.400391    4.872000      0.9255       5.287       5.871   \n2000-09-22  ...  11029.400391    4.910000      0.9195       5.131       5.829   \n...         ...           ...         ...         ...         ...         ...   \n2023-11-10  ...   9371.700195   22.215000      3.5835       3.033       4.628   \n2023-11-13  ...   9461.700195   22.299000      3.6625       3.197       4.632   \n2023-11-14  ...   9623.299805   23.079000      3.6825       3.106       4.441   \n2023-11-15  ...   9640.700195   23.485001      3.7175       3.190       4.535   \n2023-11-16  ...   9667.400391   23.892000      3.7045       3.062       4.445   \n\n            ^IRX Close  ^FVX Close  ^TYX Close   SPY Close  EFA Close  \nDate                                                                   \n2000-09-18       5.950       5.900       5.956  144.656250  42.833332  \n2000-09-19       5.970       5.907       5.914  145.968750  42.833332  \n2000-09-20       5.970       5.953       5.962  144.890625  42.833332  \n2000-09-21       5.960       5.945       5.927  142.687500  42.833332  \n2000-09-22       5.970       5.905       5.904  145.281250  42.833332  \n...                ...         ...         ...         ...        ...  \n2023-11-10       5.250       4.666       4.733  440.609985  69.099998  \n2023-11-13       5.260       4.663       4.744  440.190002  69.279999  \n2023-11-14       5.253       4.421       4.621  448.730011  71.050003  \n2023-11-15       5.255       4.526       4.692  449.679993  70.940002  \n2023-11-16       5.243       4.428       4.622  450.230011  70.889999  \n\n[5829 rows x 53 columns]",
      "text/html": "<div>\n<style scoped>\n    .dataframe tbody tr th:only-of-type {\n        vertical-align: middle;\n    }\n\n    .dataframe tbody tr th {\n        vertical-align: top;\n    }\n\n    .dataframe thead th {\n        text-align: right;\n    }\n</style>\n<table border=\"1\" class=\"dataframe\">\n  <thead>\n    <tr style=\"text-align: right;\">\n      <th></th>\n      <th>Close</th>\n      <th>Volume</th>\n      <th>Target</th>\n      <th>SMA 10</th>\n      <th>EMA 10</th>\n      <th>EMA 20</th>\n      <th>WMA 10</th>\n      <th>Momentum 10</th>\n      <th>SAR</th>\n      <th>RSI</th>\n      <th>...</th>\n      <th>^IBEX Close</th>\n      <th>SI=F Close</th>\n      <th>HG=F Close</th>\n      <th>NG=F Close</th>\n      <th>^TNX Close</th>\n      <th>^IRX Close</th>\n      <th>^FVX Close</th>\n      <th>^TYX Close</th>\n      <th>SPY Close</th>\n      <th>EFA Close</th>\n    </tr>\n    <tr>\n      <th>Date</th>\n      <th></th>\n      <th></th>\n      <th></th>\n      <th></th>\n      <th></th>\n      <th></th>\n      <th></th>\n      <th></th>\n      <th></th>\n      <th></th>\n      <th></th>\n      <th></th>\n      <th></th>\n      <th></th>\n      <th></th>\n      <th></th>\n      <th></th>\n      <th></th>\n      <th></th>\n      <th></th>\n      <th></th>\n    </tr>\n  </thead>\n  <tbody>\n    <tr>\n      <th>2000-09-18</th>\n      <td>1444.510010</td>\n      <td>962500000</td>\n      <td>0</td>\n      <td>1484.369006</td>\n      <td>1479.491052</td>\n      <td>1484.344255</td>\n      <td>1476.255833</td>\n      <td>-76.260010</td>\n      <td>1505.653274</td>\n      <td>35.962151</td>\n      <td>...</td>\n      <td>11188.099609</td>\n      <td>4.876000</td>\n      <td>0.9185</td>\n      <td>5.295</td>\n      <td>5.871</td>\n      <td>5.950</td>\n      <td>5.900</td>\n      <td>5.956</td>\n      <td>144.656250</td>\n      <td>42.833332</td>\n    </tr>\n    <tr>\n      <th>2000-09-19</th>\n      <td>1459.900024</td>\n      <td>1024900000</td>\n      <td>0</td>\n      <td>1479.651013</td>\n      <td>1475.929047</td>\n      <td>1482.016233</td>\n      <td>1471.806927</td>\n      <td>-47.179932</td>\n      <td>1496.730622</td>\n      <td>43.209946</td>\n      <td>...</td>\n      <td>11065.500000</td>\n      <td>4.883000</td>\n      <td>0.9215</td>\n      <td>5.370</td>\n      <td>5.850</td>\n      <td>5.970</td>\n      <td>5.907</td>\n      <td>5.914</td>\n      <td>145.968750</td>\n      <td>42.833332</td>\n    </tr>\n    <tr>\n      <th>2000-09-20</th>\n      <td>1451.339966</td>\n      <td>1104000000</td>\n      <td>0</td>\n      <td>1475.560010</td>\n      <td>1471.458305</td>\n      <td>1479.094683</td>\n      <td>1466.659464</td>\n      <td>-40.910034</td>\n      <td>1489.057141</td>\n      <td>40.466555</td>\n      <td>...</td>\n      <td>10901.299805</td>\n      <td>4.830000</td>\n      <td>0.9015</td>\n      <td>5.320</td>\n      <td>5.892</td>\n      <td>5.970</td>\n      <td>5.953</td>\n      <td>5.962</td>\n      <td>144.890625</td>\n      <td>42.833332</td>\n    </tr>\n    <tr>\n      <th>2000-09-21</th>\n      <td>1449.050049</td>\n      <td>1105400000</td>\n      <td>0</td>\n      <td>1470.214014</td>\n      <td>1467.384077</td>\n      <td>1476.233290</td>\n      <td>1461.839471</td>\n      <td>-53.459961</td>\n      <td>1479.759991</td>\n      <td>39.739686</td>\n      <td>...</td>\n      <td>10803.400391</td>\n      <td>4.872000</td>\n      <td>0.9255</td>\n      <td>5.287</td>\n      <td>5.871</td>\n      <td>5.960</td>\n      <td>5.945</td>\n      <td>5.927</td>\n      <td>142.687500</td>\n      <td>42.833332</td>\n    </tr>\n    <tr>\n      <th>2000-09-22</th>\n      <td>1448.719971</td>\n      <td>1185500000</td>\n      <td>0</td>\n      <td>1465.636011</td>\n      <td>1463.990603</td>\n      <td>1473.612974</td>\n      <td>1457.931463</td>\n      <td>-45.780029</td>\n      <td>1471.950384</td>\n      <td>39.629187</td>\n      <td>...</td>\n      <td>11029.400391</td>\n      <td>4.910000</td>\n      <td>0.9195</td>\n      <td>5.131</td>\n      <td>5.829</td>\n      <td>5.970</td>\n      <td>5.905</td>\n      <td>5.904</td>\n      <td>145.281250</td>\n      <td>42.833332</td>\n    </tr>\n    <tr>\n      <th>...</th>\n      <td>...</td>\n      <td>...</td>\n      <td>...</td>\n      <td>...</td>\n      <td>...</td>\n      <td>...</td>\n      <td>...</td>\n      <td>...</td>\n      <td>...</td>\n      <td>...</td>\n      <td>...</td>\n      <td>...</td>\n      <td>...</td>\n      <td>...</td>\n      <td>...</td>\n      <td>...</td>\n      <td>...</td>\n      <td>...</td>\n      <td>...</td>\n      <td>...</td>\n      <td>...</td>\n    </tr>\n    <tr>\n      <th>2023-11-10</th>\n      <td>4415.240234</td>\n      <td>3665080000</td>\n      <td>0</td>\n      <td>4316.432910</td>\n      <td>4334.728062</td>\n      <td>4310.818493</td>\n      <td>4354.839054</td>\n      <td>297.870117</td>\n      <td>4187.033287</td>\n      <td>61.756785</td>\n      <td>...</td>\n      <td>9371.700195</td>\n      <td>22.215000</td>\n      <td>3.5835</td>\n      <td>3.033</td>\n      <td>4.628</td>\n      <td>5.250</td>\n      <td>4.666</td>\n      <td>4.733</td>\n      <td>440.609985</td>\n      <td>69.099998</td>\n    </tr>\n    <tr>\n      <th>2023-11-13</th>\n      <td>4411.549805</td>\n      <td>3326240000</td>\n      <td>0</td>\n      <td>4340.905908</td>\n      <td>4348.695652</td>\n      <td>4320.411951</td>\n      <td>4372.133034</td>\n      <td>244.729980</td>\n      <td>4214.752867</td>\n      <td>61.245758</td>\n      <td>...</td>\n      <td>9461.700195</td>\n      <td>22.299000</td>\n      <td>3.6625</td>\n      <td>3.197</td>\n      <td>4.632</td>\n      <td>5.260</td>\n      <td>4.663</td>\n      <td>4.744</td>\n      <td>440.190002</td>\n      <td>69.279999</td>\n    </tr>\n    <tr>\n      <th>2023-11-14</th>\n      <td>4495.700195</td>\n      <td>4700350000</td>\n      <td>0</td>\n      <td>4371.095947</td>\n      <td>4375.423751</td>\n      <td>4337.106070</td>\n      <td>4400.277450</td>\n      <td>301.900391</td>\n      <td>4243.733832</td>\n      <td>67.790687</td>\n      <td>...</td>\n      <td>9623.299805</td>\n      <td>23.079000</td>\n      <td>3.6825</td>\n      <td>3.106</td>\n      <td>4.441</td>\n      <td>5.253</td>\n      <td>4.421</td>\n      <td>4.621</td>\n      <td>448.730011</td>\n      <td>71.050003</td>\n    </tr>\n    <tr>\n      <th>2023-11-15</th>\n      <td>4502.879883</td>\n      <td>4347170000</td>\n      <td>0</td>\n      <td>4397.597949</td>\n      <td>4398.597593</td>\n      <td>4352.894052</td>\n      <td>4424.238166</td>\n      <td>265.020020</td>\n      <td>4286.123607</td>\n      <td>68.282856</td>\n      <td>...</td>\n      <td>9640.700195</td>\n      <td>23.485001</td>\n      <td>3.7175</td>\n      <td>3.190</td>\n      <td>4.535</td>\n      <td>5.255</td>\n      <td>4.526</td>\n      <td>4.692</td>\n      <td>449.679993</td>\n      <td>70.940002</td>\n    </tr>\n    <tr>\n      <th>2023-11-16</th>\n      <td>4508.240234</td>\n      <td>3964520000</td>\n      <td>0</td>\n      <td>4416.643994</td>\n      <td>4418.532619</td>\n      <td>4367.688927</td>\n      <td>4444.354945</td>\n      <td>190.460449</td>\n      <td>4328.431943</td>\n      <td>68.667798</td>\n      <td>...</td>\n      <td>9667.400391</td>\n      <td>23.892000</td>\n      <td>3.7045</td>\n      <td>3.062</td>\n      <td>4.445</td>\n      <td>5.243</td>\n      <td>4.428</td>\n      <td>4.622</td>\n      <td>450.230011</td>\n      <td>70.889999</td>\n    </tr>\n  </tbody>\n</table>\n<p>5829 rows × 53 columns</p>\n</div>"
     },
     "execution_count": 3,
     "metadata": {},
     "output_type": "execute_result"
    }
   ],
   "source": [
    "stock_data"
   ],
   "metadata": {
    "collapsed": false,
    "ExecuteTime": {
     "end_time": "2023-12-03T20:25:42.559945415Z",
     "start_time": "2023-12-03T20:25:42.503250428Z"
    }
   },
   "id": "74fd9713e407c8c8"
  },
  {
   "cell_type": "markdown",
   "source": [
    "## Train your Sklearn-Model"
   ],
   "metadata": {
    "collapsed": false
   },
   "id": "a171c8b3849759c"
  },
  {
   "cell_type": "code",
   "execution_count": 4,
   "outputs": [
    {
     "name": "stdout",
     "output_type": "stream",
     "text": [
      "Modellname: ExtraTreesClassifier\n",
      "Genauigkeit: 0.9150943396226415\n"
     ]
    }
   ],
   "source": [
    "from ml.ml_functions.training.train_extra_tree import train_extra_tree\n",
    "\n",
    "model, accuracy = train_extra_tree(stock_data)"
   ],
   "metadata": {
    "collapsed": false,
    "ExecuteTime": {
     "end_time": "2023-12-03T20:25:59.792522466Z",
     "start_time": "2023-12-03T20:25:50.955832903Z"
    }
   },
   "id": "6c3fcfe3b87dbeff"
  },
  {
   "cell_type": "markdown",
   "source": [
    "## Model Registry "
   ],
   "metadata": {
    "collapsed": false
   },
   "id": "6755580fd945d6d7"
  },
  {
   "cell_type": "markdown",
   "source": [
    "### mlflow server --host 0.0.0.0 --port 5000\n"
   ],
   "metadata": {
    "collapsed": false
   },
   "id": "6e615ea9014cb706"
  },
  {
   "cell_type": "code",
   "execution_count": 7,
   "outputs": [
    {
     "name": "stderr",
     "output_type": "stream",
     "text": [
      "2023/12/03 15:37:40 INFO mlflow.tracking.fluent: Experiment with name 'sp500_prediction' does not exist. Creating a new experiment.\n",
      "2023/12/03 15:37:44 INFO mlflow.store.model_registry.abstract_store: Waiting up to 300 seconds for model version to finish creation. Model name: best_ExtraTreesClassifier_model, version 1\n"
     ]
    }
   ],
   "source": [
    "actual_model_path = log_sklearn_model_to_mlflow(model=model, accuracy=accuracy)"
   ],
   "metadata": {
    "collapsed": false,
    "ExecuteTime": {
     "end_time": "2023-12-03T14:37:44.033410678Z",
     "start_time": "2023-12-03T14:37:40.549380633Z"
    }
   },
   "id": "d2dcd2ca15f238ba"
  },
  {
   "cell_type": "markdown",
   "source": [
    "## Save current feature data for prediction"
   ],
   "metadata": {
    "collapsed": false
   },
   "id": "d87e2add9696dc56"
  },
  {
   "cell_type": "code",
   "execution_count": 17,
   "outputs": [
    {
     "name": "stdout",
     "output_type": "stream",
     "text": [
      "[*********************100%%**********************]  1 of 1 completed\n"
     ]
    },
    {
     "name": "stderr",
     "output_type": "stream",
     "text": [
      "/home/erik/DataspellProjects/stock-prediction/ml/features/preprocessing.py:52: SettingWithCopyWarning: \n",
      "A value is trying to be set on a copy of a slice from a DataFrame.\n",
      "Try using .loc[row_indexer,col_indexer] = value instead\n",
      "\n",
      "See the caveats in the documentation: https://pandas.pydata.org/pandas-docs/stable/user_guide/indexing.html#returning-a-view-versus-a-copy\n",
      "  df[f\"SMA {time_period}\"] = ta.SMA(inputs, timeperiod=time_period)\n",
      "/home/erik/DataspellProjects/stock-prediction/ml/features/preprocessing.py:53: SettingWithCopyWarning: \n",
      "A value is trying to be set on a copy of a slice from a DataFrame.\n",
      "Try using .loc[row_indexer,col_indexer] = value instead\n",
      "\n",
      "See the caveats in the documentation: https://pandas.pydata.org/pandas-docs/stable/user_guide/indexing.html#returning-a-view-versus-a-copy\n",
      "  df[f\"EMA {time_period}\"] = ta.EMA(inputs, timeperiod=time_period)\n",
      "/home/erik/DataspellProjects/stock-prediction/ml/features/preprocessing.py:54: SettingWithCopyWarning: \n",
      "A value is trying to be set on a copy of a slice from a DataFrame.\n",
      "Try using .loc[row_indexer,col_indexer] = value instead\n",
      "\n",
      "See the caveats in the documentation: https://pandas.pydata.org/pandas-docs/stable/user_guide/indexing.html#returning-a-view-versus-a-copy\n",
      "  df[f\"EMA {20}\"] = ta.EMA(inputs, timeperiod=20)\n",
      "/home/erik/DataspellProjects/stock-prediction/ml/features/preprocessing.py:55: SettingWithCopyWarning: \n",
      "A value is trying to be set on a copy of a slice from a DataFrame.\n",
      "Try using .loc[row_indexer,col_indexer] = value instead\n",
      "\n",
      "See the caveats in the documentation: https://pandas.pydata.org/pandas-docs/stable/user_guide/indexing.html#returning-a-view-versus-a-copy\n",
      "  df[f\"WMA {time_period}\"] = ta.WMA(inputs, timeperiod=time_period)\n",
      "/home/erik/DataspellProjects/stock-prediction/ml/features/preprocessing.py:56: SettingWithCopyWarning: \n",
      "A value is trying to be set on a copy of a slice from a DataFrame.\n",
      "Try using .loc[row_indexer,col_indexer] = value instead\n",
      "\n",
      "See the caveats in the documentation: https://pandas.pydata.org/pandas-docs/stable/user_guide/indexing.html#returning-a-view-versus-a-copy\n",
      "  df[f\"Momentum {time_period}\"] = ta.MOM(inputs, timeperiod=time_period)\n",
      "/home/erik/DataspellProjects/stock-prediction/ml/features/preprocessing.py:57: SettingWithCopyWarning: \n",
      "A value is trying to be set on a copy of a slice from a DataFrame.\n",
      "Try using .loc[row_indexer,col_indexer] = value instead\n",
      "\n",
      "See the caveats in the documentation: https://pandas.pydata.org/pandas-docs/stable/user_guide/indexing.html#returning-a-view-versus-a-copy\n",
      "  df[\"SAR\"] = ta.SAR(df[\"High\"], df[\"Low\"], acceleration=0.02, maximum=0.2)\n",
      "/home/erik/DataspellProjects/stock-prediction/ml/features/preprocessing.py:58: SettingWithCopyWarning: \n",
      "A value is trying to be set on a copy of a slice from a DataFrame.\n",
      "Try using .loc[row_indexer,col_indexer] = value instead\n",
      "\n",
      "See the caveats in the documentation: https://pandas.pydata.org/pandas-docs/stable/user_guide/indexing.html#returning-a-view-versus-a-copy\n",
      "  df[\"RSI\"] = ta.RSI(df[\"Close\"], timeperiod=14)\n",
      "/home/erik/DataspellProjects/stock-prediction/ml/features/preprocessing.py:59: SettingWithCopyWarning: \n",
      "A value is trying to be set on a copy of a slice from a DataFrame.\n",
      "Try using .loc[row_indexer,col_indexer] = value instead\n",
      "\n",
      "See the caveats in the documentation: https://pandas.pydata.org/pandas-docs/stable/user_guide/indexing.html#returning-a-view-versus-a-copy\n",
      "  df[\"ROC\"] = ta.ROC(df[\"Close\"], timeperiod=10)\n",
      "/home/erik/DataspellProjects/stock-prediction/ml/features/preprocessing.py:60: SettingWithCopyWarning: \n",
      "A value is trying to be set on a copy of a slice from a DataFrame.\n",
      "Try using .loc[row_indexer,col_indexer] = value instead\n",
      "\n",
      "See the caveats in the documentation: https://pandas.pydata.org/pandas-docs/stable/user_guide/indexing.html#returning-a-view-versus-a-copy\n",
      "  df[\"%R\"] = ta.WILLR(df[\"High\"], df[\"Low\"], df[\"Close\"], timeperiod=14)\n",
      "/home/erik/DataspellProjects/stock-prediction/ml/features/preprocessing.py:61: SettingWithCopyWarning: \n",
      "A value is trying to be set on a copy of a slice from a DataFrame.\n",
      "Try using .loc[row_indexer,col_indexer] = value instead\n",
      "\n",
      "See the caveats in the documentation: https://pandas.pydata.org/pandas-docs/stable/user_guide/indexing.html#returning-a-view-versus-a-copy\n",
      "  df[\"OBV\"] = ta.OBV(df[\"Close\"], df[\"Volume\"])\n",
      "/home/erik/DataspellProjects/stock-prediction/ml/features/preprocessing.py:62: SettingWithCopyWarning: \n",
      "A value is trying to be set on a copy of a slice from a DataFrame.\n",
      "Try using .loc[row_indexer,col_indexer] = value instead\n",
      "\n",
      "See the caveats in the documentation: https://pandas.pydata.org/pandas-docs/stable/user_guide/indexing.html#returning-a-view-versus-a-copy\n",
      "  df[\"MACD\"], df[\"MACD_SIGNAL\"], df[\"MACD_HIST\"] = ta.MACD(df[\"Close\"], fastperiod=12, slowperiod=26, signalperiod=9)\n",
      "/home/erik/DataspellProjects/stock-prediction/ml/features/preprocessing.py:62: SettingWithCopyWarning: \n",
      "A value is trying to be set on a copy of a slice from a DataFrame.\n",
      "Try using .loc[row_indexer,col_indexer] = value instead\n",
      "\n",
      "See the caveats in the documentation: https://pandas.pydata.org/pandas-docs/stable/user_guide/indexing.html#returning-a-view-versus-a-copy\n",
      "  df[\"MACD\"], df[\"MACD_SIGNAL\"], df[\"MACD_HIST\"] = ta.MACD(df[\"Close\"], fastperiod=12, slowperiod=26, signalperiod=9)\n",
      "/home/erik/DataspellProjects/stock-prediction/ml/features/preprocessing.py:62: SettingWithCopyWarning: \n",
      "A value is trying to be set on a copy of a slice from a DataFrame.\n",
      "Try using .loc[row_indexer,col_indexer] = value instead\n",
      "\n",
      "See the caveats in the documentation: https://pandas.pydata.org/pandas-docs/stable/user_guide/indexing.html#returning-a-view-versus-a-copy\n",
      "  df[\"MACD\"], df[\"MACD_SIGNAL\"], df[\"MACD_HIST\"] = ta.MACD(df[\"Close\"], fastperiod=12, slowperiod=26, signalperiod=9)\n",
      "/home/erik/DataspellProjects/stock-prediction/ml/features/preprocessing.py:63: SettingWithCopyWarning: \n",
      "A value is trying to be set on a copy of a slice from a DataFrame.\n",
      "Try using .loc[row_indexer,col_indexer] = value instead\n",
      "\n",
      "See the caveats in the documentation: https://pandas.pydata.org/pandas-docs/stable/user_guide/indexing.html#returning-a-view-versus-a-copy\n",
      "  df[\"CCI\"] = ta.CCI(df[\"High\"], df[\"Low\"], df[\"Close\"], timeperiod=14)\n",
      "/home/erik/DataspellProjects/stock-prediction/ml/features/preprocessing.py:64: SettingWithCopyWarning: \n",
      "A value is trying to be set on a copy of a slice from a DataFrame.\n",
      "Try using .loc[row_indexer,col_indexer] = value instead\n",
      "\n",
      "See the caveats in the documentation: https://pandas.pydata.org/pandas-docs/stable/user_guide/indexing.html#returning-a-view-versus-a-copy\n",
      "  df[\"ADOSC\"] = ta.ADOSC(df[\"High\"], df[\"Low\"], df[\"Close\"], df[\"Volume\"], fastperiod=3, slowperiod=10)\n",
      "/home/erik/DataspellProjects/stock-prediction/ml/features/preprocessing.py:65: SettingWithCopyWarning: \n",
      "A value is trying to be set on a copy of a slice from a DataFrame.\n",
      "Try using .loc[row_indexer,col_indexer] = value instead\n",
      "\n",
      "See the caveats in the documentation: https://pandas.pydata.org/pandas-docs/stable/user_guide/indexing.html#returning-a-view-versus-a-copy\n",
      "  df[\"%K\"] = (df['Close'] - df['Low']) * 100 / (df['High'] - df['Low'])\n",
      "/home/erik/DataspellProjects/stock-prediction/ml/features/preprocessing.py:66: SettingWithCopyWarning: \n",
      "A value is trying to be set on a copy of a slice from a DataFrame.\n",
      "Try using .loc[row_indexer,col_indexer] = value instead\n",
      "\n",
      "See the caveats in the documentation: https://pandas.pydata.org/pandas-docs/stable/user_guide/indexing.html#returning-a-view-versus-a-copy\n",
      "  df[\"%D\"] = df['%K'].rolling(3).mean()\n",
      "/home/erik/DataspellProjects/stock-prediction/ml/features/preprocessing.py:69: SettingWithCopyWarning: \n",
      "A value is trying to be set on a copy of a slice from a DataFrame.\n",
      "Try using .loc[row_indexer,col_indexer] = value instead\n",
      "\n",
      "See the caveats in the documentation: https://pandas.pydata.org/pandas-docs/stable/user_guide/indexing.html#returning-a-view-versus-a-copy\n",
      "  df['+DMI'] = ta.PLUS_DI(df['High'],df['Low'],df['Close'],timeperiod=14)\n",
      "/home/erik/DataspellProjects/stock-prediction/ml/features/preprocessing.py:70: SettingWithCopyWarning: \n",
      "A value is trying to be set on a copy of a slice from a DataFrame.\n",
      "Try using .loc[row_indexer,col_indexer] = value instead\n",
      "\n",
      "See the caveats in the documentation: https://pandas.pydata.org/pandas-docs/stable/user_guide/indexing.html#returning-a-view-versus-a-copy\n",
      "  df['-DMI'] = ta.MINUS_DI(df['High'],df['Low'],df['Close'],timeperiod=14)\n",
      "/home/erik/DataspellProjects/stock-prediction/ml/features/preprocessing.py:71: SettingWithCopyWarning: \n",
      "A value is trying to be set on a copy of a slice from a DataFrame.\n",
      "Try using .loc[row_indexer,col_indexer] = value instead\n",
      "\n",
      "See the caveats in the documentation: https://pandas.pydata.org/pandas-docs/stable/user_guide/indexing.html#returning-a-view-versus-a-copy\n",
      "  df['ADX'] = ta.ADX(df['High'],df['Low'],df['Close'],timeperiod=14)\n",
      "/home/erik/DataspellProjects/stock-prediction/ml/features/preprocessing.py:72: SettingWithCopyWarning: \n",
      "A value is trying to be set on a copy of a slice from a DataFrame.\n",
      "Try using .loc[row_indexer,col_indexer] = value instead\n",
      "\n",
      "See the caveats in the documentation: https://pandas.pydata.org/pandas-docs/stable/user_guide/indexing.html#returning-a-view-versus-a-copy\n",
      "  df['up_band'], df['mid_band'], df['low_band'] = ta.BBANDS(df['Close'], timeperiod =20)\n",
      "/home/erik/DataspellProjects/stock-prediction/ml/features/preprocessing.py:72: SettingWithCopyWarning: \n",
      "A value is trying to be set on a copy of a slice from a DataFrame.\n",
      "Try using .loc[row_indexer,col_indexer] = value instead\n",
      "\n",
      "See the caveats in the documentation: https://pandas.pydata.org/pandas-docs/stable/user_guide/indexing.html#returning-a-view-versus-a-copy\n",
      "  df['up_band'], df['mid_band'], df['low_band'] = ta.BBANDS(df['Close'], timeperiod =20)\n",
      "/home/erik/DataspellProjects/stock-prediction/ml/features/preprocessing.py:72: SettingWithCopyWarning: \n",
      "A value is trying to be set on a copy of a slice from a DataFrame.\n",
      "Try using .loc[row_indexer,col_indexer] = value instead\n",
      "\n",
      "See the caveats in the documentation: https://pandas.pydata.org/pandas-docs/stable/user_guide/indexing.html#returning-a-view-versus-a-copy\n",
      "  df['up_band'], df['mid_band'], df['low_band'] = ta.BBANDS(df['Close'], timeperiod =20)\n",
      "/home/erik/DataspellProjects/stock-prediction/ml/features/preprocessing.py:74: SettingWithCopyWarning: \n",
      "A value is trying to be set on a copy of a slice from a DataFrame\n",
      "\n",
      "See the caveats in the documentation: https://pandas.pydata.org/pandas-docs/stable/user_guide/indexing.html#returning-a-view-versus-a-copy\n",
      "  df.dropna(inplace=True)\n",
      "/home/erik/DataspellProjects/stock-prediction/ml/features/preprocessing.py:75: SettingWithCopyWarning: \n",
      "A value is trying to be set on a copy of a slice from a DataFrame\n",
      "\n",
      "See the caveats in the documentation: https://pandas.pydata.org/pandas-docs/stable/user_guide/indexing.html#returning-a-view-versus-a-copy\n",
      "  df.drop([\"High\", \"Low\", \"Adj Close\", \"Open\"], axis=1, inplace=True)\n",
      "/home/erik/DataspellProjects/stock-prediction/ml/features/preprocessing.py:82: SettingWithCopyWarning: \n",
      "A value is trying to be set on a copy of a slice from a DataFrame.\n",
      "Try using .loc[row_indexer,col_indexer] = value instead\n",
      "\n",
      "See the caveats in the documentation: https://pandas.pydata.org/pandas-docs/stable/user_guide/indexing.html#returning-a-view-versus-a-copy\n",
      "  df[numeric_columns] = scaler.fit_transform(df[numeric_columns])\n",
      "/home/erik/DataspellProjects/stock-prediction/ml/features/preprocessing.py:83: SettingWithCopyWarning: \n",
      "A value is trying to be set on a copy of a slice from a DataFrame.\n",
      "Try using .loc[row_indexer,col_indexer] = value instead\n",
      "\n",
      "See the caveats in the documentation: https://pandas.pydata.org/pandas-docs/stable/user_guide/indexing.html#returning-a-view-versus-a-copy\n",
      "  df['Target'] = target_column\n"
     ]
    },
    {
     "name": "stdout",
     "output_type": "stream",
     "text": [
      "Complete. Return to the InfluxDB UI.\n",
      "Saved Data to Influx and CSV\n"
     ]
    }
   ],
   "source": [
    "stock_data, last_day_df = get_data(save_data=True, new_model=(model.__class__.__name__, accuracy))"
   ],
   "metadata": {
    "collapsed": false,
    "ExecuteTime": {
     "end_time": "2023-12-03T15:34:31.361631879Z",
     "start_time": "2023-12-03T15:34:30.850688034Z"
    }
   },
   "id": "335502446c589d43"
  },
  {
   "cell_type": "markdown",
   "source": [
    "### Predict the new Data with Mlflow-Model"
   ],
   "metadata": {
    "collapsed": false
   },
   "id": "b4a846589493b4b"
  },
  {
   "cell_type": "code",
   "execution_count": 18,
   "outputs": [
    {
     "ename": "NameError",
     "evalue": "name 'mlflow_model_prediction' is not defined",
     "output_type": "error",
     "traceback": [
      "\u001B[0;31m---------------------------------------------------------------------------\u001B[0m",
      "\u001B[0;31mNameError\u001B[0m                                 Traceback (most recent call last)",
      "Cell \u001B[0;32mIn[18], line 1\u001B[0m\n\u001B[0;32m----> 1\u001B[0m result \u001B[38;5;241m=\u001B[39m \u001B[43mmlflow_model_prediction\u001B[49m(model\u001B[38;5;241m=\u001B[39mactual_model_path)\n",
      "\u001B[0;31mNameError\u001B[0m: name 'mlflow_model_prediction' is not defined"
     ]
    }
   ],
   "source": [
    "result = mlflow_model_prediction(model=actual_model_path)"
   ],
   "metadata": {
    "collapsed": false,
    "ExecuteTime": {
     "end_time": "2023-12-03T15:34:39.297268144Z",
     "start_time": "2023-12-03T15:34:39.259353829Z"
    }
   },
   "id": "238bb0af6b6adb1e"
  },
  {
   "cell_type": "code",
   "execution_count": null,
   "outputs": [],
   "source": [
    "result"
   ],
   "metadata": {
    "collapsed": false
   },
   "id": "faa785ba9fba5b58"
  }
 ],
 "metadata": {
  "kernelspec": {
   "display_name": "Python 3",
   "language": "python",
   "name": "python3"
  },
  "language_info": {
   "codemirror_mode": {
    "name": "ipython",
    "version": 2
   },
   "file_extension": ".py",
   "mimetype": "text/x-python",
   "name": "python",
   "nbconvert_exporter": "python",
   "pygments_lexer": "ipython2",
   "version": "2.7.6"
  }
 },
 "nbformat": 4,
 "nbformat_minor": 5
}
