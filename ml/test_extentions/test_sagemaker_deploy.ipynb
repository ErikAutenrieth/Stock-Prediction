{
 "cells": [
  {
   "cell_type": "code",
   "execution_count": 1,
   "outputs": [],
   "source": [
    "import pandas as pd\n",
    "import numpy as np\n",
    "import mlflow\n",
    "import boto3\n",
    "import os\n",
    "import json\n",
    "from mlflow.deployments import get_deploy_client"
   ],
   "metadata": {
    "collapsed": false,
    "ExecuteTime": {
     "end_time": "2023-11-27T18:34:12.247825901Z",
     "start_time": "2023-11-27T18:34:10.656203269Z"
    }
   },
   "id": "7b7d168b89c18a88"
  },
  {
   "cell_type": "code",
   "execution_count": 10,
   "outputs": [],
   "source": [
    "from mlflow.deployments import get_deploy_client\n",
    "client = get_deploy_client(\"sagemaker\")"
   ],
   "metadata": {
    "collapsed": false,
    "ExecuteTime": {
     "end_time": "2023-11-17T20:15:23.430206528Z",
     "start_time": "2023-11-17T20:15:23.389241770Z"
    }
   },
   "id": "52b3ad63790c0e4c"
  },
  {
   "cell_type": "markdown",
   "source": [],
   "metadata": {
    "collapsed": false
   },
   "id": "efdbba7b5350d3ce"
  },
  {
   "cell_type": "code",
   "execution_count": 11,
   "outputs": [
    {
     "data": {
      "text/plain": "               Close    Volume   Rendite    SMA 10    EMA 10    EMA 20  \\\nDate                                                                     \n2023-11-15  2.924371  1.275609  0.105997  2.835659  2.836735  2.802099   \n\n              WMA 10  Momentum 10       SAR       RSI       ROC        %R  \\\nDate                                                                        \n2023-11-15  2.857765     4.766703  2.753382  1.229881  1.824033  1.133682   \n\n                 OBV     MACD  MACD_SIGNAL  MACD_HIST       CCI    ADOSC  \\\nDate                                                                       \n2023-11-15  2.132107  2.04021     0.477527   4.952725  0.992047  1.40634   \n\n                  %K        %D  \nDate                            \n2023-11-15 -0.784919  0.019175  ",
      "text/html": "<div>\n<style scoped>\n    .dataframe tbody tr th:only-of-type {\n        vertical-align: middle;\n    }\n\n    .dataframe tbody tr th {\n        vertical-align: top;\n    }\n\n    .dataframe thead th {\n        text-align: right;\n    }\n</style>\n<table border=\"1\" class=\"dataframe\">\n  <thead>\n    <tr style=\"text-align: right;\">\n      <th></th>\n      <th>Close</th>\n      <th>Volume</th>\n      <th>Rendite</th>\n      <th>SMA 10</th>\n      <th>EMA 10</th>\n      <th>EMA 20</th>\n      <th>WMA 10</th>\n      <th>Momentum 10</th>\n      <th>SAR</th>\n      <th>RSI</th>\n      <th>ROC</th>\n      <th>%R</th>\n      <th>OBV</th>\n      <th>MACD</th>\n      <th>MACD_SIGNAL</th>\n      <th>MACD_HIST</th>\n      <th>CCI</th>\n      <th>ADOSC</th>\n      <th>%K</th>\n      <th>%D</th>\n    </tr>\n    <tr>\n      <th>Date</th>\n      <th></th>\n      <th></th>\n      <th></th>\n      <th></th>\n      <th></th>\n      <th></th>\n      <th></th>\n      <th></th>\n      <th></th>\n      <th></th>\n      <th></th>\n      <th></th>\n      <th></th>\n      <th></th>\n      <th></th>\n      <th></th>\n      <th></th>\n      <th></th>\n      <th></th>\n      <th></th>\n    </tr>\n  </thead>\n  <tbody>\n    <tr>\n      <th>2023-11-15</th>\n      <td>2.924371</td>\n      <td>1.275609</td>\n      <td>0.105997</td>\n      <td>2.835659</td>\n      <td>2.836735</td>\n      <td>2.802099</td>\n      <td>2.857765</td>\n      <td>4.766703</td>\n      <td>2.753382</td>\n      <td>1.229881</td>\n      <td>1.824033</td>\n      <td>1.133682</td>\n      <td>2.132107</td>\n      <td>2.04021</td>\n      <td>0.477527</td>\n      <td>4.952725</td>\n      <td>0.992047</td>\n      <td>1.40634</td>\n      <td>-0.784919</td>\n      <td>0.019175</td>\n    </tr>\n  </tbody>\n</table>\n</div>"
     },
     "execution_count": 11,
     "metadata": {},
     "output_type": "execute_result"
    }
   ],
   "source": [
    "df = pd.read_csv(\"./data/sp500_predict_2023-11-15.csv\")\n",
    "df.set_index('Date', inplace=True)\n",
    "#df.drop(\"Date\", axis=1, inplace=True)\n",
    "df"
   ],
   "metadata": {
    "collapsed": false,
    "ExecuteTime": {
     "end_time": "2023-11-17T20:15:25.088760464Z",
     "start_time": "2023-11-17T20:15:24.951496854Z"
    }
   },
   "id": "fc22a2d740ed6298"
  },
  {
   "cell_type": "markdown",
   "source": [
    "## Load Credentials"
   ],
   "metadata": {
    "collapsed": false
   },
   "id": "34b349e23b10aa93"
  },
  {
   "cell_type": "code",
   "outputs": [],
   "source": [
    "from dotenv import load_dotenv\n",
    "import boto3\n",
    "load_dotenv()\n",
    "boto3.setup_default_session(\n",
    "    aws_access_key_id=os.getenv('AWS_ACCESS_KEY_ID'),\n",
    "    aws_secret_access_key=os.getenv('AWS_SECRET_ACCESS_KEY'),\n",
    "    region_name=os.getenv('AWS_DEFAULT_REGION')\n",
    ")"
   ],
   "metadata": {
    "collapsed": false
   },
   "id": "635858d5c166d557"
  },
  {
   "cell_type": "markdown",
   "source": [
    "## Setup Deployment"
   ],
   "metadata": {
    "collapsed": false
   },
   "id": "e8349271cd5b6d75"
  },
  {
   "cell_type": "code",
   "execution_count": 4,
   "outputs": [],
   "source": [
    "model_uri = \".../artifacts/model\" # add here the model uri\n",
    "aws_account_id = \"401605265667\"\n",
    "region = \"eu-central-1\"\n",
    "execution_role_arn = \"arn:aws:iam::401605265667:role/service-role/AmazonSageMakerServiceCatalogProductsUseRole\"\n",
    "tag_id = '2.8.1'\n",
    "image_url = \"401605265667.dkr.ecr.eu-central-1.amazonaws.com/for-sagemaker-deployment:\" + tag_id\n",
    "\n",
    "# configuration should be revised !\n",
    "config = {\n",
    "    \"execution_role_arn\": execution_role_arn,\n",
    "    \"bucket_name\": \"xgboostbucket\",\n",
    "    \"image_url\": image_url,\n",
    "    \"region_name\": region,\n",
    "    \"archive\": False,\n",
    "    \"instance_type\": \"ml.m5.large\", #  choose a smaller model\n",
    "    \"instance_count\": 1,\n",
    "    \"synchronous\": True,\n",
    "    \"timeout_seconds\": 3600,\n",
    "    \"variant_name\": \"prod-variant-1\",\n",
    "    \"tags\": {\"training_timestamp\": \"2023-11-22\"},\n",
    "}"
   ],
   "metadata": {
    "collapsed": false,
    "ExecuteTime": {
     "end_time": "2023-11-17T19:44:34.756479401Z",
     "start_time": "2023-11-17T19:44:34.746266117Z"
    }
   },
   "id": "5cdc63b7a6938198"
  },
  {
   "cell_type": "markdown",
   "source": [
    "## Deploy to SageMaker"
   ],
   "metadata": {
    "collapsed": false
   },
   "id": "c2a5c9141722decd"
  },
  {
   "cell_type": "code",
   "outputs": [],
   "source": [
    "client = get_deploy_client(\"sagemaker\")\n",
    "\n",
    "client.create_deployment(\n",
    "    name=\"stockmodel\",\n",
    "    model_uri=model_uri,\n",
    "    flavor=\"python_function\",\n",
    "    config=config,\n",
    ")"
   ],
   "metadata": {
    "collapsed": false
   },
   "id": "60b2ba9e71e309e5"
  },
  {
   "cell_type": "code",
   "execution_count": 2,
   "outputs": [],
   "source": [
    "# \"s3://mlflow-sagemaker-eu-central-1-401605265667/stockmodel-model-auv4smcgregdkkkujueyqq/\"\n",
    "\n",
    "from mlflow.deployments import get_deploy_client\n",
    "#client = get_deploy_client(\"sagemaker:/eu-central-1/arn:aws:sagemaker:eu-central-1:401605265667:endpoint/stockmodel\")\n",
    "#client = get_deploy_client(\"sagemaker:/eu-central-1/arn:aws:iam::401605265667:user/mluser\")\n",
    "#client = get_deploy_client(\"sagemaker:/eu-central-1/arn:aws:iam::401605265667:role/sagemakerrole\")\n",
    "#client = get_deploy_client(\"sagemaker:/eu-central-1/arn:aws:iam::401605265667:role/service-role/AmazonSageMakerServiceCatalogProductsUseRole\")\n",
    "#client = get_deploy_client(f\"sagemaker:/{region}/{model_role}\")\n",
    "#client.predict(\"stockmodel\", df)"
   ],
   "metadata": {
    "collapsed": false,
    "ExecuteTime": {
     "end_time": "2023-11-27T18:34:36.302633400Z",
     "start_time": "2023-11-27T18:34:35.947193933Z"
    }
   },
   "id": "cce430ca9ad8b6c"
  },
  {
   "cell_type": "code",
   "execution_count": 8,
   "outputs": [],
   "source": [
    "df  = pd.read_csv(\"./data/sp500_predict_2023-11-16.csv\")\n",
    "df.drop(\"Date\",axis=1, inplace=True)\n",
    "query_input = df.to_dict(orient='split')\n",
    "data = {\"dataframe_split\": query_input}\n",
    "byte_data = json.dumps(data).encode('utf-8')"
   ],
   "metadata": {
    "collapsed": false,
    "ExecuteTime": {
     "end_time": "2023-11-27T18:45:09.988698789Z",
     "start_time": "2023-11-27T18:45:09.940672426Z"
    }
   },
   "id": "c7d9db0446c3d062"
  },
  {
   "cell_type": "code",
   "execution_count": null,
   "outputs": [],
   "source": [
    "model_role= \"arn:aws:iam::401605265667:user/mluser\""
   ],
   "metadata": {
    "collapsed": false
   },
   "id": "fb06dcf96c07ad06"
  },
  {
   "cell_type": "code",
   "execution_count": 9,
   "outputs": [],
   "source": [
    "global app_name\n",
    "global region\n",
    "app_name = 'stockmodel'\n",
    "region = \"eu-central-1\"\n",
    "\n",
    "def check_status(app_name):\n",
    "    sage_client = boto3.client('sagemaker', region_name=region)\n",
    "    endpoint_description = sage_client.describe_endpoint(EndpointName=app_name)\n",
    "    endpoint_status = endpoint_description['EndpointStatus']\n",
    "    return endpoint_status\n",
    "\n",
    "def query_endpoint(app_name, input_json):\n",
    "    client = boto3.session.Session().client('sagemaker-runtime', region)\n",
    "    response = client.invoke_endpoint(\n",
    "        EndpointName = app_name,\n",
    "        Body = input_json,\n",
    "        ContentType = 'application/json'\n",
    "    )\n",
    "    preds = response['Body'].read().decode('ascii')\n",
    "    preds = json.loads(preds)\n",
    "    print('Received response: {}'.format(preds))\n",
    "    return preds"
   ],
   "metadata": {
    "collapsed": false,
    "ExecuteTime": {
     "end_time": "2023-11-27T18:45:23.908280999Z",
     "start_time": "2023-11-27T18:45:23.863148572Z"
    }
   },
   "id": "b1f40dd8c3e16a94"
  },
  {
   "cell_type": "code",
   "execution_count": 10,
   "outputs": [
    {
     "name": "stdout",
     "output_type": "stream",
     "text": [
      "Received response: {'predictions': [1]}\n"
     ]
    },
    {
     "data": {
      "text/plain": "{'predictions': [1]}"
     },
     "execution_count": 10,
     "metadata": {},
     "output_type": "execute_result"
    }
   ],
   "source": [
    "query_endpoint(app_name, input_json=byte_data)"
   ],
   "metadata": {
    "collapsed": false,
    "ExecuteTime": {
     "end_time": "2023-11-27T18:46:11.006913848Z",
     "start_time": "2023-11-27T18:46:10.617585558Z"
    }
   },
   "id": "2f80c07eb3ffb553"
  },
  {
   "cell_type": "markdown",
   "source": [
    "## Consol Commands for the Deployment"
   ],
   "metadata": {
    "collapsed": false
   },
   "id": "f183599ada6ca7"
  },
  {
   "cell_type": "code",
   "execution_count": null,
   "outputs": [],
   "source": [
    "##     model_uri=\"/home/erik/DataspellProjects/Stock-Prediction/mlruns/467592723741106657/c413fe91b94f4a8db7492ffa6657a0f6/artifacts/model\", \n",
    "\n",
    "\n",
    "## systemctl --user start docker-desktop\n",
    "\n",
    "## Container mit aws\n",
    "\n",
    "# mlflow sagemaker build-and-push-container --build --push -c for-sagemaker-deployment\n",
    "# aws sagemaker build-and-push-container\n",
    "\n",
    "## Container mit Docker \n",
    "\n",
    "# docker build -t xgboostimage\n",
    "# aws ecr get-login-password --region eu-central-1 | docker login --username AWS --password-stdin 401605265667.dkr.ecr.eu-central-1.amazonaws.com\n",
    "# aws ecr create-repository --repository-name xgboost_repo\n",
    "# docker tag xgboost_image:latest 401605265667.dkr.ecr.eu-central-1.amazonaws.com/xgboost_repo:latest\n",
    "# docker push 401605265667.dkr.ecr.eu-central-1.amazonaws.com/xgboost_repo:latest\n",
    "\n",
    "\n",
    "# mlflow sagemaker deploy --app-name xformer -m runs:/7-16420961991120000000062/model --execution-role-arn arn:aws:iam::612652722220:role/role-for-mlflow-sagemaker-deploy \n",
    "# --bucket jaganes-sagemaker --image-url 612652722220.dkr.ecr.us-east-1.amazonaws.com/for-sagemaker-deployment:1.22.0 \n",
    "# --region-name us-east-1 --mode create \n",
    "# --instance-type ml.m5.large --instance-count 1 \n",
    "# --flavor python_function"
   ],
   "metadata": {
    "collapsed": false
   },
   "id": "211484f84507d5fc"
  },
  {
   "cell_type": "markdown",
   "source": [
    "## Endpoint Request"
   ],
   "metadata": {
    "collapsed": false
   },
   "id": "b6354077c29666cf"
  },
  {
   "cell_type": "code",
   "execution_count": null,
   "outputs": [],
   "source": [
    "global app_name\n",
    "global region\n",
    "app_name = 'my-deployment-logisticRegression'\n",
    "region = \"eu-central-1\"\n",
    "\n",
    "def check_status(app_name):\n",
    "    sage_client = boto3.client('sagemaker', region_name=region)\n",
    "    endpoint_description = sage_client.describe_endpoint(EndpointName=app_name)\n",
    "    endpoint_status = endpoint_description['EndpointStatus']\n",
    "    return endpoint_status\n",
    "\n",
    "def query_endpoint(app_name, input_json):\n",
    "    client = boto3.session.Session().client('sagemaker-runtime', region)\n",
    "    response = client.invoke_endpoint(\n",
    "        EndpointName = app_name,\n",
    "        Body = input_json,\n",
    "        ContentType = 'application/json'#'; format=pandas-split',\n",
    "    )\n",
    "    preds = response['Body'].read().decode('ascii')\n",
    "    preds = json.loads(preds)\n",
    "    print('Received response: {}'.format(preds))\n",
    "    return preds\n",
    "\n",
    "# Check endpoint status\n",
    "print('Application status is {}'.format(check_status(app_name)))\n",
    "\n",
    "arr_predict = np.random.randn(2,3)\n",
    "query_input = pd.DataFrame(arr_predict).to_dict(orient='split')\n",
    "print(query_input)\n",
    "\n",
    "data = {\"dataframe_split\": query_input}\n",
    "byte_data = json.dumps(data).encode('utf-8')\n",
    "predictions = query_endpoint(app_name=app_name, input_json=byte_data)\n",
    "print(predictions)"
   ],
   "metadata": {
    "collapsed": false
   },
   "id": "aacecab34542de28"
  }
 ],
 "metadata": {
  "kernelspec": {
   "display_name": "Python 3",
   "language": "python",
   "name": "python3"
  },
  "language_info": {
   "codemirror_mode": {
    "name": "ipython",
    "version": 2
   },
   "file_extension": ".py",
   "mimetype": "text/x-python",
   "name": "python",
   "nbconvert_exporter": "python",
   "pygments_lexer": "ipython2",
   "version": "2.7.6"
  }
 },
 "nbformat": 4,
 "nbformat_minor": 5
}
