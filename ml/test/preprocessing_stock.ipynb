{
 "cells": [
  {
   "cell_type": "code",
   "execution_count": 1,
   "id": "initial_id",
   "metadata": {
    "collapsed": true,
    "ExecuteTime": {
     "end_time": "2023-11-16T18:19:32.215073677Z",
     "start_time": "2023-11-16T18:19:29.234870004Z"
    }
   },
   "outputs": [],
   "source": [
    "import yfinance as yf\n",
    "import talib as ta\n",
    "import pandas as pd\n",
    "from datetime import datetime\n",
    "from sklearn.preprocessing import StandardScaler"
   ]
  },
  {
   "cell_type": "code",
   "execution_count": null,
   "outputs": [],
   "source": [
    "import pandas as pd\n",
    "import mlflow\n",
    "\n",
    "df = pd.read_csv(\"./data/sp500_predict_2023-11-15.csv\")\n",
    "df.set_index('Date', inplace=True)\n",
    "\n",
    "DEFAULT_MODEL = \"runs:/c413fe91b94f4a8db7492ffa6657a0f6/model\"\n",
    "loaded_model = mlflow.pyfunc.load_model(DEFAULT_MODEL)\n",
    "prediction = loaded_model.predict(df)\n",
    "\n",
    "print(prediction)"
   ],
   "metadata": {
    "collapsed": false
   },
   "id": "f3d5e9fdadff7582"
  },
  {
   "cell_type": "code",
   "execution_count": 2,
   "outputs": [],
   "source": [
    "def save_to_influx(data:dict):\n",
    "    from influxdb_client_3 import InfluxDBClient3, Point\n",
    "    token = \"nlg1Z5pTNYCdwYwK7jh1LV6lIoJAYnYdLpgZNNqBdLrnX4d8PnBNTJfBDNhtrc9_tzGiBLyJE4Zh4pEP5I45VQ==\"\n",
    "    org = \"Dev Team\"\n",
    "    host = \"https://us-east-1-1.aws.cloud2.influxdata.com\"\n",
    "    bucket = \"sp500_bucket\"\n",
    "    \n",
    "    client = InfluxDBClient3(host=host, \n",
    "                             token=token, \n",
    "                             org=org)\n",
    "    \n",
    "    # os.environ['INFLUXDB_HOST']\n",
    "    # os.environ['INFLUXDB_ORG']\n",
    "    # os.environ['INFLUXDB_TOKEN']\n",
    "    \n",
    "    point = Point(\"stock_data\")\n",
    "    for key, value in data.items():\n",
    "        point = point.field(key, value)\n",
    "    \n",
    "    client.write(database=bucket, record=point)\n",
    "    client.close()\n",
    "    print(\"Complete. Return to the InfluxDB UI.\")"
   ],
   "metadata": {
    "collapsed": false,
    "ExecuteTime": {
     "end_time": "2023-11-16T18:19:34.814846090Z",
     "start_time": "2023-11-16T18:19:34.781145503Z"
    }
   },
   "id": "1b2fda2335a07b32"
  },
  {
   "cell_type": "code",
   "execution_count": 3,
   "outputs": [],
   "source": [
    "def get_data(stock_wkn=\"^GSPC\"):\n",
    "    # Install TaLIb:      https://cloudstrata.io/install-ta-lib-on-ubuntu-server/\n",
    "    sp500_data = yf.download(stock_wkn, start=\"1980-01-01\", end=datetime.now().strftime('%Y-%m-%d'))\n",
    "    inputs = sp500_data['Close']\n",
    "    time_period = 10\n",
    "    sp500_data['Target'] = (sp500_data['Close'].shift(-10) > sp500_data['Close']).astype(int)\n",
    "    sp500_data['Rendite'] = sp500_data['Close'].pct_change()\n",
    "    sp500_data = sp500_data.dropna()\n",
    "    sp500_data[f\"SMA {time_period}\"]      = ta.SMA(inputs, timeperiod = time_period)\n",
    "    sp500_data[f\"EMA {time_period}\"]      = ta.EMA(inputs, timeperiod = time_period)\n",
    "    sp500_data[f\"EMA {20}\"]               = ta.EMA(inputs, timeperiod = 20)\n",
    "    sp500_data[f\"WMA {time_period}\"]      = ta.WMA(inputs, timeperiod = time_period)\n",
    "    sp500_data[f\"Momentum {time_period}\"] = ta.MOM(inputs, timeperiod = time_period)\n",
    "    sp500_data[\"SAR\"] = ta.SAR(sp500_data[\"High\"], sp500_data[\"Low\"], acceleration=0.02, maximum=0.2)\n",
    "    sp500_data[\"RSI\"] = ta.RSI(sp500_data[\"Close\"], timeperiod = 14)\n",
    "    sp500_data[\"ROC\"] = ta.ROC(sp500_data[\"Close\"], timeperiod = 10) # On-Balance-Volume\n",
    "    sp500_data[\"%R\"]  = ta.WILLR(sp500_data[\"High\"], sp500_data[\"Low\"], sp500_data[\"Close\"], timeperiod = 14)\n",
    "    sp500_data[\"OBV\"] = ta.OBV(sp500_data[\"Close\"], sp500_data[\"Volume\"])\n",
    "    sp500_data[\"MACD\"], sp500_data[\"MACD_SIGNAL\"], sp500_data[\"MACD_HIST\"] = ta.MACD(sp500_data[\"Close\"], fastperiod=12, slowperiod=26, signalperiod=9)\n",
    "    sp500_data[\"CCI\"] = ta.CCI(sp500_data[\"High\"], sp500_data[\"Low\"], sp500_data[\"Close\"], timeperiod = 14)\n",
    "    sp500_data[\"ADOSC\"] = ta.ADOSC(sp500_data[\"High\"], sp500_data[\"Low\"], sp500_data[\"Close\"], sp500_data[\"Volume\"], fastperiod=3, slowperiod=10)\n",
    "    sp500_data[\"%K\"] = (sp500_data['Close'] - sp500_data['Low']) * 100 / (sp500_data['High'] - sp500_data['Low'])\n",
    "    sp500_data[\"%D\"] =  sp500_data['%K'].rolling(3).mean()\n",
    "    sp500_data = sp500_data.dropna() #print(\"Anzahl der Zeilen mit mindestens einem NaN-Wert:\", sp500_data.isna().any(axis=1).sum())\n",
    "    sp500_data.drop([\"High\", \"Low\", \"Adj Close\", \"Open\"], axis=1, inplace=True)\n",
    "    \n",
    "    # Scaling\n",
    "    numeric_columns = sp500_data.select_dtypes(include=['float64', 'int64']).columns\n",
    "    scaler = StandardScaler()\n",
    "    sp500_data[numeric_columns] = scaler.fit_transform(sp500_data[numeric_columns])\n",
    "    target_column = sp500_data.pop('Target')\n",
    "    sp500_data['Target'] = target_column\n",
    "\n",
    "    # Filter last day \n",
    "    yesterday_df = sp500_data.drop(\"Target\", axis=1)\n",
    "    yesterday_df = yesterday_df.tail(1)\n",
    "    last_day = yesterday_df.index[0].strftime('%Y-%m-%d')\n",
    "    yesterday_df.to_csv(f'./data/sp500_predict_{last_day}.csv', index=True)\n",
    "    \n",
    "    # Save last day to influx\n",
    "    yesterday_data = yesterday_df.iloc[0].to_dict()\n",
    "    yesterday_data['Date'] = yesterday_df.index[0].isoformat()\n",
    "    save_to_influx(data=yesterday_data)\n",
    "    \n",
    "    # Save trainings data\n",
    "    sp500_data = sp500_data.iloc[:-10] # Drop last 10 days\n",
    "    sp500_data.to_csv(f'./data/sp500_training_data_to_{last_day}.csv', index=True)\n",
    "    \n",
    "    return sp500_data, yesterday_df"
   ],
   "metadata": {
    "collapsed": false,
    "ExecuteTime": {
     "end_time": "2023-11-16T18:19:37.257571767Z",
     "start_time": "2023-11-16T18:19:37.187435484Z"
    }
   },
   "id": "ce48833c6d196272"
  },
  {
   "cell_type": "code",
   "execution_count": 4,
   "outputs": [
    {
     "name": "stdout",
     "output_type": "stream",
     "text": [
      "[*********************100%%**********************]  1 of 1 completed\n"
     ]
    },
    {
     "name": "stderr",
     "output_type": "stream",
     "text": [
      "/tmp/ipykernel_42929/2466630639.py:9: SettingWithCopyWarning: \n",
      "A value is trying to be set on a copy of a slice from a DataFrame.\n",
      "Try using .loc[row_indexer,col_indexer] = value instead\n",
      "\n",
      "See the caveats in the documentation: https://pandas.pydata.org/pandas-docs/stable/user_guide/indexing.html#returning-a-view-versus-a-copy\n",
      "  sp500_data[f\"SMA {time_period}\"]      = ta.SMA(inputs, timeperiod = time_period)\n",
      "/tmp/ipykernel_42929/2466630639.py:10: SettingWithCopyWarning: \n",
      "A value is trying to be set on a copy of a slice from a DataFrame.\n",
      "Try using .loc[row_indexer,col_indexer] = value instead\n",
      "\n",
      "See the caveats in the documentation: https://pandas.pydata.org/pandas-docs/stable/user_guide/indexing.html#returning-a-view-versus-a-copy\n",
      "  sp500_data[f\"EMA {time_period}\"]      = ta.EMA(inputs, timeperiod = time_period)\n",
      "/tmp/ipykernel_42929/2466630639.py:11: SettingWithCopyWarning: \n",
      "A value is trying to be set on a copy of a slice from a DataFrame.\n",
      "Try using .loc[row_indexer,col_indexer] = value instead\n",
      "\n",
      "See the caveats in the documentation: https://pandas.pydata.org/pandas-docs/stable/user_guide/indexing.html#returning-a-view-versus-a-copy\n",
      "  sp500_data[f\"EMA {20}\"]               = ta.EMA(inputs, timeperiod = 20)\n",
      "/tmp/ipykernel_42929/2466630639.py:12: SettingWithCopyWarning: \n",
      "A value is trying to be set on a copy of a slice from a DataFrame.\n",
      "Try using .loc[row_indexer,col_indexer] = value instead\n",
      "\n",
      "See the caveats in the documentation: https://pandas.pydata.org/pandas-docs/stable/user_guide/indexing.html#returning-a-view-versus-a-copy\n",
      "  sp500_data[f\"WMA {time_period}\"]      = ta.WMA(inputs, timeperiod = time_period)\n",
      "/tmp/ipykernel_42929/2466630639.py:13: SettingWithCopyWarning: \n",
      "A value is trying to be set on a copy of a slice from a DataFrame.\n",
      "Try using .loc[row_indexer,col_indexer] = value instead\n",
      "\n",
      "See the caveats in the documentation: https://pandas.pydata.org/pandas-docs/stable/user_guide/indexing.html#returning-a-view-versus-a-copy\n",
      "  sp500_data[f\"Momentum {time_period}\"] = ta.MOM(inputs, timeperiod = time_period)\n",
      "/tmp/ipykernel_42929/2466630639.py:14: SettingWithCopyWarning: \n",
      "A value is trying to be set on a copy of a slice from a DataFrame.\n",
      "Try using .loc[row_indexer,col_indexer] = value instead\n",
      "\n",
      "See the caveats in the documentation: https://pandas.pydata.org/pandas-docs/stable/user_guide/indexing.html#returning-a-view-versus-a-copy\n",
      "  sp500_data[\"SAR\"] = ta.SAR(sp500_data[\"High\"], sp500_data[\"Low\"], acceleration=0.02, maximum=0.2)\n",
      "/tmp/ipykernel_42929/2466630639.py:15: SettingWithCopyWarning: \n",
      "A value is trying to be set on a copy of a slice from a DataFrame.\n",
      "Try using .loc[row_indexer,col_indexer] = value instead\n",
      "\n",
      "See the caveats in the documentation: https://pandas.pydata.org/pandas-docs/stable/user_guide/indexing.html#returning-a-view-versus-a-copy\n",
      "  sp500_data[\"RSI\"] = ta.RSI(sp500_data[\"Close\"], timeperiod = 14)\n",
      "/tmp/ipykernel_42929/2466630639.py:16: SettingWithCopyWarning: \n",
      "A value is trying to be set on a copy of a slice from a DataFrame.\n",
      "Try using .loc[row_indexer,col_indexer] = value instead\n",
      "\n",
      "See the caveats in the documentation: https://pandas.pydata.org/pandas-docs/stable/user_guide/indexing.html#returning-a-view-versus-a-copy\n",
      "  sp500_data[\"ROC\"] = ta.ROC(sp500_data[\"Close\"], timeperiod = 10) # On-Balance-Volume\n",
      "/tmp/ipykernel_42929/2466630639.py:17: SettingWithCopyWarning: \n",
      "A value is trying to be set on a copy of a slice from a DataFrame.\n",
      "Try using .loc[row_indexer,col_indexer] = value instead\n",
      "\n",
      "See the caveats in the documentation: https://pandas.pydata.org/pandas-docs/stable/user_guide/indexing.html#returning-a-view-versus-a-copy\n",
      "  sp500_data[\"%R\"]  = ta.WILLR(sp500_data[\"High\"], sp500_data[\"Low\"], sp500_data[\"Close\"], timeperiod = 14)\n",
      "/tmp/ipykernel_42929/2466630639.py:18: SettingWithCopyWarning: \n",
      "A value is trying to be set on a copy of a slice from a DataFrame.\n",
      "Try using .loc[row_indexer,col_indexer] = value instead\n",
      "\n",
      "See the caveats in the documentation: https://pandas.pydata.org/pandas-docs/stable/user_guide/indexing.html#returning-a-view-versus-a-copy\n",
      "  sp500_data[\"OBV\"] = ta.OBV(sp500_data[\"Close\"], sp500_data[\"Volume\"])\n",
      "/tmp/ipykernel_42929/2466630639.py:19: SettingWithCopyWarning: \n",
      "A value is trying to be set on a copy of a slice from a DataFrame.\n",
      "Try using .loc[row_indexer,col_indexer] = value instead\n",
      "\n",
      "See the caveats in the documentation: https://pandas.pydata.org/pandas-docs/stable/user_guide/indexing.html#returning-a-view-versus-a-copy\n",
      "  sp500_data[\"MACD\"], sp500_data[\"MACD_SIGNAL\"], sp500_data[\"MACD_HIST\"] = ta.MACD(sp500_data[\"Close\"], fastperiod=12, slowperiod=26, signalperiod=9)\n",
      "/tmp/ipykernel_42929/2466630639.py:19: SettingWithCopyWarning: \n",
      "A value is trying to be set on a copy of a slice from a DataFrame.\n",
      "Try using .loc[row_indexer,col_indexer] = value instead\n",
      "\n",
      "See the caveats in the documentation: https://pandas.pydata.org/pandas-docs/stable/user_guide/indexing.html#returning-a-view-versus-a-copy\n",
      "  sp500_data[\"MACD\"], sp500_data[\"MACD_SIGNAL\"], sp500_data[\"MACD_HIST\"] = ta.MACD(sp500_data[\"Close\"], fastperiod=12, slowperiod=26, signalperiod=9)\n",
      "/tmp/ipykernel_42929/2466630639.py:19: SettingWithCopyWarning: \n",
      "A value is trying to be set on a copy of a slice from a DataFrame.\n",
      "Try using .loc[row_indexer,col_indexer] = value instead\n",
      "\n",
      "See the caveats in the documentation: https://pandas.pydata.org/pandas-docs/stable/user_guide/indexing.html#returning-a-view-versus-a-copy\n",
      "  sp500_data[\"MACD\"], sp500_data[\"MACD_SIGNAL\"], sp500_data[\"MACD_HIST\"] = ta.MACD(sp500_data[\"Close\"], fastperiod=12, slowperiod=26, signalperiod=9)\n",
      "/tmp/ipykernel_42929/2466630639.py:20: SettingWithCopyWarning: \n",
      "A value is trying to be set on a copy of a slice from a DataFrame.\n",
      "Try using .loc[row_indexer,col_indexer] = value instead\n",
      "\n",
      "See the caveats in the documentation: https://pandas.pydata.org/pandas-docs/stable/user_guide/indexing.html#returning-a-view-versus-a-copy\n",
      "  sp500_data[\"CCI\"] = ta.CCI(sp500_data[\"High\"], sp500_data[\"Low\"], sp500_data[\"Close\"], timeperiod = 14)\n",
      "/tmp/ipykernel_42929/2466630639.py:21: SettingWithCopyWarning: \n",
      "A value is trying to be set on a copy of a slice from a DataFrame.\n",
      "Try using .loc[row_indexer,col_indexer] = value instead\n",
      "\n",
      "See the caveats in the documentation: https://pandas.pydata.org/pandas-docs/stable/user_guide/indexing.html#returning-a-view-versus-a-copy\n",
      "  sp500_data[\"ADOSC\"] = ta.ADOSC(sp500_data[\"High\"], sp500_data[\"Low\"], sp500_data[\"Close\"], sp500_data[\"Volume\"], fastperiod=3, slowperiod=10)\n",
      "/tmp/ipykernel_42929/2466630639.py:22: SettingWithCopyWarning: \n",
      "A value is trying to be set on a copy of a slice from a DataFrame.\n",
      "Try using .loc[row_indexer,col_indexer] = value instead\n",
      "\n",
      "See the caveats in the documentation: https://pandas.pydata.org/pandas-docs/stable/user_guide/indexing.html#returning-a-view-versus-a-copy\n",
      "  sp500_data[\"%K\"] = (sp500_data['Close'] - sp500_data['Low']) * 100 / (sp500_data['High'] - sp500_data['Low'])\n",
      "/tmp/ipykernel_42929/2466630639.py:23: SettingWithCopyWarning: \n",
      "A value is trying to be set on a copy of a slice from a DataFrame.\n",
      "Try using .loc[row_indexer,col_indexer] = value instead\n",
      "\n",
      "See the caveats in the documentation: https://pandas.pydata.org/pandas-docs/stable/user_guide/indexing.html#returning-a-view-versus-a-copy\n",
      "  sp500_data[\"%D\"] =  sp500_data['%K'].rolling(3).mean()\n"
     ]
    },
    {
     "name": "stdout",
     "output_type": "stream",
     "text": [
      "Complete. Return to the InfluxDB UI.\n"
     ]
    }
   ],
   "source": [
    "df, yesterday_df = get_data()"
   ],
   "metadata": {
    "collapsed": false,
    "ExecuteTime": {
     "end_time": "2023-11-16T18:19:42.038943682Z",
     "start_time": "2023-11-16T18:19:38.823059418Z"
    }
   },
   "id": "8f6e1b4e8209eef1"
  },
  {
   "cell_type": "code",
   "execution_count": 5,
   "outputs": [],
   "source": [
    "def get_data_form_influx():\n",
    "    from influxdb_client_3 import flight_client_options, InfluxDBClient3\n",
    "    import certifi\n",
    "    fh = open(certifi.where(), \"r\")\n",
    "    cert = fh.read()\n",
    "    fh.close()\n",
    "\n",
    "    token = \"nlg1Z5pTNYCdwYwK7jh1LV6lIoJAYnYdLpgZNNqBdLrnX4d8PnBNTJfBDNhtrc9_tzGiBLyJE4Zh4pEP5I45VQ==\"\n",
    "    org = \"Dev Team\"\n",
    "    host = \"https://us-east-1-1.aws.cloud2.influxdata.com\"\n",
    "    bucket = \"sp500_bucket\"\n",
    "    # os.environ['INFLUXDB_HOST']\n",
    "    # os.environ['INFLUXDB_ORG']\n",
    "    # os.environ['INFLUXDB_TOKEN']\n",
    "    client = InfluxDBClient3(host=host, \n",
    "                                 token=token, \n",
    "                                 org=org, \n",
    "                                 flight_client_options=flight_client_options(tls_root_certs=cert),\n",
    "                                 database=bucket)\n",
    "    \n",
    "    query = \"\"\"SELECT *\n",
    "    FROM \"stock_data\"\n",
    "    WHERE time > now() - 24h\"\"\"\n",
    "    \n",
    "    \n",
    "    result = client.query(query=query, database=bucket, language=\"influxql\")\n",
    "    \n",
    "    df = result.to_pandas().drop([\"iox::measurement\", \"time\"], axis=1)\n",
    "    df['Date'] = pd.to_datetime(df['Date'])\n",
    "    df.set_index('Date', inplace=True)\n",
    "    return df"
   ],
   "metadata": {
    "collapsed": false,
    "ExecuteTime": {
     "end_time": "2023-11-16T18:19:45.456042567Z",
     "start_time": "2023-11-16T18:19:45.414917358Z"
    }
   },
   "id": "6f39a3ffbe425e52"
  },
  {
   "cell_type": "code",
   "execution_count": 6,
   "outputs": [
    {
     "data": {
      "text/plain": "                  %D        %K        %R    ADOSC       CCI     Close  \\\nDate                                                                    \n2023-11-15  0.019175 -0.784919  1.133682  1.40634  0.992047  2.924371   \n2023-11-15  0.019175 -0.784919  1.133682  1.40634  0.992047  2.924371   \n2023-11-15  0.019175 -0.784919  1.133682  1.40634  0.992047  2.924371   \n2023-11-15  0.019175 -0.784919  1.133682  1.40634  0.992047  2.924371   \n2023-11-15  0.019175 -0.784919  1.133682  1.40634  0.992047  2.924371   \n\n              EMA 10    EMA 20     MACD  MACD_HIST  MACD_SIGNAL  Momentum 10  \\\nDate                                                                           \n2023-11-15  2.836735  2.802099  2.04021   4.952725     0.477527     4.766703   \n2023-11-15  2.836735  2.802099  2.04021   4.952725     0.477527     4.766703   \n2023-11-15  2.836735  2.802099  2.04021   4.952725     0.477527     4.766703   \n2023-11-15  2.836735  2.802099  2.04021   4.952725     0.477527     4.766703   \n2023-11-15  2.836735  2.802099  2.04021   4.952725     0.477527     4.766703   \n\n                 OBV       ROC       RSI   Rendite       SAR    SMA 10  \\\nDate                                                                     \n2023-11-15  2.132107  1.824033  1.229881  0.105997  2.753382  2.835659   \n2023-11-15  2.132107  1.824033  1.229881  0.105997  2.753382  2.835659   \n2023-11-15  2.132107  1.824033  1.229881  0.105997  2.753382  2.835659   \n2023-11-15  2.132107  1.824033  1.229881  0.105997  2.753382  2.835659   \n2023-11-15  2.132107  1.824033  1.229881  0.105997  2.753382  2.835659   \n\n              Volume    WMA 10  \nDate                            \n2023-11-15  1.275609  2.857765  \n2023-11-15  1.275609  2.857765  \n2023-11-15  1.275609  2.857765  \n2023-11-15  1.275609  2.857765  \n2023-11-15  1.275609  2.857765  ",
      "text/html": "<div>\n<style scoped>\n    .dataframe tbody tr th:only-of-type {\n        vertical-align: middle;\n    }\n\n    .dataframe tbody tr th {\n        vertical-align: top;\n    }\n\n    .dataframe thead th {\n        text-align: right;\n    }\n</style>\n<table border=\"1\" class=\"dataframe\">\n  <thead>\n    <tr style=\"text-align: right;\">\n      <th></th>\n      <th>%D</th>\n      <th>%K</th>\n      <th>%R</th>\n      <th>ADOSC</th>\n      <th>CCI</th>\n      <th>Close</th>\n      <th>EMA 10</th>\n      <th>EMA 20</th>\n      <th>MACD</th>\n      <th>MACD_HIST</th>\n      <th>MACD_SIGNAL</th>\n      <th>Momentum 10</th>\n      <th>OBV</th>\n      <th>ROC</th>\n      <th>RSI</th>\n      <th>Rendite</th>\n      <th>SAR</th>\n      <th>SMA 10</th>\n      <th>Volume</th>\n      <th>WMA 10</th>\n    </tr>\n    <tr>\n      <th>Date</th>\n      <th></th>\n      <th></th>\n      <th></th>\n      <th></th>\n      <th></th>\n      <th></th>\n      <th></th>\n      <th></th>\n      <th></th>\n      <th></th>\n      <th></th>\n      <th></th>\n      <th></th>\n      <th></th>\n      <th></th>\n      <th></th>\n      <th></th>\n      <th></th>\n      <th></th>\n      <th></th>\n    </tr>\n  </thead>\n  <tbody>\n    <tr>\n      <th>2023-11-15</th>\n      <td>0.019175</td>\n      <td>-0.784919</td>\n      <td>1.133682</td>\n      <td>1.40634</td>\n      <td>0.992047</td>\n      <td>2.924371</td>\n      <td>2.836735</td>\n      <td>2.802099</td>\n      <td>2.04021</td>\n      <td>4.952725</td>\n      <td>0.477527</td>\n      <td>4.766703</td>\n      <td>2.132107</td>\n      <td>1.824033</td>\n      <td>1.229881</td>\n      <td>0.105997</td>\n      <td>2.753382</td>\n      <td>2.835659</td>\n      <td>1.275609</td>\n      <td>2.857765</td>\n    </tr>\n    <tr>\n      <th>2023-11-15</th>\n      <td>0.019175</td>\n      <td>-0.784919</td>\n      <td>1.133682</td>\n      <td>1.40634</td>\n      <td>0.992047</td>\n      <td>2.924371</td>\n      <td>2.836735</td>\n      <td>2.802099</td>\n      <td>2.04021</td>\n      <td>4.952725</td>\n      <td>0.477527</td>\n      <td>4.766703</td>\n      <td>2.132107</td>\n      <td>1.824033</td>\n      <td>1.229881</td>\n      <td>0.105997</td>\n      <td>2.753382</td>\n      <td>2.835659</td>\n      <td>1.275609</td>\n      <td>2.857765</td>\n    </tr>\n    <tr>\n      <th>2023-11-15</th>\n      <td>0.019175</td>\n      <td>-0.784919</td>\n      <td>1.133682</td>\n      <td>1.40634</td>\n      <td>0.992047</td>\n      <td>2.924371</td>\n      <td>2.836735</td>\n      <td>2.802099</td>\n      <td>2.04021</td>\n      <td>4.952725</td>\n      <td>0.477527</td>\n      <td>4.766703</td>\n      <td>2.132107</td>\n      <td>1.824033</td>\n      <td>1.229881</td>\n      <td>0.105997</td>\n      <td>2.753382</td>\n      <td>2.835659</td>\n      <td>1.275609</td>\n      <td>2.857765</td>\n    </tr>\n    <tr>\n      <th>2023-11-15</th>\n      <td>0.019175</td>\n      <td>-0.784919</td>\n      <td>1.133682</td>\n      <td>1.40634</td>\n      <td>0.992047</td>\n      <td>2.924371</td>\n      <td>2.836735</td>\n      <td>2.802099</td>\n      <td>2.04021</td>\n      <td>4.952725</td>\n      <td>0.477527</td>\n      <td>4.766703</td>\n      <td>2.132107</td>\n      <td>1.824033</td>\n      <td>1.229881</td>\n      <td>0.105997</td>\n      <td>2.753382</td>\n      <td>2.835659</td>\n      <td>1.275609</td>\n      <td>2.857765</td>\n    </tr>\n    <tr>\n      <th>2023-11-15</th>\n      <td>0.019175</td>\n      <td>-0.784919</td>\n      <td>1.133682</td>\n      <td>1.40634</td>\n      <td>0.992047</td>\n      <td>2.924371</td>\n      <td>2.836735</td>\n      <td>2.802099</td>\n      <td>2.04021</td>\n      <td>4.952725</td>\n      <td>0.477527</td>\n      <td>4.766703</td>\n      <td>2.132107</td>\n      <td>1.824033</td>\n      <td>1.229881</td>\n      <td>0.105997</td>\n      <td>2.753382</td>\n      <td>2.835659</td>\n      <td>1.275609</td>\n      <td>2.857765</td>\n    </tr>\n  </tbody>\n</table>\n</div>"
     },
     "execution_count": 6,
     "metadata": {},
     "output_type": "execute_result"
    }
   ],
   "source": [
    "get_data_form_influx()"
   ],
   "metadata": {
    "collapsed": false,
    "ExecuteTime": {
     "end_time": "2023-11-16T18:19:49.143953706Z",
     "start_time": "2023-11-16T18:19:48.131508577Z"
    }
   },
   "id": "a78e4d7d145e28ff"
  },
  {
   "cell_type": "code",
   "execution_count": null,
   "outputs": [],
   "source": [],
   "metadata": {
    "collapsed": false
   },
   "id": "3e5967bc1e6bf86b"
  }
 ],
 "metadata": {
  "kernelspec": {
   "display_name": "Python 3",
   "language": "python",
   "name": "python3"
  },
  "language_info": {
   "codemirror_mode": {
    "name": "ipython",
    "version": 2
   },
   "file_extension": ".py",
   "mimetype": "text/x-python",
   "name": "python",
   "nbconvert_exporter": "python",
   "pygments_lexer": "ipython2",
   "version": "2.7.6"
  }
 },
 "nbformat": 4,
 "nbformat_minor": 5
}
