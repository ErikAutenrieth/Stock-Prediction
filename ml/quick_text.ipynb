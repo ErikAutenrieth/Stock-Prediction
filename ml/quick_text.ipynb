{
 "cells": [
  {
   "cell_type": "code",
   "execution_count": 1,
   "outputs": [],
   "source": [
    "from ml.functions.influxdb_manager import InfluxDBOperations\n",
    "import pandas as pd\n"
   ],
   "metadata": {
    "collapsed": false,
    "ExecuteTime": {
     "end_time": "2023-12-03T09:46:44.361169730Z",
     "start_time": "2023-12-03T09:46:44.078769449Z"
    }
   },
   "id": "e4726b3776dc6b99"
  },
  {
   "cell_type": "code",
   "execution_count": 2,
   "outputs": [],
   "source": [
    "db = InfluxDBOperations()"
   ],
   "metadata": {
    "collapsed": false,
    "ExecuteTime": {
     "end_time": "2023-12-03T09:46:44.377818175Z",
     "start_time": "2023-12-03T09:46:44.365403361Z"
    }
   },
   "id": "84fa8b7412c0c0fb"
  },
  {
   "cell_type": "code",
   "execution_count": 3,
   "outputs": [],
   "source": [
    "c,d = db.get_data_from_influx()"
   ],
   "metadata": {
    "collapsed": false,
    "ExecuteTime": {
     "end_time": "2023-12-03T09:46:44.924910627Z",
     "start_time": "2023-12-03T09:46:44.377619261Z"
    }
   },
   "id": "8c253a5efe9d792c"
  },
  {
   "cell_type": "code",
   "execution_count": 4,
   "outputs": [
    {
     "data": {
      "text/plain": "               Close    Volume   Rendite    SMA 10    EMA 10    EMA 20  \\\nDate                                                                     \n2023-12-01  2.992632  1.300903  0.484001  2.962485  2.953317  2.911113   \n\n              WMA 10  Momentum 10       SAR       RSI       ROC        %R  \\\nDate                                                                        \n2023-12-01  2.967788     1.498965  2.967594  1.674323  0.475537  1.199357   \n\n                 OBV      MACD  MACD_SIGNAL  MACD_HIST       CCI     ADOSC  \\\nDate                                                                         \n2023-12-01  2.165576  3.463889     3.358766   1.045785  0.824994  1.246202   \n\n                 %K        %D  \nDate                           \n2023-12-01  1.03427  0.464585  ",
      "text/html": "<div>\n<style scoped>\n    .dataframe tbody tr th:only-of-type {\n        vertical-align: middle;\n    }\n\n    .dataframe tbody tr th {\n        vertical-align: top;\n    }\n\n    .dataframe thead th {\n        text-align: right;\n    }\n</style>\n<table border=\"1\" class=\"dataframe\">\n  <thead>\n    <tr style=\"text-align: right;\">\n      <th></th>\n      <th>Close</th>\n      <th>Volume</th>\n      <th>Rendite</th>\n      <th>SMA 10</th>\n      <th>EMA 10</th>\n      <th>EMA 20</th>\n      <th>WMA 10</th>\n      <th>Momentum 10</th>\n      <th>SAR</th>\n      <th>RSI</th>\n      <th>ROC</th>\n      <th>%R</th>\n      <th>OBV</th>\n      <th>MACD</th>\n      <th>MACD_SIGNAL</th>\n      <th>MACD_HIST</th>\n      <th>CCI</th>\n      <th>ADOSC</th>\n      <th>%K</th>\n      <th>%D</th>\n    </tr>\n    <tr>\n      <th>Date</th>\n      <th></th>\n      <th></th>\n      <th></th>\n      <th></th>\n      <th></th>\n      <th></th>\n      <th></th>\n      <th></th>\n      <th></th>\n      <th></th>\n      <th></th>\n      <th></th>\n      <th></th>\n      <th></th>\n      <th></th>\n      <th></th>\n      <th></th>\n      <th></th>\n      <th></th>\n      <th></th>\n    </tr>\n  </thead>\n  <tbody>\n    <tr>\n      <th>2023-12-01</th>\n      <td>2.992632</td>\n      <td>1.300903</td>\n      <td>0.484001</td>\n      <td>2.962485</td>\n      <td>2.953317</td>\n      <td>2.911113</td>\n      <td>2.967788</td>\n      <td>1.498965</td>\n      <td>2.967594</td>\n      <td>1.674323</td>\n      <td>0.475537</td>\n      <td>1.199357</td>\n      <td>2.165576</td>\n      <td>3.463889</td>\n      <td>3.358766</td>\n      <td>1.045785</td>\n      <td>0.824994</td>\n      <td>1.246202</td>\n      <td>1.03427</td>\n      <td>0.464585</td>\n    </tr>\n  </tbody>\n</table>\n</div>"
     },
     "execution_count": 4,
     "metadata": {},
     "output_type": "execute_result"
    }
   ],
   "source": [
    "c"
   ],
   "metadata": {
    "collapsed": false,
    "ExecuteTime": {
     "end_time": "2023-12-03T09:46:44.964360725Z",
     "start_time": "2023-12-03T09:46:44.925172680Z"
    }
   },
   "id": "710b2acd1f1da37a"
  },
  {
   "cell_type": "code",
   "execution_count": 5,
   "outputs": [],
   "source": [
    "a = db.get_prediction_from_influx()"
   ],
   "metadata": {
    "collapsed": false,
    "ExecuteTime": {
     "end_time": "2023-12-03T09:46:45.127765639Z",
     "start_time": "2023-12-03T09:46:44.946586683Z"
    }
   },
   "id": "93bcff3f6d665381"
  },
  {
   "cell_type": "code",
   "execution_count": 6,
   "outputs": [
    {
     "data": {
      "text/plain": "                            time                 Date  Target  \\\n0  2023-11-17 09:35:57.781487228  2023-11-16T00:00:00       1   \n1  2023-11-17 10:03:24.260265449  2023-11-16T00:00:00       1   \n2  2023-11-17 10:46:28.068345651  2023-11-16T00:00:00       1   \n3  2023-11-17 12:08:08.690320611  2023-11-16T00:00:00       1   \n4  2023-11-17 12:17:51.745234310  2023-11-16T00:00:00       1   \n5  2023-11-28 17:51:05.554577164  2023-11-16T00:00:00     999   \n6  2023-11-28 17:51:39.905353506  2023-11-16T00:00:00       1   \n7  2023-11-28 17:56:46.049281435  2023-11-16T00:00:00       1   \n8  2023-11-28 17:58:01.419464842  2023-11-16T00:00:00       1   \n9  2023-12-01 11:10:03.938828965  2023-11-16T00:00:00       1   \n10 2023-12-01 11:29:12.222649711  2023-11-16T00:00:00       1   \n11 2023-12-01 11:51:00.215244346  2023-11-16T00:00:00       1   \n12 2023-12-01 12:45:17.957572506  2023-11-30T00:00:00       0   \n13 2023-12-01 14:47:42.703819588  2023-11-30T00:00:00       0   \n14 2023-12-02 06:22:45.340411900  2023-12-01T00:00:00       0   \n15 2023-12-03 06:22:18.868237311  2023-12-01T00:00:00       0   \n\n                                           model  \n0   runs:/3351d60d341343eab59e55a6d87d5f8e/model  \n1   runs:/5c036be77ea045228b58b4fa52821f65/model  \n2   runs:/5c036be77ea045228b58b4fa52821f65/model  \n3   runs:/5c036be77ea045228b58b4fa52821f65/model  \n4   runs:/5c036be77ea045228b58b4fa52821f65/model  \n5                                           None  \n6                                           None  \n7                                           None  \n8                                           None  \n9                                           None  \n10                                          None  \n11                                          None  \n12  runs:/c413fe91b94f4a8db7492ffa6657a0f6/model  \n13                                       DEFAULT  \n14                                       DEFAULT  \n15                                       DEFAULT  ",
      "text/html": "<div>\n<style scoped>\n    .dataframe tbody tr th:only-of-type {\n        vertical-align: middle;\n    }\n\n    .dataframe tbody tr th {\n        vertical-align: top;\n    }\n\n    .dataframe thead th {\n        text-align: right;\n    }\n</style>\n<table border=\"1\" class=\"dataframe\">\n  <thead>\n    <tr style=\"text-align: right;\">\n      <th></th>\n      <th>time</th>\n      <th>Date</th>\n      <th>Target</th>\n      <th>model</th>\n    </tr>\n  </thead>\n  <tbody>\n    <tr>\n      <th>0</th>\n      <td>2023-11-17 09:35:57.781487228</td>\n      <td>2023-11-16T00:00:00</td>\n      <td>1</td>\n      <td>runs:/3351d60d341343eab59e55a6d87d5f8e/model</td>\n    </tr>\n    <tr>\n      <th>1</th>\n      <td>2023-11-17 10:03:24.260265449</td>\n      <td>2023-11-16T00:00:00</td>\n      <td>1</td>\n      <td>runs:/5c036be77ea045228b58b4fa52821f65/model</td>\n    </tr>\n    <tr>\n      <th>2</th>\n      <td>2023-11-17 10:46:28.068345651</td>\n      <td>2023-11-16T00:00:00</td>\n      <td>1</td>\n      <td>runs:/5c036be77ea045228b58b4fa52821f65/model</td>\n    </tr>\n    <tr>\n      <th>3</th>\n      <td>2023-11-17 12:08:08.690320611</td>\n      <td>2023-11-16T00:00:00</td>\n      <td>1</td>\n      <td>runs:/5c036be77ea045228b58b4fa52821f65/model</td>\n    </tr>\n    <tr>\n      <th>4</th>\n      <td>2023-11-17 12:17:51.745234310</td>\n      <td>2023-11-16T00:00:00</td>\n      <td>1</td>\n      <td>runs:/5c036be77ea045228b58b4fa52821f65/model</td>\n    </tr>\n    <tr>\n      <th>5</th>\n      <td>2023-11-28 17:51:05.554577164</td>\n      <td>2023-11-16T00:00:00</td>\n      <td>999</td>\n      <td>None</td>\n    </tr>\n    <tr>\n      <th>6</th>\n      <td>2023-11-28 17:51:39.905353506</td>\n      <td>2023-11-16T00:00:00</td>\n      <td>1</td>\n      <td>None</td>\n    </tr>\n    <tr>\n      <th>7</th>\n      <td>2023-11-28 17:56:46.049281435</td>\n      <td>2023-11-16T00:00:00</td>\n      <td>1</td>\n      <td>None</td>\n    </tr>\n    <tr>\n      <th>8</th>\n      <td>2023-11-28 17:58:01.419464842</td>\n      <td>2023-11-16T00:00:00</td>\n      <td>1</td>\n      <td>None</td>\n    </tr>\n    <tr>\n      <th>9</th>\n      <td>2023-12-01 11:10:03.938828965</td>\n      <td>2023-11-16T00:00:00</td>\n      <td>1</td>\n      <td>None</td>\n    </tr>\n    <tr>\n      <th>10</th>\n      <td>2023-12-01 11:29:12.222649711</td>\n      <td>2023-11-16T00:00:00</td>\n      <td>1</td>\n      <td>None</td>\n    </tr>\n    <tr>\n      <th>11</th>\n      <td>2023-12-01 11:51:00.215244346</td>\n      <td>2023-11-16T00:00:00</td>\n      <td>1</td>\n      <td>None</td>\n    </tr>\n    <tr>\n      <th>12</th>\n      <td>2023-12-01 12:45:17.957572506</td>\n      <td>2023-11-30T00:00:00</td>\n      <td>0</td>\n      <td>runs:/c413fe91b94f4a8db7492ffa6657a0f6/model</td>\n    </tr>\n    <tr>\n      <th>13</th>\n      <td>2023-12-01 14:47:42.703819588</td>\n      <td>2023-11-30T00:00:00</td>\n      <td>0</td>\n      <td>DEFAULT</td>\n    </tr>\n    <tr>\n      <th>14</th>\n      <td>2023-12-02 06:22:45.340411900</td>\n      <td>2023-12-01T00:00:00</td>\n      <td>0</td>\n      <td>DEFAULT</td>\n    </tr>\n    <tr>\n      <th>15</th>\n      <td>2023-12-03 06:22:18.868237311</td>\n      <td>2023-12-01T00:00:00</td>\n      <td>0</td>\n      <td>DEFAULT</td>\n    </tr>\n  </tbody>\n</table>\n</div>"
     },
     "execution_count": 6,
     "metadata": {},
     "output_type": "execute_result"
    }
   ],
   "source": [
    "a"
   ],
   "metadata": {
    "collapsed": false,
    "ExecuteTime": {
     "end_time": "2023-12-03T09:46:45.129046568Z",
     "start_time": "2023-12-03T09:46:45.064996765Z"
    }
   },
   "id": "6c42d94f02989434"
  },
  {
   "cell_type": "code",
   "execution_count": 6,
   "outputs": [],
   "source": [],
   "metadata": {
    "collapsed": false,
    "ExecuteTime": {
     "end_time": "2023-12-03T09:46:45.129961796Z",
     "start_time": "2023-12-03T09:46:45.078173152Z"
    }
   },
   "id": "c55c1badc6dca6e8"
  },
  {
   "cell_type": "code",
   "execution_count": null,
   "outputs": [],
   "source": [
    "import streamlit as st\n",
    "import yfinance as yf\n",
    "import plotly.express as px\n",
    "\n",
    "def main():\n",
    "    st.title('Aktienkursvorhersage')\n",
    "\n",
    "    symbol = \"^GSPC\"\n",
    "\n",
    "    data = yf.download(symbol, start='2020-01-01', end='2023-01-01')\n",
    "    if not data.empty:\n",
    "        fig = px.line(data, x=data.index, y='Close', title=f'Aktienkurse für {symbol}')\n",
    "        st.plotly_chart(fig)\n",
    "    else:\n",
    "        st.write('Keine Daten verfügbar.')\n",
    "\n",
    "if __name__ == '__main__':\n",
    "    main()\n"
   ],
   "metadata": {
    "collapsed": false
   },
   "id": "6f425efdee1b3f2d"
  }
 ],
 "metadata": {
  "kernelspec": {
   "display_name": "Python 3",
   "language": "python",
   "name": "python3"
  },
  "language_info": {
   "codemirror_mode": {
    "name": "ipython",
    "version": 2
   },
   "file_extension": ".py",
   "mimetype": "text/x-python",
   "name": "python",
   "nbconvert_exporter": "python",
   "pygments_lexer": "ipython2",
   "version": "2.7.6"
  }
 },
 "nbformat": 4,
 "nbformat_minor": 5
}
