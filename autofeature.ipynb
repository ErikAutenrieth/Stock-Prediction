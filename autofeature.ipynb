{
 "cells": [
  {
   "cell_type": "code",
   "execution_count": 1,
   "id": "initial_id",
   "metadata": {
    "collapsed": true,
    "ExecuteTime": {
     "end_time": "2023-11-23T14:54:53.437717248Z",
     "start_time": "2023-11-23T14:54:50.898200393Z"
    }
   },
   "outputs": [],
   "source": [
    "## https://tsfresh.readthedocs.io/en/latest/\n",
    "# https://10mohi6.medium.com/super-easy-python-automatic-extraction-of-stock-price-data-features-using-tsfresh-8b26dbdd710b\n",
    "# !pip install tsfresh\n",
    "import pandas as pd\n",
    "from tsfresh import extract_features"
   ]
  },
  {
   "cell_type": "code",
   "execution_count": 2,
   "outputs": [],
   "source": [
    "sp500_data = pd.read_csv('./data/sp500_training_data_to_2023-11-15.csv')\n",
    "sp500_data.set_index(\"Date\", drop=True, inplace=True)"
   ],
   "metadata": {
    "collapsed": false,
    "ExecuteTime": {
     "end_time": "2023-11-23T14:47:14.065625323Z",
     "start_time": "2023-11-23T14:47:13.956906811Z"
    }
   },
   "id": "b5ff7a0df3093613"
  },
  {
   "cell_type": "code",
   "execution_count": 3,
   "outputs": [],
   "source": [
    "sp500_data[\"id\"] = sp500_data.index"
   ],
   "metadata": {
    "collapsed": false,
    "ExecuteTime": {
     "end_time": "2023-11-23T14:47:14.918884013Z",
     "start_time": "2023-11-23T14:47:14.893438630Z"
    }
   },
   "id": "7bd0c48345d2a8ce"
  },
  {
   "cell_type": "code",
   "execution_count": 4,
   "outputs": [
    {
     "data": {
      "text/plain": "               Close    Volume   Rendite    SMA 10    EMA 10    EMA 20  \\\nDate                                                                     \n1980-02-20 -1.034751 -0.989659  1.406774 -1.034713 -1.035322 -1.036475   \n1980-02-21 -1.035825 -0.985874 -0.937960 -1.034753 -1.035453 -1.036444   \n1980-02-22 -1.036041 -0.987622 -0.219084 -1.034865 -1.035599 -1.036438   \n1980-02-25 -1.037585 -0.992397 -1.348600 -1.035283 -1.036000 -1.036579   \n1980-02-26 -1.036998 -0.991944  0.471689 -1.035566 -1.036221 -1.036651   \n...              ...       ...       ...       ...       ...       ...   \n2023-10-26  2.594340  1.239004 -1.080692  2.718499  2.695873  2.738659   \n2023-10-27  2.576415  1.103103 -0.459294  2.699476  2.675253  2.724384   \n2023-10-30  2.621047  1.046056  1.026134  2.680778  2.666511  2.715734   \n2023-10-31  2.645399  1.224173  0.537033  2.664558  2.663794  2.710236   \n2023-11-01  2.685167  1.211238  0.893232  2.657620  2.668814  2.709061   \n\n              WMA 10  Momentum 10       SAR       RSI  ...       OBV  \\\nDate                                                   ...             \n1980-02-20 -1.034865    -0.037843 -1.031294  0.698804  ... -0.796974   \n1980-02-21 -1.035092    -0.078913 -1.031530  0.226973  ... -0.797087   \n1980-02-22 -1.035351    -0.093516 -1.031756  0.135213  ... -0.797192   \n1980-02-25 -1.035870    -0.155213 -1.031973 -0.469184  ... -0.797277   \n1980-02-26 -1.036207    -0.128198 -1.032325 -0.252192  ... -0.797190   \n...              ...          ...       ...       ...  ...       ...   \n2023-10-26  2.683755    -3.947591  2.808897 -2.052837  ...  2.057312   \n2023-10-27  2.659005    -3.911627  2.788972 -2.171486  ...  2.048539   \n2023-10-30  2.645837    -3.845921  2.764824 -1.509266  ...  2.057076   \n2023-10-31  2.640500    -3.345595  2.743574 -1.182711  ...  2.066350   \n2023-11-01  2.645349    -1.471672  2.724874 -0.693734  ...  2.075571   \n\n                MACD  MACD_SIGNAL  MACD_HIST       CCI     ADOSC        %K  \\\nDate                                                                         \n1980-02-20 -0.041061    -0.010112  -0.098226 -0.257095 -0.368632  0.667911   \n1980-02-21 -0.051751    -0.019148  -0.105242 -0.307537 -0.371475 -0.936198   \n1980-02-22 -0.062204    -0.028618  -0.110269 -0.810456 -0.371929 -0.062220   \n1980-02-25 -0.078670    -0.039725  -0.129230 -1.427076 -0.374466 -0.740598   \n1980-02-26 -0.089518    -0.050935  -0.130440 -1.367497 -0.372535  0.396828   \n...              ...          ...        ...       ...       ...       ...   \n2023-10-26 -2.657800    -2.040655  -2.341822 -1.703351 -2.217070 -1.164152   \n2023-10-27 -3.054965    -2.287417  -2.860344 -1.533880 -2.593748 -0.893698   \n2023-10-30 -3.120448    -2.498864  -2.451075 -1.088033 -2.196136  0.632754   \n2023-10-31 -3.021882    -2.646891  -1.716070 -0.823048 -1.199530  1.232186   \n2023-11-01 -2.722510    -2.701133  -0.629151 -0.372018 -0.227748  0.865178   \n\n                  %D  Target          id  \nDate                                      \n1980-02-20  0.279727       0  1980-02-20  \n1980-02-21 -0.182829       0  1980-02-21  \n1980-02-22 -0.196208       0  1980-02-22  \n1980-02-25 -1.032527       0  1980-02-25  \n1980-02-26 -0.241026       0  1980-02-26  \n...              ...     ...         ...  \n2023-10-26 -1.215835       1  2023-10-26  \n2023-10-27 -2.025639       1  2023-10-27  \n2023-10-30 -0.846132       1  2023-10-30  \n2023-10-31  0.576723       1  2023-10-31  \n2023-11-01  1.621076       1  2023-11-01  \n\n[11016 rows x 22 columns]",
      "text/html": "<div>\n<style scoped>\n    .dataframe tbody tr th:only-of-type {\n        vertical-align: middle;\n    }\n\n    .dataframe tbody tr th {\n        vertical-align: top;\n    }\n\n    .dataframe thead th {\n        text-align: right;\n    }\n</style>\n<table border=\"1\" class=\"dataframe\">\n  <thead>\n    <tr style=\"text-align: right;\">\n      <th></th>\n      <th>Close</th>\n      <th>Volume</th>\n      <th>Rendite</th>\n      <th>SMA 10</th>\n      <th>EMA 10</th>\n      <th>EMA 20</th>\n      <th>WMA 10</th>\n      <th>Momentum 10</th>\n      <th>SAR</th>\n      <th>RSI</th>\n      <th>...</th>\n      <th>OBV</th>\n      <th>MACD</th>\n      <th>MACD_SIGNAL</th>\n      <th>MACD_HIST</th>\n      <th>CCI</th>\n      <th>ADOSC</th>\n      <th>%K</th>\n      <th>%D</th>\n      <th>Target</th>\n      <th>id</th>\n    </tr>\n    <tr>\n      <th>Date</th>\n      <th></th>\n      <th></th>\n      <th></th>\n      <th></th>\n      <th></th>\n      <th></th>\n      <th></th>\n      <th></th>\n      <th></th>\n      <th></th>\n      <th></th>\n      <th></th>\n      <th></th>\n      <th></th>\n      <th></th>\n      <th></th>\n      <th></th>\n      <th></th>\n      <th></th>\n      <th></th>\n      <th></th>\n    </tr>\n  </thead>\n  <tbody>\n    <tr>\n      <th>1980-02-20</th>\n      <td>-1.034751</td>\n      <td>-0.989659</td>\n      <td>1.406774</td>\n      <td>-1.034713</td>\n      <td>-1.035322</td>\n      <td>-1.036475</td>\n      <td>-1.034865</td>\n      <td>-0.037843</td>\n      <td>-1.031294</td>\n      <td>0.698804</td>\n      <td>...</td>\n      <td>-0.796974</td>\n      <td>-0.041061</td>\n      <td>-0.010112</td>\n      <td>-0.098226</td>\n      <td>-0.257095</td>\n      <td>-0.368632</td>\n      <td>0.667911</td>\n      <td>0.279727</td>\n      <td>0</td>\n      <td>1980-02-20</td>\n    </tr>\n    <tr>\n      <th>1980-02-21</th>\n      <td>-1.035825</td>\n      <td>-0.985874</td>\n      <td>-0.937960</td>\n      <td>-1.034753</td>\n      <td>-1.035453</td>\n      <td>-1.036444</td>\n      <td>-1.035092</td>\n      <td>-0.078913</td>\n      <td>-1.031530</td>\n      <td>0.226973</td>\n      <td>...</td>\n      <td>-0.797087</td>\n      <td>-0.051751</td>\n      <td>-0.019148</td>\n      <td>-0.105242</td>\n      <td>-0.307537</td>\n      <td>-0.371475</td>\n      <td>-0.936198</td>\n      <td>-0.182829</td>\n      <td>0</td>\n      <td>1980-02-21</td>\n    </tr>\n    <tr>\n      <th>1980-02-22</th>\n      <td>-1.036041</td>\n      <td>-0.987622</td>\n      <td>-0.219084</td>\n      <td>-1.034865</td>\n      <td>-1.035599</td>\n      <td>-1.036438</td>\n      <td>-1.035351</td>\n      <td>-0.093516</td>\n      <td>-1.031756</td>\n      <td>0.135213</td>\n      <td>...</td>\n      <td>-0.797192</td>\n      <td>-0.062204</td>\n      <td>-0.028618</td>\n      <td>-0.110269</td>\n      <td>-0.810456</td>\n      <td>-0.371929</td>\n      <td>-0.062220</td>\n      <td>-0.196208</td>\n      <td>0</td>\n      <td>1980-02-22</td>\n    </tr>\n    <tr>\n      <th>1980-02-25</th>\n      <td>-1.037585</td>\n      <td>-0.992397</td>\n      <td>-1.348600</td>\n      <td>-1.035283</td>\n      <td>-1.036000</td>\n      <td>-1.036579</td>\n      <td>-1.035870</td>\n      <td>-0.155213</td>\n      <td>-1.031973</td>\n      <td>-0.469184</td>\n      <td>...</td>\n      <td>-0.797277</td>\n      <td>-0.078670</td>\n      <td>-0.039725</td>\n      <td>-0.129230</td>\n      <td>-1.427076</td>\n      <td>-0.374466</td>\n      <td>-0.740598</td>\n      <td>-1.032527</td>\n      <td>0</td>\n      <td>1980-02-25</td>\n    </tr>\n    <tr>\n      <th>1980-02-26</th>\n      <td>-1.036998</td>\n      <td>-0.991944</td>\n      <td>0.471689</td>\n      <td>-1.035566</td>\n      <td>-1.036221</td>\n      <td>-1.036651</td>\n      <td>-1.036207</td>\n      <td>-0.128198</td>\n      <td>-1.032325</td>\n      <td>-0.252192</td>\n      <td>...</td>\n      <td>-0.797190</td>\n      <td>-0.089518</td>\n      <td>-0.050935</td>\n      <td>-0.130440</td>\n      <td>-1.367497</td>\n      <td>-0.372535</td>\n      <td>0.396828</td>\n      <td>-0.241026</td>\n      <td>0</td>\n      <td>1980-02-26</td>\n    </tr>\n    <tr>\n      <th>...</th>\n      <td>...</td>\n      <td>...</td>\n      <td>...</td>\n      <td>...</td>\n      <td>...</td>\n      <td>...</td>\n      <td>...</td>\n      <td>...</td>\n      <td>...</td>\n      <td>...</td>\n      <td>...</td>\n      <td>...</td>\n      <td>...</td>\n      <td>...</td>\n      <td>...</td>\n      <td>...</td>\n      <td>...</td>\n      <td>...</td>\n      <td>...</td>\n      <td>...</td>\n      <td>...</td>\n    </tr>\n    <tr>\n      <th>2023-10-26</th>\n      <td>2.594340</td>\n      <td>1.239004</td>\n      <td>-1.080692</td>\n      <td>2.718499</td>\n      <td>2.695873</td>\n      <td>2.738659</td>\n      <td>2.683755</td>\n      <td>-3.947591</td>\n      <td>2.808897</td>\n      <td>-2.052837</td>\n      <td>...</td>\n      <td>2.057312</td>\n      <td>-2.657800</td>\n      <td>-2.040655</td>\n      <td>-2.341822</td>\n      <td>-1.703351</td>\n      <td>-2.217070</td>\n      <td>-1.164152</td>\n      <td>-1.215835</td>\n      <td>1</td>\n      <td>2023-10-26</td>\n    </tr>\n    <tr>\n      <th>2023-10-27</th>\n      <td>2.576415</td>\n      <td>1.103103</td>\n      <td>-0.459294</td>\n      <td>2.699476</td>\n      <td>2.675253</td>\n      <td>2.724384</td>\n      <td>2.659005</td>\n      <td>-3.911627</td>\n      <td>2.788972</td>\n      <td>-2.171486</td>\n      <td>...</td>\n      <td>2.048539</td>\n      <td>-3.054965</td>\n      <td>-2.287417</td>\n      <td>-2.860344</td>\n      <td>-1.533880</td>\n      <td>-2.593748</td>\n      <td>-0.893698</td>\n      <td>-2.025639</td>\n      <td>1</td>\n      <td>2023-10-27</td>\n    </tr>\n    <tr>\n      <th>2023-10-30</th>\n      <td>2.621047</td>\n      <td>1.046056</td>\n      <td>1.026134</td>\n      <td>2.680778</td>\n      <td>2.666511</td>\n      <td>2.715734</td>\n      <td>2.645837</td>\n      <td>-3.845921</td>\n      <td>2.764824</td>\n      <td>-1.509266</td>\n      <td>...</td>\n      <td>2.057076</td>\n      <td>-3.120448</td>\n      <td>-2.498864</td>\n      <td>-2.451075</td>\n      <td>-1.088033</td>\n      <td>-2.196136</td>\n      <td>0.632754</td>\n      <td>-0.846132</td>\n      <td>1</td>\n      <td>2023-10-30</td>\n    </tr>\n    <tr>\n      <th>2023-10-31</th>\n      <td>2.645399</td>\n      <td>1.224173</td>\n      <td>0.537033</td>\n      <td>2.664558</td>\n      <td>2.663794</td>\n      <td>2.710236</td>\n      <td>2.640500</td>\n      <td>-3.345595</td>\n      <td>2.743574</td>\n      <td>-1.182711</td>\n      <td>...</td>\n      <td>2.066350</td>\n      <td>-3.021882</td>\n      <td>-2.646891</td>\n      <td>-1.716070</td>\n      <td>-0.823048</td>\n      <td>-1.199530</td>\n      <td>1.232186</td>\n      <td>0.576723</td>\n      <td>1</td>\n      <td>2023-10-31</td>\n    </tr>\n    <tr>\n      <th>2023-11-01</th>\n      <td>2.685167</td>\n      <td>1.211238</td>\n      <td>0.893232</td>\n      <td>2.657620</td>\n      <td>2.668814</td>\n      <td>2.709061</td>\n      <td>2.645349</td>\n      <td>-1.471672</td>\n      <td>2.724874</td>\n      <td>-0.693734</td>\n      <td>...</td>\n      <td>2.075571</td>\n      <td>-2.722510</td>\n      <td>-2.701133</td>\n      <td>-0.629151</td>\n      <td>-0.372018</td>\n      <td>-0.227748</td>\n      <td>0.865178</td>\n      <td>1.621076</td>\n      <td>1</td>\n      <td>2023-11-01</td>\n    </tr>\n  </tbody>\n</table>\n<p>11016 rows × 22 columns</p>\n</div>"
     },
     "execution_count": 4,
     "metadata": {},
     "output_type": "execute_result"
    }
   ],
   "source": [
    "sp500_data"
   ],
   "metadata": {
    "collapsed": false,
    "ExecuteTime": {
     "end_time": "2023-11-23T14:47:18.825706472Z",
     "start_time": "2023-11-23T14:47:18.796413077Z"
    }
   },
   "id": "82011783af35257a"
  },
  {
   "cell_type": "code",
   "execution_count": null,
   "outputs": [
    {
     "name": "stderr",
     "output_type": "stream",
     "text": [
      "Feature Extraction:   0%|          | 0/15 [00:00<?, ?it/s]"
     ]
    }
   ],
   "source": [
    "X = extract_features(sp500_data.drop([\"Target\"], axis=1), column_id=\"id\")"
   ],
   "metadata": {
    "collapsed": false,
    "is_executing": true,
    "ExecuteTime": {
     "start_time": "2023-11-23T14:47:52.990908180Z"
    }
   },
   "id": "fe5cb9c889394d53"
  },
  {
   "cell_type": "code",
   "execution_count": 3,
   "outputs": [
    {
     "name": "stdout",
     "output_type": "stream",
     "text": [
      "[*********************100%%**********************]  1 of 1 completed\n"
     ]
    }
   ],
   "source": [
    "import yfinance as yf\n",
    "\n",
    "df = yf.download('AAPL', start='2010-11-01', end='2020-11-01')\n",
    "df[\"Diff\"] = df.Close.diff()\n",
    "df[\"y\"] = df[\"Diff\"].apply(lambda x: 1 if x > 0 else 0).shift(-1)\n",
    "df = df.drop(\n",
    "    [\"Diff\", \"Adj Close\"],\n",
    "    axis=1,\n",
    ").dropna()\n",
    "\n",
    "df[\"id\"] = df.index"
   ],
   "metadata": {
    "collapsed": false,
    "ExecuteTime": {
     "end_time": "2023-11-23T14:59:25.167462031Z",
     "start_time": "2023-11-23T14:59:24.124909598Z"
    }
   },
   "id": "8ebf54ddbb1e99ff"
  },
  {
   "cell_type": "code",
   "execution_count": 8,
   "outputs": [
    {
     "name": "stderr",
     "output_type": "stream",
     "text": [
      "Feature Extraction: 100%|██████████| 15/15 [01:10<00:00,  4.72s/it]\n"
     ]
    }
   ],
   "source": [
    "X = extract_features(df.drop([\"y\"], axis=1), column_id=\"id\")"
   ],
   "metadata": {
    "collapsed": false,
    "ExecuteTime": {
     "end_time": "2023-11-23T15:04:38.518849867Z",
     "start_time": "2023-11-23T15:03:11.954230125Z"
    }
   },
   "id": "5e6e83d613a2dcd8"
  },
  {
   "cell_type": "code",
   "execution_count": 18,
   "outputs": [],
   "source": [
    "X = X.dropna(axis=1, how=\"all\")\n",
    "X = X.loc[:, ~(X == 0.0).all(axis=0)]\n",
    "X = X.loc[:, ~(X == 1.0).all(axis=0)]\n",
    "to_keep = ~X.T.duplicated()\n",
    "X_unique = X.loc[:, to_keep]"
   ],
   "metadata": {
    "collapsed": false,
    "ExecuteTime": {
     "end_time": "2023-11-23T15:11:14.321384700Z",
     "start_time": "2023-11-23T15:11:14.147669275Z"
    }
   },
   "id": "280c9a784197bf6f"
  },
  {
   "cell_type": "code",
   "execution_count": 22,
   "outputs": [],
   "source": [],
   "metadata": {
    "collapsed": false,
    "ExecuteTime": {
     "end_time": "2023-11-23T15:14:58.880114714Z",
     "start_time": "2023-11-23T15:14:58.866087500Z"
    }
   },
   "id": "7009dab35442e911"
  },
  {
   "cell_type": "code",
   "execution_count": 26,
   "outputs": [
    {
     "data": {
      "text/plain": "                  Open        High         Low       Close     Volume\nDate                                                                 \n2010-11-01   10.793571   10.914286   10.792857   10.863571  423889200\n2010-11-02   10.964286   11.078214   10.964286   11.048571  433930000\n2010-11-03   11.120357   11.174286   11.018929   11.171429  508348400\n2010-11-04   11.266071   11.435000   11.251071   11.366786  642488000\n2010-11-05   11.356786   11.413214   11.312500   11.326071  361253200\n...                ...         ...         ...         ...        ...\n2020-10-23  116.389999  116.550003  114.279999  115.040001   82572600\n2020-10-26  114.010002  116.550003  112.879997  115.050003  111850700\n2020-10-27  115.489998  117.279999  114.540001  116.599998   92276800\n2020-10-28  115.050003  115.430000  111.099998  111.199997  143937800\n2020-10-29  112.370003  116.930000  112.199997  115.320000  146129200\n\n[2517 rows x 5 columns]",
      "text/html": "<div>\n<style scoped>\n    .dataframe tbody tr th:only-of-type {\n        vertical-align: middle;\n    }\n\n    .dataframe tbody tr th {\n        vertical-align: top;\n    }\n\n    .dataframe thead th {\n        text-align: right;\n    }\n</style>\n<table border=\"1\" class=\"dataframe\">\n  <thead>\n    <tr style=\"text-align: right;\">\n      <th></th>\n      <th>Open</th>\n      <th>High</th>\n      <th>Low</th>\n      <th>Close</th>\n      <th>Volume</th>\n    </tr>\n    <tr>\n      <th>Date</th>\n      <th></th>\n      <th></th>\n      <th></th>\n      <th></th>\n      <th></th>\n    </tr>\n  </thead>\n  <tbody>\n    <tr>\n      <th>2010-11-01</th>\n      <td>10.793571</td>\n      <td>10.914286</td>\n      <td>10.792857</td>\n      <td>10.863571</td>\n      <td>423889200</td>\n    </tr>\n    <tr>\n      <th>2010-11-02</th>\n      <td>10.964286</td>\n      <td>11.078214</td>\n      <td>10.964286</td>\n      <td>11.048571</td>\n      <td>433930000</td>\n    </tr>\n    <tr>\n      <th>2010-11-03</th>\n      <td>11.120357</td>\n      <td>11.174286</td>\n      <td>11.018929</td>\n      <td>11.171429</td>\n      <td>508348400</td>\n    </tr>\n    <tr>\n      <th>2010-11-04</th>\n      <td>11.266071</td>\n      <td>11.435000</td>\n      <td>11.251071</td>\n      <td>11.366786</td>\n      <td>642488000</td>\n    </tr>\n    <tr>\n      <th>2010-11-05</th>\n      <td>11.356786</td>\n      <td>11.413214</td>\n      <td>11.312500</td>\n      <td>11.326071</td>\n      <td>361253200</td>\n    </tr>\n    <tr>\n      <th>...</th>\n      <td>...</td>\n      <td>...</td>\n      <td>...</td>\n      <td>...</td>\n      <td>...</td>\n    </tr>\n    <tr>\n      <th>2020-10-23</th>\n      <td>116.389999</td>\n      <td>116.550003</td>\n      <td>114.279999</td>\n      <td>115.040001</td>\n      <td>82572600</td>\n    </tr>\n    <tr>\n      <th>2020-10-26</th>\n      <td>114.010002</td>\n      <td>116.550003</td>\n      <td>112.879997</td>\n      <td>115.050003</td>\n      <td>111850700</td>\n    </tr>\n    <tr>\n      <th>2020-10-27</th>\n      <td>115.489998</td>\n      <td>117.279999</td>\n      <td>114.540001</td>\n      <td>116.599998</td>\n      <td>92276800</td>\n    </tr>\n    <tr>\n      <th>2020-10-28</th>\n      <td>115.050003</td>\n      <td>115.430000</td>\n      <td>111.099998</td>\n      <td>111.199997</td>\n      <td>143937800</td>\n    </tr>\n    <tr>\n      <th>2020-10-29</th>\n      <td>112.370003</td>\n      <td>116.930000</td>\n      <td>112.199997</td>\n      <td>115.320000</td>\n      <td>146129200</td>\n    </tr>\n  </tbody>\n</table>\n<p>2517 rows × 5 columns</p>\n</div>"
     },
     "execution_count": 26,
     "metadata": {},
     "output_type": "execute_result"
    }
   ],
   "source": [
    "dftry = df.drop([\"y\", \"id\"], axis=1)\n",
    "dftry"
   ],
   "metadata": {
    "collapsed": false,
    "ExecuteTime": {
     "end_time": "2023-11-23T15:16:09.858520928Z",
     "start_time": "2023-11-23T15:16:09.841166661Z"
    }
   },
   "id": "4187b088ec88d92e"
  },
  {
   "cell_type": "code",
   "execution_count": 27,
   "outputs": [],
   "source": [
    "from sklearn.preprocessing import StandardScaler\n",
    "from sklearn.model_selection import train_test_split\n",
    "\n",
    "scaler = StandardScaler()\n",
    "X_scaled = scaler.fit_transform(X_unique)\n",
    "train_x, test_x, train_y, test_y = train_test_split(dftry, df[\"y\"] , test_size=0.25, random_state=42)"
   ],
   "metadata": {
    "collapsed": false,
    "ExecuteTime": {
     "end_time": "2023-11-23T15:16:37.665747337Z",
     "start_time": "2023-11-23T15:16:37.647111671Z"
    }
   },
   "id": "f31cf0ab7a37c146"
  },
  {
   "cell_type": "code",
   "execution_count": 30,
   "outputs": [
    {
     "name": "stdout",
     "output_type": "stream",
     "text": [
      "Genauigkeit: 0.4714285714285714\n"
     ]
    }
   ],
   "source": [
    "from sklearn.metrics import accuracy_score\n",
    "from sklearn.ensemble import ExtraTreesClassifier\n",
    "\n",
    "etc = ExtraTreesClassifier(n_estimators=500, random_state=42)\n",
    "\n",
    "\n",
    "etc.fit(train_x, train_y)\n",
    "y_pred = etc.predict(test_x)\n",
    "accuracy = accuracy_score(test_y, y_pred)\n",
    "print(f\"Genauigkeit: {accuracy}\")"
   ],
   "metadata": {
    "collapsed": false,
    "ExecuteTime": {
     "end_time": "2023-11-23T15:17:02.050314804Z",
     "start_time": "2023-11-23T15:17:01.201965564Z"
    }
   },
   "id": "b39e6dae492c2161"
  },
  {
   "cell_type": "code",
   "execution_count": null,
   "outputs": [],
   "source": [],
   "metadata": {
    "collapsed": false
   },
   "id": "4d56c13ff161558b"
  }
 ],
 "metadata": {
  "kernelspec": {
   "display_name": "Python 3",
   "language": "python",
   "name": "python3"
  },
  "language_info": {
   "codemirror_mode": {
    "name": "ipython",
    "version": 2
   },
   "file_extension": ".py",
   "mimetype": "text/x-python",
   "name": "python",
   "nbconvert_exporter": "python",
   "pygments_lexer": "ipython2",
   "version": "2.7.6"
  }
 },
 "nbformat": 4,
 "nbformat_minor": 5
}
