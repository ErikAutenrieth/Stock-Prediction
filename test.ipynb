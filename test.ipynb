{
 "cells": [
  {
   "cell_type": "code",
   "execution_count": 1,
   "outputs": [],
   "source": [
    "import pandas as pd\n",
    "import mlflow"
   ],
   "metadata": {
    "collapsed": false,
    "ExecuteTime": {
     "end_time": "2023-11-17T14:16:44.825219754Z",
     "start_time": "2023-11-17T14:16:43.714795896Z"
    }
   },
   "id": "7b7d168b89c18a88"
  },
  {
   "cell_type": "code",
   "execution_count": 2,
   "outputs": [
    {
     "data": {
      "text/plain": "               Close    Volume   Rendite    SMA 10    EMA 10    EMA 20  \\\nDate                                                                     \n2023-11-15  2.924371  1.275609  0.105997  2.835659  2.836735  2.802099   \n\n              WMA 10  Momentum 10       SAR       RSI       ROC        %R  \\\nDate                                                                        \n2023-11-15  2.857765     4.766703  2.753382  1.229881  1.824033  1.133682   \n\n                 OBV     MACD  MACD_SIGNAL  MACD_HIST       CCI    ADOSC  \\\nDate                                                                       \n2023-11-15  2.132107  2.04021     0.477527   4.952725  0.992047  1.40634   \n\n                  %K        %D  \nDate                            \n2023-11-15 -0.784919  0.019175  ",
      "text/html": "<div>\n<style scoped>\n    .dataframe tbody tr th:only-of-type {\n        vertical-align: middle;\n    }\n\n    .dataframe tbody tr th {\n        vertical-align: top;\n    }\n\n    .dataframe thead th {\n        text-align: right;\n    }\n</style>\n<table border=\"1\" class=\"dataframe\">\n  <thead>\n    <tr style=\"text-align: right;\">\n      <th></th>\n      <th>Close</th>\n      <th>Volume</th>\n      <th>Rendite</th>\n      <th>SMA 10</th>\n      <th>EMA 10</th>\n      <th>EMA 20</th>\n      <th>WMA 10</th>\n      <th>Momentum 10</th>\n      <th>SAR</th>\n      <th>RSI</th>\n      <th>ROC</th>\n      <th>%R</th>\n      <th>OBV</th>\n      <th>MACD</th>\n      <th>MACD_SIGNAL</th>\n      <th>MACD_HIST</th>\n      <th>CCI</th>\n      <th>ADOSC</th>\n      <th>%K</th>\n      <th>%D</th>\n    </tr>\n    <tr>\n      <th>Date</th>\n      <th></th>\n      <th></th>\n      <th></th>\n      <th></th>\n      <th></th>\n      <th></th>\n      <th></th>\n      <th></th>\n      <th></th>\n      <th></th>\n      <th></th>\n      <th></th>\n      <th></th>\n      <th></th>\n      <th></th>\n      <th></th>\n      <th></th>\n      <th></th>\n      <th></th>\n      <th></th>\n    </tr>\n  </thead>\n  <tbody>\n    <tr>\n      <th>2023-11-15</th>\n      <td>2.924371</td>\n      <td>1.275609</td>\n      <td>0.105997</td>\n      <td>2.835659</td>\n      <td>2.836735</td>\n      <td>2.802099</td>\n      <td>2.857765</td>\n      <td>4.766703</td>\n      <td>2.753382</td>\n      <td>1.229881</td>\n      <td>1.824033</td>\n      <td>1.133682</td>\n      <td>2.132107</td>\n      <td>2.04021</td>\n      <td>0.477527</td>\n      <td>4.952725</td>\n      <td>0.992047</td>\n      <td>1.40634</td>\n      <td>-0.784919</td>\n      <td>0.019175</td>\n    </tr>\n  </tbody>\n</table>\n</div>"
     },
     "execution_count": 2,
     "metadata": {},
     "output_type": "execute_result"
    }
   ],
   "source": [
    "df = pd.read_csv(\"./data/sp500_predict_2023-11-15.csv\")\n",
    "df.set_index('Date', inplace=True)\n",
    "#df.drop(\"Date\", axis=1, inplace=True)\n",
    "df"
   ],
   "metadata": {
    "collapsed": false,
    "ExecuteTime": {
     "end_time": "2023-11-17T14:16:45.677333284Z",
     "start_time": "2023-11-17T14:16:45.641532592Z"
    }
   },
   "id": "fc22a2d740ed6298"
  },
  {
   "cell_type": "code",
   "execution_count": 4,
   "outputs": [
    {
     "name": "stderr",
     "output_type": "stream",
     "text": [
      "2023/11/17 15:17:18 WARNING mlflow.pyfunc: Detected one or more mismatches between the model's dependencies and the current Python environment:\n",
      " - psutil (current: 5.9.0, required: psutil==5.9.6)\n",
      "To fix the mismatches, call `mlflow.pyfunc.get_model_dependencies(model_uri)` to fetch the model's environment and install dependencies using the resulting environment file.\n"
     ]
    },
    {
     "name": "stdout",
     "output_type": "stream",
     "text": [
      "[1]\n"
     ]
    }
   ],
   "source": [
    "DEFAULT_MODEL = \"runs:/c413fe91b94f4a8db7492ffa6657a0f6/model\"\n",
    "loaded_model = mlflow.pyfunc.load_model(DEFAULT_MODEL)\n",
    "prediction = loaded_model.predict(df)\n",
    "print(prediction)"
   ],
   "metadata": {
    "collapsed": false,
    "ExecuteTime": {
     "end_time": "2023-11-17T14:17:19.335992679Z",
     "start_time": "2023-11-17T14:17:17.513972026Z"
    }
   },
   "id": "2680897a3b5509d1"
  },
  {
   "cell_type": "code",
   "execution_count": 5,
   "outputs": [
    {
     "ename": "AttributeError",
     "evalue": "module 'mlflow.sagemaker' has no attribute 'deploy'",
     "output_type": "error",
     "traceback": [
      "\u001B[0;31m---------------------------------------------------------------------------\u001B[0m",
      "\u001B[0;31mAttributeError\u001B[0m                            Traceback (most recent call last)",
      "Cell \u001B[0;32mIn[5], line 9\u001B[0m\n\u001B[1;32m      6\u001B[0m region \u001B[38;5;241m=\u001B[39m \u001B[38;5;124m\"\u001B[39m\u001B[38;5;124meu-central-1\u001B[39m\u001B[38;5;124m\"\u001B[39m  \u001B[38;5;66;03m# Ersetzen Sie dies durch Ihre AWS-Region\u001B[39;00m\n\u001B[1;32m      8\u001B[0m \u001B[38;5;66;03m# Deployen des Modells in SageMaker\u001B[39;00m\n\u001B[0;32m----> 9\u001B[0m \u001B[43mmlflow\u001B[49m\u001B[38;5;241;43m.\u001B[39;49m\u001B[43msagemaker\u001B[49m\u001B[38;5;241;43m.\u001B[39;49m\u001B[43mdeploy\u001B[49m(app_name\u001B[38;5;241m=\u001B[39mapp_name,\n\u001B[1;32m     10\u001B[0m                         model_uri\u001B[38;5;241m=\u001B[39mmodel_uri,\n\u001B[1;32m     11\u001B[0m                         execution_role_arn\u001B[38;5;241m=\u001B[39mexecution_role_arn,\n\u001B[1;32m     12\u001B[0m                         region_name\u001B[38;5;241m=\u001B[39mregion,\n\u001B[1;32m     13\u001B[0m                         mode\u001B[38;5;241m=\u001B[39mmlflow\u001B[38;5;241m.\u001B[39msagemaker\u001B[38;5;241m.\u001B[39mDEPLOYMENT_MODE_CREATE)\n",
      "\u001B[0;31mAttributeError\u001B[0m: module 'mlflow.sagemaker' has no attribute 'deploy'"
     ]
    }
   ],
   "source": [
    "import mlflow.sagemaker\n",
    "\n",
    "model_uri = \"runs:/c413fe91b94f4a8db7492ffa6657a0f6/model\"  # Ersetzen Sie dies durch Ihr MLflow-Modell-URI\n",
    "execution_role_arn = \"arn:aws:iam::401605265667:role/service-role/AmazonSageMaker-ExecutionRole-20231117T143908\"  # Ersetzen Sie dies durch die ARN Ihrer SageMaker-Rolle\n",
    "app_name = \"mlflow_extra_trees\"  # Ersetzen Sie dies durch einen eindeutigen Namen für Ihre SageMaker-Anwendung\n",
    "region = \"eu-central-1\"  # Ersetzen Sie dies durch Ihre AWS-Region\n",
    "\n",
    "# Deployen des Modells in SageMaker\n",
    "mlflow.sagemaker.deploy(app_name=app_name,\n",
    "                        model_uri=model_uri,\n",
    "                        execution_role_arn=execution_role_arn,\n",
    "                        region_name=region,\n",
    "                        mode=mlflow.sagemaker.DEPLOYMENT_MODE_CREATE)"
   ],
   "metadata": {
    "collapsed": false,
    "ExecuteTime": {
     "end_time": "2023-11-17T14:17:21.216072705Z",
     "start_time": "2023-11-17T14:17:20.871796329Z"
    }
   },
   "id": "cce430ca9ad8b6c"
  },
  {
   "cell_type": "code",
   "execution_count": null,
   "outputs": [],
   "source": [],
   "metadata": {
    "collapsed": false
   },
   "id": "211484f84507d5fc"
  }
 ],
 "metadata": {
  "kernelspec": {
   "display_name": "Python 3",
   "language": "python",
   "name": "python3"
  },
  "language_info": {
   "codemirror_mode": {
    "name": "ipython",
    "version": 2
   },
   "file_extension": ".py",
   "mimetype": "text/x-python",
   "name": "python",
   "nbconvert_exporter": "python",
   "pygments_lexer": "ipython2",
   "version": "2.7.6"
  }
 },
 "nbformat": 4,
 "nbformat_minor": 5
}
