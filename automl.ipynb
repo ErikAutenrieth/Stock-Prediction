{
 "cells": [
  {
   "cell_type": "code",
   "execution_count": 1,
   "id": "initial_id",
   "metadata": {
    "collapsed": true,
    "ExecuteTime": {
     "end_time": "2023-11-23T09:27:46.538391661Z",
     "start_time": "2023-11-23T09:27:45.502454799Z"
    }
   },
   "outputs": [],
   "source": [
    "import autosklearn.classification\n",
    "from sklearn.model_selection import train_test_split\n",
    "import sklearn.metrics\n",
    "import pandas as pd"
   ]
  },
  {
   "cell_type": "code",
   "execution_count": 2,
   "outputs": [],
   "source": [
    "#!pip install --upgrade setuptools wheel\n",
    "#!pip install auto-sklearn"
   ],
   "metadata": {
    "collapsed": false,
    "ExecuteTime": {
     "end_time": "2023-11-23T09:27:47.340640445Z",
     "start_time": "2023-11-23T09:27:47.335731647Z"
    }
   },
   "id": "e497f0f1f94fe8c1"
  },
  {
   "cell_type": "markdown",
   "source": [],
   "metadata": {
    "collapsed": false
   },
   "id": "93258c6be5a6d429"
  },
  {
   "cell_type": "code",
   "execution_count": 4,
   "outputs": [
    {
     "data": {
      "text/plain": "               Close    Volume   Rendite    SMA 10    EMA 10    EMA 20  \\\nDate                                                                     \n1980-02-20 -1.034751 -0.989659  1.406774 -1.034713 -1.035322 -1.036475   \n1980-02-21 -1.035825 -0.985874 -0.937960 -1.034753 -1.035453 -1.036444   \n1980-02-22 -1.036041 -0.987622 -0.219084 -1.034865 -1.035599 -1.036438   \n1980-02-25 -1.037585 -0.992397 -1.348600 -1.035283 -1.036000 -1.036579   \n1980-02-26 -1.036998 -0.991944  0.471689 -1.035566 -1.036221 -1.036651   \n...              ...       ...       ...       ...       ...       ...   \n2023-10-26  2.594340  1.239004 -1.080692  2.718499  2.695873  2.738659   \n2023-10-27  2.576415  1.103103 -0.459294  2.699476  2.675253  2.724384   \n2023-10-30  2.621047  1.046056  1.026134  2.680778  2.666511  2.715734   \n2023-10-31  2.645399  1.224173  0.537033  2.664558  2.663794  2.710236   \n2023-11-01  2.685167  1.211238  0.893232  2.657620  2.668814  2.709061   \n\n              WMA 10  Momentum 10       SAR       RSI  ...        %R  \\\nDate                                                   ...             \n1980-02-20 -1.034865    -0.037843 -1.031294  0.698804  ... -0.228438   \n1980-02-21 -1.035092    -0.078913 -1.031530  0.226973  ... -0.705690   \n1980-02-22 -1.035351    -0.093516 -1.031756  0.135213  ... -0.801942   \n1980-02-25 -1.035870    -0.155213 -1.031973 -0.469184  ... -1.487739   \n1980-02-26 -1.036207    -0.128198 -1.032325 -0.252192  ... -1.274453   \n...              ...          ...       ...       ...  ...       ...   \n2023-10-26  2.683755    -3.947591  2.808897 -2.052837  ... -1.847318   \n2023-10-27  2.659005    -3.911627  2.788972 -2.171486  ... -1.809198   \n2023-10-30  2.645837    -3.845921  2.764824 -1.509266  ... -1.256925   \n2023-10-31  2.640500    -3.345595  2.743574 -1.182711  ... -0.955602   \n2023-11-01  2.645349    -1.471672  2.724874 -0.693734  ... -0.463523   \n\n                 OBV      MACD  MACD_SIGNAL  MACD_HIST       CCI     ADOSC  \\\nDate                                                                         \n1980-02-20 -0.796974 -0.041061    -0.010112  -0.098226 -0.257095 -0.368632   \n1980-02-21 -0.797087 -0.051751    -0.019148  -0.105242 -0.307537 -0.371475   \n1980-02-22 -0.797192 -0.062204    -0.028618  -0.110269 -0.810456 -0.371929   \n1980-02-25 -0.797277 -0.078670    -0.039725  -0.129230 -1.427076 -0.374466   \n1980-02-26 -0.797190 -0.089518    -0.050935  -0.130440 -1.367497 -0.372535   \n...              ...       ...          ...        ...       ...       ...   \n2023-10-26  2.057312 -2.657800    -2.040655  -2.341822 -1.703351 -2.217070   \n2023-10-27  2.048539 -3.054965    -2.287417  -2.860344 -1.533880 -2.593748   \n2023-10-30  2.057076 -3.120448    -2.498864  -2.451075 -1.088033 -2.196136   \n2023-10-31  2.066350 -3.021882    -2.646891  -1.716070 -0.823048 -1.199530   \n2023-11-01  2.075571 -2.722510    -2.701133  -0.629151 -0.372018 -0.227748   \n\n                  %K        %D  Target  \nDate                                    \n1980-02-20  0.667911  0.279727       0  \n1980-02-21 -0.936198 -0.182829       0  \n1980-02-22 -0.062220 -0.196208       0  \n1980-02-25 -0.740598 -1.032527       0  \n1980-02-26  0.396828 -0.241026       0  \n...              ...       ...     ...  \n2023-10-26 -1.164152 -1.215835       1  \n2023-10-27 -0.893698 -2.025639       1  \n2023-10-30  0.632754 -0.846132       1  \n2023-10-31  1.232186  0.576723       1  \n2023-11-01  0.865178  1.621076       1  \n\n[11016 rows x 21 columns]",
      "text/html": "<div>\n<style scoped>\n    .dataframe tbody tr th:only-of-type {\n        vertical-align: middle;\n    }\n\n    .dataframe tbody tr th {\n        vertical-align: top;\n    }\n\n    .dataframe thead th {\n        text-align: right;\n    }\n</style>\n<table border=\"1\" class=\"dataframe\">\n  <thead>\n    <tr style=\"text-align: right;\">\n      <th></th>\n      <th>Close</th>\n      <th>Volume</th>\n      <th>Rendite</th>\n      <th>SMA 10</th>\n      <th>EMA 10</th>\n      <th>EMA 20</th>\n      <th>WMA 10</th>\n      <th>Momentum 10</th>\n      <th>SAR</th>\n      <th>RSI</th>\n      <th>...</th>\n      <th>%R</th>\n      <th>OBV</th>\n      <th>MACD</th>\n      <th>MACD_SIGNAL</th>\n      <th>MACD_HIST</th>\n      <th>CCI</th>\n      <th>ADOSC</th>\n      <th>%K</th>\n      <th>%D</th>\n      <th>Target</th>\n    </tr>\n    <tr>\n      <th>Date</th>\n      <th></th>\n      <th></th>\n      <th></th>\n      <th></th>\n      <th></th>\n      <th></th>\n      <th></th>\n      <th></th>\n      <th></th>\n      <th></th>\n      <th></th>\n      <th></th>\n      <th></th>\n      <th></th>\n      <th></th>\n      <th></th>\n      <th></th>\n      <th></th>\n      <th></th>\n      <th></th>\n      <th></th>\n    </tr>\n  </thead>\n  <tbody>\n    <tr>\n      <th>1980-02-20</th>\n      <td>-1.034751</td>\n      <td>-0.989659</td>\n      <td>1.406774</td>\n      <td>-1.034713</td>\n      <td>-1.035322</td>\n      <td>-1.036475</td>\n      <td>-1.034865</td>\n      <td>-0.037843</td>\n      <td>-1.031294</td>\n      <td>0.698804</td>\n      <td>...</td>\n      <td>-0.228438</td>\n      <td>-0.796974</td>\n      <td>-0.041061</td>\n      <td>-0.010112</td>\n      <td>-0.098226</td>\n      <td>-0.257095</td>\n      <td>-0.368632</td>\n      <td>0.667911</td>\n      <td>0.279727</td>\n      <td>0</td>\n    </tr>\n    <tr>\n      <th>1980-02-21</th>\n      <td>-1.035825</td>\n      <td>-0.985874</td>\n      <td>-0.937960</td>\n      <td>-1.034753</td>\n      <td>-1.035453</td>\n      <td>-1.036444</td>\n      <td>-1.035092</td>\n      <td>-0.078913</td>\n      <td>-1.031530</td>\n      <td>0.226973</td>\n      <td>...</td>\n      <td>-0.705690</td>\n      <td>-0.797087</td>\n      <td>-0.051751</td>\n      <td>-0.019148</td>\n      <td>-0.105242</td>\n      <td>-0.307537</td>\n      <td>-0.371475</td>\n      <td>-0.936198</td>\n      <td>-0.182829</td>\n      <td>0</td>\n    </tr>\n    <tr>\n      <th>1980-02-22</th>\n      <td>-1.036041</td>\n      <td>-0.987622</td>\n      <td>-0.219084</td>\n      <td>-1.034865</td>\n      <td>-1.035599</td>\n      <td>-1.036438</td>\n      <td>-1.035351</td>\n      <td>-0.093516</td>\n      <td>-1.031756</td>\n      <td>0.135213</td>\n      <td>...</td>\n      <td>-0.801942</td>\n      <td>-0.797192</td>\n      <td>-0.062204</td>\n      <td>-0.028618</td>\n      <td>-0.110269</td>\n      <td>-0.810456</td>\n      <td>-0.371929</td>\n      <td>-0.062220</td>\n      <td>-0.196208</td>\n      <td>0</td>\n    </tr>\n    <tr>\n      <th>1980-02-25</th>\n      <td>-1.037585</td>\n      <td>-0.992397</td>\n      <td>-1.348600</td>\n      <td>-1.035283</td>\n      <td>-1.036000</td>\n      <td>-1.036579</td>\n      <td>-1.035870</td>\n      <td>-0.155213</td>\n      <td>-1.031973</td>\n      <td>-0.469184</td>\n      <td>...</td>\n      <td>-1.487739</td>\n      <td>-0.797277</td>\n      <td>-0.078670</td>\n      <td>-0.039725</td>\n      <td>-0.129230</td>\n      <td>-1.427076</td>\n      <td>-0.374466</td>\n      <td>-0.740598</td>\n      <td>-1.032527</td>\n      <td>0</td>\n    </tr>\n    <tr>\n      <th>1980-02-26</th>\n      <td>-1.036998</td>\n      <td>-0.991944</td>\n      <td>0.471689</td>\n      <td>-1.035566</td>\n      <td>-1.036221</td>\n      <td>-1.036651</td>\n      <td>-1.036207</td>\n      <td>-0.128198</td>\n      <td>-1.032325</td>\n      <td>-0.252192</td>\n      <td>...</td>\n      <td>-1.274453</td>\n      <td>-0.797190</td>\n      <td>-0.089518</td>\n      <td>-0.050935</td>\n      <td>-0.130440</td>\n      <td>-1.367497</td>\n      <td>-0.372535</td>\n      <td>0.396828</td>\n      <td>-0.241026</td>\n      <td>0</td>\n    </tr>\n    <tr>\n      <th>...</th>\n      <td>...</td>\n      <td>...</td>\n      <td>...</td>\n      <td>...</td>\n      <td>...</td>\n      <td>...</td>\n      <td>...</td>\n      <td>...</td>\n      <td>...</td>\n      <td>...</td>\n      <td>...</td>\n      <td>...</td>\n      <td>...</td>\n      <td>...</td>\n      <td>...</td>\n      <td>...</td>\n      <td>...</td>\n      <td>...</td>\n      <td>...</td>\n      <td>...</td>\n      <td>...</td>\n    </tr>\n    <tr>\n      <th>2023-10-26</th>\n      <td>2.594340</td>\n      <td>1.239004</td>\n      <td>-1.080692</td>\n      <td>2.718499</td>\n      <td>2.695873</td>\n      <td>2.738659</td>\n      <td>2.683755</td>\n      <td>-3.947591</td>\n      <td>2.808897</td>\n      <td>-2.052837</td>\n      <td>...</td>\n      <td>-1.847318</td>\n      <td>2.057312</td>\n      <td>-2.657800</td>\n      <td>-2.040655</td>\n      <td>-2.341822</td>\n      <td>-1.703351</td>\n      <td>-2.217070</td>\n      <td>-1.164152</td>\n      <td>-1.215835</td>\n      <td>1</td>\n    </tr>\n    <tr>\n      <th>2023-10-27</th>\n      <td>2.576415</td>\n      <td>1.103103</td>\n      <td>-0.459294</td>\n      <td>2.699476</td>\n      <td>2.675253</td>\n      <td>2.724384</td>\n      <td>2.659005</td>\n      <td>-3.911627</td>\n      <td>2.788972</td>\n      <td>-2.171486</td>\n      <td>...</td>\n      <td>-1.809198</td>\n      <td>2.048539</td>\n      <td>-3.054965</td>\n      <td>-2.287417</td>\n      <td>-2.860344</td>\n      <td>-1.533880</td>\n      <td>-2.593748</td>\n      <td>-0.893698</td>\n      <td>-2.025639</td>\n      <td>1</td>\n    </tr>\n    <tr>\n      <th>2023-10-30</th>\n      <td>2.621047</td>\n      <td>1.046056</td>\n      <td>1.026134</td>\n      <td>2.680778</td>\n      <td>2.666511</td>\n      <td>2.715734</td>\n      <td>2.645837</td>\n      <td>-3.845921</td>\n      <td>2.764824</td>\n      <td>-1.509266</td>\n      <td>...</td>\n      <td>-1.256925</td>\n      <td>2.057076</td>\n      <td>-3.120448</td>\n      <td>-2.498864</td>\n      <td>-2.451075</td>\n      <td>-1.088033</td>\n      <td>-2.196136</td>\n      <td>0.632754</td>\n      <td>-0.846132</td>\n      <td>1</td>\n    </tr>\n    <tr>\n      <th>2023-10-31</th>\n      <td>2.645399</td>\n      <td>1.224173</td>\n      <td>0.537033</td>\n      <td>2.664558</td>\n      <td>2.663794</td>\n      <td>2.710236</td>\n      <td>2.640500</td>\n      <td>-3.345595</td>\n      <td>2.743574</td>\n      <td>-1.182711</td>\n      <td>...</td>\n      <td>-0.955602</td>\n      <td>2.066350</td>\n      <td>-3.021882</td>\n      <td>-2.646891</td>\n      <td>-1.716070</td>\n      <td>-0.823048</td>\n      <td>-1.199530</td>\n      <td>1.232186</td>\n      <td>0.576723</td>\n      <td>1</td>\n    </tr>\n    <tr>\n      <th>2023-11-01</th>\n      <td>2.685167</td>\n      <td>1.211238</td>\n      <td>0.893232</td>\n      <td>2.657620</td>\n      <td>2.668814</td>\n      <td>2.709061</td>\n      <td>2.645349</td>\n      <td>-1.471672</td>\n      <td>2.724874</td>\n      <td>-0.693734</td>\n      <td>...</td>\n      <td>-0.463523</td>\n      <td>2.075571</td>\n      <td>-2.722510</td>\n      <td>-2.701133</td>\n      <td>-0.629151</td>\n      <td>-0.372018</td>\n      <td>-0.227748</td>\n      <td>0.865178</td>\n      <td>1.621076</td>\n      <td>1</td>\n    </tr>\n  </tbody>\n</table>\n<p>11016 rows × 21 columns</p>\n</div>"
     },
     "execution_count": 4,
     "metadata": {},
     "output_type": "execute_result"
    }
   ],
   "source": [
    "sp500_data = pd.read_csv('./data/sp500_training_data_to_2023-11-15.csv')\n",
    "sp500_data.set_index(\"Date\", drop=True, inplace=True)\n",
    "X = sp500_data.drop(['Target'], axis=1)\n",
    "train_x, test_x, train_y, test_y = train_test_split(X, sp500_data['Target'], test_size=0.25, random_state=42)"
   ],
   "metadata": {
    "collapsed": false,
    "ExecuteTime": {
     "end_time": "2023-11-23T09:27:59.940451273Z",
     "start_time": "2023-11-23T09:27:59.857744029Z"
    }
   },
   "id": "a323f285e5061575"
  },
  {
   "cell_type": "code",
   "execution_count": 5,
   "outputs": [
    {
     "name": "stdout",
     "output_type": "stream",
     "text": [
      "Accuracy score 0.7926652142338417\n"
     ]
    }
   ],
   "source": [
    "import logging\n",
    "\n",
    "logging.basicConfig(level=logging.INFO)\n",
    "automl = autosklearn.classification.AutoSklearnClassifier()\n",
    "automl.fit(train_x, train_y)\n",
    "y_hat = automl.predict(test_x)\n",
    "print(\"Accuracy score\", sklearn.metrics.accuracy_score(test_y, y_hat))"
   ],
   "metadata": {
    "collapsed": false,
    "ExecuteTime": {
     "end_time": "2023-11-23T10:28:31.795972691Z",
     "start_time": "2023-11-23T09:28:09.202258717Z"
    }
   },
   "id": "31e5e119393cec61"
  },
  {
   "cell_type": "code",
   "execution_count": 7,
   "outputs": [
    {
     "name": "stdout",
     "output_type": "stream",
     "text": [
      "          rank  ensemble_weight         type      cost  duration\n",
      "model_id                                                        \n",
      "177          1             0.06  extra_trees  0.200953  8.049523\n",
      "330          2             0.18  extra_trees  0.202054  7.445248\n",
      "290          3             0.02  extra_trees  0.203154  4.497743\n",
      "291          4             0.02  extra_trees  0.203154  4.539401\n",
      "128          5             0.06  extra_trees  0.203520  7.064012\n",
      "166          6             0.02  extra_trees  0.203887  6.996787\n",
      "205          7             0.02  extra_trees  0.204620  6.992900\n",
      "108          8             0.02  extra_trees  0.204987  6.825232\n",
      "271          9             0.02  extra_trees  0.204987  6.654513\n",
      "172         11             0.04  extra_trees  0.205354  6.297757\n",
      "273         10             0.02  extra_trees  0.205354  4.539789\n",
      "309         12             0.02  extra_trees  0.205354  4.493980\n",
      "145         15             0.06  extra_trees  0.205721  7.889830\n",
      "186         14             0.08  extra_trees  0.205721  5.933419\n",
      "288         13             0.02  extra_trees  0.205721  4.834432\n",
      "160         16             0.02  extra_trees  0.206087  6.000533\n",
      "230         17             0.06  extra_trees  0.206087  5.706941\n",
      "156         20             0.02  extra_trees  0.206454  6.883122\n",
      "181         18             0.06  extra_trees  0.206454  7.264467\n",
      "231         19             0.02  extra_trees  0.206454  5.198084\n",
      "153         21             0.02  extra_trees  0.206821  6.790687\n",
      "161         22             0.06  extra_trees  0.207187  6.629715\n",
      "263         23             0.02  extra_trees  0.207554  4.770734\n",
      "170         24             0.04  extra_trees  0.207921  6.674295\n",
      "85          25             0.02  extra_trees  0.208654  8.460460\n"
     ]
    }
   ],
   "source": [
    "print(automl.leaderboard())"
   ],
   "metadata": {
    "collapsed": false,
    "ExecuteTime": {
     "end_time": "2023-11-23T11:24:40.141525577Z",
     "start_time": "2023-11-23T11:24:40.086996401Z"
    }
   },
   "id": "d129f5e544db71e4"
  }
 ],
 "metadata": {
  "kernelspec": {
   "display_name": "Python 3",
   "language": "python",
   "name": "python3"
  },
  "language_info": {
   "codemirror_mode": {
    "name": "ipython",
    "version": 2
   },
   "file_extension": ".py",
   "mimetype": "text/x-python",
   "name": "python",
   "nbconvert_exporter": "python",
   "pygments_lexer": "ipython2",
   "version": "2.7.6"
  }
 },
 "nbformat": 4,
 "nbformat_minor": 5
}
