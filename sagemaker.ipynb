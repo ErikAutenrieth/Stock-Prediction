{
 "cells": [
  {
   "cell_type": "code",
   "execution_count": 9,
   "outputs": [],
   "source": [
    "import pandas as pd\n",
    "import mlflow"
   ],
   "metadata": {
    "collapsed": false,
    "ExecuteTime": {
     "end_time": "2023-11-17T20:15:22.389509240Z",
     "start_time": "2023-11-17T20:15:22.349838356Z"
    }
   },
   "id": "7b7d168b89c18a88"
  },
  {
   "cell_type": "code",
   "execution_count": 10,
   "outputs": [],
   "source": [
    "from mlflow.deployments import get_deploy_client\n",
    "client = get_deploy_client(\"sagemaker\")"
   ],
   "metadata": {
    "collapsed": false,
    "ExecuteTime": {
     "end_time": "2023-11-17T20:15:23.430206528Z",
     "start_time": "2023-11-17T20:15:23.389241770Z"
    }
   },
   "id": "52b3ad63790c0e4c"
  },
  {
   "cell_type": "markdown",
   "source": [],
   "metadata": {
    "collapsed": false
   },
   "id": "efdbba7b5350d3ce"
  },
  {
   "cell_type": "code",
   "execution_count": 11,
   "outputs": [
    {
     "data": {
      "text/plain": "               Close    Volume   Rendite    SMA 10    EMA 10    EMA 20  \\\nDate                                                                     \n2023-11-15  2.924371  1.275609  0.105997  2.835659  2.836735  2.802099   \n\n              WMA 10  Momentum 10       SAR       RSI       ROC        %R  \\\nDate                                                                        \n2023-11-15  2.857765     4.766703  2.753382  1.229881  1.824033  1.133682   \n\n                 OBV     MACD  MACD_SIGNAL  MACD_HIST       CCI    ADOSC  \\\nDate                                                                       \n2023-11-15  2.132107  2.04021     0.477527   4.952725  0.992047  1.40634   \n\n                  %K        %D  \nDate                            \n2023-11-15 -0.784919  0.019175  ",
      "text/html": "<div>\n<style scoped>\n    .dataframe tbody tr th:only-of-type {\n        vertical-align: middle;\n    }\n\n    .dataframe tbody tr th {\n        vertical-align: top;\n    }\n\n    .dataframe thead th {\n        text-align: right;\n    }\n</style>\n<table border=\"1\" class=\"dataframe\">\n  <thead>\n    <tr style=\"text-align: right;\">\n      <th></th>\n      <th>Close</th>\n      <th>Volume</th>\n      <th>Rendite</th>\n      <th>SMA 10</th>\n      <th>EMA 10</th>\n      <th>EMA 20</th>\n      <th>WMA 10</th>\n      <th>Momentum 10</th>\n      <th>SAR</th>\n      <th>RSI</th>\n      <th>ROC</th>\n      <th>%R</th>\n      <th>OBV</th>\n      <th>MACD</th>\n      <th>MACD_SIGNAL</th>\n      <th>MACD_HIST</th>\n      <th>CCI</th>\n      <th>ADOSC</th>\n      <th>%K</th>\n      <th>%D</th>\n    </tr>\n    <tr>\n      <th>Date</th>\n      <th></th>\n      <th></th>\n      <th></th>\n      <th></th>\n      <th></th>\n      <th></th>\n      <th></th>\n      <th></th>\n      <th></th>\n      <th></th>\n      <th></th>\n      <th></th>\n      <th></th>\n      <th></th>\n      <th></th>\n      <th></th>\n      <th></th>\n      <th></th>\n      <th></th>\n      <th></th>\n    </tr>\n  </thead>\n  <tbody>\n    <tr>\n      <th>2023-11-15</th>\n      <td>2.924371</td>\n      <td>1.275609</td>\n      <td>0.105997</td>\n      <td>2.835659</td>\n      <td>2.836735</td>\n      <td>2.802099</td>\n      <td>2.857765</td>\n      <td>4.766703</td>\n      <td>2.753382</td>\n      <td>1.229881</td>\n      <td>1.824033</td>\n      <td>1.133682</td>\n      <td>2.132107</td>\n      <td>2.04021</td>\n      <td>0.477527</td>\n      <td>4.952725</td>\n      <td>0.992047</td>\n      <td>1.40634</td>\n      <td>-0.784919</td>\n      <td>0.019175</td>\n    </tr>\n  </tbody>\n</table>\n</div>"
     },
     "execution_count": 11,
     "metadata": {},
     "output_type": "execute_result"
    }
   ],
   "source": [
    "df = pd.read_csv(\"./data/sp500_predict_2023-11-15.csv\")\n",
    "df.set_index('Date', inplace=True)\n",
    "#df.drop(\"Date\", axis=1, inplace=True)\n",
    "df"
   ],
   "metadata": {
    "collapsed": false,
    "ExecuteTime": {
     "end_time": "2023-11-17T20:15:25.088760464Z",
     "start_time": "2023-11-17T20:15:24.951496854Z"
    }
   },
   "id": "fc22a2d740ed6298"
  },
  {
   "cell_type": "code",
   "execution_count": 12,
   "outputs": [
    {
     "name": "stderr",
     "output_type": "stream",
     "text": [
      "2023/11/17 21:15:28 WARNING mlflow.pyfunc: Detected one or more mismatches between the model's dependencies and the current Python environment:\n",
      " - mlflow (current: 2.8.1, required: mlflow==2.8.0)\n",
      " - psutil (current: 5.9.0, required: psutil==5.9.6)\n",
      "To fix the mismatches, call `mlflow.pyfunc.get_model_dependencies(model_uri)` to fetch the model's environment and install dependencies using the resulting environment file.\n"
     ]
    }
   ],
   "source": [
    "DEFAULT_MODEL = \"runs:/c413fe91b94f4a8db7492ffa6657a0f6/model\"\n",
    "loaded_model = mlflow.pyfunc.load_model(DEFAULT_MODEL)\n",
    "prediction = loaded_model.predict(df)\n",
    "# print(prediction)"
   ],
   "metadata": {
    "collapsed": false,
    "ExecuteTime": {
     "end_time": "2023-11-17T20:15:31.305306410Z",
     "start_time": "2023-11-17T20:15:27.080487337Z"
    }
   },
   "id": "2680897a3b5509d1"
  },
  {
   "cell_type": "code",
   "execution_count": 13,
   "outputs": [
    {
     "data": {
      "text/plain": "array([1])"
     },
     "execution_count": 13,
     "metadata": {},
     "output_type": "execute_result"
    }
   ],
   "source": [
    "prediction"
   ],
   "metadata": {
    "collapsed": false,
    "ExecuteTime": {
     "end_time": "2023-11-17T20:15:39.631434666Z",
     "start_time": "2023-11-17T20:15:39.587363778Z"
    }
   },
   "id": "bbe50f3778424855"
  },
  {
   "cell_type": "code",
   "execution_count": 4,
   "outputs": [],
   "source": [],
   "metadata": {
    "collapsed": false,
    "ExecuteTime": {
     "end_time": "2023-11-17T19:44:34.756479401Z",
     "start_time": "2023-11-17T19:44:34.746266117Z"
    }
   },
   "id": "5cdc63b7a6938198"
  },
  {
   "cell_type": "code",
   "execution_count": 8,
   "outputs": [
    {
     "name": "stderr",
     "output_type": "stream",
     "text": [
      "2023/11/17 20:54:02 INFO mlflow.sagemaker: Using the python_function flavor for deployment!\n",
      "2023/11/17 20:54:02 INFO mlflow.sagemaker: No model data bucket specified, using the default bucket\n",
      "2023/11/17 20:54:04 INFO mlflow.sagemaker: Default bucket `mlflow-sagemaker-eu-central-1-401605265667` already exists. Skipping creation.\n",
      "2023/11/17 20:55:45 INFO mlflow.sagemaker: tag response: {'ResponseMetadata': {'RequestId': '0NSRHJ109MYBC6D6', 'HostId': '6tyysvhxcAeTq90qrMHd9xTH1qubj4db8P9b1crfpiQ6g0kmtfU17gHqMVUn10W2STiqQbVPfa2W9YIfyQsdNg==', 'HTTPStatusCode': 200, 'HTTPHeaders': {'x-amz-id-2': '6tyysvhxcAeTq90qrMHd9xTH1qubj4db8P9b1crfpiQ6g0kmtfU17gHqMVUn10W2STiqQbVPfa2W9YIfyQsdNg==', 'x-amz-request-id': '0NSRHJ109MYBC6D6', 'date': 'Fri, 17 Nov 2023 19:55:46 GMT', 'server': 'AmazonS3', 'content-length': '0'}, 'RetryAttempts': 0}}\n",
      "2023/11/17 20:55:45 INFO mlflow.sagemaker: Creating new endpoint with name: mlflow-extra-tree ...\n"
     ]
    },
    {
     "ename": "ClientError",
     "evalue": "An error occurred (ValidationException) when calling the CreateModel operation: Requested image 401605265667.dkr.ecr.eu-central-1.amazonaws.com/mlflow-pyfunc:2.8.1 not found.",
     "output_type": "error",
     "traceback": [
      "\u001B[0;31m---------------------------------------------------------------------------\u001B[0m",
      "\u001B[0;31mClientError\u001B[0m                               Traceback (most recent call last)",
      "Cell \u001B[0;32mIn[8], line 18\u001B[0m\n\u001B[1;32m     15\u001B[0m client \u001B[38;5;241m=\u001B[39m get_deploy_client(\u001B[38;5;124m\"\u001B[39m\u001B[38;5;124msagemaker\u001B[39m\u001B[38;5;124m\"\u001B[39m)\n\u001B[1;32m     17\u001B[0m \u001B[38;5;66;03m# Erstelle eine Bereitstellung\u001B[39;00m\n\u001B[0;32m---> 18\u001B[0m \u001B[43mclient\u001B[49m\u001B[38;5;241;43m.\u001B[39;49m\u001B[43mcreate_deployment\u001B[49m\u001B[43m(\u001B[49m\n\u001B[1;32m     19\u001B[0m \u001B[43m    \u001B[49m\u001B[38;5;124;43m\"\u001B[39;49m\u001B[38;5;124;43mmlflow-extra-tree\u001B[39;49m\u001B[38;5;124;43m\"\u001B[39;49m\u001B[43m,\u001B[49m\u001B[43m  \u001B[49m\u001B[38;5;66;43;03m# Name der Bereitstellung\u001B[39;49;00m\n\u001B[1;32m     20\u001B[0m \u001B[43m    \u001B[49m\u001B[43mmodel_uri\u001B[49m\u001B[38;5;241;43m=\u001B[39;49m\u001B[38;5;124;43m\"\u001B[39;49m\u001B[38;5;124;43m/home/erik/DataspellProjects/Stock-Prediction/mlruns/467592723741106657/c413fe91b94f4a8db7492ffa6657a0f6/artifacts/model\u001B[39;49m\u001B[38;5;124;43m\"\u001B[39;49m\u001B[43m,\u001B[49m\u001B[43m  \u001B[49m\u001B[38;5;66;43;03m# Pfad zum Modell\u001B[39;49;00m\n\u001B[1;32m     21\u001B[0m \u001B[43m    \u001B[49m\u001B[43mconfig\u001B[49m\u001B[38;5;241;43m=\u001B[39;49m\u001B[43mconfig\u001B[49m\u001B[43m,\u001B[49m\n\u001B[1;32m     22\u001B[0m \u001B[43m)\u001B[49m\n",
      "File \u001B[0;32m~/anaconda3/envs/ray_client/lib/python3.10/site-packages/mlflow/sagemaker/__init__.py:2239\u001B[0m, in \u001B[0;36mSageMakerDeploymentClient.create_deployment\u001B[0;34m(self, name, model_uri, flavor, config, endpoint)\u001B[0m\n\u001B[1;32m   2236\u001B[0m \u001B[38;5;28;01mif\u001B[39;00m config:\n\u001B[1;32m   2237\u001B[0m     \u001B[38;5;28mself\u001B[39m\u001B[38;5;241m.\u001B[39m_apply_custom_config(final_config, config)\n\u001B[0;32m-> 2239\u001B[0m app_name, flavor \u001B[38;5;241m=\u001B[39m \u001B[43m_deploy\u001B[49m\u001B[43m(\u001B[49m\n\u001B[1;32m   2240\u001B[0m \u001B[43m    \u001B[49m\u001B[43mapp_name\u001B[49m\u001B[38;5;241;43m=\u001B[39;49m\u001B[43mname\u001B[49m\u001B[43m,\u001B[49m\n\u001B[1;32m   2241\u001B[0m \u001B[43m    \u001B[49m\u001B[43mmodel_uri\u001B[49m\u001B[38;5;241;43m=\u001B[39;49m\u001B[43mmodel_uri\u001B[49m\u001B[43m,\u001B[49m\n\u001B[1;32m   2242\u001B[0m \u001B[43m    \u001B[49m\u001B[43mflavor\u001B[49m\u001B[38;5;241;43m=\u001B[39;49m\u001B[43mflavor\u001B[49m\u001B[43m,\u001B[49m\n\u001B[1;32m   2243\u001B[0m \u001B[43m    \u001B[49m\u001B[43mexecution_role_arn\u001B[49m\u001B[38;5;241;43m=\u001B[39;49m\u001B[43mfinal_config\u001B[49m\u001B[43m[\u001B[49m\u001B[38;5;124;43m\"\u001B[39;49m\u001B[38;5;124;43mexecution_role_arn\u001B[39;49m\u001B[38;5;124;43m\"\u001B[39;49m\u001B[43m]\u001B[49m\u001B[43m,\u001B[49m\n\u001B[1;32m   2244\u001B[0m \u001B[43m    \u001B[49m\u001B[43massume_role_arn\u001B[49m\u001B[38;5;241;43m=\u001B[39;49m\u001B[43mfinal_config\u001B[49m\u001B[43m[\u001B[49m\u001B[38;5;124;43m\"\u001B[39;49m\u001B[38;5;124;43massume_role_arn\u001B[39;49m\u001B[38;5;124;43m\"\u001B[39;49m\u001B[43m]\u001B[49m\u001B[43m,\u001B[49m\n\u001B[1;32m   2245\u001B[0m \u001B[43m    \u001B[49m\u001B[43mbucket\u001B[49m\u001B[38;5;241;43m=\u001B[39;49m\u001B[43mfinal_config\u001B[49m\u001B[43m[\u001B[49m\u001B[38;5;124;43m\"\u001B[39;49m\u001B[38;5;124;43mbucket\u001B[39;49m\u001B[38;5;124;43m\"\u001B[39;49m\u001B[43m]\u001B[49m\u001B[43m,\u001B[49m\n\u001B[1;32m   2246\u001B[0m \u001B[43m    \u001B[49m\u001B[43mimage_url\u001B[49m\u001B[38;5;241;43m=\u001B[39;49m\u001B[43mfinal_config\u001B[49m\u001B[43m[\u001B[49m\u001B[38;5;124;43m\"\u001B[39;49m\u001B[38;5;124;43mimage_url\u001B[39;49m\u001B[38;5;124;43m\"\u001B[39;49m\u001B[43m]\u001B[49m\u001B[43m,\u001B[49m\n\u001B[1;32m   2247\u001B[0m \u001B[43m    \u001B[49m\u001B[43mregion_name\u001B[49m\u001B[38;5;241;43m=\u001B[39;49m\u001B[43mfinal_config\u001B[49m\u001B[43m[\u001B[49m\u001B[38;5;124;43m\"\u001B[39;49m\u001B[38;5;124;43mregion_name\u001B[39;49m\u001B[38;5;124;43m\"\u001B[39;49m\u001B[43m]\u001B[49m\u001B[43m,\u001B[49m\n\u001B[1;32m   2248\u001B[0m \u001B[43m    \u001B[49m\u001B[43mmode\u001B[49m\u001B[38;5;241;43m=\u001B[39;49m\u001B[43mmlflow\u001B[49m\u001B[38;5;241;43m.\u001B[39;49m\u001B[43msagemaker\u001B[49m\u001B[38;5;241;43m.\u001B[39;49m\u001B[43mDEPLOYMENT_MODE_CREATE\u001B[49m\u001B[43m,\u001B[49m\n\u001B[1;32m   2249\u001B[0m \u001B[43m    \u001B[49m\u001B[43marchive\u001B[49m\u001B[38;5;241;43m=\u001B[39;49m\u001B[43mfinal_config\u001B[49m\u001B[43m[\u001B[49m\u001B[38;5;124;43m\"\u001B[39;49m\u001B[38;5;124;43marchive\u001B[39;49m\u001B[38;5;124;43m\"\u001B[39;49m\u001B[43m]\u001B[49m\u001B[43m,\u001B[49m\n\u001B[1;32m   2250\u001B[0m \u001B[43m    \u001B[49m\u001B[43minstance_type\u001B[49m\u001B[38;5;241;43m=\u001B[39;49m\u001B[43mfinal_config\u001B[49m\u001B[43m[\u001B[49m\u001B[38;5;124;43m\"\u001B[39;49m\u001B[38;5;124;43minstance_type\u001B[39;49m\u001B[38;5;124;43m\"\u001B[39;49m\u001B[43m]\u001B[49m\u001B[43m,\u001B[49m\n\u001B[1;32m   2251\u001B[0m \u001B[43m    \u001B[49m\u001B[43minstance_count\u001B[49m\u001B[38;5;241;43m=\u001B[39;49m\u001B[43mfinal_config\u001B[49m\u001B[43m[\u001B[49m\u001B[38;5;124;43m\"\u001B[39;49m\u001B[38;5;124;43minstance_count\u001B[39;49m\u001B[38;5;124;43m\"\u001B[39;49m\u001B[43m]\u001B[49m\u001B[43m,\u001B[49m\n\u001B[1;32m   2252\u001B[0m \u001B[43m    \u001B[49m\u001B[43mvpc_config\u001B[49m\u001B[38;5;241;43m=\u001B[39;49m\u001B[43mfinal_config\u001B[49m\u001B[43m[\u001B[49m\u001B[38;5;124;43m\"\u001B[39;49m\u001B[38;5;124;43mvpc_config\u001B[39;49m\u001B[38;5;124;43m\"\u001B[39;49m\u001B[43m]\u001B[49m\u001B[43m,\u001B[49m\n\u001B[1;32m   2253\u001B[0m \u001B[43m    \u001B[49m\u001B[43mdata_capture_config\u001B[49m\u001B[38;5;241;43m=\u001B[39;49m\u001B[43mfinal_config\u001B[49m\u001B[43m[\u001B[49m\u001B[38;5;124;43m\"\u001B[39;49m\u001B[38;5;124;43mdata_capture_config\u001B[39;49m\u001B[38;5;124;43m\"\u001B[39;49m\u001B[43m]\u001B[49m\u001B[43m,\u001B[49m\n\u001B[1;32m   2254\u001B[0m \u001B[43m    \u001B[49m\u001B[43msynchronous\u001B[49m\u001B[38;5;241;43m=\u001B[39;49m\u001B[43mfinal_config\u001B[49m\u001B[43m[\u001B[49m\u001B[38;5;124;43m\"\u001B[39;49m\u001B[38;5;124;43msynchronous\u001B[39;49m\u001B[38;5;124;43m\"\u001B[39;49m\u001B[43m]\u001B[49m\u001B[43m,\u001B[49m\n\u001B[1;32m   2255\u001B[0m \u001B[43m    \u001B[49m\u001B[43mtimeout_seconds\u001B[49m\u001B[38;5;241;43m=\u001B[39;49m\u001B[43mfinal_config\u001B[49m\u001B[43m[\u001B[49m\u001B[38;5;124;43m\"\u001B[39;49m\u001B[38;5;124;43mtimeout_seconds\u001B[39;49m\u001B[38;5;124;43m\"\u001B[39;49m\u001B[43m]\u001B[49m\u001B[43m,\u001B[49m\n\u001B[1;32m   2256\u001B[0m \u001B[43m    \u001B[49m\u001B[43mvariant_name\u001B[49m\u001B[38;5;241;43m=\u001B[39;49m\u001B[43mfinal_config\u001B[49m\u001B[43m[\u001B[49m\u001B[38;5;124;43m\"\u001B[39;49m\u001B[38;5;124;43mvariant_name\u001B[39;49m\u001B[38;5;124;43m\"\u001B[39;49m\u001B[43m]\u001B[49m\u001B[43m,\u001B[49m\n\u001B[1;32m   2257\u001B[0m \u001B[43m    \u001B[49m\u001B[43masync_inference_config\u001B[49m\u001B[38;5;241;43m=\u001B[39;49m\u001B[43mfinal_config\u001B[49m\u001B[43m[\u001B[49m\u001B[38;5;124;43m\"\u001B[39;49m\u001B[38;5;124;43masync_inference_config\u001B[39;49m\u001B[38;5;124;43m\"\u001B[39;49m\u001B[43m]\u001B[49m\u001B[43m,\u001B[49m\n\u001B[1;32m   2258\u001B[0m \u001B[43m    \u001B[49m\u001B[43mserverless_config\u001B[49m\u001B[38;5;241;43m=\u001B[39;49m\u001B[43mfinal_config\u001B[49m\u001B[43m[\u001B[49m\u001B[38;5;124;43m\"\u001B[39;49m\u001B[38;5;124;43mserverless_config\u001B[39;49m\u001B[38;5;124;43m\"\u001B[39;49m\u001B[43m]\u001B[49m\u001B[43m,\u001B[49m\n\u001B[1;32m   2259\u001B[0m \u001B[43m    \u001B[49m\u001B[43menv\u001B[49m\u001B[38;5;241;43m=\u001B[39;49m\u001B[43mfinal_config\u001B[49m\u001B[43m[\u001B[49m\u001B[38;5;124;43m\"\u001B[39;49m\u001B[38;5;124;43menv\u001B[39;49m\u001B[38;5;124;43m\"\u001B[39;49m\u001B[43m]\u001B[49m\u001B[43m,\u001B[49m\n\u001B[1;32m   2260\u001B[0m \u001B[43m    \u001B[49m\u001B[43mtags\u001B[49m\u001B[38;5;241;43m=\u001B[39;49m\u001B[43mfinal_config\u001B[49m\u001B[43m[\u001B[49m\u001B[38;5;124;43m\"\u001B[39;49m\u001B[38;5;124;43mtags\u001B[39;49m\u001B[38;5;124;43m\"\u001B[39;49m\u001B[43m]\u001B[49m\u001B[43m,\u001B[49m\n\u001B[1;32m   2261\u001B[0m \u001B[43m\u001B[49m\u001B[43m)\u001B[49m\n\u001B[1;32m   2263\u001B[0m \u001B[38;5;28;01mreturn\u001B[39;00m {\u001B[38;5;124m\"\u001B[39m\u001B[38;5;124mname\u001B[39m\u001B[38;5;124m\"\u001B[39m: app_name, \u001B[38;5;124m\"\u001B[39m\u001B[38;5;124mflavor\u001B[39m\u001B[38;5;124m\"\u001B[39m: flavor}\n",
      "File \u001B[0;32m~/anaconda3/envs/ray_client/lib/python3.10/site-packages/mlflow/sagemaker/__init__.py:441\u001B[0m, in \u001B[0;36m_deploy\u001B[0;34m(app_name, model_uri, execution_role_arn, assume_role_arn, bucket, image_url, region_name, mode, archive, instance_type, instance_count, vpc_config, flavor, synchronous, timeout_seconds, data_capture_config, variant_name, async_inference_config, serverless_config, env, tags)\u001B[0m\n\u001B[1;32m    419\u001B[0m     deployment_operation \u001B[38;5;241m=\u001B[39m _update_sagemaker_endpoint(\n\u001B[1;32m    420\u001B[0m         endpoint_name\u001B[38;5;241m=\u001B[39mapp_name,\n\u001B[1;32m    421\u001B[0m         model_name\u001B[38;5;241m=\u001B[39mmodel_name,\n\u001B[0;32m   (...)\u001B[0m\n\u001B[1;32m    438\u001B[0m         tags\u001B[38;5;241m=\u001B[39mtags,\n\u001B[1;32m    439\u001B[0m     )\n\u001B[1;32m    440\u001B[0m \u001B[38;5;28;01melse\u001B[39;00m:\n\u001B[0;32m--> 441\u001B[0m     deployment_operation \u001B[38;5;241m=\u001B[39m \u001B[43m_create_sagemaker_endpoint\u001B[49m\u001B[43m(\u001B[49m\n\u001B[1;32m    442\u001B[0m \u001B[43m        \u001B[49m\u001B[43mendpoint_name\u001B[49m\u001B[38;5;241;43m=\u001B[39;49m\u001B[43mapp_name\u001B[49m\u001B[43m,\u001B[49m\n\u001B[1;32m    443\u001B[0m \u001B[43m        \u001B[49m\u001B[43mmodel_name\u001B[49m\u001B[38;5;241;43m=\u001B[39;49m\u001B[43mmodel_name\u001B[49m\u001B[43m,\u001B[49m\n\u001B[1;32m    444\u001B[0m \u001B[43m        \u001B[49m\u001B[43mmodel_s3_path\u001B[49m\u001B[38;5;241;43m=\u001B[39;49m\u001B[43mmodel_s3_path\u001B[49m\u001B[43m,\u001B[49m\n\u001B[1;32m    445\u001B[0m \u001B[43m        \u001B[49m\u001B[43mmodel_uri\u001B[49m\u001B[38;5;241;43m=\u001B[39;49m\u001B[43mmodel_uri\u001B[49m\u001B[43m,\u001B[49m\n\u001B[1;32m    446\u001B[0m \u001B[43m        \u001B[49m\u001B[43mimage_url\u001B[49m\u001B[38;5;241;43m=\u001B[39;49m\u001B[43mimage_url\u001B[49m\u001B[43m,\u001B[49m\n\u001B[1;32m    447\u001B[0m \u001B[43m        \u001B[49m\u001B[43mflavor\u001B[49m\u001B[38;5;241;43m=\u001B[39;49m\u001B[43mflavor\u001B[49m\u001B[43m,\u001B[49m\n\u001B[1;32m    448\u001B[0m \u001B[43m        \u001B[49m\u001B[43minstance_type\u001B[49m\u001B[38;5;241;43m=\u001B[39;49m\u001B[43minstance_type\u001B[49m\u001B[43m,\u001B[49m\n\u001B[1;32m    449\u001B[0m \u001B[43m        \u001B[49m\u001B[43minstance_count\u001B[49m\u001B[38;5;241;43m=\u001B[39;49m\u001B[43minstance_count\u001B[49m\u001B[43m,\u001B[49m\n\u001B[1;32m    450\u001B[0m \u001B[43m        \u001B[49m\u001B[43mvpc_config\u001B[49m\u001B[38;5;241;43m=\u001B[39;49m\u001B[43mvpc_config\u001B[49m\u001B[43m,\u001B[49m\n\u001B[1;32m    451\u001B[0m \u001B[43m        \u001B[49m\u001B[43mdata_capture_config\u001B[49m\u001B[38;5;241;43m=\u001B[39;49m\u001B[43mdata_capture_config\u001B[49m\u001B[43m,\u001B[49m\n\u001B[1;32m    452\u001B[0m \u001B[43m        \u001B[49m\u001B[43mrole\u001B[49m\u001B[38;5;241;43m=\u001B[39;49m\u001B[43mexecution_role_arn\u001B[49m\u001B[43m,\u001B[49m\n\u001B[1;32m    453\u001B[0m \u001B[43m        \u001B[49m\u001B[43msage_client\u001B[49m\u001B[38;5;241;43m=\u001B[39;49m\u001B[43msage_client\u001B[49m\u001B[43m,\u001B[49m\n\u001B[1;32m    454\u001B[0m \u001B[43m        \u001B[49m\u001B[43mvariant_name\u001B[49m\u001B[38;5;241;43m=\u001B[39;49m\u001B[43mvariant_name\u001B[49m\u001B[43m,\u001B[49m\n\u001B[1;32m    455\u001B[0m \u001B[43m        \u001B[49m\u001B[43masync_inference_config\u001B[49m\u001B[38;5;241;43m=\u001B[39;49m\u001B[43masync_inference_config\u001B[49m\u001B[43m,\u001B[49m\n\u001B[1;32m    456\u001B[0m \u001B[43m        \u001B[49m\u001B[43mserverless_config\u001B[49m\u001B[38;5;241;43m=\u001B[39;49m\u001B[43mserverless_config\u001B[49m\u001B[43m,\u001B[49m\n\u001B[1;32m    457\u001B[0m \u001B[43m        \u001B[49m\u001B[43menv\u001B[49m\u001B[38;5;241;43m=\u001B[39;49m\u001B[43menv\u001B[49m\u001B[43m,\u001B[49m\n\u001B[1;32m    458\u001B[0m \u001B[43m        \u001B[49m\u001B[43mtags\u001B[49m\u001B[38;5;241;43m=\u001B[39;49m\u001B[43mtags\u001B[49m\u001B[43m,\u001B[49m\n\u001B[1;32m    459\u001B[0m \u001B[43m    \u001B[49m\u001B[43m)\u001B[49m\n\u001B[1;32m    461\u001B[0m \u001B[38;5;28;01mif\u001B[39;00m synchronous:\n\u001B[1;32m    462\u001B[0m     _logger\u001B[38;5;241m.\u001B[39minfo(\u001B[38;5;124m\"\u001B[39m\u001B[38;5;124mWaiting for the deployment operation to complete...\u001B[39m\u001B[38;5;124m\"\u001B[39m)\n",
      "File \u001B[0;32m~/anaconda3/envs/ray_client/lib/python3.10/site-packages/mlflow/sagemaker/__init__.py:1532\u001B[0m, in \u001B[0;36m_create_sagemaker_endpoint\u001B[0;34m(endpoint_name, model_name, model_s3_path, model_uri, image_url, flavor, instance_type, vpc_config, data_capture_config, instance_count, role, sage_client, variant_name, async_inference_config, serverless_config, env, tags)\u001B[0m\n\u001B[1;32m   1510\u001B[0m \u001B[38;5;250m\u001B[39m\u001B[38;5;124;03m\"\"\"\u001B[39;00m\n\u001B[1;32m   1511\u001B[0m \u001B[38;5;124;03m:param endpoint_name: The name of the SageMaker endpoint to create.\u001B[39;00m\n\u001B[1;32m   1512\u001B[0m \u001B[38;5;124;03m:param model_name: The name to assign the new SageMaker model that will be associated with the\u001B[39;00m\n\u001B[0;32m   (...)\u001B[0m\n\u001B[1;32m   1528\u001B[0m \u001B[38;5;124;03m:param tags: A dictionary of tags to apply to the endpoint.\u001B[39;00m\n\u001B[1;32m   1529\u001B[0m \u001B[38;5;124;03m\"\"\"\u001B[39;00m\n\u001B[1;32m   1530\u001B[0m _logger\u001B[38;5;241m.\u001B[39minfo(\u001B[38;5;124m\"\u001B[39m\u001B[38;5;124mCreating new endpoint with name: \u001B[39m\u001B[38;5;132;01m%s\u001B[39;00m\u001B[38;5;124m ...\u001B[39m\u001B[38;5;124m\"\u001B[39m, endpoint_name)\n\u001B[0;32m-> 1532\u001B[0m model_response \u001B[38;5;241m=\u001B[39m \u001B[43m_create_sagemaker_model\u001B[49m\u001B[43m(\u001B[49m\n\u001B[1;32m   1533\u001B[0m \u001B[43m    \u001B[49m\u001B[43mmodel_name\u001B[49m\u001B[38;5;241;43m=\u001B[39;49m\u001B[43mmodel_name\u001B[49m\u001B[43m,\u001B[49m\n\u001B[1;32m   1534\u001B[0m \u001B[43m    \u001B[49m\u001B[43mmodel_s3_path\u001B[49m\u001B[38;5;241;43m=\u001B[39;49m\u001B[43mmodel_s3_path\u001B[49m\u001B[43m,\u001B[49m\n\u001B[1;32m   1535\u001B[0m \u001B[43m    \u001B[49m\u001B[43mmodel_uri\u001B[49m\u001B[38;5;241;43m=\u001B[39;49m\u001B[43mmodel_uri\u001B[49m\u001B[43m,\u001B[49m\n\u001B[1;32m   1536\u001B[0m \u001B[43m    \u001B[49m\u001B[43mflavor\u001B[49m\u001B[38;5;241;43m=\u001B[39;49m\u001B[43mflavor\u001B[49m\u001B[43m,\u001B[49m\n\u001B[1;32m   1537\u001B[0m \u001B[43m    \u001B[49m\u001B[43mvpc_config\u001B[49m\u001B[38;5;241;43m=\u001B[39;49m\u001B[43mvpc_config\u001B[49m\u001B[43m,\u001B[49m\n\u001B[1;32m   1538\u001B[0m \u001B[43m    \u001B[49m\u001B[43mimage_url\u001B[49m\u001B[38;5;241;43m=\u001B[39;49m\u001B[43mimage_url\u001B[49m\u001B[43m,\u001B[49m\n\u001B[1;32m   1539\u001B[0m \u001B[43m    \u001B[49m\u001B[43mexecution_role\u001B[49m\u001B[38;5;241;43m=\u001B[39;49m\u001B[43mrole\u001B[49m\u001B[43m,\u001B[49m\n\u001B[1;32m   1540\u001B[0m \u001B[43m    \u001B[49m\u001B[43msage_client\u001B[49m\u001B[38;5;241;43m=\u001B[39;49m\u001B[43msage_client\u001B[49m\u001B[43m,\u001B[49m\n\u001B[1;32m   1541\u001B[0m \u001B[43m    \u001B[49m\u001B[43menv\u001B[49m\u001B[38;5;241;43m=\u001B[39;49m\u001B[43menv\u001B[49m\u001B[43m \u001B[49m\u001B[38;5;129;43;01mor\u001B[39;49;00m\u001B[43m \u001B[49m\u001B[43m{\u001B[49m\u001B[43m}\u001B[49m\u001B[43m,\u001B[49m\n\u001B[1;32m   1542\u001B[0m \u001B[43m    \u001B[49m\u001B[43mtags\u001B[49m\u001B[38;5;241;43m=\u001B[39;49m\u001B[43mtags\u001B[49m\u001B[43m \u001B[49m\u001B[38;5;129;43;01mor\u001B[39;49;00m\u001B[43m \u001B[49m\u001B[43m{\u001B[49m\u001B[43m}\u001B[49m\u001B[43m,\u001B[49m\n\u001B[1;32m   1543\u001B[0m \u001B[43m\u001B[49m\u001B[43m)\u001B[49m\n\u001B[1;32m   1544\u001B[0m _logger\u001B[38;5;241m.\u001B[39minfo(\u001B[38;5;124m\"\u001B[39m\u001B[38;5;124mCreated model with arn: \u001B[39m\u001B[38;5;132;01m%s\u001B[39;00m\u001B[38;5;124m\"\u001B[39m, model_response[\u001B[38;5;124m\"\u001B[39m\u001B[38;5;124mModelArn\u001B[39m\u001B[38;5;124m\"\u001B[39m])\n\u001B[1;32m   1546\u001B[0m \u001B[38;5;28;01mif\u001B[39;00m \u001B[38;5;129;01mnot\u001B[39;00m variant_name:\n",
      "File \u001B[0;32m~/anaconda3/envs/ray_client/lib/python3.10/site-packages/mlflow/sagemaker/__init__.py:1824\u001B[0m, in \u001B[0;36m_create_sagemaker_model\u001B[0;34m(model_name, model_s3_path, model_uri, flavor, vpc_config, image_url, execution_role, sage_client, env, tags)\u001B[0m\n\u001B[1;32m   1821\u001B[0m \u001B[38;5;28;01mif\u001B[39;00m vpc_config \u001B[38;5;129;01mis\u001B[39;00m \u001B[38;5;129;01mnot\u001B[39;00m \u001B[38;5;28;01mNone\u001B[39;00m:\n\u001B[1;32m   1822\u001B[0m     create_model_args[\u001B[38;5;124m\"\u001B[39m\u001B[38;5;124mVpcConfig\u001B[39m\u001B[38;5;124m\"\u001B[39m] \u001B[38;5;241m=\u001B[39m vpc_config\n\u001B[0;32m-> 1824\u001B[0m \u001B[38;5;28;01mreturn\u001B[39;00m \u001B[43msage_client\u001B[49m\u001B[38;5;241;43m.\u001B[39;49m\u001B[43mcreate_model\u001B[49m\u001B[43m(\u001B[49m\u001B[38;5;241;43m*\u001B[39;49m\u001B[38;5;241;43m*\u001B[39;49m\u001B[43mcreate_model_args\u001B[49m\u001B[43m)\u001B[49m\n",
      "File \u001B[0;32m~/anaconda3/envs/ray_client/lib/python3.10/site-packages/botocore/client.py:535\u001B[0m, in \u001B[0;36mClientCreator._create_api_method.<locals>._api_call\u001B[0;34m(self, *args, **kwargs)\u001B[0m\n\u001B[1;32m    531\u001B[0m     \u001B[38;5;28;01mraise\u001B[39;00m \u001B[38;5;167;01mTypeError\u001B[39;00m(\n\u001B[1;32m    532\u001B[0m         \u001B[38;5;124mf\u001B[39m\u001B[38;5;124m\"\u001B[39m\u001B[38;5;132;01m{\u001B[39;00mpy_operation_name\u001B[38;5;132;01m}\u001B[39;00m\u001B[38;5;124m() only accepts keyword arguments.\u001B[39m\u001B[38;5;124m\"\u001B[39m\n\u001B[1;32m    533\u001B[0m     )\n\u001B[1;32m    534\u001B[0m \u001B[38;5;66;03m# The \"self\" in this scope is referring to the BaseClient.\u001B[39;00m\n\u001B[0;32m--> 535\u001B[0m \u001B[38;5;28;01mreturn\u001B[39;00m \u001B[38;5;28;43mself\u001B[39;49m\u001B[38;5;241;43m.\u001B[39;49m\u001B[43m_make_api_call\u001B[49m\u001B[43m(\u001B[49m\u001B[43moperation_name\u001B[49m\u001B[43m,\u001B[49m\u001B[43m \u001B[49m\u001B[43mkwargs\u001B[49m\u001B[43m)\u001B[49m\n",
      "File \u001B[0;32m~/anaconda3/envs/ray_client/lib/python3.10/site-packages/botocore/client.py:983\u001B[0m, in \u001B[0;36mBaseClient._make_api_call\u001B[0;34m(self, operation_name, api_params)\u001B[0m\n\u001B[1;32m    979\u001B[0m     error_code \u001B[38;5;241m=\u001B[39m error_info\u001B[38;5;241m.\u001B[39mget(\u001B[38;5;124m\"\u001B[39m\u001B[38;5;124mQueryErrorCode\u001B[39m\u001B[38;5;124m\"\u001B[39m) \u001B[38;5;129;01mor\u001B[39;00m error_info\u001B[38;5;241m.\u001B[39mget(\n\u001B[1;32m    980\u001B[0m         \u001B[38;5;124m\"\u001B[39m\u001B[38;5;124mCode\u001B[39m\u001B[38;5;124m\"\u001B[39m\n\u001B[1;32m    981\u001B[0m     )\n\u001B[1;32m    982\u001B[0m     error_class \u001B[38;5;241m=\u001B[39m \u001B[38;5;28mself\u001B[39m\u001B[38;5;241m.\u001B[39mexceptions\u001B[38;5;241m.\u001B[39mfrom_code(error_code)\n\u001B[0;32m--> 983\u001B[0m     \u001B[38;5;28;01mraise\u001B[39;00m error_class(parsed_response, operation_name)\n\u001B[1;32m    984\u001B[0m \u001B[38;5;28;01melse\u001B[39;00m:\n\u001B[1;32m    985\u001B[0m     \u001B[38;5;28;01mreturn\u001B[39;00m parsed_response\n",
      "\u001B[0;31mClientError\u001B[0m: An error occurred (ValidationException) when calling the CreateModel operation: Requested image 401605265667.dkr.ecr.eu-central-1.amazonaws.com/mlflow-pyfunc:2.8.1 not found."
     ]
    }
   ],
   "source": [
    "# \"assume_role_arn\": \"arn:aws:iam::401605265667:role/service-role/AmazonSageMaker-ExecutionRole-20231117T143908\",  # Deine Assume Role ARN\n",
    "\n",
    "\n",
    "config = {\n",
    "    \"execution_role_arn\": \"arn:aws:iam::401605265667:role/service-role/AmazonSageMaker-ExecutionRole-20231117T143908\",  \n",
    "    \"region_name\": \"eu-central-1\", \n",
    "    \"archive\": False,\n",
    "    \"instance_type\": \"ml.m5.4xlarge\",  # Gewünschter Instance Typ\n",
    "    \"instance_count\": 1,\n",
    "    \"synchronous\": True,\n",
    "    \"tags\": {\"training_timestamp\": \"2022-11-01T05:12:26\"},\n",
    "}\n",
    "\n",
    "\n",
    "client = get_deploy_client(\"sagemaker\")\n",
    "\n",
    "client.create_deployment(\n",
    "    \"mlflow-extra-tree\", \n",
    "    model_uri=\"/home/erik/DataspellProjects/Stock-Prediction/mlruns/467592723741106657/c413fe91b94f4a8db7492ffa6657a0f6/artifacts/model\", \n",
    "    config=config,\n",
    ")"
   ],
   "metadata": {
    "collapsed": false,
    "ExecuteTime": {
     "end_time": "2023-11-17T19:55:46.431058758Z",
     "start_time": "2023-11-17T19:54:02.020863479Z"
    }
   },
   "id": "cce430ca9ad8b6c"
  },
  {
   "cell_type": "code",
   "execution_count": null,
   "outputs": [],
   "source": [
    "##     model_uri=\"/home/erik/DataspellProjects/Stock-Prediction/mlruns/467592723741106657/c413fe91b94f4a8db7492ffa6657a0f6/artifacts/model\", \n",
    "\n",
    "\n",
    "## systemctl --user start docker-desktop\n",
    "\n",
    "## Container mit aws\n",
    "\n",
    "# mlflow sagemaker build-and-push-container --build --push -c for-sagemaker-deployment\n",
    "# aws sagemaker build-and-push-container\n",
    "\n",
    "## Container mit Docker \n",
    "\n",
    "# docker build -t xgboostimage\n",
    "# aws ecr get-login-password --region eu-central-1 | docker login --username AWS --password-stdin 401605265667.dkr.ecr.eu-central-1.amazonaws.com\n",
    "# aws ecr create-repository --repository-name xgboost_repo\n",
    "# docker tag xgboost_image:latest 401605265667.dkr.ecr.eu-central-1.amazonaws.com/xgboost_repo:latest\n",
    "# docker push 401605265667.dkr.ecr.eu-central-1.amazonaws.com/xgboost_repo:latest\n",
    "\n",
    "\n",
    "# mlflow sagemaker deploy --app-name xformer -m runs:/7-16420961991120000000062/model --execution-role-arn arn:aws:iam::612652722220:role/role-for-mlflow-sagemaker-deploy \n",
    "# --bucket jaganes-sagemaker --image-url 612652722220.dkr.ecr.us-east-1.amazonaws.com/for-sagemaker-deployment:1.22.0 \n",
    "# --region-name us-east-1 --mode create \n",
    "# --instance-type ml.m5.large --instance-count 1 \n",
    "# --flavor python_function"
   ],
   "metadata": {
    "collapsed": false
   },
   "id": "211484f84507d5fc"
  },
  {
   "cell_type": "code",
   "execution_count": 2,
   "outputs": [
    {
     "name": "stderr",
     "output_type": "stream",
     "text": [
      "2023/11/22 18:15:44 INFO mlflow.sagemaker: Using the python_function flavor for deployment!\n",
      "2023/11/22 18:15:45 INFO mlflow.sagemaker: No model data bucket specified, using the default bucket\n",
      "2023/11/22 18:15:46 INFO mlflow.sagemaker: Default bucket `mlflow-sagemaker-eu-central-1-401605265667` already exists. Skipping creation.\n",
      "2023/11/22 18:17:25 INFO mlflow.sagemaker: tag response: {'ResponseMetadata': {'RequestId': '1GR5RYEZVS3NB1EW', 'HostId': '0cI3FjPoBqa4H+B8ovD6YjFdJXNhttliZO1Vc/bOTYGGXpEqJWMooNrWSQkDToLl5cJlAOMrKZWatLvuKEQQyA==', 'HTTPStatusCode': 200, 'HTTPHeaders': {'x-amz-id-2': '0cI3FjPoBqa4H+B8ovD6YjFdJXNhttliZO1Vc/bOTYGGXpEqJWMooNrWSQkDToLl5cJlAOMrKZWatLvuKEQQyA==', 'x-amz-request-id': '1GR5RYEZVS3NB1EW', 'date': 'Wed, 22 Nov 2023 17:17:26 GMT', 'server': 'AmazonS3', 'content-length': '0'}, 'RetryAttempts': 0}}\n",
      "2023/11/22 18:17:25 INFO mlflow.sagemaker: Creating new endpoint with name: stockmodel ...\n",
      "2023/11/22 18:17:26 INFO mlflow.sagemaker: Created model with arn: arn:aws:sagemaker:eu-central-1:401605265667:model/stockmodel-model-auv4smcgregdkkkujueyqq\n",
      "2023/11/22 18:17:26 INFO mlflow.sagemaker: Created endpoint configuration with arn: arn:aws:sagemaker:eu-central-1:401605265667:endpoint-config/stockmodel-config-ijj9r78esk2n-zvdsi6h3g\n",
      "2023/11/22 18:17:27 INFO mlflow.sagemaker: Created endpoint with arn: arn:aws:sagemaker:eu-central-1:401605265667:endpoint/stockmodel\n",
      "2023/11/22 18:17:27 INFO mlflow.sagemaker: Waiting for the deployment operation to complete...\n",
      "2023/11/22 18:17:27 INFO mlflow.sagemaker: Waiting for endpoint to reach the \"InService\" state. Current endpoint status: \"Creating\"\n",
      "2023/11/22 18:17:47 INFO mlflow.sagemaker: Waiting for endpoint to reach the \"InService\" state. Current endpoint status: \"Creating\"\n",
      "2023/11/22 18:18:07 INFO mlflow.sagemaker: Waiting for endpoint to reach the \"InService\" state. Current endpoint status: \"Creating\"\n",
      "2023/11/22 18:18:27 INFO mlflow.sagemaker: Waiting for endpoint to reach the \"InService\" state. Current endpoint status: \"Creating\"\n",
      "2023/11/22 18:18:48 INFO mlflow.sagemaker: Waiting for endpoint to reach the \"InService\" state. Current endpoint status: \"Creating\"\n",
      "2023/11/22 18:19:08 INFO mlflow.sagemaker: Waiting for endpoint to reach the \"InService\" state. Current endpoint status: \"Creating\"\n",
      "2023/11/22 18:19:28 INFO mlflow.sagemaker: Waiting for endpoint to reach the \"InService\" state. Current endpoint status: \"Creating\"\n",
      "2023/11/22 18:19:48 INFO mlflow.sagemaker: Waiting for endpoint to reach the \"InService\" state. Current endpoint status: \"Creating\"\n",
      "2023/11/22 18:20:09 INFO mlflow.sagemaker: Waiting for endpoint to reach the \"InService\" state. Current endpoint status: \"Creating\"\n",
      "2023/11/22 18:20:29 INFO mlflow.sagemaker: Waiting for endpoint to reach the \"InService\" state. Current endpoint status: \"Creating\"\n",
      "2023/11/22 18:20:49 INFO mlflow.sagemaker: Waiting for endpoint to reach the \"InService\" state. Current endpoint status: \"Creating\"\n",
      "2023/11/22 18:21:09 INFO mlflow.sagemaker: Waiting for endpoint to reach the \"InService\" state. Current endpoint status: \"Creating\"\n",
      "2023/11/22 18:21:30 INFO mlflow.sagemaker: Waiting for endpoint to reach the \"InService\" state. Current endpoint status: \"Creating\"\n",
      "2023/11/22 18:21:50 INFO mlflow.sagemaker: Waiting for endpoint to reach the \"InService\" state. Current endpoint status: \"Creating\"\n",
      "2023/11/22 18:22:11 INFO mlflow.sagemaker: Waiting for endpoint to reach the \"InService\" state. Current endpoint status: \"Creating\"\n",
      "2023/11/22 18:22:31 INFO mlflow.sagemaker: Waiting for endpoint to reach the \"InService\" state. Current endpoint status: \"Creating\"\n",
      "2023/11/22 18:22:51 INFO mlflow.sagemaker: Waiting for endpoint to reach the \"InService\" state. Current endpoint status: \"Creating\"\n",
      "2023/11/22 18:23:11 INFO mlflow.sagemaker: Waiting for endpoint to reach the \"InService\" state. Current endpoint status: \"Creating\"\n",
      "2023/11/22 18:23:32 INFO mlflow.sagemaker: The deployment operation completed successfully with message: \"The SageMaker endpoint was created successfully.\"\n"
     ]
    },
    {
     "data": {
      "text/plain": "{'name': 'stockmodel', 'flavor': 'python_function'}"
     },
     "execution_count": 2,
     "metadata": {},
     "output_type": "execute_result"
    }
   ],
   "source": [],
   "metadata": {
    "collapsed": false,
    "ExecuteTime": {
     "end_time": "2023-11-22T17:23:32.203971289Z",
     "start_time": "2023-11-22T17:15:44.696658798Z"
    }
   },
   "id": "faa5b937234760a6"
  },
  {
   "cell_type": "code",
   "execution_count": 8,
   "outputs": [
    {
     "data": {
      "text/plain": "      Close    Volume   Rendite    SMA 10    EMA 10   EMA 20    WMA 10  \\\n0  2.927938  1.074054  0.070066  2.851697  2.853576  2.81436  2.874735   \n\n   Momentum 10       SAR       RSI       ROC        %R       OBV      MACD  \\\n0     3.403774  2.790703  1.263104  1.251399  1.167591  2.140218  2.408888   \n\n   MACD_SIGNAL  MACD_HIST       CCI     ADOSC        %K        %D  \n0     0.898564   4.874446  0.950996  1.540242  0.886952  0.397163  ",
      "text/html": "<div>\n<style scoped>\n    .dataframe tbody tr th:only-of-type {\n        vertical-align: middle;\n    }\n\n    .dataframe tbody tr th {\n        vertical-align: top;\n    }\n\n    .dataframe thead th {\n        text-align: right;\n    }\n</style>\n<table border=\"1\" class=\"dataframe\">\n  <thead>\n    <tr style=\"text-align: right;\">\n      <th></th>\n      <th>Close</th>\n      <th>Volume</th>\n      <th>Rendite</th>\n      <th>SMA 10</th>\n      <th>EMA 10</th>\n      <th>EMA 20</th>\n      <th>WMA 10</th>\n      <th>Momentum 10</th>\n      <th>SAR</th>\n      <th>RSI</th>\n      <th>ROC</th>\n      <th>%R</th>\n      <th>OBV</th>\n      <th>MACD</th>\n      <th>MACD_SIGNAL</th>\n      <th>MACD_HIST</th>\n      <th>CCI</th>\n      <th>ADOSC</th>\n      <th>%K</th>\n      <th>%D</th>\n    </tr>\n  </thead>\n  <tbody>\n    <tr>\n      <th>0</th>\n      <td>2.927938</td>\n      <td>1.074054</td>\n      <td>0.070066</td>\n      <td>2.851697</td>\n      <td>2.853576</td>\n      <td>2.81436</td>\n      <td>2.874735</td>\n      <td>3.403774</td>\n      <td>2.790703</td>\n      <td>1.263104</td>\n      <td>1.251399</td>\n      <td>1.167591</td>\n      <td>2.140218</td>\n      <td>2.408888</td>\n      <td>0.898564</td>\n      <td>4.874446</td>\n      <td>0.950996</td>\n      <td>1.540242</td>\n      <td>0.886952</td>\n      <td>0.397163</td>\n    </tr>\n  </tbody>\n</table>\n</div>"
     },
     "execution_count": 8,
     "metadata": {},
     "output_type": "execute_result"
    }
   ],
   "source": [
    "df  = pd.read_csv(\"./data/sp500_predict_2023-11-16.csv\")\n",
    "df.drop(\"Date\",axis=1, inplace=True)\n",
    "df"
   ],
   "metadata": {
    "collapsed": false,
    "ExecuteTime": {
     "end_time": "2023-11-22T17:40:02.193441867Z",
     "start_time": "2023-11-22T17:40:02.133464824Z"
    }
   },
   "id": "e2621f5e7f755b8e"
  },
  {
   "cell_type": "code",
   "execution_count": 30,
   "outputs": [
    {
     "ename": "ClientError",
     "evalue": "An error occurred (AccessDenied) when calling the AssumeRole operation: User: arn:aws:iam::401605265667:user/mluser is not authorized to perform: sts:AssumeRole on resource: arn:aws:iam::401605265667:user/mluser",
     "output_type": "error",
     "traceback": [
      "\u001B[0;31m---------------------------------------------------------------------------\u001B[0m",
      "\u001B[0;31mClientError\u001B[0m                               Traceback (most recent call last)",
      "Cell \u001B[0;32mIn[30], line 19\u001B[0m\n\u001B[1;32m     14\u001B[0m client \u001B[38;5;241m=\u001B[39m get_deploy_client(\u001B[38;5;124m\"\u001B[39m\u001B[38;5;124msagemaker:/eu-central-1/arn:aws:iam::401605265667:user/mluser\u001B[39m\u001B[38;5;124m\"\u001B[39m)\n\u001B[1;32m     15\u001B[0m \u001B[38;5;66;03m#client = get_deploy_client(\"sagemaker:/eu-central-1/arn:aws:iam::401605265667:role/sagemakerrole\")\u001B[39;00m\n\u001B[1;32m     16\u001B[0m \u001B[38;5;66;03m#client = get_deploy_client(\"sagemaker:/eu-central-1/arn:aws:iam::401605265667:role/service-role/AmazonSageMakerServiceCatalogProductsUseRole\")\u001B[39;00m\n\u001B[1;32m     17\u001B[0m \n\u001B[1;32m     18\u001B[0m \u001B[38;5;66;03m#client = get_deploy_client(f\"sagemaker:/{region}/{model_role}\")\u001B[39;00m\n\u001B[0;32m---> 19\u001B[0m \u001B[43mclient\u001B[49m\u001B[38;5;241;43m.\u001B[39;49m\u001B[43mpredict\u001B[49m\u001B[43m(\u001B[49m\u001B[38;5;124;43m\"\u001B[39;49m\u001B[38;5;124;43mstockmodel\u001B[39;49m\u001B[38;5;124;43m\"\u001B[39;49m\u001B[43m,\u001B[49m\u001B[43m \u001B[49m\u001B[43mdf\u001B[49m\u001B[43m)\u001B[49m\n",
      "File \u001B[0;32m~/anaconda3/envs/ray_client/lib/python3.10/site-packages/mlflow/sagemaker/__init__.py:2748\u001B[0m, in \u001B[0;36mSageMakerDeploymentClient.predict\u001B[0;34m(self, deployment_name, inputs, endpoint, params)\u001B[0m\n\u001B[1;32m   2703\u001B[0m \u001B[38;5;250m\u001B[39m\u001B[38;5;124;03m\"\"\"\u001B[39;00m\n\u001B[1;32m   2704\u001B[0m \u001B[38;5;124;03mCompute predictions from the specified deployment using the provided PyFunc input.\u001B[39;00m\n\u001B[1;32m   2705\u001B[0m \n\u001B[0;32m   (...)\u001B[0m\n\u001B[1;32m   2744\u001B[0m \u001B[38;5;124;03m        --input-path ./input.json\u001B[39;00m\n\u001B[1;32m   2745\u001B[0m \u001B[38;5;124;03m\"\"\"\u001B[39;00m\n\u001B[1;32m   2746\u001B[0m \u001B[38;5;28;01mimport\u001B[39;00m \u001B[38;5;21;01mboto3\u001B[39;00m\n\u001B[0;32m-> 2748\u001B[0m assume_role_credentials \u001B[38;5;241m=\u001B[39m \u001B[43m_assume_role_and_get_credentials\u001B[49m\u001B[43m(\u001B[49m\n\u001B[1;32m   2749\u001B[0m \u001B[43m    \u001B[49m\u001B[43massume_role_arn\u001B[49m\u001B[38;5;241;43m=\u001B[39;49m\u001B[38;5;28;43mself\u001B[39;49m\u001B[38;5;241;43m.\u001B[39;49m\u001B[43massumed_role_arn\u001B[49m\n\u001B[1;32m   2750\u001B[0m \u001B[43m\u001B[49m\u001B[43m)\u001B[49m\n\u001B[1;32m   2752\u001B[0m \u001B[38;5;28;01mtry\u001B[39;00m:\n\u001B[1;32m   2753\u001B[0m     sage_client \u001B[38;5;241m=\u001B[39m boto3\u001B[38;5;241m.\u001B[39mclient(\n\u001B[1;32m   2754\u001B[0m         \u001B[38;5;124m\"\u001B[39m\u001B[38;5;124msagemaker-runtime\u001B[39m\u001B[38;5;124m\"\u001B[39m, region_name\u001B[38;5;241m=\u001B[39m\u001B[38;5;28mself\u001B[39m\u001B[38;5;241m.\u001B[39mregion_name, \u001B[38;5;241m*\u001B[39m\u001B[38;5;241m*\u001B[39massume_role_credentials\n\u001B[1;32m   2755\u001B[0m     )\n",
      "File \u001B[0;32m~/anaconda3/envs/ray_client/lib/python3.10/site-packages/mlflow/sagemaker/__init__.py:1233\u001B[0m, in \u001B[0;36m_assume_role_and_get_credentials\u001B[0;34m(assume_role_arn)\u001B[0m\n\u001B[1;32m   1230\u001B[0m     \u001B[38;5;28;01mreturn\u001B[39;00m {}\n\u001B[1;32m   1232\u001B[0m sts_client \u001B[38;5;241m=\u001B[39m boto3\u001B[38;5;241m.\u001B[39mclient(\u001B[38;5;124m\"\u001B[39m\u001B[38;5;124msts\u001B[39m\u001B[38;5;124m\"\u001B[39m)\n\u001B[0;32m-> 1233\u001B[0m sts_response \u001B[38;5;241m=\u001B[39m \u001B[43msts_client\u001B[49m\u001B[38;5;241;43m.\u001B[39;49m\u001B[43massume_role\u001B[49m\u001B[43m(\u001B[49m\n\u001B[1;32m   1234\u001B[0m \u001B[43m    \u001B[49m\u001B[43mRoleArn\u001B[49m\u001B[38;5;241;43m=\u001B[39;49m\u001B[43massume_role_arn\u001B[49m\u001B[43m,\u001B[49m\u001B[43m \u001B[49m\u001B[43mRoleSessionName\u001B[49m\u001B[38;5;241;43m=\u001B[39;49m\u001B[38;5;124;43m\"\u001B[39;49m\u001B[38;5;124;43mmlflow-sagemaker\u001B[39;49m\u001B[38;5;124;43m\"\u001B[39;49m\n\u001B[1;32m   1235\u001B[0m \u001B[43m\u001B[49m\u001B[43m)\u001B[49m\n\u001B[1;32m   1237\u001B[0m _logger\u001B[38;5;241m.\u001B[39minfo(\u001B[38;5;124m\"\u001B[39m\u001B[38;5;124mAssuming role \u001B[39m\u001B[38;5;132;01m%s\u001B[39;00m\u001B[38;5;124m for deployment!\u001B[39m\u001B[38;5;124m\"\u001B[39m, assume_role_arn)\n\u001B[1;32m   1239\u001B[0m \u001B[38;5;28;01mreturn\u001B[39;00m {\n\u001B[1;32m   1240\u001B[0m     \u001B[38;5;124m\"\u001B[39m\u001B[38;5;124maws_access_key_id\u001B[39m\u001B[38;5;124m\"\u001B[39m: sts_response[\u001B[38;5;124m\"\u001B[39m\u001B[38;5;124mCredentials\u001B[39m\u001B[38;5;124m\"\u001B[39m][\u001B[38;5;124m\"\u001B[39m\u001B[38;5;124mAccessKeyId\u001B[39m\u001B[38;5;124m\"\u001B[39m],\n\u001B[1;32m   1241\u001B[0m     \u001B[38;5;124m\"\u001B[39m\u001B[38;5;124maws_secret_access_key\u001B[39m\u001B[38;5;124m\"\u001B[39m: sts_response[\u001B[38;5;124m\"\u001B[39m\u001B[38;5;124mCredentials\u001B[39m\u001B[38;5;124m\"\u001B[39m][\u001B[38;5;124m\"\u001B[39m\u001B[38;5;124mSecretAccessKey\u001B[39m\u001B[38;5;124m\"\u001B[39m],\n\u001B[1;32m   1242\u001B[0m     \u001B[38;5;124m\"\u001B[39m\u001B[38;5;124maws_session_token\u001B[39m\u001B[38;5;124m\"\u001B[39m: sts_response[\u001B[38;5;124m\"\u001B[39m\u001B[38;5;124mCredentials\u001B[39m\u001B[38;5;124m\"\u001B[39m][\u001B[38;5;124m\"\u001B[39m\u001B[38;5;124mSessionToken\u001B[39m\u001B[38;5;124m\"\u001B[39m],\n\u001B[1;32m   1243\u001B[0m }\n",
      "File \u001B[0;32m~/anaconda3/envs/ray_client/lib/python3.10/site-packages/botocore/client.py:535\u001B[0m, in \u001B[0;36mClientCreator._create_api_method.<locals>._api_call\u001B[0;34m(self, *args, **kwargs)\u001B[0m\n\u001B[1;32m    531\u001B[0m     \u001B[38;5;28;01mraise\u001B[39;00m \u001B[38;5;167;01mTypeError\u001B[39;00m(\n\u001B[1;32m    532\u001B[0m         \u001B[38;5;124mf\u001B[39m\u001B[38;5;124m\"\u001B[39m\u001B[38;5;132;01m{\u001B[39;00mpy_operation_name\u001B[38;5;132;01m}\u001B[39;00m\u001B[38;5;124m() only accepts keyword arguments.\u001B[39m\u001B[38;5;124m\"\u001B[39m\n\u001B[1;32m    533\u001B[0m     )\n\u001B[1;32m    534\u001B[0m \u001B[38;5;66;03m# The \"self\" in this scope is referring to the BaseClient.\u001B[39;00m\n\u001B[0;32m--> 535\u001B[0m \u001B[38;5;28;01mreturn\u001B[39;00m \u001B[38;5;28;43mself\u001B[39;49m\u001B[38;5;241;43m.\u001B[39;49m\u001B[43m_make_api_call\u001B[49m\u001B[43m(\u001B[49m\u001B[43moperation_name\u001B[49m\u001B[43m,\u001B[49m\u001B[43m \u001B[49m\u001B[43mkwargs\u001B[49m\u001B[43m)\u001B[49m\n",
      "File \u001B[0;32m~/anaconda3/envs/ray_client/lib/python3.10/site-packages/botocore/client.py:983\u001B[0m, in \u001B[0;36mBaseClient._make_api_call\u001B[0;34m(self, operation_name, api_params)\u001B[0m\n\u001B[1;32m    979\u001B[0m     error_code \u001B[38;5;241m=\u001B[39m error_info\u001B[38;5;241m.\u001B[39mget(\u001B[38;5;124m\"\u001B[39m\u001B[38;5;124mQueryErrorCode\u001B[39m\u001B[38;5;124m\"\u001B[39m) \u001B[38;5;129;01mor\u001B[39;00m error_info\u001B[38;5;241m.\u001B[39mget(\n\u001B[1;32m    980\u001B[0m         \u001B[38;5;124m\"\u001B[39m\u001B[38;5;124mCode\u001B[39m\u001B[38;5;124m\"\u001B[39m\n\u001B[1;32m    981\u001B[0m     )\n\u001B[1;32m    982\u001B[0m     error_class \u001B[38;5;241m=\u001B[39m \u001B[38;5;28mself\u001B[39m\u001B[38;5;241m.\u001B[39mexceptions\u001B[38;5;241m.\u001B[39mfrom_code(error_code)\n\u001B[0;32m--> 983\u001B[0m     \u001B[38;5;28;01mraise\u001B[39;00m error_class(parsed_response, operation_name)\n\u001B[1;32m    984\u001B[0m \u001B[38;5;28;01melse\u001B[39;00m:\n\u001B[1;32m    985\u001B[0m     \u001B[38;5;28;01mreturn\u001B[39;00m parsed_response\n",
      "\u001B[0;31mClientError\u001B[0m: An error occurred (AccessDenied) when calling the AssumeRole operation: User: arn:aws:iam::401605265667:user/mluser is not authorized to perform: sts:AssumeRole on resource: arn:aws:iam::401605265667:user/mluser"
     ]
    }
   ],
   "source": [],
   "metadata": {
    "collapsed": false,
    "ExecuteTime": {
     "end_time": "2023-11-22T18:53:52.468951646Z",
     "start_time": "2023-11-22T18:53:51.182694178Z"
    }
   },
   "id": "34efb70f5caa4aa1"
  },
  {
   "cell_type": "code",
   "execution_count": null,
   "outputs": [],
   "source": [],
   "metadata": {
    "collapsed": false
   },
   "id": "d540501fe1d18532"
  },
  {
   "cell_type": "markdown",
   "source": [
    "## Endpoint Anfrage"
   ],
   "metadata": {
    "collapsed": false
   },
   "id": "b6354077c29666cf"
  },
  {
   "cell_type": "code",
   "execution_count": null,
   "outputs": [],
   "source": [
    "import pandas as pd\n",
    "import numpy as np\n",
    "import json\n",
    "import boto3\n",
    "\n",
    "global app_name\n",
    "global region\n",
    "app_name = 'my-deployment-logisticRegression'\n",
    "region = \"eu-central-1\"\n",
    "\n",
    "def check_status(app_name):\n",
    "    sage_client = boto3.client('sagemaker', region_name=region)\n",
    "    endpoint_description = sage_client.describe_endpoint(EndpointName=app_name)\n",
    "    endpoint_status = endpoint_description['EndpointStatus']\n",
    "    return endpoint_status\n",
    "\n",
    "def query_endpoint(app_name, input_json):\n",
    "    client = boto3.session.Session().client('sagemaker-runtime', region)\n",
    "\n",
    "    response = client.invoke_endpoint(\n",
    "        EndpointName = app_name,\n",
    "        Body = input_json,\n",
    "        ContentType = 'application/json'#'; format=pandas-split',\n",
    "    )\n",
    "\n",
    "    preds = response['Body'].read().decode('ascii')\n",
    "    preds = json.loads(preds)\n",
    "    print('Received response: {}'.format(preds))\n",
    "    return preds\n",
    "\n",
    "# Check endpoint status\n",
    "print('Application status is {}'.format(check_status(app_name)))\n",
    "\n",
    "#Let's create a test array that we'll use to test our model\n",
    "arr_predict = np.random.randn(2,3)\n",
    "\n",
    "# Create test data and make inference from endpoint\n",
    "query_input = pd.DataFrame(arr_predict).to_dict(orient='split')\n",
    "print(query_input)\n",
    "\n",
    "data = {\"dataframe_split\": query_input}\n",
    "\n",
    "byte_data = json.dumps(data).encode('utf-8')\n",
    "\n",
    "predictions = query_endpoint(app_name=app_name, input_json=byte_data)\n",
    "print(predictions)"
   ],
   "metadata": {
    "collapsed": false
   },
   "id": "aacecab34542de28"
  }
 ],
 "metadata": {
  "kernelspec": {
   "display_name": "Python 3",
   "language": "python",
   "name": "python3"
  },
  "language_info": {
   "codemirror_mode": {
    "name": "ipython",
    "version": 2
   },
   "file_extension": ".py",
   "mimetype": "text/x-python",
   "name": "python",
   "nbconvert_exporter": "python",
   "pygments_lexer": "ipython2",
   "version": "2.7.6"
  }
 },
 "nbformat": 4,
 "nbformat_minor": 5
}
