{
 "cells": [
  {
   "cell_type": "code",
   "execution_count": 33,
   "outputs": [],
   "source": [
    "import pandas as pd\n",
    "import mlflow"
   ],
   "metadata": {
    "collapsed": false,
    "ExecuteTime": {
     "end_time": "2023-11-17T13:00:23.934575656Z",
     "start_time": "2023-11-17T13:00:23.928540839Z"
    }
   },
   "id": "7b7d168b89c18a88"
  },
  {
   "cell_type": "code",
   "execution_count": 34,
   "outputs": [
    {
     "data": {
      "text/plain": "               Close    Volume   Rendite    SMA 10    EMA 10    EMA 20  \\\nDate                                                                     \n2023-11-15  2.924371  1.275609  0.105997  2.835659  2.836735  2.802099   \n\n              WMA 10  Momentum 10       SAR       RSI       ROC        %R  \\\nDate                                                                        \n2023-11-15  2.857765     4.766703  2.753382  1.229881  1.824033  1.133682   \n\n                 OBV     MACD  MACD_SIGNAL  MACD_HIST       CCI    ADOSC  \\\nDate                                                                       \n2023-11-15  2.132107  2.04021     0.477527   4.952725  0.992047  1.40634   \n\n                  %K        %D  \nDate                            \n2023-11-15 -0.784919  0.019175  ",
      "text/html": "<div>\n<style scoped>\n    .dataframe tbody tr th:only-of-type {\n        vertical-align: middle;\n    }\n\n    .dataframe tbody tr th {\n        vertical-align: top;\n    }\n\n    .dataframe thead th {\n        text-align: right;\n    }\n</style>\n<table border=\"1\" class=\"dataframe\">\n  <thead>\n    <tr style=\"text-align: right;\">\n      <th></th>\n      <th>Close</th>\n      <th>Volume</th>\n      <th>Rendite</th>\n      <th>SMA 10</th>\n      <th>EMA 10</th>\n      <th>EMA 20</th>\n      <th>WMA 10</th>\n      <th>Momentum 10</th>\n      <th>SAR</th>\n      <th>RSI</th>\n      <th>ROC</th>\n      <th>%R</th>\n      <th>OBV</th>\n      <th>MACD</th>\n      <th>MACD_SIGNAL</th>\n      <th>MACD_HIST</th>\n      <th>CCI</th>\n      <th>ADOSC</th>\n      <th>%K</th>\n      <th>%D</th>\n    </tr>\n    <tr>\n      <th>Date</th>\n      <th></th>\n      <th></th>\n      <th></th>\n      <th></th>\n      <th></th>\n      <th></th>\n      <th></th>\n      <th></th>\n      <th></th>\n      <th></th>\n      <th></th>\n      <th></th>\n      <th></th>\n      <th></th>\n      <th></th>\n      <th></th>\n      <th></th>\n      <th></th>\n      <th></th>\n      <th></th>\n    </tr>\n  </thead>\n  <tbody>\n    <tr>\n      <th>2023-11-15</th>\n      <td>2.924371</td>\n      <td>1.275609</td>\n      <td>0.105997</td>\n      <td>2.835659</td>\n      <td>2.836735</td>\n      <td>2.802099</td>\n      <td>2.857765</td>\n      <td>4.766703</td>\n      <td>2.753382</td>\n      <td>1.229881</td>\n      <td>1.824033</td>\n      <td>1.133682</td>\n      <td>2.132107</td>\n      <td>2.04021</td>\n      <td>0.477527</td>\n      <td>4.952725</td>\n      <td>0.992047</td>\n      <td>1.40634</td>\n      <td>-0.784919</td>\n      <td>0.019175</td>\n    </tr>\n  </tbody>\n</table>\n</div>"
     },
     "execution_count": 34,
     "metadata": {},
     "output_type": "execute_result"
    }
   ],
   "source": [
    "df = pd.read_csv(\"./data/sp500_predict_2023-11-15.csv\")\n",
    "df.set_index('Date', inplace=True)\n",
    "#df.drop(\"Date\", axis=1, inplace=True)\n",
    "df"
   ],
   "metadata": {
    "collapsed": false,
    "ExecuteTime": {
     "end_time": "2023-11-17T13:00:24.735225738Z",
     "start_time": "2023-11-17T13:00:24.705066113Z"
    }
   },
   "id": "fc22a2d740ed6298"
  },
  {
   "cell_type": "code",
   "execution_count": 35,
   "outputs": [
    {
     "name": "stderr",
     "output_type": "stream",
     "text": [
      "2023/11/17 14:00:25 WARNING mlflow.pyfunc: Detected one or more mismatches between the model's dependencies and the current Python environment:\n",
      " - psutil (current: 5.9.0, required: psutil==5.9.6)\n",
      "To fix the mismatches, call `mlflow.pyfunc.get_model_dependencies(model_uri)` to fetch the model's environment and install dependencies using the resulting environment file.\n"
     ]
    },
    {
     "name": "stdout",
     "output_type": "stream",
     "text": [
      "[1]\n"
     ]
    }
   ],
   "source": [
    "DEFAULT_MODEL = \"runs:/5c036be77ea045228b58b4fa52821f65/model\"\n",
    "loaded_model = mlflow.pyfunc.load_model(DEFAULT_MODEL)\n",
    "prediction = loaded_model.predict(df)\n",
    "print(prediction)"
   ],
   "metadata": {
    "collapsed": false,
    "ExecuteTime": {
     "end_time": "2023-11-17T13:00:27.129776849Z",
     "start_time": "2023-11-17T13:00:25.847748929Z"
    }
   },
   "id": "2680897a3b5509d1"
  }
 ],
 "metadata": {
  "kernelspec": {
   "display_name": "Python 3",
   "language": "python",
   "name": "python3"
  },
  "language_info": {
   "codemirror_mode": {
    "name": "ipython",
    "version": 2
   },
   "file_extension": ".py",
   "mimetype": "text/x-python",
   "name": "python",
   "nbconvert_exporter": "python",
   "pygments_lexer": "ipython2",
   "version": "2.7.6"
  }
 },
 "nbformat": 4,
 "nbformat_minor": 5
}
