{
 "cells": [
  {
   "cell_type": "code",
   "execution_count": 1,
   "id": "initial_id",
   "metadata": {
    "collapsed": true,
    "ExecuteTime": {
     "end_time": "2023-11-28T17:46:02.873627585Z",
     "start_time": "2023-11-28T17:46:01.779269137Z"
    }
   },
   "outputs": [],
   "source": [
    "import boto3\n",
    "import json\n",
    "import pandas as pd\n",
    "import os\n",
    "from influxdb_manager import InfluxDBOperations"
   ]
  },
  {
   "cell_type": "code",
   "execution_count": 22,
   "outputs": [
    {
     "name": "stdout",
     "output_type": "stream",
     "text": [
      "Received response: {'predictions': [1]}\n",
      "Complete. Return to the InfluxDB UI.\n"
     ]
    }
   ],
   "source": [],
   "metadata": {
    "collapsed": false,
    "ExecuteTime": {
     "end_time": "2023-11-28T17:58:01.593068283Z",
     "start_time": "2023-11-28T17:57:59.551259960Z"
    }
   },
   "id": "888d0e6160c52a1f"
  },
  {
   "cell_type": "code",
   "execution_count": 3,
   "outputs": [
    {
     "name": "stdout",
     "output_type": "stream",
     "text": [
      "None\n"
     ]
    }
   ],
   "source": [
    "!source ~/.bashrc\n",
    "import os\n",
    "print(os.environ.get('AWS_ACCESS_KEY_ID'))"
   ],
   "metadata": {
    "collapsed": false,
    "ExecuteTime": {
     "end_time": "2023-11-28T17:46:04.847528643Z",
     "start_time": "2023-11-28T17:46:02.898304790Z"
    }
   },
   "id": "5b4b614c75f64925"
  },
  {
   "cell_type": "code",
   "execution_count": 23,
   "outputs": [
    {
     "name": "stderr",
     "output_type": "stream",
     "text": [
      "Python-dotenv could not parse statement starting at line 1\n",
      "Python-dotenv could not parse statement starting at line 2\n",
      "Python-dotenv could not parse statement starting at line 3\n",
      "Python-dotenv could not parse statement starting at line 5\n"
     ]
    },
    {
     "data": {
      "text/plain": "False"
     },
     "execution_count": 23,
     "metadata": {},
     "output_type": "execute_result"
    }
   ],
   "source": [
    "from dotenv import load_dotenv\n",
    "import os\n",
    "load_dotenv()"
   ],
   "metadata": {
    "collapsed": false,
    "ExecuteTime": {
     "end_time": "2023-11-28T18:18:17.439544819Z",
     "start_time": "2023-11-28T18:18:17.390506415Z"
    }
   },
   "id": "ad1cc597178f8a23"
  },
  {
   "cell_type": "code",
   "execution_count": 4,
   "outputs": [],
   "source": [
    "global app_name\n",
    "global region\n",
    "aws_access_key_id = os.environ.get('AWS_ACCESS_KEY_ID')\n",
    "aws_secret_access_key = os.environ.get('AWS_SECRET_ACCESS_KEY')\n",
    "region = \"eu-central-1\"\n",
    "model_role= \"arn:aws:iam::401605265667:user/mluser\"\n",
    "app_name = 'stockmodel'\n",
    "\n",
    "boto3.setup_default_session(\n",
    "    aws_access_key_id=aws_access_key_id,\n",
    "    aws_secret_access_key=aws_secret_access_key,\n",
    "    region_name=region\n",
    ")"
   ],
   "metadata": {
    "collapsed": false,
    "ExecuteTime": {
     "end_time": "2023-11-28T17:46:04.928500067Z",
     "start_time": "2023-11-28T17:46:04.852605482Z"
    }
   },
   "id": "ec4d39de9959dd9c"
  },
  {
   "cell_type": "code",
   "execution_count": 14,
   "outputs": [],
   "source": [
    "\n",
    "\n",
    "influxDB = InfluxDBOperations()\n",
    "\n",
    "input_df, predict_df = influxDB.get_data_from_influx()"
   ],
   "metadata": {
    "collapsed": false,
    "ExecuteTime": {
     "end_time": "2023-11-28T17:48:58.732149613Z",
     "start_time": "2023-11-28T17:48:57.782444097Z"
    }
   },
   "id": "20aba6e0dd293982"
  },
  {
   "cell_type": "code",
   "execution_count": 6,
   "outputs": [],
   "source": [
    "def query_endpoint(app_name, input_json):\n",
    "    client = boto3.session.Session().client('sagemaker-runtime', region)\n",
    "    response = client.invoke_endpoint(\n",
    "        EndpointName = app_name,\n",
    "        Body = input_json,\n",
    "        ContentType = 'application/json'\n",
    "    )\n",
    "    preds = response['Body'].read().decode('ascii')\n",
    "    preds = json.loads(preds)\n",
    "    print('Received response: {}'.format(preds))\n",
    "    return preds"
   ],
   "metadata": {
    "collapsed": false,
    "ExecuteTime": {
     "end_time": "2023-11-28T17:46:05.768842604Z",
     "start_time": "2023-11-28T17:46:05.757549369Z"
    }
   },
   "id": "780a7a5696bd38b8"
  },
  {
   "cell_type": "code",
   "execution_count": 17,
   "outputs": [
    {
     "name": "stdout",
     "output_type": "stream",
     "text": [
      "Received response: {'predictions': [1]}\n"
     ]
    }
   ],
   "source": [
    "input_df.reset_index(drop=True, inplace=True)\n",
    "query_input = input_df.to_dict(orient='split')\n",
    "data = {\"dataframe_split\": query_input}\n",
    "byte_data = json.dumps(data).encode('utf-8')\n",
    "prediction = query_endpoint(app_name, input_json=byte_data)\n",
    "predict_df[\"Target\"] = prediction[\"predictions\"][0]\n",
    "\n",
    "influxDB.save_prediction_to_influx(predict_df)"
   ],
   "metadata": {
    "collapsed": false,
    "ExecuteTime": {
     "end_time": "2023-11-28T17:51:35.652938321Z",
     "start_time": "2023-11-28T17:51:35.092558169Z"
    }
   },
   "id": "d8b5e05d869989cd"
  }
 ],
 "metadata": {
  "kernelspec": {
   "display_name": "Python 3",
   "language": "python",
   "name": "python3"
  },
  "language_info": {
   "codemirror_mode": {
    "name": "ipython",
    "version": 2
   },
   "file_extension": ".py",
   "mimetype": "text/x-python",
   "name": "python",
   "nbconvert_exporter": "python",
   "pygments_lexer": "ipython2",
   "version": "2.7.6"
  }
 },
 "nbformat": 4,
 "nbformat_minor": 5
}
